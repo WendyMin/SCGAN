{
  "nbformat": 4,
  "nbformat_minor": 0,
  "metadata": {
    "kernelspec": {
      "name": "python3",
      "display_name": "Python 3"
    },
    "language_info": {
      "codemirror_mode": {
        "name": "ipython",
        "version": 3
      },
      "file_extension": ".py",
      "mimetype": "text/x-python",
      "name": "python",
      "nbconvert_exporter": "python",
      "pygments_lexer": "ipython3",
      "version": "3.6.5"
    },
    "colab": {
      "name": "SCGAN.v1.ipynb",
      "version": "0.3.2",
      "provenance": [],
      "collapsed_sections": []
    },
    "accelerator": "GPU"
  },
  "cells": [
    {
      "cell_type": "markdown",
      "metadata": {
        "id": "4JrJW9Ib5ICb",
        "colab_type": "text"
      },
      "source": [
        "# Semi-Supervised Conditional GAN (SCGAN)"
      ]
    },
    {
      "cell_type": "code",
      "metadata": {
        "id": "QNWoI_bz5ICe",
        "colab_type": "code",
        "colab": {}
      },
      "source": [
        "%matplotlib inline\n",
        "\n",
        "import matplotlib.pyplot as plt\n",
        "import numpy as np\n",
        "import json\n",
        "\n",
        "from keras import backend as K\n",
        "\n",
        "from keras.datasets import mnist\n",
        "from keras.layers import (Activation, BatchNormalization, Concatenate, Dense,\n",
        "                          Dropout, Flatten, Input, Lambda, Reshape, Embedding,\n",
        "                          Multiply)\n",
        "from keras.layers.advanced_activations import LeakyReLU\n",
        "from keras.layers.convolutional import Conv2D, Conv2DTranspose\n",
        "from keras.models import Model, Sequential\n",
        "from keras.optimizers import Adam\n",
        "from keras.utils import to_categorical"
      ],
      "execution_count": 0,
      "outputs": []
    },
    {
      "cell_type": "markdown",
      "metadata": {
        "id": "xn9DfamS5ICl",
        "colab_type": "text"
      },
      "source": [
        "## Dataset"
      ]
    },
    {
      "cell_type": "code",
      "metadata": {
        "id": "bqo19imG5ICn",
        "colab_type": "code",
        "colab": {}
      },
      "source": [
        "class Dataset:\n",
        "    def __init__(self, num_labeled):\n",
        "\n",
        "        # Number labeled examples to use for training\n",
        "        self.num_labeled = num_labeled\n",
        "\n",
        "        # Load the MNIST dataset\n",
        "        (self.x_train, self.y_train), (self.x_test,\n",
        "                                       self.y_test) = mnist.load_data()\n",
        "\n",
        "        def preprocess_imgs(x):\n",
        "            # Rescale [0, 255] grayscale pixel values to [-1, 1]\n",
        "            x = (x.astype(np.float32) - 127.5) / 127.5\n",
        "            # Expand image dimensions to width x height x channels\n",
        "            x = np.expand_dims(x, axis=3)\n",
        "            return x\n",
        "\n",
        "        def preprocess_labels(y):\n",
        "            return y.reshape(-1, 1)\n",
        "\n",
        "        # Training data\n",
        "        self.x_train = preprocess_imgs(self.x_train)\n",
        "        self.y_train = preprocess_labels(self.y_train)\n",
        "\n",
        "        # Testing data\n",
        "        self.x_test = preprocess_imgs(self.x_test)\n",
        "        self.y_test = preprocess_labels(self.y_test)\n",
        "\n",
        "    def batch_labeled(self, batch_size):\n",
        "        # Get a random batch of labeled images and their labels\n",
        "        idx = np.random.randint(0, self.num_labeled, batch_size)\n",
        "        imgs = self.x_train[idx]\n",
        "        labels = self.y_train[idx]\n",
        "        return imgs, labels\n",
        "\n",
        "    def batch_unlabeled(self, batch_size):\n",
        "        # Get a random batch of unlabeled images\n",
        "        idx = np.random.randint(self.num_labeled, self.x_train.shape[0],\n",
        "                                batch_size)\n",
        "        imgs = self.x_train[idx]\n",
        "        return imgs\n",
        "\n",
        "    def training_set(self):\n",
        "        x_train = self.x_train[range(self.num_labeled)]\n",
        "        y_train = self.y_train[range(self.num_labeled)]\n",
        "        return x_train, y_train\n",
        "\n",
        "    def test_set(self):\n",
        "        return self.x_test, self.y_test"
      ],
      "execution_count": 0,
      "outputs": []
    },
    {
      "cell_type": "code",
      "metadata": {
        "id": "y6p2xUzF5ICt",
        "colab_type": "code",
        "colab": {}
      },
      "source": [
        "# Number of labeled examples to use (rest will be used as unlabeled)\n",
        "num_labeled = 100\n",
        "\n",
        "dataset = Dataset(num_labeled)"
      ],
      "execution_count": 0,
      "outputs": []
    },
    {
      "cell_type": "code",
      "metadata": {
        "id": "R0lLk5Sp2nlW",
        "colab_type": "code",
        "colab": {}
      },
      "source": [
        "(x_train, y_train), (x_test, y_test) = mnist.load_data()"
      ],
      "execution_count": 0,
      "outputs": []
    },
    {
      "cell_type": "code",
      "metadata": {
        "id": "IW2-FIrD2z8n",
        "colab_type": "code",
        "colab": {
          "base_uri": "https://localhost:8080/",
          "height": 84
        },
        "outputId": "91a43745-055d-4c2a-eba3-9aa606480d84"
      },
      "source": [
        "print(x_train.shape)\n",
        "print(y_train.shape)\n",
        "print(x_test.shape)\n",
        "print(y_test.shape)"
      ],
      "execution_count": 66,
      "outputs": [
        {
          "output_type": "stream",
          "text": [
            "(60000, 28, 28)\n",
            "(60000,)\n",
            "(10000, 28, 28)\n",
            "(10000,)\n"
          ],
          "name": "stdout"
        }
      ]
    },
    {
      "cell_type": "markdown",
      "metadata": {
        "id": "UtT5bpqm5ICy",
        "colab_type": "text"
      },
      "source": [
        "# Semi-Supervied GAN"
      ]
    },
    {
      "cell_type": "code",
      "metadata": {
        "id": "zeaE_XJq5IC0",
        "colab_type": "code",
        "colab": {}
      },
      "source": [
        "img_rows = 28\n",
        "img_cols = 28\n",
        "channels = 1\n",
        "\n",
        "# Input image dimensions\n",
        "img_shape = (img_rows, img_cols, channels)\n",
        "\n",
        "# Size of the noise vector, used as input to the Generator\n",
        "z_dim = 100\n",
        "\n",
        "# Number of classes in the dataset\n",
        "num_classes = 10"
      ],
      "execution_count": 0,
      "outputs": []
    },
    {
      "cell_type": "markdown",
      "metadata": {
        "id": "SEGfARiO5IC5",
        "colab_type": "text"
      },
      "source": [
        "## Generator"
      ]
    },
    {
      "cell_type": "code",
      "metadata": {
        "id": "GpyzLGKJ5IC6",
        "colab_type": "code",
        "colab": {}
      },
      "source": [
        "def build_generator(z_dim):\n",
        "\n",
        "    model = Sequential()\n",
        "\n",
        "    # Reshape input into 7x7x256 tensor via a fully connected layer\n",
        "    model.add(Dense(256 * 7 * 7, input_dim=z_dim))\n",
        "    model.add(Reshape((7, 7, 256)))\n",
        "\n",
        "    # Transposed convolution layer, from 7x7x256 into 14x14x128 tensor\n",
        "    model.add(Conv2DTranspose(128, kernel_size=3, strides=2, padding='same'))\n",
        "\n",
        "    # Batch normalization\n",
        "    model.add(BatchNormalization())\n",
        "\n",
        "    # Leaky ReLU activation\n",
        "    model.add(LeakyReLU(alpha=0.01))\n",
        "\n",
        "    # Transposed convolution layer, from 14x14x128 to 14x14x64 tensor\n",
        "    model.add(Conv2DTranspose(64, kernel_size=3, strides=1, padding='same'))\n",
        "\n",
        "    # Batch normalization\n",
        "    model.add(BatchNormalization())\n",
        "\n",
        "    # Leaky ReLU activation\n",
        "    model.add(LeakyReLU(alpha=0.01))\n",
        "\n",
        "    # Transposed convolution layer, from 14x14x64 to 28x28x1 tensor\n",
        "    model.add(Conv2DTranspose(1, kernel_size=3, strides=2, padding='same'))\n",
        "\n",
        "    # Output layer with tanh activation\n",
        "    model.add(Activation('tanh'))\n",
        "    \n",
        "    z = Input(shape=(z_dim, ))\n",
        "    label = Input(shape=(num_classes, ), dtype='float32')\n",
        "    label_embedding = Dense(z_dim, input_dim=num_classes)(label)\n",
        "    print(label_embedding)\n",
        "    joined_representation = Multiply()([z, label_embedding])\n",
        "    print(joined_representation)\n",
        "    conditioned_img = model(joined_representation)\n",
        "\n",
        "    model = Model([z, label], conditioned_img)\n",
        "\n",
        "    return model"
      ],
      "execution_count": 0,
      "outputs": []
    },
    {
      "cell_type": "code",
      "metadata": {
        "id": "QRiDvGxWOKQZ",
        "colab_type": "code",
        "colab": {
          "base_uri": "https://localhost:8080/",
          "height": 454
        },
        "outputId": "06bab4c5-8eca-4445-af3c-25800450c5f4"
      },
      "source": [
        "build_generator(z_dim).summary()"
      ],
      "execution_count": 11,
      "outputs": [
        {
          "output_type": "stream",
          "text": [
            "WARNING: Logging before flag parsing goes to stderr.\n",
            "W0831 08:53:28.851006 140350853937024 deprecation_wrapper.py:119] From /usr/local/lib/python3.6/dist-packages/keras/backend/tensorflow_backend.py:66: The name tf.get_default_graph is deprecated. Please use tf.compat.v1.get_default_graph instead.\n",
            "\n",
            "W0831 08:53:28.867646 140350853937024 deprecation_wrapper.py:119] From /usr/local/lib/python3.6/dist-packages/keras/backend/tensorflow_backend.py:541: The name tf.placeholder is deprecated. Please use tf.compat.v1.placeholder instead.\n",
            "\n",
            "W0831 08:53:28.872331 140350853937024 deprecation_wrapper.py:119] From /usr/local/lib/python3.6/dist-packages/keras/backend/tensorflow_backend.py:4432: The name tf.random_uniform is deprecated. Please use tf.random.uniform instead.\n",
            "\n"
          ],
          "name": "stderr"
        },
        {
          "output_type": "stream",
          "text": [
            "Tensor(\"dense_1/BiasAdd:0\", shape=(?, 100), dtype=float32)\n",
            "Tensor(\"multiply_1/mul:0\", shape=(?, 100), dtype=float32)\n"
          ],
          "name": "stdout"
        },
        {
          "output_type": "error",
          "ename": "UnboundLocalError",
          "evalue": "ignored",
          "traceback": [
            "\u001b[0;31m---------------------------------------------------------------------------\u001b[0m",
            "\u001b[0;31mUnboundLocalError\u001b[0m                         Traceback (most recent call last)",
            "\u001b[0;32m<ipython-input-11-4949f1faba17>\u001b[0m in \u001b[0;36m<module>\u001b[0;34m()\u001b[0m\n\u001b[0;32m----> 1\u001b[0;31m \u001b[0mbuild_generator\u001b[0m\u001b[0;34m(\u001b[0m\u001b[0mz_dim\u001b[0m\u001b[0;34m)\u001b[0m\u001b[0;34m.\u001b[0m\u001b[0msummary\u001b[0m\u001b[0;34m(\u001b[0m\u001b[0;34m)\u001b[0m\u001b[0;34m\u001b[0m\u001b[0;34m\u001b[0m\u001b[0m\n\u001b[0m",
            "\u001b[0;32m<ipython-input-10-f95a9192110f>\u001b[0m in \u001b[0;36mbuild_generator\u001b[0;34m(z_dim)\u001b[0m\n\u001b[1;32m      7\u001b[0m     \u001b[0mjoined_representation\u001b[0m \u001b[0;34m=\u001b[0m \u001b[0mMultiply\u001b[0m\u001b[0;34m(\u001b[0m\u001b[0;34m)\u001b[0m\u001b[0;34m(\u001b[0m\u001b[0;34m[\u001b[0m\u001b[0mz\u001b[0m\u001b[0;34m,\u001b[0m \u001b[0mlabel_embedding\u001b[0m\u001b[0;34m]\u001b[0m\u001b[0;34m)\u001b[0m\u001b[0;34m\u001b[0m\u001b[0;34m\u001b[0m\u001b[0m\n\u001b[1;32m      8\u001b[0m     \u001b[0mprint\u001b[0m\u001b[0;34m(\u001b[0m\u001b[0mjoined_representation\u001b[0m\u001b[0;34m)\u001b[0m\u001b[0;34m\u001b[0m\u001b[0;34m\u001b[0m\u001b[0m\n\u001b[0;32m----> 9\u001b[0;31m     \u001b[0mconditioned_img\u001b[0m \u001b[0;34m=\u001b[0m \u001b[0mmodel\u001b[0m\u001b[0;34m(\u001b[0m\u001b[0mjoined_representation\u001b[0m\u001b[0;34m)\u001b[0m\u001b[0;34m\u001b[0m\u001b[0;34m\u001b[0m\u001b[0m\n\u001b[0m\u001b[1;32m     10\u001b[0m \u001b[0;34m\u001b[0m\u001b[0m\n\u001b[1;32m     11\u001b[0m     \u001b[0mmodel\u001b[0m \u001b[0;34m=\u001b[0m \u001b[0mSequential\u001b[0m\u001b[0;34m(\u001b[0m\u001b[0;34m)\u001b[0m\u001b[0;34m\u001b[0m\u001b[0;34m\u001b[0m\u001b[0m\n",
            "\u001b[0;31mUnboundLocalError\u001b[0m: local variable 'model' referenced before assignment"
          ]
        }
      ]
    },
    {
      "cell_type": "code",
      "metadata": {
        "id": "PIhJjyyXOgsI",
        "colab_type": "code",
        "colab": {
          "base_uri": "https://localhost:8080/",
          "height": 538
        },
        "outputId": "0e3de106-e612-49db-fa17-519a6aa79e7f"
      },
      "source": [
        "batch_size=30\n",
        "imgs, labels = dataset.batch_labeled(batch_size)\n",
        "# labels = to_categorical(labels, num_classes=num_classes)\n",
        "labels = np.random.randint(0, num_classes, batch_size).reshape(-1, 1)\n",
        "print(labels.shape)\n",
        "print(labels)"
      ],
      "execution_count": 53,
      "outputs": [
        {
          "output_type": "stream",
          "text": [
            "(30, 1)\n",
            "[[8]\n",
            " [5]\n",
            " [2]\n",
            " [0]\n",
            " [1]\n",
            " [5]\n",
            " [7]\n",
            " [7]\n",
            " [6]\n",
            " [7]\n",
            " [4]\n",
            " [4]\n",
            " [1]\n",
            " [7]\n",
            " [0]\n",
            " [9]\n",
            " [9]\n",
            " [0]\n",
            " [7]\n",
            " [0]\n",
            " [8]\n",
            " [0]\n",
            " [1]\n",
            " [4]\n",
            " [8]\n",
            " [9]\n",
            " [8]\n",
            " [3]\n",
            " [0]\n",
            " [4]]\n"
          ],
          "name": "stdout"
        }
      ]
    },
    {
      "cell_type": "markdown",
      "metadata": {
        "id": "PXctmDp35IC-",
        "colab_type": "text"
      },
      "source": [
        "## Discriminator"
      ]
    },
    {
      "cell_type": "code",
      "metadata": {
        "id": "VahG39Gb5IC_",
        "colab_type": "code",
        "colab": {}
      },
      "source": [
        "def build_discriminator_net(img_shape):\n",
        "\n",
        "    model = Sequential()\n",
        "\n",
        "    # Convolutional layer, from 28x28x1 into 14x14x32 tensor\n",
        "    model.add(\n",
        "        Conv2D(32,\n",
        "               kernel_size=3,\n",
        "               strides=2,\n",
        "               input_shape=img_shape,\n",
        "               padding='same'))\n",
        "\n",
        "    # Leaky ReLU activation\n",
        "    model.add(LeakyReLU(alpha=0.01))\n",
        "\n",
        "    # Convolutional layer, from 14x14x32 into 7x7x64 tensor\n",
        "    model.add(\n",
        "        Conv2D(64,\n",
        "               kernel_size=3,\n",
        "               strides=2,\n",
        "               input_shape=img_shape,\n",
        "               padding='same'))\n",
        "\n",
        "    # Batch normalization\n",
        "    model.add(BatchNormalization())\n",
        "\n",
        "    # Leaky ReLU activation\n",
        "    model.add(LeakyReLU(alpha=0.01))\n",
        "\n",
        "    # Convolutional layer, from 7x7x64 tensor into 3x3x128 tensor\n",
        "    model.add(\n",
        "        Conv2D(128,\n",
        "               kernel_size=3,\n",
        "               strides=2,\n",
        "               input_shape=img_shape,\n",
        "               padding='same'))\n",
        "\n",
        "    # Batch normalization\n",
        "    model.add(BatchNormalization())\n",
        "\n",
        "    # Leaky ReLU activation\n",
        "    model.add(LeakyReLU(alpha=0.01))\n",
        "\n",
        "    # Droupout\n",
        "    model.add(Dropout(0.5))\n",
        "\n",
        "    # Flatten the tensor\n",
        "    model.add(Flatten())\n",
        "\n",
        "    # Fully connected layer with num_classes neurons\n",
        "    model.add(Dense(num_classes))\n",
        "\n",
        "    return model"
      ],
      "execution_count": 0,
      "outputs": []
    },
    {
      "cell_type": "code",
      "metadata": {
        "id": "-hSeX8Z75IDC",
        "colab_type": "code",
        "colab": {}
      },
      "source": [
        "def build_discriminator_supervised(discriminator_net):\n",
        "\n",
        "    model = Sequential()\n",
        "\n",
        "    model.add(discriminator_net)\n",
        "\n",
        "    # Softmax activation, giving predicted probability distribution over the real classes\n",
        "    model.add(Activation('softmax'))\n",
        "\n",
        "    return model"
      ],
      "execution_count": 0,
      "outputs": []
    },
    {
      "cell_type": "code",
      "metadata": {
        "id": "Kc_Skbce5IDF",
        "colab_type": "code",
        "colab": {}
      },
      "source": [
        "def build_discriminator_unsupervised(discriminator_net):\n",
        "\n",
        "    model = Sequential()\n",
        "\n",
        "    model.add(discriminator_net)\n",
        "\n",
        "    def predict(x):\n",
        "        # Transform distribution over real classes into a binary real-vs-fake probability\n",
        "        prediction = 1.0 - (1.0 /\n",
        "                            (K.sum(K.exp(x), axis=-1, keepdims=True) + 1.0))\n",
        "        return prediction\n",
        "\n",
        "    # 'Real-vs-fake' output neuron defined above\n",
        "    model.add(Lambda(predict))\n",
        "\n",
        "    return model"
      ],
      "execution_count": 0,
      "outputs": []
    },
    {
      "cell_type": "markdown",
      "metadata": {
        "id": "-Xz4dCm75IDJ",
        "colab_type": "text"
      },
      "source": [
        "## Build the Model"
      ]
    },
    {
      "cell_type": "code",
      "metadata": {
        "id": "kcTPOPCS5IDL",
        "colab_type": "code",
        "colab": {}
      },
      "source": [
        "def build_gan(generator, discriminator):\n",
        "\n",
        "#     model = Sequential()\n",
        "\n",
        "    # Combined Generator -> Discriminator model\n",
        "#     model.add(generator)\n",
        "#     model.add(discriminator)\n",
        "    \n",
        "    z = Input(shape=(z_dim, ))\n",
        "    label = Input(shape=(num_classes, ))\n",
        "    img = generator([z, label])\n",
        "    output = discriminator(img)\n",
        "    model = Model([z, label], output)\n",
        "\n",
        "    return model"
      ],
      "execution_count": 0,
      "outputs": []
    },
    {
      "cell_type": "code",
      "metadata": {
        "colab_type": "code",
        "outputId": "9f23ae59-e566-4a0b-d4b1-b2b366ba6f40",
        "id": "GZhORKSp6P03",
        "colab": {
          "base_uri": "https://localhost:8080/",
          "height": 336
        }
      },
      "source": [
        "generator = build_generator(z_dim)\n",
        "discriminator_unsupervised.trainable = False\n",
        "gan = build_gan(generator, discriminator_unsupervised)\n",
        "gan.summary()\n",
        "gan.compile(loss='binary_crossentropy', optimizer=Adam())"
      ],
      "execution_count": 0,
      "outputs": [
        {
          "output_type": "stream",
          "text": [
            "Tensor(\"dense_7/BiasAdd:0\", shape=(?, 100), dtype=float32)\n",
            "Tensor(\"multiply_5/mul:0\", shape=(?, 100), dtype=float32)\n",
            "Model: \"model_2\"\n",
            "__________________________________________________________________________________________________\n",
            "Layer (type)                    Output Shape         Param #     Connected to                     \n",
            "==================================================================================================\n",
            "input_11 (InputLayer)           (None, 100)          0                                            \n",
            "__________________________________________________________________________________________________\n",
            "input_12 (InputLayer)           (None, 10)           0                                            \n",
            "__________________________________________________________________________________________________\n",
            "model_1 (Model)                 (None, 28, 28, 1)    1638221     input_11[0][0]                   \n",
            "                                                                 input_12[0][0]                   \n",
            "__________________________________________________________________________________________________\n",
            "sequential_3 (Sequential)       (None, 1)            113930      model_1[1][0]                    \n",
            "==================================================================================================\n",
            "Total params: 1,752,151\n",
            "Trainable params: 1,637,837\n",
            "Non-trainable params: 114,314\n",
            "__________________________________________________________________________________________________\n"
          ],
          "name": "stdout"
        }
      ]
    },
    {
      "cell_type": "markdown",
      "metadata": {
        "id": "i-fxWZ8Y5IDP",
        "colab_type": "text"
      },
      "source": [
        "### Discriminator"
      ]
    },
    {
      "cell_type": "code",
      "metadata": {
        "id": "XPQ_Yvmz5IDQ",
        "colab_type": "code",
        "colab": {}
      },
      "source": [
        "# Core Discriminator network:\n",
        "# These layers are shared during supervised and unsupervised training\n",
        "discriminator_net = build_discriminator_net(img_shape)\n",
        "\n",
        "# Build & compile the Discriminator for supervised training\n",
        "discriminator_supervised = build_discriminator_supervised(discriminator_net)\n",
        "discriminator_supervised.compile(loss='categorical_crossentropy',\n",
        "                                 metrics=['accuracy'],\n",
        "                                 optimizer=Adam())\n",
        "\n",
        "# Build & compile the Discriminator for unsupervised training\n",
        "discriminator_unsupervised = build_discriminator_unsupervised(discriminator_net)\n",
        "discriminator_unsupervised.compile(loss='binary_crossentropy',\n",
        "                                   optimizer=Adam())"
      ],
      "execution_count": 0,
      "outputs": []
    },
    {
      "cell_type": "markdown",
      "metadata": {
        "id": "OX5cwJ_i5IDS",
        "colab_type": "text"
      },
      "source": [
        "### Generator"
      ]
    },
    {
      "cell_type": "code",
      "metadata": {
        "id": "bMRweuap5IDT",
        "colab_type": "code",
        "colab": {
          "base_uri": "https://localhost:8080/",
          "height": 50
        },
        "outputId": "ae934fed-2dd0-414d-ff17-c227c4126a0a"
      },
      "source": [
        "# Build the Generator\n",
        "generator = build_generator(z_dim)\n",
        "\n",
        "# Keep Discriminator’s parameters constant for Generator training\n",
        "discriminator_unsupervised.trainable = False\n",
        "\n",
        "# Build and compile GAN model with fixed Discriminator to train the Generator\n",
        "# Note that we are using the Discriminator version with unsupervised output\n",
        "gan = build_gan(generator, discriminator_unsupervised)\n",
        "gan.compile(loss='binary_crossentropy', optimizer=Adam())"
      ],
      "execution_count": 34,
      "outputs": [
        {
          "output_type": "stream",
          "text": [
            "Tensor(\"dense_10/BiasAdd:0\", shape=(?, 100), dtype=float32)\n",
            "Tensor(\"multiply_6/mul:0\", shape=(?, 100), dtype=float32)\n"
          ],
          "name": "stdout"
        }
      ]
    },
    {
      "cell_type": "markdown",
      "metadata": {
        "id": "rSfkxFfH5IDW",
        "colab_type": "text"
      },
      "source": [
        "## Training"
      ]
    },
    {
      "cell_type": "code",
      "metadata": {
        "id": "lKb4Xds65IDX",
        "colab_type": "code",
        "colab": {}
      },
      "source": [
        "supervised_losses = []\n",
        "unsupervised_losses = []\n",
        "g_losses = []\n",
        "iteration_checkpoints = []\n",
        "\n",
        "\n",
        "def train(iterations, batch_size, save_interval):\n",
        "\n",
        "    # Labels for real images: all ones\n",
        "    real = np.ones((batch_size, 1))\n",
        "\n",
        "    # Labels for fake images: all zeros\n",
        "    fake = np.zeros((batch_size, 1))\n",
        "\n",
        "    for iteration in range(iterations):\n",
        "\n",
        "        # -------------------------\n",
        "        #  Train the Discriminator\n",
        "        # -------------------------\n",
        "\n",
        "        # Get labeled examples\n",
        "        imgs, labels = dataset.batch_labeled(batch_size)\n",
        "\n",
        "        # One-hot encode labels\n",
        "        labels = to_categorical(labels, num_classes=num_classes)\n",
        "\n",
        "        # Get unlabeled examples\n",
        "        imgs_unlabeled = dataset.batch_unlabeled(batch_size)\n",
        "\n",
        "        # Generate a batch of fake images\n",
        "        z = np.random.normal(0, 1, (batch_size, z_dim))\n",
        "        fake_labels = np.random.randint(0, num_classes, batch_size).reshape(-1, 1)\n",
        "        fake_labels = to_categorical(fake_labels, num_classes=num_classes)\n",
        "        gen_imgs = generator.predict([z, fake_labels])\n",
        "\n",
        "        # Train on real labeled examples\n",
        "        d_loss_supervised, accuracy = discriminator_supervised.train_on_batch(imgs, labels)\n",
        "\n",
        "        # Train on real unlabeled examples\n",
        "        d_loss_real = discriminator_unsupervised.train_on_batch(imgs_unlabeled, real)\n",
        "\n",
        "        # Train on fake examples\n",
        "        d_loss_fake = discriminator_unsupervised.train_on_batch(gen_imgs, fake)\n",
        "\n",
        "        d_loss_unsupervised = 0.5 * np.add(d_loss_real, d_loss_fake)\n",
        "\n",
        "        # ---------------------\n",
        "        #  Train the Generator\n",
        "        # ---------------------\n",
        "\n",
        "        # Generate a batch of fake images\n",
        "        z = np.random.normal(0, 1, (batch_size, z_dim))\n",
        "        gen_imgs = generator.predict([z, labels])\n",
        "\n",
        "        # Train Generator\n",
        "        g_loss = gan.train_on_batch([z,labels], np.ones((batch_size, 1)))\n",
        "\n",
        "        if (iteration + 1) % save_interval == 0:\n",
        "\n",
        "            # Save Discriminator supervised classification loss to be plotted after training\n",
        "            supervised_losses.append(d_loss_supervised)\n",
        "            unsupervised_losses.append(d_loss_unsupervised)\n",
        "            g_losses.append(g_loss)\n",
        "            \n",
        "            iteration_checkpoints.append(iteration + 1)\n",
        "\n",
        "            # Output training progress\n",
        "            print(\n",
        "                \"%d [D loss supervised: %.4f, acc.: %.2f%%] [D loss unsupervised: %.4f] [G loss: %f]\"\n",
        "                % (iteration + 1, d_loss_supervised, 100 * accuracy,\n",
        "                   d_loss_unsupervised, g_loss))\n",
        "            \n",
        "            discriminator_supervised.save(\"./models/discriminator_supervised-\" + str(iteration+1) + \".h5\")\n",
        "\n",
        "            with open('./losses/supervised_losses.json', 'w') as json_file:\n",
        "                  json.dump(str(supervised_losses), json_file)\n",
        "            with open('./losses/unsupervised_losses.json', 'w') as json_file:\n",
        "                  json.dump(str(unsupervised_losses), json_file)\n",
        "            with open('./losses/g_losses.json', 'w') as json_file:\n",
        "                  json.dump(str(g_losses), json_file)"
      ],
      "execution_count": 0,
      "outputs": []
    },
    {
      "cell_type": "markdown",
      "metadata": {
        "id": "2MoxwriW5IDb",
        "colab_type": "text"
      },
      "source": [
        "## Train the Model and Inspect Output"
      ]
    },
    {
      "cell_type": "markdown",
      "metadata": {
        "id": "EHHVLd0n5IDc",
        "colab_type": "text"
      },
      "source": [
        "Note that the `'Discrepancy between trainable weights and collected trainable'` warning from Keras is expected. It is by design: The Generator's trainable parameters are intentionally held constant during Discriminator training, and vice versa."
      ]
    },
    {
      "cell_type": "code",
      "metadata": {
        "scrolled": true,
        "id": "0ZWH2w_r5IDe",
        "colab_type": "code",
        "colab": {
          "base_uri": "https://localhost:8080/",
          "height": 1414
        },
        "outputId": "3fbd7d9b-0821-441a-efa1-fcf786d95eea"
      },
      "source": [
        "# Set hyperparameters\n",
        "iterations = 8000\n",
        "batch_size = 32\n",
        "save_interval = 100\n",
        "\n",
        "# Train the SGAN for the specified number of iterations\n",
        "train(iterations, batch_size, save_interval)"
      ],
      "execution_count": 52,
      "outputs": [
        {
          "output_type": "stream",
          "text": [
            "/usr/local/lib/python3.6/dist-packages/keras/engine/training.py:493: UserWarning: Discrepancy between trainable weights and collected trainable weights, did you set `model.trainable` without calling `model.compile` after ?\n",
            "  'Discrepancy between trainable weights and collected trainable'\n"
          ],
          "name": "stderr"
        },
        {
          "output_type": "stream",
          "text": [
            "100 [D loss supervised: 0.0396, acc.: 100.00%] [D loss unsupervised: 0.1096] [G loss: 7.921178]\n",
            "200 [D loss supervised: 0.0025, acc.: 100.00%] [D loss unsupervised: 0.1439] [G loss: 5.598542]\n",
            "300 [D loss supervised: 0.0023, acc.: 100.00%] [D loss unsupervised: 0.0295] [G loss: 7.430367]\n",
            "400 [D loss supervised: 0.0035, acc.: 100.00%] [D loss unsupervised: 0.0674] [G loss: 5.606292]\n",
            "500 [D loss supervised: 0.0007, acc.: 100.00%] [D loss unsupervised: 0.0780] [G loss: 5.720152]\n",
            "600 [D loss supervised: 0.0023, acc.: 100.00%] [D loss unsupervised: 0.2097] [G loss: 3.894555]\n",
            "700 [D loss supervised: 0.0096, acc.: 100.00%] [D loss unsupervised: 0.0484] [G loss: 4.120163]\n",
            "800 [D loss supervised: 0.0128, acc.: 100.00%] [D loss unsupervised: 0.1550] [G loss: 6.102933]\n",
            "900 [D loss supervised: 0.0055, acc.: 100.00%] [D loss unsupervised: 0.2723] [G loss: 1.275762]\n",
            "1000 [D loss supervised: 0.0007, acc.: 100.00%] [D loss unsupervised: 0.1529] [G loss: 3.784255]\n",
            "1100 [D loss supervised: 0.0039, acc.: 100.00%] [D loss unsupervised: 0.1997] [G loss: 3.624511]\n",
            "1200 [D loss supervised: 0.0015, acc.: 100.00%] [D loss unsupervised: 0.2486] [G loss: 3.605323]\n",
            "1300 [D loss supervised: 0.0005, acc.: 100.00%] [D loss unsupervised: 0.2637] [G loss: 4.285903]\n",
            "1400 [D loss supervised: 0.0033, acc.: 100.00%] [D loss unsupervised: 0.6150] [G loss: 2.129872]\n",
            "1500 [D loss supervised: 0.0021, acc.: 100.00%] [D loss unsupervised: 0.0913] [G loss: 4.249910]\n",
            "1600 [D loss supervised: 0.0009, acc.: 100.00%] [D loss unsupervised: 0.4089] [G loss: 3.874893]\n",
            "1700 [D loss supervised: 0.0003, acc.: 100.00%] [D loss unsupervised: 0.2292] [G loss: 4.228935]\n",
            "1800 [D loss supervised: 0.0011, acc.: 100.00%] [D loss unsupervised: 0.1458] [G loss: 4.219060]\n",
            "1900 [D loss supervised: 0.0045, acc.: 100.00%] [D loss unsupervised: 0.3515] [G loss: 3.216951]\n",
            "2000 [D loss supervised: 0.0021, acc.: 100.00%] [D loss unsupervised: 0.0664] [G loss: 5.010722]\n",
            "2100 [D loss supervised: 0.0018, acc.: 100.00%] [D loss unsupervised: 0.1858] [G loss: 4.253954]\n",
            "2200 [D loss supervised: 0.0018, acc.: 100.00%] [D loss unsupervised: 0.2054] [G loss: 3.667098]\n",
            "2300 [D loss supervised: 0.0007, acc.: 100.00%] [D loss unsupervised: 0.3538] [G loss: 3.059840]\n",
            "2400 [D loss supervised: 0.0053, acc.: 100.00%] [D loss unsupervised: 0.6273] [G loss: 1.518802]\n",
            "2500 [D loss supervised: 0.0008, acc.: 100.00%] [D loss unsupervised: 0.1564] [G loss: 3.024296]\n",
            "2600 [D loss supervised: 0.0015, acc.: 100.00%] [D loss unsupervised: 0.1453] [G loss: 6.155210]\n",
            "2700 [D loss supervised: 0.0003, acc.: 100.00%] [D loss unsupervised: 0.0859] [G loss: 5.190144]\n",
            "2800 [D loss supervised: 0.0018, acc.: 100.00%] [D loss unsupervised: 0.0429] [G loss: 6.201643]\n",
            "2900 [D loss supervised: 0.0015, acc.: 100.00%] [D loss unsupervised: 0.2928] [G loss: 1.990217]\n",
            "3000 [D loss supervised: 0.0007, acc.: 100.00%] [D loss unsupervised: 0.0690] [G loss: 3.452434]\n",
            "3100 [D loss supervised: 0.0005, acc.: 100.00%] [D loss unsupervised: 0.5125] [G loss: 2.457908]\n",
            "3200 [D loss supervised: 0.0001, acc.: 100.00%] [D loss unsupervised: 0.1085] [G loss: 3.522180]\n",
            "3300 [D loss supervised: 0.0001, acc.: 100.00%] [D loss unsupervised: 0.2102] [G loss: 3.289702]\n",
            "3400 [D loss supervised: 0.0004, acc.: 100.00%] [D loss unsupervised: 0.0680] [G loss: 4.026027]\n",
            "3500 [D loss supervised: 0.0005, acc.: 100.00%] [D loss unsupervised: 0.1160] [G loss: 6.354129]\n",
            "3600 [D loss supervised: 0.0009, acc.: 100.00%] [D loss unsupervised: 0.0822] [G loss: 4.899035]\n",
            "3700 [D loss supervised: 0.0003, acc.: 100.00%] [D loss unsupervised: 0.2399] [G loss: 3.984541]\n",
            "3800 [D loss supervised: 0.0005, acc.: 100.00%] [D loss unsupervised: 0.2292] [G loss: 2.991324]\n",
            "3900 [D loss supervised: 0.0012, acc.: 100.00%] [D loss unsupervised: 0.2023] [G loss: 4.906905]\n",
            "4000 [D loss supervised: 0.0005, acc.: 100.00%] [D loss unsupervised: 0.0705] [G loss: 3.322636]\n",
            "4100 [D loss supervised: 0.0003, acc.: 100.00%] [D loss unsupervised: 0.2168] [G loss: 4.050313]\n",
            "4200 [D loss supervised: 0.0004, acc.: 100.00%] [D loss unsupervised: 0.0688] [G loss: 5.468635]\n",
            "4300 [D loss supervised: 0.0001, acc.: 100.00%] [D loss unsupervised: 0.1774] [G loss: 3.014020]\n",
            "4400 [D loss supervised: 0.0003, acc.: 100.00%] [D loss unsupervised: 0.1466] [G loss: 7.409670]\n",
            "4500 [D loss supervised: 0.0004, acc.: 100.00%] [D loss unsupervised: 0.3313] [G loss: 6.091510]\n",
            "4600 [D loss supervised: 0.0005, acc.: 100.00%] [D loss unsupervised: 0.5807] [G loss: 3.465116]\n",
            "4700 [D loss supervised: 0.0008, acc.: 100.00%] [D loss unsupervised: 0.1103] [G loss: 3.967927]\n",
            "4800 [D loss supervised: 0.0005, acc.: 100.00%] [D loss unsupervised: 0.3319] [G loss: 3.117999]\n",
            "4900 [D loss supervised: 0.0002, acc.: 100.00%] [D loss unsupervised: 0.1431] [G loss: 5.564104]\n",
            "5000 [D loss supervised: 0.0025, acc.: 100.00%] [D loss unsupervised: 0.2131] [G loss: 5.521179]\n",
            "5100 [D loss supervised: 0.0007, acc.: 100.00%] [D loss unsupervised: 0.2927] [G loss: 5.509094]\n",
            "5200 [D loss supervised: 0.0001, acc.: 100.00%] [D loss unsupervised: 0.4138] [G loss: 4.051479]\n",
            "5300 [D loss supervised: 0.0004, acc.: 100.00%] [D loss unsupervised: 0.1114] [G loss: 5.264981]\n",
            "5400 [D loss supervised: 0.0005, acc.: 100.00%] [D loss unsupervised: 0.1025] [G loss: 5.315310]\n",
            "5500 [D loss supervised: 0.0004, acc.: 100.00%] [D loss unsupervised: 0.1309] [G loss: 5.544552]\n",
            "5600 [D loss supervised: 0.0004, acc.: 100.00%] [D loss unsupervised: 0.3039] [G loss: 4.279352]\n",
            "5700 [D loss supervised: 0.0006, acc.: 100.00%] [D loss unsupervised: 0.1257] [G loss: 2.687602]\n",
            "5800 [D loss supervised: 0.0010, acc.: 100.00%] [D loss unsupervised: 0.2295] [G loss: 3.681677]\n",
            "5900 [D loss supervised: 0.0001, acc.: 100.00%] [D loss unsupervised: 0.0804] [G loss: 5.049449]\n",
            "6000 [D loss supervised: 0.0004, acc.: 100.00%] [D loss unsupervised: 0.1100] [G loss: 5.902125]\n",
            "6100 [D loss supervised: 0.0018, acc.: 100.00%] [D loss unsupervised: 0.2499] [G loss: 2.496299]\n",
            "6200 [D loss supervised: 0.0011, acc.: 100.00%] [D loss unsupervised: 0.4002] [G loss: 3.240960]\n",
            "6300 [D loss supervised: 0.0002, acc.: 100.00%] [D loss unsupervised: 0.5039] [G loss: 3.111444]\n",
            "6400 [D loss supervised: 0.0003, acc.: 100.00%] [D loss unsupervised: 0.3112] [G loss: 4.935339]\n",
            "6500 [D loss supervised: 0.0001, acc.: 100.00%] [D loss unsupervised: 0.6173] [G loss: 1.928265]\n",
            "6600 [D loss supervised: 0.0023, acc.: 100.00%] [D loss unsupervised: 0.1615] [G loss: 2.943376]\n",
            "6700 [D loss supervised: 0.0000, acc.: 100.00%] [D loss unsupervised: 0.1107] [G loss: 4.117040]\n",
            "6800 [D loss supervised: 0.0001, acc.: 100.00%] [D loss unsupervised: 0.1711] [G loss: 3.226273]\n",
            "6900 [D loss supervised: 0.0002, acc.: 100.00%] [D loss unsupervised: 0.3522] [G loss: 3.655408]\n",
            "7000 [D loss supervised: 0.0001, acc.: 100.00%] [D loss unsupervised: 0.3426] [G loss: 2.226077]\n",
            "7100 [D loss supervised: 0.0002, acc.: 100.00%] [D loss unsupervised: 0.1917] [G loss: 4.317534]\n",
            "7200 [D loss supervised: 0.0001, acc.: 100.00%] [D loss unsupervised: 0.3234] [G loss: 2.910811]\n",
            "7300 [D loss supervised: 0.0003, acc.: 100.00%] [D loss unsupervised: 0.5501] [G loss: 3.207222]\n",
            "7400 [D loss supervised: 0.0001, acc.: 100.00%] [D loss unsupervised: 0.4792] [G loss: 4.110492]\n",
            "7500 [D loss supervised: 0.0002, acc.: 100.00%] [D loss unsupervised: 0.1507] [G loss: 4.567513]\n",
            "7600 [D loss supervised: 0.0001, acc.: 100.00%] [D loss unsupervised: 0.2958] [G loss: 3.474972]\n",
            "7700 [D loss supervised: 0.0007, acc.: 100.00%] [D loss unsupervised: 0.4151] [G loss: 2.376691]\n",
            "7800 [D loss supervised: 0.0001, acc.: 100.00%] [D loss unsupervised: 0.3412] [G loss: 1.880033]\n",
            "7900 [D loss supervised: 0.0000, acc.: 100.00%] [D loss unsupervised: 0.3039] [G loss: 2.474405]\n",
            "8000 [D loss supervised: 0.0002, acc.: 100.00%] [D loss unsupervised: 0.8170] [G loss: 4.271369]\n"
          ],
          "name": "stdout"
        }
      ]
    },
    {
      "cell_type": "code",
      "metadata": {
        "id": "9nr6YWqNszIj",
        "colab_type": "code",
        "colab": {
          "base_uri": "https://localhost:8080/",
          "height": 1361
        },
        "outputId": "95a58fd0-159d-411a-d4f9-a931ec54e01c"
      },
      "source": [
        "%ls models"
      ],
      "execution_count": 53,
      "outputs": [
        {
          "output_type": "stream",
          "text": [
            "discriminator_supervised-1000.h5  dis_super-1000.h5\n",
            "discriminator_supervised-100.h5   dis_super-100.h5\n",
            "discriminator_supervised-1100.h5  dis_super-1100.h5\n",
            "discriminator_supervised-1200.h5  dis_super-1200.h5\n",
            "discriminator_supervised-1300.h5  dis_super-1300.h5\n",
            "discriminator_supervised-1400.h5  dis_super-1400.h5\n",
            "discriminator_supervised-1500.h5  dis_super-1500.h5\n",
            "discriminator_supervised-1600.h5  dis_super-1600.h5\n",
            "discriminator_supervised-1700.h5  dis_super-1700.h5\n",
            "discriminator_supervised-1800.h5  dis_super-1800.h5\n",
            "discriminator_supervised-1900.h5  dis_super-1900.h5\n",
            "discriminator_supervised-2000.h5  dis_super-2000.h5\n",
            "discriminator_supervised-200.h5   dis_super-200.h5\n",
            "discriminator_supervised-2100.h5  dis_super-2100.h5\n",
            "discriminator_supervised-2200.h5  dis_super-2200.h5\n",
            "discriminator_supervised-2300.h5  dis_super-2300.h5\n",
            "discriminator_supervised-2400.h5  dis_super-2400.h5\n",
            "discriminator_supervised-2500.h5  dis_super-2500.h5\n",
            "discriminator_supervised-2600.h5  dis_super-2600.h5\n",
            "discriminator_supervised-2700.h5  dis_super-2700.h5\n",
            "discriminator_supervised-2800.h5  dis_super-2800.h5\n",
            "discriminator_supervised-2900.h5  dis_super-2900.h5\n",
            "discriminator_supervised-3000.h5  dis_super-3000.h5\n",
            "discriminator_supervised-300.h5   dis_super-300.h5\n",
            "discriminator_supervised-3100.h5  dis_super-3100.h5\n",
            "discriminator_supervised-3200.h5  dis_super-3200.h5\n",
            "discriminator_supervised-3300.h5  dis_super-3300.h5\n",
            "discriminator_supervised-3400.h5  dis_super-3400.h5\n",
            "discriminator_supervised-3500.h5  dis_super-3500.h5\n",
            "discriminator_supervised-3600.h5  dis_super-3600.h5\n",
            "discriminator_supervised-3700.h5  dis_super-3700.h5\n",
            "discriminator_supervised-3800.h5  dis_super-3800.h5\n",
            "discriminator_supervised-3900.h5  dis_super-3900.h5\n",
            "discriminator_supervised-4000.h5  dis_super-4000.h5\n",
            "discriminator_supervised-400.h5   dis_super-400.h5\n",
            "discriminator_supervised-4100.h5  dis_super-4100.h5\n",
            "discriminator_supervised-4200.h5  dis_super-4200.h5\n",
            "discriminator_supervised-4300.h5  dis_super-4300.h5\n",
            "discriminator_supervised-4400.h5  dis_super-4400.h5\n",
            "discriminator_supervised-4500.h5  dis_super-4500.h5\n",
            "discriminator_supervised-4600.h5  dis_super-4600.h5\n",
            "discriminator_supervised-4700.h5  dis_super-4700.h5\n",
            "discriminator_supervised-4800.h5  dis_super-4800.h5\n",
            "discriminator_supervised-4900.h5  dis_super-4900.h5\n",
            "discriminator_supervised-5000.h5  dis_super-5000.h5\n",
            "discriminator_supervised-500.h5   dis_super-500.h5\n",
            "discriminator_supervised-5100.h5  dis_super-5100.h5\n",
            "discriminator_supervised-5200.h5  dis_super-5200.h5\n",
            "discriminator_supervised-5300.h5  dis_super-5300.h5\n",
            "discriminator_supervised-5400.h5  dis_super-5400.h5\n",
            "discriminator_supervised-5500.h5  dis_super-5500.h5\n",
            "discriminator_supervised-5600.h5  dis_super-5600.h5\n",
            "discriminator_supervised-5700.h5  dis_super-5700.h5\n",
            "discriminator_supervised-5800.h5  dis_super-5800.h5\n",
            "discriminator_supervised-5900.h5  dis_super-5900.h5\n",
            "discriminator_supervised-6000.h5  dis_super-6000.h5\n",
            "discriminator_supervised-600.h5   dis_super-600.h5\n",
            "discriminator_supervised-6100.h5  dis_super-6100.h5\n",
            "discriminator_supervised-6200.h5  dis_super-6200.h5\n",
            "discriminator_supervised-6300.h5  dis_super-6300.h5\n",
            "discriminator_supervised-6400.h5  dis_super-6400.h5\n",
            "discriminator_supervised-6500.h5  dis_super-6500.h5\n",
            "discriminator_supervised-6600.h5  dis_super-6600.h5\n",
            "discriminator_supervised-6700.h5  dis_super-6700.h5\n",
            "discriminator_supervised-6800.h5  dis_super-6800.h5\n",
            "discriminator_supervised-6900.h5  dis_super-6900.h5\n",
            "discriminator_supervised-7000.h5  dis_super-7000.h5\n",
            "discriminator_supervised-700.h5   dis_super-700.h5\n",
            "discriminator_supervised-7100.h5  dis_super-7100.h5\n",
            "discriminator_supervised-7200.h5  dis_super-7200.h5\n",
            "discriminator_supervised-7300.h5  dis_super-7300.h5\n",
            "discriminator_supervised-7400.h5  dis_super-7400.h5\n",
            "discriminator_supervised-7500.h5  dis_super-7500.h5\n",
            "discriminator_supervised-7600.h5  dis_super-7600.h5\n",
            "discriminator_supervised-7700.h5  dis_super-7700.h5\n",
            "discriminator_supervised-7800.h5  dis_super-7800.h5\n",
            "discriminator_supervised-7900.h5  dis_super-7900.h5\n",
            "discriminator_supervised-8000.h5  dis_super-8000.h5\n",
            "discriminator_supervised-800.h5   dis_super-800.h5\n",
            "discriminator_supervised-900.h5   dis_super-900.h5\n"
          ],
          "name": "stdout"
        }
      ]
    },
    {
      "cell_type": "code",
      "metadata": {
        "id": "T98POkWe5IDh",
        "colab_type": "code",
        "colab": {
          "base_uri": "https://localhost:8080/",
          "height": 382
        },
        "outputId": "26585aa3-4770-48ab-e74e-507f26dc7221"
      },
      "source": [
        "supervised_losses = np.array(supervised_losses)\n",
        "unsupervised_losses = np.array(unsupervised_losses)\n",
        "g_losses = np.array(g_losses)\n",
        "\n",
        "# Plot Discriminator supervised loss\n",
        "plt.figure(figsize=(15, 5))\n",
        "plt.plot(iteration_checkpoints, supervised_losses, label=\"Discriminator supervised loss\", color='tab:blue')\n",
        "plt.plot(iteration_checkpoints, unsupervised_losses, label=\"Discriminator unsupervised loss\", color='tab:green')\n",
        "plt.plot(iteration_checkpoints, g_losses, label=\"Generator supervised loss\", color='tab:red')\n",
        "\n",
        "plt.xticks(iteration_checkpoints, rotation=90)\n",
        "\n",
        "plt.title(\"Discriminator(supervised + unsupervised) + Generator Loss\")\n",
        "plt.xlabel(\"Iteration\")\n",
        "plt.ylabel(\"Loss\")\n",
        "plt.legend()"
      ],
      "execution_count": 55,
      "outputs": [
        {
          "output_type": "execute_result",
          "data": {
            "text/plain": [
              "<matplotlib.legend.Legend at 0x7fa5789c2f60>"
            ]
          },
          "metadata": {
            "tags": []
          },
          "execution_count": 55
        },
        {
          "output_type": "display_data",
          "data": {
            "image/png": "[encoded data removed]",
            "text/plain": [
              "<Figure size 1080x360 with 1 Axes>"
            ]
          },
          "metadata": {
            "tags": []
          }
        }
      ]
    },
    {
      "cell_type": "code",
      "metadata": {
        "id": "F61dqQWQ3ri6",
        "colab_type": "code",
        "colab": {
          "base_uri": "https://localhost:8080/",
          "height": 34
        },
        "outputId": "5616b5fe-be2c-40c5-ac2d-787580e991e6"
      },
      "source": [
        "print(supervised_losses[-10:])"
      ],
      "execution_count": 54,
      "outputs": [
        {
          "output_type": "stream",
          "text": [
            "[0.00017288796, 8.089666e-05, 0.00030267364, 0.00014982608, 0.0002316281, 9.00905e-05, 0.0007206007, 9.171589e-05, 2.8125163e-05, 0.00022921935]\n"
          ],
          "name": "stdout"
        }
      ]
    },
    {
      "cell_type": "markdown",
      "metadata": {
        "id": "PScPJocN5IDk",
        "colab_type": "text"
      },
      "source": [
        "## SGAN Classifier – Training and Test Accuracy "
      ]
    },
    {
      "cell_type": "code",
      "metadata": {
        "id": "e6BmzAGk5IDl",
        "colab_type": "code",
        "colab": {
          "base_uri": "https://localhost:8080/",
          "height": 50
        },
        "outputId": "f61001cb-fed1-4745-9880-d0a83973091f"
      },
      "source": [
        "x, y = dataset.training_set()\n",
        "y = to_categorical(y, num_classes=num_classes)\n",
        "\n",
        "# Compute classification accuracy on the training set\n",
        "_, accuracy = discriminator_supervised.evaluate(x, y)\n",
        "print(\"Training Accuracy: %.2f%%\" % (100 * accuracy))"
      ],
      "execution_count": 64,
      "outputs": [
        {
          "output_type": "stream",
          "text": [
            "100/100 [==============================] - 0s 139us/step\n",
            "Training Accuracy: 100.00%\n"
          ],
          "name": "stdout"
        }
      ]
    },
    {
      "cell_type": "code",
      "metadata": {
        "id": "ctWFp3zX5IDo",
        "colab_type": "code",
        "colab": {
          "base_uri": "https://localhost:8080/",
          "height": 50
        },
        "outputId": "74b072c8-07d0-4b60-9f29-33388a3df487"
      },
      "source": [
        "x, y = dataset.test_set()\n",
        "y = to_categorical(y, num_classes=num_classes)\n",
        "\n",
        "# Compute classification accuracy on the test set\n",
        "_, accuracy = discriminator_supervised.evaluate(x, y)\n",
        "print(\"Test Accuracy: %.2f%%\" % (100 * accuracy))"
      ],
      "execution_count": 63,
      "outputs": [
        {
          "output_type": "stream",
          "text": [
            "10000/10000 [==============================] - 1s 94us/step\n",
            "Test Accuracy: 84.15%\n"
          ],
          "name": "stdout"
        }
      ]
    },
    {
      "cell_type": "markdown",
      "metadata": {
        "id": "s1IMxeNa5IDu",
        "colab_type": "text"
      },
      "source": [
        "---"
      ]
    },
    {
      "cell_type": "markdown",
      "metadata": {
        "id": "VDMoAU1r5IDv",
        "colab_type": "text"
      },
      "source": [
        "# Fully-Supervised Classifier"
      ]
    },
    {
      "cell_type": "code",
      "metadata": {
        "id": "TA4C3_RL5IDx",
        "colab_type": "code",
        "colab": {}
      },
      "source": [
        "# Fully supervised classifier with the same network architecture as the SGAN Discriminator\n",
        "mnist_classifier = build_discriminator_supervised(build_discriminator_net(img_shape))\n",
        "mnist_classifier.compile(loss='categorical_crossentropy',\n",
        "                         metrics=['accuracy'],\n",
        "                         optimizer=Adam())"
      ],
      "execution_count": 0,
      "outputs": []
    },
    {
      "cell_type": "code",
      "metadata": {
        "id": "zlJkb5fN5ID3",
        "colab_type": "code",
        "colab": {
          "base_uri": "https://localhost:8080/",
          "height": 11777
        },
        "outputId": "5a9ab913-8ba6-4d73-d975-c13f617f87ff"
      },
      "source": [
        "imgs, labels = dataset.training_set()\n",
        "\n",
        "# One-hot encode labels\n",
        "labels = to_categorical(labels, num_classes=num_classes)\n",
        "\n",
        "# Train the classifier\n",
        "training = mnist_classifier.fit(x=imgs,\n",
        "                                y=labels,\n",
        "                                batch_size=32,\n",
        "                                epochs=350,\n",
        "                                verbose=1)\n",
        "losses = training.history['loss']\n",
        "accuracies = training.history['acc']"
      ],
      "execution_count": 58,
      "outputs": [
        {
          "output_type": "stream",
          "text": [
            "Epoch 1/350\n",
            "100/100 [==============================] - 1s 10ms/step - loss: 2.7973 - acc: 0.1400\n",
            "Epoch 2/350\n",
            "100/100 [==============================] - 0s 250us/step - loss: 1.1892 - acc: 0.5900\n",
            "Epoch 3/350\n",
            "100/100 [==============================] - 0s 242us/step - loss: 0.6483 - acc: 0.8100\n",
            "Epoch 4/350\n",
            "100/100 [==============================] - 0s 242us/step - loss: 0.4838 - acc: 0.8600\n",
            "Epoch 5/350\n",
            "100/100 [==============================] - 0s 243us/step - loss: 0.3783 - acc: 0.8900\n",
            "Epoch 6/350\n",
            "100/100 [==============================] - 0s 250us/step - loss: 0.1961 - acc: 0.9500\n",
            "Epoch 7/350\n",
            "100/100 [==============================] - 0s 246us/step - loss: 0.1762 - acc: 0.9500\n",
            "Epoch 8/350\n",
            "100/100 [==============================] - 0s 340us/step - loss: 0.1616 - acc: 0.9400\n",
            "Epoch 9/350\n",
            "100/100 [==============================] - 0s 313us/step - loss: 0.0561 - acc: 1.0000\n",
            "Epoch 10/350\n",
            "100/100 [==============================] - 0s 281us/step - loss: 0.0636 - acc: 1.0000\n",
            "Epoch 11/350\n",
            "100/100 [==============================] - 0s 276us/step - loss: 0.0787 - acc: 0.9900\n",
            "Epoch 12/350\n",
            "100/100 [==============================] - 0s 344us/step - loss: 0.0455 - acc: 1.0000\n",
            "Epoch 13/350\n",
            "100/100 [==============================] - 0s 247us/step - loss: 0.0297 - acc: 1.0000\n",
            "Epoch 14/350\n",
            "100/100 [==============================] - 0s 304us/step - loss: 0.0289 - acc: 1.0000\n",
            "Epoch 15/350\n",
            "100/100 [==============================] - 0s 277us/step - loss: 0.0283 - acc: 1.0000\n",
            "Epoch 16/350\n",
            "100/100 [==============================] - 0s 236us/step - loss: 0.0233 - acc: 1.0000\n",
            "Epoch 17/350\n",
            "100/100 [==============================] - 0s 264us/step - loss: 0.0154 - acc: 1.0000\n",
            "Epoch 18/350\n",
            "100/100 [==============================] - 0s 256us/step - loss: 0.0141 - acc: 1.0000\n",
            "Epoch 19/350\n",
            "100/100 [==============================] - 0s 258us/step - loss: 0.0127 - acc: 1.0000\n",
            "Epoch 20/350\n",
            "100/100 [==============================] - 0s 251us/step - loss: 0.0126 - acc: 1.0000\n",
            "Epoch 21/350\n",
            "100/100 [==============================] - 0s 264us/step - loss: 0.0118 - acc: 1.0000\n",
            "Epoch 22/350\n",
            "100/100 [==============================] - 0s 252us/step - loss: 0.0100 - acc: 1.0000\n",
            "Epoch 23/350\n",
            "100/100 [==============================] - 0s 262us/step - loss: 0.0065 - acc: 1.0000\n",
            "Epoch 24/350\n",
            "100/100 [==============================] - 0s 254us/step - loss: 0.0076 - acc: 1.0000\n",
            "Epoch 25/350\n",
            "100/100 [==============================] - 0s 252us/step - loss: 0.0078 - acc: 1.0000\n",
            "Epoch 26/350\n",
            "100/100 [==============================] - 0s 254us/step - loss: 0.0083 - acc: 1.0000\n",
            "Epoch 27/350\n",
            "100/100 [==============================] - 0s 251us/step - loss: 0.0076 - acc: 1.0000\n",
            "Epoch 28/350\n",
            "100/100 [==============================] - 0s 248us/step - loss: 0.0067 - acc: 1.0000\n",
            "Epoch 29/350\n",
            "100/100 [==============================] - 0s 260us/step - loss: 0.0067 - acc: 1.0000\n",
            "Epoch 30/350\n",
            "100/100 [==============================] - 0s 258us/step - loss: 0.0069 - acc: 1.0000\n",
            "Epoch 31/350\n",
            "100/100 [==============================] - 0s 247us/step - loss: 0.0055 - acc: 1.0000\n",
            "Epoch 32/350\n",
            "100/100 [==============================] - 0s 236us/step - loss: 0.0049 - acc: 1.0000\n",
            "Epoch 33/350\n",
            "100/100 [==============================] - 0s 249us/step - loss: 0.0046 - acc: 1.0000\n",
            "Epoch 34/350\n",
            "100/100 [==============================] - 0s 238us/step - loss: 0.0040 - acc: 1.0000\n",
            "Epoch 35/350\n",
            "100/100 [==============================] - 0s 239us/step - loss: 0.0044 - acc: 1.0000\n",
            "Epoch 36/350\n",
            "100/100 [==============================] - 0s 232us/step - loss: 0.0042 - acc: 1.0000\n",
            "Epoch 37/350\n",
            "100/100 [==============================] - 0s 274us/step - loss: 0.0041 - acc: 1.0000\n",
            "Epoch 38/350\n",
            "100/100 [==============================] - 0s 257us/step - loss: 0.0038 - acc: 1.0000\n",
            "Epoch 39/350\n",
            "100/100 [==============================] - 0s 238us/step - loss: 0.0031 - acc: 1.0000\n",
            "Epoch 40/350\n",
            "100/100 [==============================] - 0s 253us/step - loss: 0.0022 - acc: 1.0000\n",
            "Epoch 41/350\n",
            "100/100 [==============================] - 0s 237us/step - loss: 0.0036 - acc: 1.0000\n",
            "Epoch 42/350\n",
            "100/100 [==============================] - 0s 232us/step - loss: 0.0029 - acc: 1.0000\n",
            "Epoch 43/350\n",
            "100/100 [==============================] - 0s 245us/step - loss: 0.0027 - acc: 1.0000\n",
            "Epoch 44/350\n",
            "100/100 [==============================] - 0s 255us/step - loss: 0.0022 - acc: 1.0000\n",
            "Epoch 45/350\n",
            "100/100 [==============================] - 0s 274us/step - loss: 0.0031 - acc: 1.0000\n",
            "Epoch 46/350\n",
            "100/100 [==============================] - 0s 252us/step - loss: 0.0023 - acc: 1.0000\n",
            "Epoch 47/350\n",
            "100/100 [==============================] - 0s 240us/step - loss: 0.0027 - acc: 1.0000\n",
            "Epoch 48/350\n",
            "100/100 [==============================] - 0s 254us/step - loss: 0.0021 - acc: 1.0000\n",
            "Epoch 49/350\n",
            "100/100 [==============================] - 0s 226us/step - loss: 0.0040 - acc: 1.0000\n",
            "Epoch 50/350\n",
            "100/100 [==============================] - 0s 248us/step - loss: 0.0024 - acc: 1.0000\n",
            "Epoch 51/350\n",
            "100/100 [==============================] - 0s 235us/step - loss: 0.0022 - acc: 1.0000\n",
            "Epoch 52/350\n",
            "100/100 [==============================] - 0s 240us/step - loss: 0.0022 - acc: 1.0000\n",
            "Epoch 53/350\n",
            "100/100 [==============================] - 0s 312us/step - loss: 0.0020 - acc: 1.0000\n",
            "Epoch 54/350\n",
            "100/100 [==============================] - 0s 290us/step - loss: 0.0022 - acc: 1.0000\n",
            "Epoch 55/350\n",
            "100/100 [==============================] - 0s 226us/step - loss: 0.0022 - acc: 1.0000\n",
            "Epoch 56/350\n",
            "100/100 [==============================] - 0s 255us/step - loss: 0.0017 - acc: 1.0000\n",
            "Epoch 57/350\n",
            "100/100 [==============================] - 0s 242us/step - loss: 0.0031 - acc: 1.0000\n",
            "Epoch 58/350\n",
            "100/100 [==============================] - 0s 232us/step - loss: 0.0037 - acc: 1.0000\n",
            "Epoch 59/350\n",
            "100/100 [==============================] - 0s 231us/step - loss: 0.0015 - acc: 1.0000\n",
            "Epoch 60/350\n",
            "100/100 [==============================] - 0s 233us/step - loss: 0.0019 - acc: 1.0000\n",
            "Epoch 61/350\n",
            "100/100 [==============================] - 0s 236us/step - loss: 0.0015 - acc: 1.0000\n",
            "Epoch 62/350\n",
            "100/100 [==============================] - 0s 239us/step - loss: 0.0019 - acc: 1.0000\n",
            "Epoch 63/350\n",
            "100/100 [==============================] - 0s 261us/step - loss: 0.0049 - acc: 1.0000\n",
            "Epoch 64/350\n",
            "100/100 [==============================] - 0s 291us/step - loss: 0.0020 - acc: 1.0000\n",
            "Epoch 65/350\n",
            "100/100 [==============================] - 0s 230us/step - loss: 0.0122 - acc: 1.0000\n",
            "Epoch 66/350\n",
            "100/100 [==============================] - 0s 235us/step - loss: 0.0130 - acc: 0.9900\n",
            "Epoch 67/350\n",
            "100/100 [==============================] - 0s 232us/step - loss: 0.0027 - acc: 1.0000\n",
            "Epoch 68/350\n",
            "100/100 [==============================] - 0s 229us/step - loss: 0.0024 - acc: 1.0000\n",
            "Epoch 69/350\n",
            "100/100 [==============================] - 0s 233us/step - loss: 0.0024 - acc: 1.0000\n",
            "Epoch 70/350\n",
            "100/100 [==============================] - 0s 252us/step - loss: 0.0024 - acc: 1.0000\n",
            "Epoch 71/350\n",
            "100/100 [==============================] - 0s 248us/step - loss: 0.0035 - acc: 1.0000\n",
            "Epoch 72/350\n",
            "100/100 [==============================] - 0s 233us/step - loss: 0.0022 - acc: 1.0000\n",
            "Epoch 73/350\n",
            "100/100 [==============================] - 0s 262us/step - loss: 0.0040 - acc: 1.0000\n",
            "Epoch 74/350\n",
            "100/100 [==============================] - 0s 274us/step - loss: 0.0021 - acc: 1.0000\n",
            "Epoch 75/350\n",
            "100/100 [==============================] - 0s 278us/step - loss: 0.0022 - acc: 1.0000\n",
            "Epoch 76/350\n",
            "100/100 [==============================] - 0s 245us/step - loss: 0.0021 - acc: 1.0000\n",
            "Epoch 77/350\n",
            "100/100 [==============================] - 0s 242us/step - loss: 0.0017 - acc: 1.0000\n",
            "Epoch 78/350\n",
            "100/100 [==============================] - 0s 238us/step - loss: 0.0017 - acc: 1.0000\n",
            "Epoch 79/350\n",
            "100/100 [==============================] - 0s 240us/step - loss: 0.0014 - acc: 1.0000\n",
            "Epoch 80/350\n",
            "100/100 [==============================] - 0s 239us/step - loss: 0.0010 - acc: 1.0000\n",
            "Epoch 81/350\n",
            "100/100 [==============================] - 0s 279us/step - loss: 0.0011 - acc: 1.0000\n",
            "Epoch 82/350\n",
            "100/100 [==============================] - 0s 240us/step - loss: 0.0015 - acc: 1.0000\n",
            "Epoch 83/350\n",
            "100/100 [==============================] - 0s 291us/step - loss: 0.0012 - acc: 1.0000\n",
            "Epoch 84/350\n",
            "100/100 [==============================] - 0s 243us/step - loss: 0.0019 - acc: 1.0000\n",
            "Epoch 85/350\n",
            "100/100 [==============================] - 0s 246us/step - loss: 0.0010 - acc: 1.0000\n",
            "Epoch 86/350\n",
            "100/100 [==============================] - 0s 244us/step - loss: 0.0011 - acc: 1.0000\n",
            "Epoch 87/350\n",
            "100/100 [==============================] - 0s 257us/step - loss: 0.0015 - acc: 1.0000\n",
            "Epoch 88/350\n",
            "100/100 [==============================] - 0s 269us/step - loss: 0.0019 - acc: 1.0000\n",
            "Epoch 89/350\n",
            "100/100 [==============================] - 0s 250us/step - loss: 9.5098e-04 - acc: 1.0000\n",
            "Epoch 90/350\n",
            "100/100 [==============================] - 0s 242us/step - loss: 0.0010 - acc: 1.0000\n",
            "Epoch 91/350\n",
            "100/100 [==============================] - 0s 245us/step - loss: 0.0010 - acc: 1.0000\n",
            "Epoch 92/350\n",
            "100/100 [==============================] - 0s 235us/step - loss: 9.5642e-04 - acc: 1.0000\n",
            "Epoch 93/350\n",
            "100/100 [==============================] - 0s 305us/step - loss: 0.0012 - acc: 1.0000\n",
            "Epoch 94/350\n",
            "100/100 [==============================] - 0s 266us/step - loss: 8.4004e-04 - acc: 1.0000\n",
            "Epoch 95/350\n",
            "100/100 [==============================] - 0s 235us/step - loss: 7.3272e-04 - acc: 1.0000\n",
            "Epoch 96/350\n",
            "100/100 [==============================] - 0s 236us/step - loss: 8.9021e-04 - acc: 1.0000\n",
            "Epoch 97/350\n",
            "100/100 [==============================] - 0s 233us/step - loss: 6.9794e-04 - acc: 1.0000\n",
            "Epoch 98/350\n",
            "100/100 [==============================] - 0s 234us/step - loss: 0.0011 - acc: 1.0000\n",
            "Epoch 99/350\n",
            "100/100 [==============================] - 0s 232us/step - loss: 7.6476e-04 - acc: 1.0000\n",
            "Epoch 100/350\n",
            "100/100 [==============================] - 0s 238us/step - loss: 0.0011 - acc: 1.0000\n",
            "Epoch 101/350\n",
            "100/100 [==============================] - 0s 248us/step - loss: 9.7873e-04 - acc: 1.0000\n",
            "Epoch 102/350\n",
            "100/100 [==============================] - 0s 254us/step - loss: 0.0011 - acc: 1.0000\n",
            "Epoch 103/350\n",
            "100/100 [==============================] - 0s 253us/step - loss: 6.7243e-04 - acc: 1.0000\n",
            "Epoch 104/350\n",
            "100/100 [==============================] - 0s 252us/step - loss: 6.1165e-04 - acc: 1.0000\n",
            "Epoch 105/350\n",
            "100/100 [==============================] - 0s 265us/step - loss: 7.9693e-04 - acc: 1.0000\n",
            "Epoch 106/350\n",
            "100/100 [==============================] - 0s 231us/step - loss: 0.0012 - acc: 1.0000\n",
            "Epoch 107/350\n",
            "100/100 [==============================] - 0s 240us/step - loss: 6.7409e-04 - acc: 1.0000\n",
            "Epoch 108/350\n",
            "100/100 [==============================] - 0s 240us/step - loss: 6.0871e-04 - acc: 1.0000\n",
            "Epoch 109/350\n",
            "100/100 [==============================] - 0s 233us/step - loss: 7.4668e-04 - acc: 1.0000\n",
            "Epoch 110/350\n",
            "100/100 [==============================] - 0s 251us/step - loss: 6.9371e-04 - acc: 1.0000\n",
            "Epoch 111/350\n",
            "100/100 [==============================] - 0s 265us/step - loss: 8.7665e-04 - acc: 1.0000\n",
            "Epoch 112/350\n",
            "100/100 [==============================] - 0s 250us/step - loss: 5.8444e-04 - acc: 1.0000\n",
            "Epoch 113/350\n",
            "100/100 [==============================] - 0s 246us/step - loss: 9.5741e-04 - acc: 1.0000\n",
            "Epoch 114/350\n",
            "100/100 [==============================] - 0s 250us/step - loss: 7.0150e-04 - acc: 1.0000\n",
            "Epoch 115/350\n",
            "100/100 [==============================] - 0s 232us/step - loss: 7.7634e-04 - acc: 1.0000\n",
            "Epoch 116/350\n",
            "100/100 [==============================] - 0s 237us/step - loss: 3.4792e-04 - acc: 1.0000\n",
            "Epoch 117/350\n",
            "100/100 [==============================] - 0s 234us/step - loss: 4.7377e-04 - acc: 1.0000\n",
            "Epoch 118/350\n",
            "100/100 [==============================] - 0s 235us/step - loss: 3.3973e-04 - acc: 1.0000\n",
            "Epoch 119/350\n",
            "100/100 [==============================] - 0s 250us/step - loss: 8.0334e-04 - acc: 1.0000\n",
            "Epoch 120/350\n",
            "100/100 [==============================] - 0s 273us/step - loss: 3.5209e-04 - acc: 1.0000\n",
            "Epoch 121/350\n",
            "100/100 [==============================] - 0s 273us/step - loss: 6.5584e-04 - acc: 1.0000\n",
            "Epoch 122/350\n",
            "100/100 [==============================] - 0s 264us/step - loss: 6.7544e-04 - acc: 1.0000\n",
            "Epoch 123/350\n",
            "100/100 [==============================] - 0s 237us/step - loss: 3.7904e-04 - acc: 1.0000\n",
            "Epoch 124/350\n",
            "100/100 [==============================] - 0s 235us/step - loss: 4.5591e-04 - acc: 1.0000\n",
            "Epoch 125/350\n",
            "100/100 [==============================] - 0s 243us/step - loss: 5.4863e-04 - acc: 1.0000\n",
            "Epoch 126/350\n",
            "100/100 [==============================] - 0s 235us/step - loss: 5.4376e-04 - acc: 1.0000\n",
            "Epoch 127/350\n",
            "100/100 [==============================] - 0s 266us/step - loss: 3.5856e-04 - acc: 1.0000\n",
            "Epoch 128/350\n",
            "100/100 [==============================] - 0s 252us/step - loss: 6.6401e-04 - acc: 1.0000\n",
            "Epoch 129/350\n",
            "100/100 [==============================] - 0s 243us/step - loss: 5.1614e-04 - acc: 1.0000\n",
            "Epoch 130/350\n",
            "100/100 [==============================] - 0s 246us/step - loss: 4.1316e-04 - acc: 1.0000\n",
            "Epoch 131/350\n",
            "100/100 [==============================] - 0s 244us/step - loss: 6.4592e-04 - acc: 1.0000\n",
            "Epoch 132/350\n",
            "100/100 [==============================] - 0s 238us/step - loss: 5.3718e-04 - acc: 1.0000\n",
            "Epoch 133/350\n",
            "100/100 [==============================] - 0s 303us/step - loss: 4.2336e-04 - acc: 1.0000\n",
            "Epoch 134/350\n",
            "100/100 [==============================] - 0s 243us/step - loss: 7.9739e-04 - acc: 1.0000\n",
            "Epoch 135/350\n",
            "100/100 [==============================] - 0s 249us/step - loss: 5.0378e-04 - acc: 1.0000\n",
            "Epoch 136/350\n",
            "100/100 [==============================] - 0s 235us/step - loss: 8.3150e-04 - acc: 1.0000\n",
            "Epoch 137/350\n",
            "100/100 [==============================] - 0s 237us/step - loss: 2.5221e-04 - acc: 1.0000\n",
            "Epoch 138/350\n",
            "100/100 [==============================] - 0s 239us/step - loss: 4.0789e-04 - acc: 1.0000\n",
            "Epoch 139/350\n",
            "100/100 [==============================] - 0s 230us/step - loss: 4.8228e-04 - acc: 1.0000\n",
            "Epoch 140/350\n",
            "100/100 [==============================] - 0s 234us/step - loss: 3.1154e-04 - acc: 1.0000\n",
            "Epoch 141/350\n",
            "100/100 [==============================] - 0s 232us/step - loss: 5.3972e-04 - acc: 1.0000\n",
            "Epoch 142/350\n",
            "100/100 [==============================] - 0s 271us/step - loss: 6.2274e-04 - acc: 1.0000\n",
            "Epoch 143/350\n",
            "100/100 [==============================] - 0s 250us/step - loss: 6.3069e-04 - acc: 1.0000\n",
            "Epoch 144/350\n",
            "100/100 [==============================] - 0s 255us/step - loss: 5.8543e-04 - acc: 1.0000\n",
            "Epoch 145/350\n",
            "100/100 [==============================] - 0s 270us/step - loss: 3.2438e-04 - acc: 1.0000\n",
            "Epoch 146/350\n",
            "100/100 [==============================] - 0s 249us/step - loss: 5.5717e-04 - acc: 1.0000\n",
            "Epoch 147/350\n",
            "100/100 [==============================] - 0s 236us/step - loss: 4.5152e-04 - acc: 1.0000\n",
            "Epoch 148/350\n",
            "100/100 [==============================] - 0s 240us/step - loss: 3.8942e-04 - acc: 1.0000\n",
            "Epoch 149/350\n",
            "100/100 [==============================] - 0s 242us/step - loss: 4.4878e-04 - acc: 1.0000\n",
            "Epoch 150/350\n",
            "100/100 [==============================] - 0s 290us/step - loss: 4.2617e-04 - acc: 1.0000\n",
            "Epoch 151/350\n",
            "100/100 [==============================] - 0s 250us/step - loss: 4.0427e-04 - acc: 1.0000\n",
            "Epoch 152/350\n",
            "100/100 [==============================] - 0s 257us/step - loss: 4.4972e-04 - acc: 1.0000\n",
            "Epoch 153/350\n",
            "100/100 [==============================] - 0s 257us/step - loss: 5.4856e-04 - acc: 1.0000\n",
            "Epoch 154/350\n",
            "100/100 [==============================] - 0s 239us/step - loss: 4.3151e-04 - acc: 1.0000\n",
            "Epoch 155/350\n",
            "100/100 [==============================] - 0s 249us/step - loss: 3.0375e-04 - acc: 1.0000\n",
            "Epoch 156/350\n",
            "100/100 [==============================] - 0s 248us/step - loss: 2.2023e-04 - acc: 1.0000\n",
            "Epoch 157/350\n",
            "100/100 [==============================] - 0s 250us/step - loss: 4.1812e-04 - acc: 1.0000\n",
            "Epoch 158/350\n",
            "100/100 [==============================] - 0s 246us/step - loss: 4.3270e-04 - acc: 1.0000\n",
            "Epoch 159/350\n",
            "100/100 [==============================] - 0s 238us/step - loss: 3.8204e-04 - acc: 1.0000\n",
            "Epoch 160/350\n",
            "100/100 [==============================] - 0s 239us/step - loss: 3.6474e-04 - acc: 1.0000\n",
            "Epoch 161/350\n",
            "100/100 [==============================] - 0s 268us/step - loss: 5.8169e-04 - acc: 1.0000\n",
            "Epoch 162/350\n",
            "100/100 [==============================] - 0s 234us/step - loss: 3.0138e-04 - acc: 1.0000\n",
            "Epoch 163/350\n",
            "100/100 [==============================] - 0s 236us/step - loss: 2.4901e-04 - acc: 1.0000\n",
            "Epoch 164/350\n",
            "100/100 [==============================] - 0s 245us/step - loss: 2.7244e-04 - acc: 1.0000\n",
            "Epoch 165/350\n",
            "100/100 [==============================] - 0s 245us/step - loss: 4.6752e-04 - acc: 1.0000\n",
            "Epoch 166/350\n",
            "100/100 [==============================] - 0s 232us/step - loss: 4.1772e-04 - acc: 1.0000\n",
            "Epoch 167/350\n",
            "100/100 [==============================] - 0s 256us/step - loss: 3.4067e-04 - acc: 1.0000\n",
            "Epoch 168/350\n",
            "100/100 [==============================] - 0s 252us/step - loss: 3.3339e-04 - acc: 1.0000\n",
            "Epoch 169/350\n",
            "100/100 [==============================] - 0s 253us/step - loss: 3.9332e-04 - acc: 1.0000\n",
            "Epoch 170/350\n",
            "100/100 [==============================] - 0s 257us/step - loss: 2.8016e-04 - acc: 1.0000\n",
            "Epoch 171/350\n",
            "100/100 [==============================] - 0s 232us/step - loss: 3.9663e-04 - acc: 1.0000\n",
            "Epoch 172/350\n",
            "100/100 [==============================] - 0s 238us/step - loss: 4.7962e-04 - acc: 1.0000\n",
            "Epoch 173/350\n",
            "100/100 [==============================] - 0s 319us/step - loss: 3.3730e-04 - acc: 1.0000\n",
            "Epoch 174/350\n",
            "100/100 [==============================] - 0s 250us/step - loss: 3.0650e-04 - acc: 1.0000\n",
            "Epoch 175/350\n",
            "100/100 [==============================] - 0s 256us/step - loss: 3.2658e-04 - acc: 1.0000\n",
            "Epoch 176/350\n",
            "100/100 [==============================] - 0s 264us/step - loss: 2.0163e-04 - acc: 1.0000\n",
            "Epoch 177/350\n",
            "100/100 [==============================] - 0s 251us/step - loss: 2.8992e-04 - acc: 1.0000\n",
            "Epoch 178/350\n",
            "100/100 [==============================] - 0s 252us/step - loss: 2.9455e-04 - acc: 1.0000\n",
            "Epoch 179/350\n",
            "100/100 [==============================] - 0s 247us/step - loss: 2.3471e-04 - acc: 1.0000\n",
            "Epoch 180/350\n",
            "100/100 [==============================] - 0s 249us/step - loss: 1.9267e-04 - acc: 1.0000\n",
            "Epoch 181/350\n",
            "100/100 [==============================] - 0s 234us/step - loss: 2.5383e-04 - acc: 1.0000\n",
            "Epoch 182/350\n",
            "100/100 [==============================] - 0s 234us/step - loss: 1.9620e-04 - acc: 1.0000\n",
            "Epoch 183/350\n",
            "100/100 [==============================] - 0s 237us/step - loss: 2.9338e-04 - acc: 1.0000\n",
            "Epoch 184/350\n",
            "100/100 [==============================] - 0s 230us/step - loss: 3.0401e-04 - acc: 1.0000\n",
            "Epoch 185/350\n",
            "100/100 [==============================] - 0s 259us/step - loss: 2.9668e-04 - acc: 1.0000\n",
            "Epoch 186/350\n",
            "100/100 [==============================] - 0s 256us/step - loss: 2.4589e-04 - acc: 1.0000\n",
            "Epoch 187/350\n",
            "100/100 [==============================] - 0s 255us/step - loss: 2.2772e-04 - acc: 1.0000\n",
            "Epoch 188/350\n",
            "100/100 [==============================] - 0s 271us/step - loss: 2.4316e-04 - acc: 1.0000\n",
            "Epoch 189/350\n",
            "100/100 [==============================] - 0s 237us/step - loss: 3.0926e-04 - acc: 1.0000\n",
            "Epoch 190/350\n",
            "100/100 [==============================] - 0s 238us/step - loss: 1.9074e-04 - acc: 1.0000\n",
            "Epoch 191/350\n",
            "100/100 [==============================] - 0s 283us/step - loss: 1.5423e-04 - acc: 1.0000\n",
            "Epoch 192/350\n",
            "100/100 [==============================] - 0s 270us/step - loss: 2.9697e-04 - acc: 1.0000\n",
            "Epoch 193/350\n",
            "100/100 [==============================] - 0s 240us/step - loss: 1.6900e-04 - acc: 1.0000\n",
            "Epoch 194/350\n",
            "100/100 [==============================] - 0s 242us/step - loss: 3.8251e-04 - acc: 1.0000\n",
            "Epoch 195/350\n",
            "100/100 [==============================] - 0s 243us/step - loss: 2.4385e-04 - acc: 1.0000\n",
            "Epoch 196/350\n",
            "100/100 [==============================] - 0s 247us/step - loss: 2.0080e-04 - acc: 1.0000\n",
            "Epoch 197/350\n",
            "100/100 [==============================] - 0s 240us/step - loss: 2.9917e-04 - acc: 1.0000\n",
            "Epoch 198/350\n",
            "100/100 [==============================] - 0s 234us/step - loss: 2.6684e-04 - acc: 1.0000\n",
            "Epoch 199/350\n",
            "100/100 [==============================] - 0s 235us/step - loss: 1.5505e-04 - acc: 1.0000\n",
            "Epoch 200/350\n",
            "100/100 [==============================] - 0s 232us/step - loss: 1.2827e-04 - acc: 1.0000\n",
            "Epoch 201/350\n",
            "100/100 [==============================] - 0s 261us/step - loss: 4.0488e-04 - acc: 1.0000\n",
            "Epoch 202/350\n",
            "100/100 [==============================] - 0s 263us/step - loss: 1.7699e-04 - acc: 1.0000\n",
            "Epoch 203/350\n",
            "100/100 [==============================] - 0s 230us/step - loss: 1.9114e-04 - acc: 1.0000\n",
            "Epoch 204/350\n",
            "100/100 [==============================] - 0s 249us/step - loss: 3.0014e-04 - acc: 1.0000\n",
            "Epoch 205/350\n",
            "100/100 [==============================] - 0s 233us/step - loss: 3.1554e-04 - acc: 1.0000\n",
            "Epoch 206/350\n",
            "100/100 [==============================] - 0s 270us/step - loss: 1.9416e-04 - acc: 1.0000\n",
            "Epoch 207/350\n",
            "100/100 [==============================] - 0s 238us/step - loss: 1.6463e-04 - acc: 1.0000\n",
            "Epoch 208/350\n",
            "100/100 [==============================] - 0s 237us/step - loss: 3.0102e-04 - acc: 1.0000\n",
            "Epoch 209/350\n",
            "100/100 [==============================] - 0s 251us/step - loss: 2.1608e-04 - acc: 1.0000\n",
            "Epoch 210/350\n",
            "100/100 [==============================] - 0s 256us/step - loss: 1.1518e-04 - acc: 1.0000\n",
            "Epoch 211/350\n",
            "100/100 [==============================] - 0s 243us/step - loss: 1.5139e-04 - acc: 1.0000\n",
            "Epoch 212/350\n",
            "100/100 [==============================] - 0s 266us/step - loss: 2.3480e-04 - acc: 1.0000\n",
            "Epoch 213/350\n",
            "100/100 [==============================] - 0s 334us/step - loss: 2.9343e-04 - acc: 1.0000\n",
            "Epoch 214/350\n",
            "100/100 [==============================] - 0s 234us/step - loss: 2.8225e-04 - acc: 1.0000\n",
            "Epoch 215/350\n",
            "100/100 [==============================] - 0s 239us/step - loss: 3.8734e-04 - acc: 1.0000\n",
            "Epoch 216/350\n",
            "100/100 [==============================] - 0s 236us/step - loss: 1.6990e-04 - acc: 1.0000\n",
            "Epoch 217/350\n",
            "100/100 [==============================] - 0s 235us/step - loss: 2.3163e-04 - acc: 1.0000\n",
            "Epoch 218/350\n",
            "100/100 [==============================] - 0s 233us/step - loss: 2.1750e-04 - acc: 1.0000\n",
            "Epoch 219/350\n",
            "100/100 [==============================] - 0s 236us/step - loss: 1.2675e-04 - acc: 1.0000\n",
            "Epoch 220/350\n",
            "100/100 [==============================] - 0s 260us/step - loss: 2.5116e-04 - acc: 1.0000\n",
            "Epoch 221/350\n",
            "100/100 [==============================] - 0s 234us/step - loss: 2.4455e-04 - acc: 1.0000\n",
            "Epoch 222/350\n",
            "100/100 [==============================] - 0s 268us/step - loss: 1.9341e-04 - acc: 1.0000\n",
            "Epoch 223/350\n",
            "100/100 [==============================] - 0s 330us/step - loss: 2.1837e-04 - acc: 1.0000\n",
            "Epoch 224/350\n",
            "100/100 [==============================] - 0s 244us/step - loss: 2.0092e-04 - acc: 1.0000\n",
            "Epoch 225/350\n",
            "100/100 [==============================] - 0s 257us/step - loss: 3.4497e-04 - acc: 1.0000\n",
            "Epoch 226/350\n",
            "100/100 [==============================] - 0s 246us/step - loss: 2.5231e-04 - acc: 1.0000\n",
            "Epoch 227/350\n",
            "100/100 [==============================] - 0s 238us/step - loss: 3.0375e-04 - acc: 1.0000\n",
            "Epoch 228/350\n",
            "100/100 [==============================] - 0s 238us/step - loss: 1.9733e-04 - acc: 1.0000\n",
            "Epoch 229/350\n",
            "100/100 [==============================] - 0s 249us/step - loss: 2.5678e-04 - acc: 1.0000\n",
            "Epoch 230/350\n",
            "100/100 [==============================] - 0s 237us/step - loss: 2.8661e-04 - acc: 1.0000\n",
            "Epoch 231/350\n",
            "100/100 [==============================] - 0s 287us/step - loss: 2.0753e-04 - acc: 1.0000\n",
            "Epoch 232/350\n",
            "100/100 [==============================] - 0s 258us/step - loss: 1.9623e-04 - acc: 1.0000\n",
            "Epoch 233/350\n",
            "100/100 [==============================] - 0s 237us/step - loss: 1.7377e-04 - acc: 1.0000\n",
            "Epoch 234/350\n",
            "100/100 [==============================] - 0s 247us/step - loss: 1.8504e-04 - acc: 1.0000\n",
            "Epoch 235/350\n",
            "100/100 [==============================] - 0s 238us/step - loss: 1.9522e-04 - acc: 1.0000\n",
            "Epoch 236/350\n",
            "100/100 [==============================] - 0s 243us/step - loss: 1.4364e-04 - acc: 1.0000\n",
            "Epoch 237/350\n",
            "100/100 [==============================] - 0s 241us/step - loss: 2.5313e-04 - acc: 1.0000\n",
            "Epoch 238/350\n",
            "100/100 [==============================] - 0s 297us/step - loss: 3.7215e-04 - acc: 1.0000\n",
            "Epoch 239/350\n",
            "100/100 [==============================] - 0s 252us/step - loss: 1.3131e-04 - acc: 1.0000\n",
            "Epoch 240/350\n",
            "100/100 [==============================] - 0s 250us/step - loss: 4.4829e-04 - acc: 1.0000\n",
            "Epoch 241/350\n",
            "100/100 [==============================] - 0s 246us/step - loss: 1.5040e-04 - acc: 1.0000\n",
            "Epoch 242/350\n",
            "100/100 [==============================] - 0s 287us/step - loss: 2.6488e-04 - acc: 1.0000\n",
            "Epoch 243/350\n",
            "100/100 [==============================] - 0s 238us/step - loss: 1.2787e-04 - acc: 1.0000\n",
            "Epoch 244/350\n",
            "100/100 [==============================] - 0s 239us/step - loss: 1.3410e-04 - acc: 1.0000\n",
            "Epoch 245/350\n",
            "100/100 [==============================] - 0s 253us/step - loss: 1.8617e-04 - acc: 1.0000\n",
            "Epoch 246/350\n",
            "100/100 [==============================] - 0s 245us/step - loss: 2.0264e-04 - acc: 1.0000\n",
            "Epoch 247/350\n",
            "100/100 [==============================] - 0s 244us/step - loss: 1.5785e-04 - acc: 1.0000\n",
            "Epoch 248/350\n",
            "100/100 [==============================] - 0s 247us/step - loss: 2.1720e-04 - acc: 1.0000\n",
            "Epoch 249/350\n",
            "100/100 [==============================] - 0s 258us/step - loss: 1.9095e-04 - acc: 1.0000\n",
            "Epoch 250/350\n",
            "100/100 [==============================] - 0s 240us/step - loss: 1.3403e-04 - acc: 1.0000\n",
            "Epoch 251/350\n",
            "100/100 [==============================] - 0s 259us/step - loss: 1.1955e-04 - acc: 1.0000\n",
            "Epoch 252/350\n",
            "100/100 [==============================] - 0s 343us/step - loss: 2.1826e-04 - acc: 1.0000\n",
            "Epoch 253/350\n",
            "100/100 [==============================] - 0s 237us/step - loss: 1.6817e-04 - acc: 1.0000\n",
            "Epoch 254/350\n",
            "100/100 [==============================] - 0s 238us/step - loss: 1.4327e-04 - acc: 1.0000\n",
            "Epoch 255/350\n",
            "100/100 [==============================] - 0s 235us/step - loss: 1.2284e-04 - acc: 1.0000\n",
            "Epoch 256/350\n",
            "100/100 [==============================] - 0s 260us/step - loss: 1.7028e-04 - acc: 1.0000\n",
            "Epoch 257/350\n",
            "100/100 [==============================] - 0s 251us/step - loss: 1.4864e-04 - acc: 1.0000\n",
            "Epoch 258/350\n",
            "100/100 [==============================] - 0s 239us/step - loss: 1.6052e-04 - acc: 1.0000\n",
            "Epoch 259/350\n",
            "100/100 [==============================] - 0s 272us/step - loss: 1.9280e-04 - acc: 1.0000\n",
            "Epoch 260/350\n",
            "100/100 [==============================] - 0s 240us/step - loss: 1.1538e-04 - acc: 1.0000\n",
            "Epoch 261/350\n",
            "100/100 [==============================] - 0s 268us/step - loss: 2.5495e-04 - acc: 1.0000\n",
            "Epoch 262/350\n",
            "100/100 [==============================] - 0s 235us/step - loss: 1.7442e-04 - acc: 1.0000\n",
            "Epoch 263/350\n",
            "100/100 [==============================] - 0s 232us/step - loss: 2.9062e-04 - acc: 1.0000\n",
            "Epoch 264/350\n",
            "100/100 [==============================] - 0s 231us/step - loss: 1.3784e-04 - acc: 1.0000\n",
            "Epoch 265/350\n",
            "100/100 [==============================] - 0s 240us/step - loss: 1.7719e-04 - acc: 1.0000\n",
            "Epoch 266/350\n",
            "100/100 [==============================] - 0s 239us/step - loss: 1.6606e-04 - acc: 1.0000\n",
            "Epoch 267/350\n",
            "100/100 [==============================] - 0s 247us/step - loss: 1.5322e-04 - acc: 1.0000\n",
            "Epoch 268/350\n",
            "100/100 [==============================] - 0s 266us/step - loss: 1.3338e-04 - acc: 1.0000\n",
            "Epoch 269/350\n",
            "100/100 [==============================] - 0s 262us/step - loss: 1.5637e-04 - acc: 1.0000\n",
            "Epoch 270/350\n",
            "100/100 [==============================] - 0s 258us/step - loss: 1.4229e-04 - acc: 1.0000\n",
            "Epoch 271/350\n",
            "100/100 [==============================] - 0s 237us/step - loss: 1.7814e-04 - acc: 1.0000\n",
            "Epoch 272/350\n",
            "100/100 [==============================] - 0s 230us/step - loss: 9.9542e-05 - acc: 1.0000\n",
            "Epoch 273/350\n",
            "100/100 [==============================] - 0s 231us/step - loss: 1.4702e-04 - acc: 1.0000\n",
            "Epoch 274/350\n",
            "100/100 [==============================] - 0s 234us/step - loss: 1.2432e-04 - acc: 1.0000\n",
            "Epoch 275/350\n",
            "100/100 [==============================] - 0s 277us/step - loss: 1.0641e-04 - acc: 1.0000\n",
            "Epoch 276/350\n",
            "100/100 [==============================] - 0s 292us/step - loss: 1.9584e-04 - acc: 1.0000\n",
            "Epoch 277/350\n",
            "100/100 [==============================] - 0s 240us/step - loss: 2.6216e-04 - acc: 1.0000\n",
            "Epoch 278/350\n",
            "100/100 [==============================] - 0s 262us/step - loss: 1.8131e-04 - acc: 1.0000\n",
            "Epoch 279/350\n",
            "100/100 [==============================] - 0s 280us/step - loss: 1.8620e-04 - acc: 1.0000\n",
            "Epoch 280/350\n",
            "100/100 [==============================] - 0s 294us/step - loss: 2.0860e-04 - acc: 1.0000\n",
            "Epoch 281/350\n",
            "100/100 [==============================] - 0s 290us/step - loss: 1.3759e-04 - acc: 1.0000\n",
            "Epoch 282/350\n",
            "100/100 [==============================] - 0s 291us/step - loss: 1.5932e-04 - acc: 1.0000\n",
            "Epoch 283/350\n",
            "100/100 [==============================] - 0s 243us/step - loss: 1.2771e-04 - acc: 1.0000\n",
            "Epoch 284/350\n",
            "100/100 [==============================] - 0s 309us/step - loss: 2.2416e-04 - acc: 1.0000\n",
            "Epoch 285/350\n",
            "100/100 [==============================] - 0s 240us/step - loss: 1.3988e-04 - acc: 1.0000\n",
            "Epoch 286/350\n",
            "100/100 [==============================] - 0s 243us/step - loss: 1.2086e-04 - acc: 1.0000\n",
            "Epoch 287/350\n",
            "100/100 [==============================] - 0s 247us/step - loss: 1.2166e-04 - acc: 1.0000\n",
            "Epoch 288/350\n",
            "100/100 [==============================] - 0s 231us/step - loss: 8.6083e-05 - acc: 1.0000\n",
            "Epoch 289/350\n",
            "100/100 [==============================] - 0s 242us/step - loss: 1.3499e-04 - acc: 1.0000\n",
            "Epoch 290/350\n",
            "100/100 [==============================] - 0s 315us/step - loss: 1.7357e-04 - acc: 1.0000\n",
            "Epoch 291/350\n",
            "100/100 [==============================] - 0s 286us/step - loss: 1.2550e-04 - acc: 1.0000\n",
            "Epoch 292/350\n",
            "100/100 [==============================] - 0s 240us/step - loss: 1.2716e-04 - acc: 1.0000\n",
            "Epoch 293/350\n",
            "100/100 [==============================] - 0s 235us/step - loss: 1.0964e-04 - acc: 1.0000\n",
            "Epoch 294/350\n",
            "100/100 [==============================] - 0s 234us/step - loss: 1.0785e-04 - acc: 1.0000\n",
            "Epoch 295/350\n",
            "100/100 [==============================] - 0s 295us/step - loss: 1.5709e-04 - acc: 1.0000\n",
            "Epoch 296/350\n",
            "100/100 [==============================] - 0s 243us/step - loss: 1.0229e-04 - acc: 1.0000\n",
            "Epoch 297/350\n",
            "100/100 [==============================] - 0s 239us/step - loss: 1.4368e-04 - acc: 1.0000\n",
            "Epoch 298/350\n",
            "100/100 [==============================] - 0s 237us/step - loss: 8.5347e-05 - acc: 1.0000\n",
            "Epoch 299/350\n",
            "100/100 [==============================] - 0s 237us/step - loss: 1.6772e-04 - acc: 1.0000\n",
            "Epoch 300/350\n",
            "100/100 [==============================] - 0s 266us/step - loss: 1.0321e-04 - acc: 1.0000\n",
            "Epoch 301/350\n",
            "100/100 [==============================] - 0s 231us/step - loss: 1.0571e-04 - acc: 1.0000\n",
            "Epoch 302/350\n",
            "100/100 [==============================] - 0s 242us/step - loss: 1.1909e-04 - acc: 1.0000\n",
            "Epoch 303/350\n",
            "100/100 [==============================] - 0s 232us/step - loss: 9.5442e-05 - acc: 1.0000\n",
            "Epoch 304/350\n",
            "100/100 [==============================] - 0s 280us/step - loss: 1.1794e-04 - acc: 1.0000\n",
            "Epoch 305/350\n",
            "100/100 [==============================] - 0s 251us/step - loss: 1.0609e-04 - acc: 1.0000\n",
            "Epoch 306/350\n",
            "100/100 [==============================] - 0s 290us/step - loss: 1.8754e-04 - acc: 1.0000\n",
            "Epoch 307/350\n",
            "100/100 [==============================] - 0s 239us/step - loss: 1.7762e-04 - acc: 1.0000\n",
            "Epoch 308/350\n",
            "100/100 [==============================] - 0s 244us/step - loss: 9.8187e-05 - acc: 1.0000\n",
            "Epoch 309/350\n",
            "100/100 [==============================] - 0s 232us/step - loss: 9.5655e-05 - acc: 1.0000\n",
            "Epoch 310/350\n",
            "100/100 [==============================] - 0s 240us/step - loss: 1.5720e-04 - acc: 1.0000\n",
            "Epoch 311/350\n",
            "100/100 [==============================] - 0s 245us/step - loss: 8.2513e-05 - acc: 1.0000\n",
            "Epoch 312/350\n",
            "100/100 [==============================] - 0s 260us/step - loss: 1.6348e-04 - acc: 1.0000\n",
            "Epoch 313/350\n",
            "100/100 [==============================] - 0s 240us/step - loss: 1.8576e-04 - acc: 1.0000\n",
            "Epoch 314/350\n",
            "100/100 [==============================] - 0s 242us/step - loss: 8.0994e-05 - acc: 1.0000\n",
            "Epoch 315/350\n",
            "100/100 [==============================] - 0s 252us/step - loss: 1.1687e-04 - acc: 1.0000\n",
            "Epoch 316/350\n",
            "100/100 [==============================] - 0s 256us/step - loss: 1.4621e-04 - acc: 1.0000\n",
            "Epoch 317/350\n",
            "100/100 [==============================] - 0s 238us/step - loss: 3.4066e-04 - acc: 1.0000\n",
            "Epoch 318/350\n",
            "100/100 [==============================] - 0s 236us/step - loss: 1.5098e-04 - acc: 1.0000\n",
            "Epoch 319/350\n",
            "100/100 [==============================] - 0s 237us/step - loss: 1.4336e-04 - acc: 1.0000\n",
            "Epoch 320/350\n",
            "100/100 [==============================] - 0s 265us/step - loss: 1.6813e-04 - acc: 1.0000\n",
            "Epoch 321/350\n",
            "100/100 [==============================] - 0s 246us/step - loss: 1.1296e-04 - acc: 1.0000\n",
            "Epoch 322/350\n",
            "100/100 [==============================] - 0s 235us/step - loss: 1.0657e-04 - acc: 1.0000\n",
            "Epoch 323/350\n",
            "100/100 [==============================] - 0s 261us/step - loss: 1.1273e-04 - acc: 1.0000\n",
            "Epoch 324/350\n",
            "100/100 [==============================] - 0s 263us/step - loss: 4.1862e-04 - acc: 1.0000\n",
            "Epoch 325/350\n",
            "100/100 [==============================] - 0s 232us/step - loss: 2.5051e-04 - acc: 1.0000\n",
            "Epoch 326/350\n",
            "100/100 [==============================] - 0s 245us/step - loss: 1.4053e-04 - acc: 1.0000\n",
            "Epoch 327/350\n",
            "100/100 [==============================] - 0s 241us/step - loss: 1.3927e-04 - acc: 1.0000\n",
            "Epoch 328/350\n",
            "100/100 [==============================] - 0s 237us/step - loss: 1.6253e-04 - acc: 1.0000\n",
            "Epoch 329/350\n",
            "100/100 [==============================] - 0s 238us/step - loss: 1.0001e-04 - acc: 1.0000\n",
            "Epoch 330/350\n",
            "100/100 [==============================] - 0s 285us/step - loss: 8.9122e-05 - acc: 1.0000\n",
            "Epoch 331/350\n",
            "100/100 [==============================] - 0s 286us/step - loss: 1.5578e-04 - acc: 1.0000\n",
            "Epoch 332/350\n",
            "100/100 [==============================] - 0s 258us/step - loss: 1.2882e-04 - acc: 1.0000\n",
            "Epoch 333/350\n",
            "100/100 [==============================] - 0s 245us/step - loss: 1.3684e-04 - acc: 1.0000\n",
            "Epoch 334/350\n",
            "100/100 [==============================] - 0s 257us/step - loss: 8.4033e-05 - acc: 1.0000\n",
            "Epoch 335/350\n",
            "100/100 [==============================] - 0s 238us/step - loss: 1.1816e-04 - acc: 1.0000\n",
            "Epoch 336/350\n",
            "100/100 [==============================] - 0s 244us/step - loss: 1.1623e-04 - acc: 1.0000\n",
            "Epoch 337/350\n",
            "100/100 [==============================] - 0s 235us/step - loss: 1.1995e-04 - acc: 1.0000\n",
            "Epoch 338/350\n",
            "100/100 [==============================] - 0s 233us/step - loss: 1.1486e-04 - acc: 1.0000\n",
            "Epoch 339/350\n",
            "100/100 [==============================] - 0s 242us/step - loss: 1.4029e-04 - acc: 1.0000\n",
            "Epoch 340/350\n",
            "100/100 [==============================] - 0s 250us/step - loss: 1.3324e-04 - acc: 1.0000\n",
            "Epoch 341/350\n",
            "100/100 [==============================] - 0s 260us/step - loss: 8.6589e-05 - acc: 1.0000\n",
            "Epoch 342/350\n",
            "100/100 [==============================] - 0s 240us/step - loss: 1.4017e-04 - acc: 1.0000\n",
            "Epoch 343/350\n",
            "100/100 [==============================] - 0s 258us/step - loss: 1.3691e-04 - acc: 1.0000\n",
            "Epoch 344/350\n",
            "100/100 [==============================] - 0s 265us/step - loss: 8.9024e-05 - acc: 1.0000\n",
            "Epoch 345/350\n",
            "100/100 [==============================] - 0s 304us/step - loss: 9.4295e-05 - acc: 1.0000\n",
            "Epoch 346/350\n",
            "100/100 [==============================] - 0s 257us/step - loss: 9.4107e-05 - acc: 1.0000\n",
            "Epoch 347/350\n",
            "100/100 [==============================] - 0s 237us/step - loss: 1.2737e-04 - acc: 1.0000\n",
            "Epoch 348/350\n",
            "100/100 [==============================] - 0s 260us/step - loss: 1.1356e-04 - acc: 1.0000\n",
            "Epoch 349/350\n",
            "100/100 [==============================] - 0s 241us/step - loss: 7.9611e-05 - acc: 1.0000\n",
            "Epoch 350/350\n",
            "100/100 [==============================] - 0s 237us/step - loss: 9.9355e-05 - acc: 1.0000\n"
          ],
          "name": "stdout"
        }
      ]
    },
    {
      "cell_type": "code",
      "metadata": {
        "id": "JZYhSXjS5ID8",
        "colab_type": "code",
        "colab": {
          "base_uri": "https://localhost:8080/",
          "height": 353
        },
        "outputId": "55c687c4-308d-4e8e-eac8-bc392be1c562"
      },
      "source": [
        "# Plot classification loss\n",
        "plt.figure(figsize=(10, 5))\n",
        "plt.plot(np.array(losses), label=\"Loss\")\n",
        "plt.title(\"Classification Loss\")\n",
        "plt.legend()"
      ],
      "execution_count": 59,
      "outputs": [
        {
          "output_type": "execute_result",
          "data": {
            "text/plain": [
              "<matplotlib.legend.Legend at 0x7fa50e4fab38>"
            ]
          },
          "metadata": {
            "tags": []
          },
          "execution_count": 59
        },
        {
          "output_type": "display_data",
          "data": {
            "image/png": "[encoded data removed]",
            "text/plain": [
              "<Figure size 720x360 with 1 Axes>"
            ]
          },
          "metadata": {
            "tags": []
          }
        }
      ]
    },
    {
      "cell_type": "code",
      "metadata": {
        "id": "1OX9tt085ID_",
        "colab_type": "code",
        "colab": {
          "base_uri": "https://localhost:8080/",
          "height": 353
        },
        "outputId": "b0ee9508-3cf3-4ed4-c7d5-5c107d7f48cd"
      },
      "source": [
        "# Plot classification accuracy\n",
        "plt.figure(figsize=(10, 5))\n",
        "plt.plot(np.array(accuracies), label=\"Accuracy\")\n",
        "plt.title(\"Classification Accuracy\")\n",
        "plt.legend()"
      ],
      "execution_count": 60,
      "outputs": [
        {
          "output_type": "execute_result",
          "data": {
            "text/plain": [
              "<matplotlib.legend.Legend at 0x7fa50e476470>"
            ]
          },
          "metadata": {
            "tags": []
          },
          "execution_count": 60
        },
        {
          "output_type": "display_data",
          "data": {
            "image/png": "[encoded data removed]",
            "text/plain": [
              "<Figure size 720x360 with 1 Axes>"
            ]
          },
          "metadata": {
            "tags": []
          }
        }
      ]
    },
    {
      "cell_type": "code",
      "metadata": {
        "id": "6oMPnpnR5IEB",
        "colab_type": "code",
        "colab": {
          "base_uri": "https://localhost:8080/",
          "height": 50
        },
        "outputId": "b17c2632-5185-477e-a4dc-73f32badf13d"
      },
      "source": [
        "x, y = dataset.training_set()\n",
        "y = to_categorical(y, num_classes=num_classes)\n",
        "\n",
        "# Compute classification accuracy on the training set\n",
        "_, accuracy = mnist_classifier.evaluate(x, y)\n",
        "print(\"Training Accuracy: %.2f%%\" % (100 * accuracy))"
      ],
      "execution_count": 61,
      "outputs": [
        {
          "output_type": "stream",
          "text": [
            "100/100 [==============================] - 0s 3ms/step\n",
            "Training Accuracy: 100.00%\n"
          ],
          "name": "stdout"
        }
      ]
    },
    {
      "cell_type": "code",
      "metadata": {
        "id": "x2B2kNsq5IEF",
        "colab_type": "code",
        "colab": {
          "base_uri": "https://localhost:8080/",
          "height": 50
        },
        "outputId": "a7a202ae-5bd4-4716-f59a-e7a9b4605c4e"
      },
      "source": [
        "x, y = dataset.test_set()\n",
        "y = to_categorical(y, num_classes=num_classes)\n",
        "\n",
        "# Compute classification accuracy on the test set\n",
        "_, accuracy = mnist_classifier.evaluate(x, y)\n",
        "print(\"Test Accuracy: %.2f%%\" % (100 * accuracy))"
      ],
      "execution_count": 62,
      "outputs": [
        {
          "output_type": "stream",
          "text": [
            "10000/10000 [==============================] - 1s 65us/step\n",
            "Test Accuracy: 69.26%\n"
          ],
          "name": "stdout"
        }
      ]
    },
    {
      "cell_type": "markdown",
      "metadata": {
        "id": "UexjatKq5IEJ",
        "colab_type": "text"
      },
      "source": [
        "---"
      ]
    }
  ]
}