{
  "nbformat": 4,
  "nbformat_minor": 0,
  "metadata": {
    "kernelspec": {
      "name": "python3",
      "display_name": "Python 3"
    },
    "language_info": {
      "codemirror_mode": {
        "name": "ipython",
        "version": 3
      },
      "file_extension": ".py",
      "mimetype": "text/x-python",
      "name": "python",
      "nbconvert_exporter": "python",
      "pygments_lexer": "ipython3",
      "version": "3.6.5"
    },
    "colab": {
      "name": "SCGAN.v1.ipynb",
      "provenance": [],
      "collapsed_sections": []
    },
    "accelerator": "GPU"
  },
  "cells": [
    {
      "cell_type": "markdown",
      "metadata": {
        "id": "4JrJW9Ib5ICb",
        "colab_type": "text"
      },
      "source": [
        "# Semi-Supervised Conditional GAN (SCGAN)"
      ]
    },
    {
      "cell_type": "code",
      "metadata": {
        "id": "QNWoI_bz5ICe",
        "colab_type": "code",
        "colab": {
          "base_uri": "https://localhost:8080/",
          "height": 79
        },
        "outputId": "e48c72d0-767b-4fee-8fb5-109943bf215c"
      },
      "source": [
        "%matplotlib inline\n",
        "\n",
        "import matplotlib.pyplot as plt\n",
        "import numpy as np\n",
        "import json\n",
        "import time\n",
        "\n",
        "from keras import backend as K\n",
        "import tensorflow as tf\n",
        "import keras\n",
        "\n",
        "from keras.datasets import mnist\n",
        "from keras.layers import (Activation, BatchNormalization, Concatenate, Dense,\n",
        "                          Dropout, Flatten, Input, Lambda, Reshape, Embedding,\n",
        "                          Multiply)\n",
        "from keras.layers.advanced_activations import LeakyReLU\n",
        "from keras.layers.convolutional import Conv2D, Conv2DTranspose\n",
        "from keras.models import Model, Sequential, load_model\n",
        "from keras.optimizers import Adam\n",
        "from keras.utils import to_categorical\n",
        "from keras.utils.vis_utils import plot_model"
      ],
      "execution_count": 3,
      "outputs": [
        {
          "output_type": "stream",
          "text": [
            "Using TensorFlow backend.\n"
          ],
          "name": "stderr"
        },
        {
          "output_type": "display_data",
          "data": {
            "text/html": [
              "<p style=\"color: red;\">\n",
              "The default version of TensorFlow in Colab will soon switch to TensorFlow 2.x.<br>\n",
              "We recommend you <a href=\"https://www.tensorflow.org/guide/migrate\" target=\"_blank\">upgrade</a> now \n",
              "or ensure your notebook will continue to use TensorFlow 1.x via the <code>%tensorflow_version 1.x</code> magic:\n",
              "<a href=\"https://colab.research.google.com/notebooks/tensorflow_version.ipynb\" target=\"_blank\">more info</a>.</p>\n"
            ],
            "text/plain": [
              "<IPython.core.display.HTML object>"
            ]
          },
          "metadata": {
            "tags": []
          }
        }
      ]
    },
    {
      "cell_type": "markdown",
      "metadata": {
        "id": "xn9DfamS5ICl",
        "colab_type": "text"
      },
      "source": [
        "## Dataset"
      ]
    },
    {
      "cell_type": "code",
      "metadata": {
        "id": "bqo19imG5ICn",
        "colab_type": "code",
        "colab": {}
      },
      "source": [
        "class Dataset:\n",
        "    def __init__(self, num_labeled):\n",
        "\n",
        "        # Number labeled examples to use for training\n",
        "        self.num_labeled = num_labeled\n",
        "\n",
        "        # Load the MNIST dataset\n",
        "        (self.x_train, self.y_train), (self.x_test,\n",
        "                                       self.y_test) = mnist.load_data()\n",
        "\n",
        "        def preprocess_imgs(x):\n",
        "            # Rescale [0, 255] grayscale pixel values to [-1, 1]\n",
        "            x = (x.astype(np.float32) - 127.5) / 127.5\n",
        "            # Expand image dimensions to width x height x channels\n",
        "            x = np.expand_dims(x, axis=3)\n",
        "            return x\n",
        "\n",
        "        def preprocess_labels(y):\n",
        "            return y.reshape(-1, 1)\n",
        "\n",
        "        # Training data\n",
        "        self.x_train = preprocess_imgs(self.x_train)\n",
        "        self.y_train = preprocess_labels(self.y_train)\n",
        "\n",
        "        # Testing data\n",
        "        self.x_test = preprocess_imgs(self.x_test)\n",
        "        self.y_test = preprocess_labels(self.y_test)\n",
        "\n",
        "    def batch_labeled(self, batch_size):\n",
        "        # Get a random batch of labeled images and their labels\n",
        "        idx = np.random.randint(0, self.num_labeled, batch_size)\n",
        "        imgs = self.x_train[idx]\n",
        "        labels = self.y_train[idx]\n",
        "        return imgs, labels\n",
        "\n",
        "    def batch_unlabeled(self, batch_size):\n",
        "        # Get a random batch of unlabeled images\n",
        "        idx = np.random.randint(self.num_labeled, self.x_train.shape[0],\n",
        "                                batch_size)\n",
        "        imgs = self.x_train[idx]\n",
        "        return imgs\n",
        "\n",
        "    def training_set(self):\n",
        "        x_train = self.x_train[range(self.num_labeled)]\n",
        "        y_train = self.y_train[range(self.num_labeled)]\n",
        "        return x_train, y_train\n",
        "\n",
        "    def test_set(self):\n",
        "        return self.x_test, self.y_test"
      ],
      "execution_count": 0,
      "outputs": []
    },
    {
      "cell_type": "code",
      "metadata": {
        "id": "IW2-FIrD2z8n",
        "colab_type": "code",
        "outputId": "a3daa6b7-c10b-4cb0-e139-36d304a59b4a",
        "colab": {
          "base_uri": "https://localhost:8080/",
          "height": 84
        }
      },
      "source": [
        "(x_train, y_train), (x_test, y_test) = mnist.load_data()\n",
        "print(x_train.shape)\n",
        "print(y_train.shape)\n",
        "print(x_test.shape)\n",
        "print(y_test.shape)"
      ],
      "execution_count": 0,
      "outputs": [
        {
          "output_type": "stream",
          "text": [
            "(60000, 28, 28)\n",
            "(60000,)\n",
            "(10000, 28, 28)\n",
            "(10000,)\n"
          ],
          "name": "stdout"
        }
      ]
    },
    {
      "cell_type": "markdown",
      "metadata": {
        "id": "m5_Ys_5xmUQN",
        "colab_type": "text"
      },
      "source": [
        "## Check the data"
      ]
    },
    {
      "cell_type": "code",
      "metadata": {
        "colab_type": "code",
        "outputId": "c8cff882-4116-4e96-d6a2-3c5a998fd48e",
        "id": "CuxsRAX_mPuk",
        "colab": {
          "base_uri": "https://localhost:8080/",
          "height": 34
        }
      },
      "source": [
        "# Training set\n",
        "\n",
        "d_ytrain = {}\n",
        "for i in range(10):\n",
        "  d_ytrain[i] = 0\n",
        "for i in range(len(y_train)):\n",
        "  d_ytrain[y_train[i]] = d_ytrain.get(y_train[i]) + 1\n",
        "print(d_ytrain)"
      ],
      "execution_count": 0,
      "outputs": [
        {
          "output_type": "stream",
          "text": [
            "{0: 5923, 1: 6742, 2: 5958, 3: 6131, 4: 5842, 5: 5421, 6: 5918, 7: 6265, 8: 5851, 9: 5949}\n"
          ],
          "name": "stdout"
        }
      ]
    },
    {
      "cell_type": "code",
      "metadata": {
        "colab_type": "code",
        "outputId": "ba07ad05-2a0f-43b9-ff4f-ae94f8ee8a73",
        "id": "HrN-dnDzmNIH",
        "colab": {
          "base_uri": "https://localhost:8080/",
          "height": 34
        }
      },
      "source": [
        "# Test set\n",
        "\n",
        "d_ytest = {}\n",
        "for i in range(10):\n",
        "  d_ytest[i] = 0\n",
        "for i in range(len(y_test)):\n",
        "  d_ytest[y_test[i]] = d_ytest.get(y_test[i]) + 1\n",
        "print(d_ytest)"
      ],
      "execution_count": 0,
      "outputs": [
        {
          "output_type": "stream",
          "text": [
            "{0: 980, 1: 1135, 2: 1032, 3: 1010, 4: 982, 5: 892, 6: 958, 7: 1028, 8: 974, 9: 1009}\n"
          ],
          "name": "stdout"
        }
      ]
    },
    {
      "cell_type": "markdown",
      "metadata": {
        "id": "UtT5bpqm5ICy",
        "colab_type": "text"
      },
      "source": [
        "# Semi-Supervied GAN"
      ]
    },
    {
      "cell_type": "code",
      "metadata": {
        "id": "zeaE_XJq5IC0",
        "colab_type": "code",
        "colab": {}
      },
      "source": [
        "img_rows = 28\n",
        "img_cols = 28\n",
        "channels = 1\n",
        "\n",
        "# Input image dimensions\n",
        "img_shape = (img_rows, img_cols, channels)\n",
        "\n",
        "# Size of the noise vector, used as input to the Generator\n",
        "z_dim = 100\n",
        "\n",
        "# Number of classes in the dataset\n",
        "num_classes = 10"
      ],
      "execution_count": 0,
      "outputs": []
    },
    {
      "cell_type": "markdown",
      "metadata": {
        "id": "SEGfARiO5IC5",
        "colab_type": "text"
      },
      "source": [
        "## Generator"
      ]
    },
    {
      "cell_type": "code",
      "metadata": {
        "id": "GpyzLGKJ5IC6",
        "colab_type": "code",
        "colab": {}
      },
      "source": [
        "def build_generator(z_dim):\n",
        "  \n",
        "    z = Input(shape=(z_dim, ))\n",
        "    label = Input(shape=(num_classes, ), dtype='float32')\n",
        "    label_embedding = Dense(z_dim, input_dim=num_classes)(label)\n",
        "    print(label_embedding)\n",
        "    joined_representation = Multiply()([z, label_embedding])\n",
        "    \n",
        "#     model = Sequential()\n",
        "\n",
        "    # Reshape input into 7x7x256 tensor via a fully connected layer\n",
        "    model = Dense(256 * 7 * 7, input_dim=z_dim)(joined_representation)\n",
        "    model = Reshape((7, 7, 256))(model)\n",
        "\n",
        "    # Transposed convolution layer, from 7x7x256 into 14x14x128 tensor\n",
        "    model = Conv2DTranspose(128, kernel_size=3, strides=2, padding='same')(model)\n",
        "\n",
        "    # Batch normalization\n",
        "    model = BatchNormalization()(model)\n",
        "\n",
        "    # Leaky ReLU activation\n",
        "    model = LeakyReLU(alpha=0.01)(model)\n",
        "\n",
        "    # Transposed convolution layer, from 14x14x128 to 14x14x64 tensor\n",
        "    model = Conv2DTranspose(64, kernel_size=3, strides=1, padding='same')(model)\n",
        "\n",
        "    # Batch normalization\n",
        "    model = BatchNormalization()(model)\n",
        "\n",
        "    # Leaky ReLU activation\n",
        "    model = LeakyReLU(alpha=0.01)(model)\n",
        "\n",
        "    # Transposed convolution layer, from 14x14x64 to 28x28x1 tensor\n",
        "    model = Conv2DTranspose(1, kernel_size=3, strides=2, padding='same')(model)\n",
        "\n",
        "    # Output layer with tanh activation\n",
        "    conditioned_img = Activation('tanh')(model)\n",
        "    \n",
        "#     conditioned_img = model(joined_representation)\n",
        "\n",
        "    model = Model([z, label], conditioned_img)\n",
        "\n",
        "    return model"
      ],
      "execution_count": 0,
      "outputs": []
    },
    {
      "cell_type": "code",
      "metadata": {
        "id": "QRiDvGxWOKQZ",
        "colab_type": "code",
        "outputId": "b690dac5-6f52-43e9-88f1-46762bd27f66",
        "colab": {
          "base_uri": "https://localhost:8080/",
          "height": 1000
        }
      },
      "source": [
        "build_generator(z_dim).summary()"
      ],
      "execution_count": 7,
      "outputs": [
        {
          "output_type": "stream",
          "text": [
            "WARNING:tensorflow:From /usr/local/lib/python3.6/dist-packages/keras/backend/tensorflow_backend.py:66: The name tf.get_default_graph is deprecated. Please use tf.compat.v1.get_default_graph instead.\n",
            "\n",
            "WARNING:tensorflow:From /usr/local/lib/python3.6/dist-packages/keras/backend/tensorflow_backend.py:541: The name tf.placeholder is deprecated. Please use tf.compat.v1.placeholder instead.\n",
            "\n",
            "WARNING:tensorflow:From /usr/local/lib/python3.6/dist-packages/keras/backend/tensorflow_backend.py:4432: The name tf.random_uniform is deprecated. Please use tf.random.uniform instead.\n",
            "\n",
            "Tensor(\"dense_1/BiasAdd:0\", shape=(?, 100), dtype=float32)\n",
            "WARNING:tensorflow:From /usr/local/lib/python3.6/dist-packages/keras/backend/tensorflow_backend.py:190: The name tf.get_default_session is deprecated. Please use tf.compat.v1.get_default_session instead.\n",
            "\n",
            "WARNING:tensorflow:From /usr/local/lib/python3.6/dist-packages/keras/backend/tensorflow_backend.py:197: The name tf.ConfigProto is deprecated. Please use tf.compat.v1.ConfigProto instead.\n",
            "\n",
            "WARNING:tensorflow:From /usr/local/lib/python3.6/dist-packages/keras/backend/tensorflow_backend.py:203: The name tf.Session is deprecated. Please use tf.compat.v1.Session instead.\n",
            "\n",
            "WARNING:tensorflow:From /usr/local/lib/python3.6/dist-packages/keras/backend/tensorflow_backend.py:207: The name tf.global_variables is deprecated. Please use tf.compat.v1.global_variables instead.\n",
            "\n",
            "WARNING:tensorflow:From /usr/local/lib/python3.6/dist-packages/keras/backend/tensorflow_backend.py:216: The name tf.is_variable_initialized is deprecated. Please use tf.compat.v1.is_variable_initialized instead.\n",
            "\n",
            "WARNING:tensorflow:From /usr/local/lib/python3.6/dist-packages/keras/backend/tensorflow_backend.py:223: The name tf.variables_initializer is deprecated. Please use tf.compat.v1.variables_initializer instead.\n",
            "\n",
            "WARNING:tensorflow:From /usr/local/lib/python3.6/dist-packages/keras/backend/tensorflow_backend.py:2041: The name tf.nn.fused_batch_norm is deprecated. Please use tf.compat.v1.nn.fused_batch_norm instead.\n",
            "\n",
            "WARNING:tensorflow:From /usr/local/lib/python3.6/dist-packages/keras/backend/tensorflow_backend.py:148: The name tf.placeholder_with_default is deprecated. Please use tf.compat.v1.placeholder_with_default instead.\n",
            "\n",
            "Model: \"model_1\"\n",
            "__________________________________________________________________________________________________\n",
            "Layer (type)                    Output Shape         Param #     Connected to                     \n",
            "==================================================================================================\n",
            "input_2 (InputLayer)            (None, 10)           0                                            \n",
            "__________________________________________________________________________________________________\n",
            "input_1 (InputLayer)            (None, 100)          0                                            \n",
            "__________________________________________________________________________________________________\n",
            "dense_1 (Dense)                 (None, 100)          1100        input_2[0][0]                    \n",
            "__________________________________________________________________________________________________\n",
            "multiply_1 (Multiply)           (None, 100)          0           input_1[0][0]                    \n",
            "                                                                 dense_1[0][0]                    \n",
            "__________________________________________________________________________________________________\n",
            "dense_2 (Dense)                 (None, 12544)        1266944     multiply_1[0][0]                 \n",
            "__________________________________________________________________________________________________\n",
            "reshape_1 (Reshape)             (None, 7, 7, 256)    0           dense_2[0][0]                    \n",
            "__________________________________________________________________________________________________\n",
            "conv2d_transpose_1 (Conv2DTrans (None, 14, 14, 128)  295040      reshape_1[0][0]                  \n",
            "__________________________________________________________________________________________________\n",
            "batch_normalization_1 (BatchNor (None, 14, 14, 128)  512         conv2d_transpose_1[0][0]         \n",
            "__________________________________________________________________________________________________\n",
            "leaky_re_lu_1 (LeakyReLU)       (None, 14, 14, 128)  0           batch_normalization_1[0][0]      \n",
            "__________________________________________________________________________________________________\n",
            "conv2d_transpose_2 (Conv2DTrans (None, 14, 14, 64)   73792       leaky_re_lu_1[0][0]              \n",
            "__________________________________________________________________________________________________\n",
            "batch_normalization_2 (BatchNor (None, 14, 14, 64)   256         conv2d_transpose_2[0][0]         \n",
            "__________________________________________________________________________________________________\n",
            "leaky_re_lu_2 (LeakyReLU)       (None, 14, 14, 64)   0           batch_normalization_2[0][0]      \n",
            "__________________________________________________________________________________________________\n",
            "conv2d_transpose_3 (Conv2DTrans (None, 28, 28, 1)    577         leaky_re_lu_2[0][0]              \n",
            "__________________________________________________________________________________________________\n",
            "activation_1 (Activation)       (None, 28, 28, 1)    0           conv2d_transpose_3[0][0]         \n",
            "==================================================================================================\n",
            "Total params: 1,638,221\n",
            "Trainable params: 1,637,837\n",
            "Non-trainable params: 384\n",
            "__________________________________________________________________________________________________\n"
          ],
          "name": "stdout"
        }
      ]
    },
    {
      "cell_type": "markdown",
      "metadata": {
        "id": "PXctmDp35IC-",
        "colab_type": "text"
      },
      "source": [
        "## Discriminator"
      ]
    },
    {
      "cell_type": "code",
      "metadata": {
        "id": "VahG39Gb5IC_",
        "colab_type": "code",
        "colab": {}
      },
      "source": [
        "def build_discriminator_net(img_shape):\n",
        "\n",
        "    model = Sequential()\n",
        "\n",
        "    # Convolutional layer, from 28x28x1 into 14x14x32 tensor\n",
        "    model.add(\n",
        "        Conv2D(32,\n",
        "               kernel_size=3,\n",
        "               strides=2,\n",
        "               input_shape=img_shape,\n",
        "               padding='same'))\n",
        "\n",
        "    # Leaky ReLU activation\n",
        "    model.add(LeakyReLU(alpha=0.01))\n",
        "\n",
        "    # Convolutional layer, from 14x14x32 into 7x7x64 tensor\n",
        "    model.add(\n",
        "        Conv2D(64,\n",
        "               kernel_size=3,\n",
        "               strides=2,\n",
        "               input_shape=img_shape,\n",
        "               padding='same'))\n",
        "\n",
        "    # Batch normalization\n",
        "    model.add(BatchNormalization())\n",
        "\n",
        "    # Leaky ReLU activation\n",
        "    model.add(LeakyReLU(alpha=0.01))\n",
        "\n",
        "    # Convolutional layer, from 7x7x64 tensor into 3x3x128 tensor\n",
        "    model.add(\n",
        "        Conv2D(128,\n",
        "               kernel_size=3,\n",
        "               strides=2,\n",
        "               input_shape=img_shape,\n",
        "               padding='same'))\n",
        "\n",
        "    # Batch normalization\n",
        "    model.add(BatchNormalization())\n",
        "\n",
        "    # Leaky ReLU activation\n",
        "    model.add(LeakyReLU(alpha=0.01))\n",
        "\n",
        "    # Droupout\n",
        "    model.add(Dropout(0.5))\n",
        "\n",
        "    # Flatten the tensor\n",
        "    model.add(Flatten())\n",
        "\n",
        "    # Fully connected layer with num_classes neurons\n",
        "    model.add(Dense(num_classes))\n",
        "\n",
        "    return model"
      ],
      "execution_count": 0,
      "outputs": []
    },
    {
      "cell_type": "code",
      "metadata": {
        "id": "-hSeX8Z75IDC",
        "colab_type": "code",
        "colab": {}
      },
      "source": [
        "def build_discriminator_class(discriminator_net):\n",
        "\n",
        "    model = Sequential()\n",
        "\n",
        "    model.add(discriminator_net)\n",
        "\n",
        "    # Softmax activation, giving predicted probability distribution over the real classes\n",
        "    model.add(Activation('softmax'))\n",
        "\n",
        "    return model"
      ],
      "execution_count": 0,
      "outputs": []
    },
    {
      "cell_type": "code",
      "metadata": {
        "id": "Kc_Skbce5IDF",
        "colab_type": "code",
        "colab": {}
      },
      "source": [
        "def build_discriminator_realOfFake(discriminator_net):\n",
        "\n",
        "    model = Sequential()\n",
        "\n",
        "    model.add(discriminator_net)\n",
        "\n",
        "    def predict(x):\n",
        "        # Transform distribution over real classes into a binary real-vs-fake probability\n",
        "        prediction = 1.0 - (1.0 / (K.sum(K.exp(x), axis=-1, keepdims=True) + 1.0))\n",
        "        return prediction\n",
        "\n",
        "    # 'Real-vs-fake' output neuron defined above\n",
        "    model.add(Lambda(predict))\n",
        "\n",
        "    return model"
      ],
      "execution_count": 0,
      "outputs": []
    },
    {
      "cell_type": "markdown",
      "metadata": {
        "id": "-Xz4dCm75IDJ",
        "colab_type": "text"
      },
      "source": [
        "## Build the Model"
      ]
    },
    {
      "cell_type": "code",
      "metadata": {
        "id": "kcTPOPCS5IDL",
        "colab_type": "code",
        "colab": {}
      },
      "source": [
        "def build_gan(generator, discriminator):\n",
        "    \n",
        "    z = Input(shape=(z_dim, ))\n",
        "    label = Input(shape=(num_classes, ))\n",
        "    img = generator([z, label])\n",
        "    output = discriminator(img)\n",
        "    model = Model([z, label], output)\n",
        "\n",
        "    return model"
      ],
      "execution_count": 0,
      "outputs": []
    },
    {
      "cell_type": "markdown",
      "metadata": {
        "id": "i-fxWZ8Y5IDP",
        "colab_type": "text"
      },
      "source": [
        "### Discriminator"
      ]
    },
    {
      "cell_type": "code",
      "metadata": {
        "id": "XPQ_Yvmz5IDQ",
        "colab_type": "code",
        "colab": {}
      },
      "source": [
        "# Core Discriminator network:\n",
        "# These layers are shared during supervised and unsupervised training\n",
        "\n",
        "discriminator_net = build_discriminator_net(img_shape)\n",
        "discriminator_realOrFake = build_discriminator_realOfFake(discriminator_net)\n",
        "discriminator_class = build_discriminator_class(discriminator_net)\n",
        "\n",
        "discriminator_class.compile(loss='categorical_crossentropy', metrics=['accuracy'], optimizer=Adam())\n",
        "discriminator_realOrFake.compile(loss='binary_crossentropy',metrics=['accuracy'], optimizer=Adam())\n",
        "\n",
        "# def loss_d_realOrFake(pred, label):\n",
        "#   # label = [1,1,...,1] or [0,0,...,0]\n",
        "#   def predict_real_of_fake(x):\n",
        "#       prediction = 1.0 - (1.0 / (K.sum(K.exp(x), axis=-1, keepdims=True) + 1.0))\n",
        "#       return prediction\n",
        "#   pred_realOrFake = predict_real_of_fake(pred)\n",
        "#   # loss = tf.keras.losses.binary_crossentropy(pred_realOrFake, label)\n",
        "#   loss_realOrFake = keras.losses.mean_squared_error(pred_realOrFake, label)\n",
        "#   return loss_realOrFake\n",
        "\n",
        "# def loss_d_class(pred, label):\n",
        "#   # label: {0,1,...9}\n",
        "#   def softmax(x): \n",
        "#     e_x = K.exp(x - K.max(x)) \n",
        "#     return e_x / K.sum(e_x)\n",
        "#   pred_class = softmax(pred)\n",
        "#   loss_class = K.categorical_crossentropy(pred_class, label)\n",
        "#   return loss_class\n",
        "\n",
        "# discriminator_realOrFake.compile(loss=loss_d_labeled_realOrFake, metrics=['accuracy'], optimizer=Adam())\n",
        "# discriminator_class.compile(loss=loss_d_labeled_class, metrics=['accuracy'], optimizer=Adam())"
      ],
      "execution_count": 0,
      "outputs": []
    },
    {
      "cell_type": "markdown",
      "metadata": {
        "id": "OX5cwJ_i5IDS",
        "colab_type": "text"
      },
      "source": [
        "### Generator"
      ]
    },
    {
      "cell_type": "code",
      "metadata": {
        "id": "bMRweuap5IDT",
        "colab_type": "code",
        "outputId": "849de0e8-38dd-4b4a-e60e-e3f82b44dd4d",
        "colab": {
          "base_uri": "https://localhost:8080/",
          "height": 34
        }
      },
      "source": [
        "# Build the Generator\n",
        "generator = build_generator(z_dim)\n",
        "\n",
        "discriminator_realOrFake.trainable = False\n",
        "discriminator_class.trainable = False\n",
        "\n",
        "gan_realOrFake = build_gan(generator, discriminator_realOrFake)\n",
        "gan_class = build_gan(generator, discriminator_class)\n",
        "\n",
        "gan_class.compile(loss='categorical_crossentropy', metrics=['accuracy'], optimizer=Adam())\n",
        "gan_realOrFake.compile(loss='binary_crossentropy',metrics=['accuracy'], optimizer=Adam())\n",
        "\n",
        "# def loss_g_realOrFake(pred, label):\n",
        "#   # \"pred\" is the second last of Discriminator\n",
        "#   # label = [1,1,...,1] or [0,0,...,0]\n",
        "#   def predict_real_of_fake(x):\n",
        "#       prediction = 1.0 - (1.0 / (K.sum(K.exp(x), axis=-1, keepdims=True) + 1.0))\n",
        "#       return prediction\n",
        "#   pred_realOrFake = predict_real_of_fake(pred)\n",
        "#   # loss = tf.keras.losses.binary_crossentropy(pred_realOrFake, label)\n",
        "#   loss_realOrFake = keras.losses.mean_squared_error(pred_realOrFake, label)\n",
        "#   return loss_realOrFake\n",
        "\n",
        "# def loss_g_class(pred, label):\n",
        "#   # label: {0,1,...9}\n",
        "#   def softmax(x): \n",
        "#     e_x = K.exp(x - K.max(x)) \n",
        "#     return e_x / K.sum(e_x)\n",
        "#   pred_class = softmax(pred)\n",
        "#   loss_class = K.categorical_crossentropy(pred_class, label)\n",
        "#   return loss_class\n",
        "\n",
        "# gan_realOrFake.compile(loss=loss_g_realOrFake, metrics=['accuracy'], optimizer=Adam())\n",
        "# gan_class.compile(loss=loss_g_class, metrics=['accuracy'], optimizer=Adam())"
      ],
      "execution_count": 25,
      "outputs": [
        {
          "output_type": "stream",
          "text": [
            "Tensor(\"dense_9/BiasAdd:0\", shape=(?, 100), dtype=float32)\n"
          ],
          "name": "stdout"
        }
      ]
    },
    {
      "cell_type": "code",
      "metadata": {
        "id": "wdK-poJClotB",
        "colab_type": "code",
        "colab": {}
      },
      "source": [
        "%mkdir images"
      ],
      "execution_count": 0,
      "outputs": []
    },
    {
      "cell_type": "code",
      "metadata": {
        "id": "nYEd_7wgg6np",
        "colab_type": "code",
        "colab": {}
      },
      "source": [
        "plot_model(generator,to_file=\"images/model_generator.png\",show_shapes=True)"
      ],
      "execution_count": 0,
      "outputs": []
    },
    {
      "cell_type": "code",
      "metadata": {
        "id": "YWBfqsihof7J",
        "colab_type": "code",
        "colab": {}
      },
      "source": [
        "plot_model(discriminator_net,to_file=\"images/discriminator_net.png\",show_shapes=True)"
      ],
      "execution_count": 0,
      "outputs": []
    },
    {
      "cell_type": "code",
      "metadata": {
        "id": "Xpgh7rWLmDLD",
        "colab_type": "code",
        "colab": {}
      },
      "source": [
        "plot_model(discriminator_supervised,to_file=\"images/model_discriminator_supervised.png\",show_shapes=True)"
      ],
      "execution_count": 0,
      "outputs": []
    },
    {
      "cell_type": "code",
      "metadata": {
        "id": "aOS0F6Z0mKOM",
        "colab_type": "code",
        "colab": {}
      },
      "source": [
        "plot_model(discriminator_unsupervised,to_file=\"images/model_discriminator_unsupervised.png\",show_shapes=True)"
      ],
      "execution_count": 0,
      "outputs": []
    },
    {
      "cell_type": "code",
      "metadata": {
        "id": "6TS-bU5RmbTE",
        "colab_type": "code",
        "colab": {}
      },
      "source": [
        "plot_model(gan,to_file=\"images/model_gan.png\",show_shapes=True)"
      ],
      "execution_count": 0,
      "outputs": []
    },
    {
      "cell_type": "markdown",
      "metadata": {
        "id": "rSfkxFfH5IDW",
        "colab_type": "text"
      },
      "source": [
        "## Training"
      ]
    },
    {
      "cell_type": "code",
      "metadata": {
        "id": "EQx1f61tT1sF",
        "colab_type": "code",
        "colab": {}
      },
      "source": [
        "%mkdir models\n",
        "%mkdir losses\n",
        "%mkdir models/models-label-100\n",
        "%mkdir losses/losses-label-100"
      ],
      "execution_count": 0,
      "outputs": []
    },
    {
      "cell_type": "code",
      "metadata": {
        "id": "lKb4Xds65IDX",
        "colab_type": "code",
        "colab": {}
      },
      "source": [
        "def train(iterations, batch_size, save_interval, k):\n",
        "\n",
        "    # Labels for real images: all ones\n",
        "    real = np.ones((batch_size, 1))\n",
        "\n",
        "    # Labels for fake images: all zeros\n",
        "    fake = np.zeros((batch_size, 1))\n",
        "\n",
        "    for iteration in range(iterations):\n",
        "\n",
        "        for _ in range(k):\n",
        "\n",
        "            # -------------------------\n",
        "            #  Train the Discriminator\n",
        "            # -------------------------\n",
        "\n",
        "            # discriminator_net.trainable = True\n",
        "\n",
        "            # Get labeled examples\n",
        "            imgs_labeled, labels = dataset.batch_labeled(batch_size)\n",
        "            labels = to_categorical(labels, num_classes=num_classes)  # One-hot encode labels\n",
        "\n",
        "            # Get unlabeled examples\n",
        "            imgs_unlabeled = dataset.batch_unlabeled(batch_size)\n",
        "\n",
        "            # Generate a batch of fake images\n",
        "            z = np.random.normal(0, 1, (batch_size, z_dim))\n",
        "            fake_labels = np.random.randint(0, num_classes, batch_size).reshape(-1, 1)\n",
        "            fake_labels = to_categorical(fake_labels, num_classes=num_classes)\n",
        "            imgs_gen = generator.predict([z, fake_labels])\n",
        "\n",
        "            # Train discriminator\n",
        "            loss_d_labeled_realOrFake, acc_d_labeled_realOrFake = discriminator_realOrFake.train_on_batch(imgs_labeled, real)\n",
        "            loss_d_unlabeled_realOrFake, acc_d_unlabeled_realOrFake = discriminator_realOrFake.train_on_batch(imgs_unlabeled, real)\n",
        "            loss_d_gen_realOrFake, acc_d_gen_realOrFake = discriminator_realOrFake.train_on_batch(imgs_gen, fake)\n",
        "            loss_d_labeled_class, acc_d_labeled_class = discriminator_class.train_on_batch(imgs_labeled, labels)\n",
        "            loss_d_gen_class, acc_d_gen_class = discriminator_class.train_on_batch(imgs_gen, fake_labels)\n",
        "\n",
        "            # Calculate loss and acc\n",
        "            loss_d_train_realOrFake = np.add(loss_d_labeled_realOrFake, loss_d_unlabeled_realOrFake)\n",
        "            loss_d_class = np.add(loss_d_labeled_class, loss_d_gen_class)\n",
        "            loss_d_realOrFake = np.add(loss_d_gen_realOrFake, np.add(loss_d_labeled_realOrFake, loss_d_unlabeled_realOrFake))\n",
        "            loss_d = np.add(loss_d_class, loss_d_realOrFake)\n",
        "            acc_d_class = np.add(acc_d_labeled_class, acc_d_gen_class)/2.0\n",
        "            acc_d_realOrFake = np.add(acc_d_gen_realOrFake, np.add(acc_d_labeled_realOrFake, acc_d_unlabeled_realOrFake))/3.0\n",
        "            acc_d = np.add(acc_d_class, acc_d_realOrFake)/2.0\n",
        "\n",
        "        # ---------------------\n",
        "        #  Train the Generator\n",
        "        # ---------------------\n",
        "\n",
        "        # Keep Discriminator’s parameters constant for Generator training\n",
        "        # discriminator_net.trainable = False\n",
        "\n",
        "        # Generate a batch of fake images\n",
        "        z = np.random.normal(0, 1, (batch_size, z_dim))\n",
        "        fake_labels = np.random.randint(0, num_classes, batch_size).reshape(-1, 1)\n",
        "        fake_labels = to_categorical(fake_labels, num_classes=num_classes)\n",
        "\n",
        "        # Train Generator\n",
        "        loss_g_realOrFake, acc_g_realOrFake = gan_realOrFake.train_on_batch([z, fake_labels], fake)\n",
        "        loss_g_class, acc_g_class = gan_class.train_on_batch([z, fake_labels], fake_labels)\n",
        "\n",
        "        # Calculate loss\n",
        "        loss_g = np.add(loss_g_realOrFake, loss_g_class)\n",
        "\n",
        "        if (iteration + 1) % save_interval == 0:\n",
        "\n",
        "            # Save Discriminator supervised classification loss to be plotted after training\n",
        "            losses_d_class.append(loss_d_class)\n",
        "            losses_d_realOrFake.append(loss_d_realOrFake)\n",
        "            losses_g_class.append(loss_g_class)\n",
        "            losses_g_realOrFake.append(loss_g_realOrFake)\n",
        "            \n",
        "            iteration_checkpoints.append(iteration + 1)\n",
        "\n",
        "            # Output training progress\n",
        "            print(\n",
        "                \"%d [D loss class: %.4f, acc: %.2f%%] [D loss realOrFake: %.4f, acc:%.2f%%] [G loss class: %.4f, acc: %.2f%%] [G loss realOrFake: %.4f, acc: %.2f%%]\"\n",
        "                % (iteration + 1, \n",
        "                    loss_d_class, 100 * acc_d_class,\n",
        "                    loss_d_realOrFake, 100 * acc_d_realOrFake, \n",
        "                    loss_g_class, 100 * acc_g_class,\n",
        "                    loss_g_realOrFake, 100 * acc_g_realOrFake))\n",
        "            \n",
        "            discriminator_class.save(\"./models/models-label-\" + str(num_labeled) + \"/discriminator_class-\" + str(iteration+1) + \".h5\")\n",
        "            discriminator_realOrFake.save(\"./models/models-label-\" + str(num_labeled) + \"/discriminator_realOfFake-\" + str(iteration+1) + \".h5\")\n",
        "            generator.save(\"./models/models-label-\" + str(num_labeled) + \"/generator-\" + str(iteration+1) + \".h5\")\n",
        "            file1 = \"./losses/losses-label-\" + str(num_labeled) + \"/losses_d_class.json\"\n",
        "            file2 = \"./losses/losses-label-\" + str(num_labeled) + \"/losses_d_realOrFake.json\"\n",
        "            file3 = \"./losses/losses-label-\" + str(num_labeled) + \"/losses_g_class.json\"\n",
        "            file4 = \"./losses/losses-label-\" + str(num_labeled) + \"/losses_g_realOfFake.json\"\n",
        "            with open(file1, 'w') as json_file:\n",
        "                  json.dump(str(losses_d_class), json_file)\n",
        "            with open(file2, 'w') as json_file:\n",
        "                  json.dump(str(losses_d_realOrFake), json_file)\n",
        "            with open(file3, 'w') as json_file:\n",
        "                  json.dump(str(losses_g_class), json_file)\n",
        "            with open(file4, 'w') as json_file:\n",
        "                  json.dump(str(losses_g_realOrFake), json_file)"
      ],
      "execution_count": 0,
      "outputs": []
    },
    {
      "cell_type": "markdown",
      "metadata": {
        "id": "2MoxwriW5IDb",
        "colab_type": "text"
      },
      "source": [
        "## Train the Model and Inspect Output"
      ]
    },
    {
      "cell_type": "markdown",
      "metadata": {
        "id": "EHHVLd0n5IDc",
        "colab_type": "text"
      },
      "source": [
        "Note that the `'Discrepancy between trainable weights and collected trainable'` warning from Keras is expected. It is by design: The Generator's trainable parameters are intentionally held constant during Discriminator training, and vice versa."
      ]
    },
    {
      "cell_type": "code",
      "metadata": {
        "scrolled": true,
        "id": "0ZWH2w_r5IDe",
        "colab_type": "code",
        "outputId": "289875af-70c4-4be0-9a6c-bf6abccd4594",
        "colab": {
          "base_uri": "https://localhost:8080/",
          "height": 272
        }
      },
      "source": [
        "# Set hyperparameters\n",
        "iterations = 4000 # 8000\n",
        "batch_size = 32\n",
        "save_interval = 100\n",
        "num_labeled = 100  # Number of labeled examples to use (rest will be used as unlabeled)\n",
        "k = 5 # iteration of Discriminator\n",
        "\n",
        "losses_d_labeled_realOrFake = []\n",
        "losses_d_unlabeled_realOrFake = []\n",
        "losses_d_gen_realOrFake = []\n",
        "losses_d_labeled_class = []\n",
        "losses_d_gen_class = []\n",
        "losses_d_train_realOrFake = []\n",
        "losses_d_class = []\n",
        "losses_d_realOrFake = []\n",
        "losses_d = []\n",
        "losses_g_realOrFake = []\n",
        "losses_g_class = []\n",
        "losses_g = []\n",
        "\n",
        "iteration_checkpoints = []\n",
        "\n",
        "dataset = Dataset(num_labeled)\n",
        "\n",
        "starttime = time.clock()\n",
        "\n",
        "# Train the SGAN for the specified number of iterations\n",
        "train(iterations, batch_size, save_interval, k)\n",
        "\n",
        "endtime = time.clock()\n",
        "print(\"Training time: %.4fs\" % (endtime - starttime))"
      ],
      "execution_count": 0,
      "outputs": [
        {
          "output_type": "stream",
          "text": [
            "/usr/local/lib/python3.6/dist-packages/keras/engine/training.py:493: UserWarning: Discrepancy between trainable weights and collected trainable weights, did you set `model.trainable` without calling `model.compile` after ?\n",
            "  'Discrepancy between trainable weights and collected trainable'\n"
          ],
          "name": "stderr"
        },
        {
          "output_type": "stream",
          "text": [
            "100 [D loss class: 0.2125, acc: 98.44%] [D loss realOrFake: 0.0000, acc:100.00%] [G loss class: 0.4558, acc: 81.25%] [G loss realOrFake: 0.0000, acc: 100.00%]\n",
            "200 [D loss class: 0.2989, acc: 95.31%] [D loss realOrFake: 0.0000, acc:100.00%] [G loss class: 0.2112, acc: 90.62%] [G loss realOrFake: 0.0000, acc: 100.00%]\n",
            "300 [D loss class: 0.0448, acc: 100.00%] [D loss realOrFake: 0.0000, acc:100.00%] [G loss class: 0.1127, acc: 96.88%] [G loss realOrFake: 0.0000, acc: 100.00%]\n",
            "400 [D loss class: 0.0136, acc: 100.00%] [D loss realOrFake: 0.0000, acc:100.00%] [G loss class: 0.0149, acc: 100.00%] [G loss realOrFake: 0.0000, acc: 100.00%]\n",
            "500 [D loss class: 0.0424, acc: 100.00%] [D loss realOrFake: 0.0000, acc:100.00%] [G loss class: 0.0413, acc: 96.88%] [G loss realOrFake: 0.0000, acc: 100.00%]\n",
            "600 [D loss class: 0.0183, acc: 100.00%] [D loss realOrFake: 0.0000, acc:100.00%] [G loss class: 0.0436, acc: 96.88%] [G loss realOrFake: 0.0000, acc: 100.00%]\n",
            "700 [D loss class: 0.1000, acc: 98.44%] [D loss realOrFake: 0.0000, acc:100.00%] [G loss class: 0.0018, acc: 100.00%] [G loss realOrFake: 0.0000, acc: 100.00%]\n",
            "800 [D loss class: 0.0088, acc: 100.00%] [D loss realOrFake: 0.0000, acc:100.00%] [G loss class: 0.1660, acc: 96.88%] [G loss realOrFake: 0.0000, acc: 100.00%]\n",
            "900 [D loss class: 0.0043, acc: 100.00%] [D loss realOrFake: 0.0000, acc:100.00%] [G loss class: 0.0021, acc: 100.00%] [G loss realOrFake: 0.0000, acc: 100.00%]\n",
            "1000 [D loss class: 0.2002, acc: 98.44%] [D loss realOrFake: 0.0000, acc:100.00%] [G loss class: 0.0934, acc: 96.88%] [G loss realOrFake: 0.0000, acc: 100.00%]\n",
            "1100 [D loss class: 0.0104, acc: 100.00%] [D loss realOrFake: 0.0000, acc:100.00%] [G loss class: 0.0784, acc: 93.75%] [G loss realOrFake: 0.0000, acc: 100.00%]\n",
            "1200 [D loss class: 0.0007, acc: 100.00%] [D loss realOrFake: 0.0000, acc:100.00%] [G loss class: 0.0754, acc: 96.88%] [G loss realOrFake: 0.0000, acc: 100.00%]\n"
          ],
          "name": "stdout"
        }
      ]
    },
    {
      "cell_type": "code",
      "metadata": {
        "id": "T98POkWe5IDh",
        "colab_type": "code",
        "outputId": "d4a11bc8-98f6-4557-aee7-ba73586e71cb",
        "colab": {
          "base_uri": "https://localhost:8080/",
          "height": 382
        }
      },
      "source": [
        "g_loss = np.array(losses_d)\n",
        "d_loss = np.array(losses_d)\n",
        "\n",
        "# Plot Discriminator supervised loss\n",
        "plt.figure(figsize=(15, 5))\n",
        "plt.plot(iteration_checkpoints, d_loss, label=\"Discriminator loss\", color='tab:blue')\n",
        "plt.plot(iteration_checkpoints, g_loss, label=\"Generator loss\", color='tab:green')\n",
        "\n",
        "plt.xticks(iteration_checkpoints, rotation=90)\n",
        "\n",
        "plt.title(\"Discriminator Loss + Generator Loss\")\n",
        "plt.xlabel(\"Iteration\")\n",
        "plt.ylabel(\"Loss\")\n",
        "plt.legend()\n",
        "\n",
        "\n",
        "# supervised_losses = np.array(supervised_losses)\n",
        "# unsupervised_losses = np.array(unsupervised_losses)\n",
        "# g_losses = np.array(g_losses)\n",
        "\n",
        "# # Plot Discriminator supervised loss\n",
        "# plt.figure(figsize=(15, 5))\n",
        "# plt.plot(iteration_checkpoints, supervised_losses, label=\"Discriminator supervised loss\", color='tab:blue')\n",
        "# plt.plot(iteration_checkpoints, unsupervised_losses, label=\"Discriminator unsupervised loss\", color='tab:green')\n",
        "# plt.plot(iteration_checkpoints, g_losses, label=\"Generator supervised loss\", color='tab:red')\n",
        "\n",
        "# plt.xticks(iteration_checkpoints, rotation=90)\n",
        "\n",
        "# plt.title(\"Discriminator(supervised + unsupervised) + Generator Loss\")\n",
        "# plt.xlabel(\"Iteration\")\n",
        "# plt.ylabel(\"Loss\")\n",
        "# plt.legend()"
      ],
      "execution_count": 0,
      "outputs": [
        {
          "output_type": "execute_result",
          "data": {
            "text/plain": [
              "<matplotlib.legend.Legend at 0x7f794d79aa90>"
            ]
          },
          "metadata": {
            "tags": []
          },
          "execution_count": 32
        },
        {
          "output_type": "display_data",
          "data": {
            "image/png": "[encoded data removed]",
            "text/plain": [
              "<Figure size 1080x360 with 1 Axes>"
            ]
          },
          "metadata": {
            "tags": []
          }
        }
      ]
    },
    {
      "cell_type": "code",
      "metadata": {
        "id": "F61dqQWQ3ri6",
        "colab_type": "code",
        "outputId": "1938cc71-e36e-41ab-f079-725b73a0f548",
        "colab": {
          "base_uri": "https://localhost:8080/",
          "height": 50
        }
      },
      "source": [
        "print(supervised_losses[-10:])"
      ],
      "execution_count": 0,
      "outputs": [
        {
          "output_type": "stream",
          "text": [
            "[0.00158508 0.00421892 0.00393993 0.0302744  0.0050643  0.00120058\n",
            " 0.00076666 0.00052792 0.00463997 0.000655  ]\n"
          ],
          "name": "stdout"
        }
      ]
    },
    {
      "cell_type": "markdown",
      "metadata": {
        "id": "PScPJocN5IDk",
        "colab_type": "text"
      },
      "source": [
        "## SCGAN Classifier – Training and Test Accuracy "
      ]
    },
    {
      "cell_type": "code",
      "metadata": {
        "id": "e6BmzAGk5IDl",
        "colab_type": "code",
        "outputId": "74e9db16-663e-4c38-d1df-b4ee19e837c1",
        "colab": {
          "base_uri": "https://localhost:8080/",
          "height": 50
        }
      },
      "source": [
        "x, y = dataset.training_set()\n",
        "y = to_categorical(y, num_classes=num_classes)\n",
        "\n",
        "# Compute classification accuracy on the training set\n",
        "_, accuracy = discriminator_class.evaluate(x, y)\n",
        "print(\"Training Accuracy: %.2f%%\" % (100 * accuracy))"
      ],
      "execution_count": 0,
      "outputs": [
        {
          "output_type": "stream",
          "text": [
            "2000/2000 [==============================] - 0s 83us/step\n",
            "Training Accuracy: 100.00%\n"
          ],
          "name": "stdout"
        }
      ]
    },
    {
      "cell_type": "code",
      "metadata": {
        "id": "ctWFp3zX5IDo",
        "colab_type": "code",
        "outputId": "714f920f-7ec6-4c93-a432-07f71a8f255a",
        "colab": {
          "base_uri": "https://localhost:8080/",
          "height": 50
        }
      },
      "source": [
        "x, y = dataset.test_set()\n",
        "y = to_categorical(y, num_classes=num_classes)\n",
        "\n",
        "# Compute classification accuracy on the test set\n",
        "_, accuracy = discriminator_class.evaluate(x, y)\n",
        "print(\"Test Accuracy: %.2f%%\" % (100 * accuracy))"
      ],
      "execution_count": 0,
      "outputs": [
        {
          "output_type": "stream",
          "text": [
            "10000/10000 [==============================] - 1s 79us/step\n",
            "Test Accuracy: 97.92%\n"
          ],
          "name": "stdout"
        }
      ]
    },
    {
      "cell_type": "markdown",
      "metadata": {
        "id": "T9qmg9zYKf76",
        "colab_type": "text"
      },
      "source": [
        "## SCAGN - Generate Pictures"
      ]
    },
    {
      "cell_type": "code",
      "metadata": {
        "id": "d-6-uVF9tNXk",
        "colab_type": "code",
        "colab": {}
      },
      "source": [
        "# model = load_model('./models/models-label-2000/generator-8000.h5')"
      ],
      "execution_count": 0,
      "outputs": []
    },
    {
      "cell_type": "code",
      "metadata": {
        "id": "dO9PYXM4Kixl",
        "colab_type": "code",
        "colab": {}
      },
      "source": [
        "# z = np.random.normal(0, 1, (batch_size, z_dim))\n",
        "# fake_labels = np.random.randint(0, num_classes, batch_size).reshape(-1, 1)\n",
        "# fake_labels = to_categorical(fake_labels, num_classes=num_classes)\n",
        "# gen_imgs = generator.predict([z, fake_labels])\n",
        "\n",
        "def sample_images(image_grid_rows=2, image_grid_columns=5):\n",
        "\n",
        "    # Sample random noise\n",
        "    z = np.random.normal(0, 1, (image_grid_rows * image_grid_columns, z_dim))\n",
        "\n",
        "    # Get image labels 0-9\n",
        "    fake_labels = [0,1,2,3,4,5,6,7,8,9]\n",
        "    fake_labels_category = to_categorical(fake_labels, num_classes=num_classes)\n",
        "\n",
        "    # Generate images from random noise\n",
        "    gen_imgs = generator.predict([z, fake_labels_category])\n",
        "\n",
        "    # Rescale image pixel values to [0, 1]\n",
        "    gen_imgs = 0.5 * gen_imgs + 0.5\n",
        "\n",
        "    # Set image grid\n",
        "    fig, axs = plt.subplots(image_grid_rows,\n",
        "                            image_grid_columns,\n",
        "                            figsize=(10, 4),\n",
        "                            sharey=True,\n",
        "                            sharex=True)\n",
        "\n",
        "    cnt = 0\n",
        "    for i in range(image_grid_rows):\n",
        "        for j in range(image_grid_columns):\n",
        "            # Output a grid of images\n",
        "            axs[i, j].imshow(gen_imgs[cnt, :, :, 0], cmap='gray')\n",
        "            axs[i, j].axis('off')\n",
        "            axs[i, j].set_title(\"Digit: %d\" % fake_labels[cnt])\n",
        "            cnt += 1"
      ],
      "execution_count": 0,
      "outputs": []
    },
    {
      "cell_type": "code",
      "metadata": {
        "id": "89jNVTzbxv-q",
        "colab_type": "code",
        "colab": {}
      },
      "source": [
        "def sample_images(label, image_grid_rows=2, image_grid_columns=5):\n",
        "\n",
        "    # Sample random noise\n",
        "    z = np.random.normal(0, 1, (image_grid_rows * image_grid_columns, z_dim))\n",
        "\n",
        "    # Get image labels 0-9\n",
        "    fake_labels = [label]*10\n",
        "    fake_labels_category = to_categorical(fake_labels, num_classes=num_classes)\n",
        "\n",
        "    # Generate images from random noise\n",
        "    gen_imgs = generator.predict([z, fake_labels_category])\n",
        "\n",
        "    # Rescale image pixel values to [0, 1]\n",
        "    gen_imgs = 0.5 * gen_imgs + 0.5\n",
        "\n",
        "    # Set image grid\n",
        "    fig, axs = plt.subplots(image_grid_rows,\n",
        "                            image_grid_columns,\n",
        "                            figsize=(10, 4),\n",
        "                            sharey=True,\n",
        "                            sharex=True)\n",
        "\n",
        "    cnt = 0\n",
        "    for i in range(image_grid_rows):\n",
        "        for j in range(image_grid_columns):\n",
        "            # Output a grid of images\n",
        "            axs[i, j].imshow(gen_imgs[cnt, :, :, 0], cmap='gray')\n",
        "            axs[i, j].axis('off')\n",
        "            axs[i, j].set_title(\"Digit: %d\" % fake_labels[cnt])\n",
        "            cnt += 1"
      ],
      "execution_count": 0,
      "outputs": []
    },
    {
      "cell_type": "code",
      "metadata": {
        "id": "8iQ_csOGOzNl",
        "colab_type": "code",
        "outputId": "011c9b34-4c3f-4658-d094-151fb5553f32",
        "colab": {
          "base_uri": "https://localhost:8080/",
          "height": 1000
        }
      },
      "source": [
        "sample_images(2)\n",
        "sample_images(2)\n",
        "sample_images(2)\n",
        "sample_images(2)"
      ],
      "execution_count": 0,
      "outputs": [
        {
          "output_type": "display_data",
          "data": {
            "image/png": "[encoded data removed]",
            "text/plain": [
              "<Figure size 720x288 with 10 Axes>"
            ]
          },
          "metadata": {
            "tags": []
          }
        },
        {
          "output_type": "display_data",
          "data": {
            "image/png": "[encoded data removed]",
            "text/plain": [
              "<Figure size 720x288 with 10 Axes>"
            ]
          },
          "metadata": {
            "tags": []
          }
        },
        {
          "output_type": "display_data",
          "data": {
            "image/png": "[encoded data removed]",
            "text/plain": [
              "<Figure size 720x288 with 10 Axes>"
            ]
          },
          "metadata": {
            "tags": []
          }
        },
        {
          "output_type": "display_data",
          "data": {
            "image/png": "[encoded data removed]",
            "text/plain": [
              "<Figure size 720x288 with 10 Axes>"
            ]
          },
          "metadata": {
            "tags": []
          }
        }
      ]
    },
    {
      "cell_type": "markdown",
      "metadata": {
        "id": "VDMoAU1r5IDv",
        "colab_type": "text"
      },
      "source": [
        "# Fully-Supervised Classifier"
      ]
    },
    {
      "cell_type": "code",
      "metadata": {
        "id": "TA4C3_RL5IDx",
        "colab_type": "code",
        "colab": {}
      },
      "source": [
        "# Fully supervised classifier with the same network architecture as the SGAN Discriminator\n",
        "mnist_classifier = build_discriminator_supervised(build_discriminator_net(img_shape))\n",
        "mnist_classifier.compile(loss='categorical_crossentropy',\n",
        "                         metrics=['accuracy'],\n",
        "                         optimizer=Adam())"
      ],
      "execution_count": 0,
      "outputs": []
    },
    {
      "cell_type": "code",
      "metadata": {
        "id": "zlJkb5fN5ID3",
        "colab_type": "code",
        "outputId": "051df77a-759a-4acb-ca21-cff655b8f74d",
        "colab": {
          "base_uri": "https://localhost:8080/",
          "height": 1000
        }
      },
      "source": [
        "imgs, labels = dataset.training_set()\n",
        "imgs = imgs[:num_labeled]\n",
        "labels = labels[:num_labeled]\n",
        "\n",
        "# One-hot encode labels\n",
        "labels = to_categorical(labels, num_classes=num_classes)\n",
        "\n",
        "# Train the classifier\n",
        "training = mnist_classifier.fit(x=imgs,\n",
        "                                y=labels,\n",
        "                                batch_size=32,\n",
        "                                epochs=200,\n",
        "                                verbose=1)\n",
        "losses = training.history['loss']\n",
        "accuracies = training.history['acc']"
      ],
      "execution_count": 0,
      "outputs": [
        {
          "output_type": "stream",
          "text": [
            "Epoch 1/200\n",
            "2000/2000 [==============================] - 5s 2ms/step - loss: 0.9853 - acc: 0.6775\n",
            "Epoch 2/200\n",
            "2000/2000 [==============================] - 0s 198us/step - loss: 0.3303 - acc: 0.8985\n",
            "Epoch 3/200\n",
            "2000/2000 [==============================] - 0s 199us/step - loss: 0.1916 - acc: 0.9470\n",
            "Epoch 4/200\n",
            "2000/2000 [==============================] - 0s 207us/step - loss: 0.1389 - acc: 0.9580\n",
            "Epoch 5/200\n",
            "2000/2000 [==============================] - 0s 209us/step - loss: 0.0821 - acc: 0.9770\n",
            "Epoch 6/200\n",
            "2000/2000 [==============================] - 0s 195us/step - loss: 0.0523 - acc: 0.9895\n",
            "Epoch 7/200\n",
            "2000/2000 [==============================] - 0s 198us/step - loss: 0.0395 - acc: 0.9905\n",
            "Epoch 8/200\n",
            "2000/2000 [==============================] - 0s 195us/step - loss: 0.0370 - acc: 0.9905\n",
            "Epoch 9/200\n",
            "2000/2000 [==============================] - 0s 205us/step - loss: 0.0298 - acc: 0.9925\n",
            "Epoch 10/200\n",
            "2000/2000 [==============================] - 0s 216us/step - loss: 0.0299 - acc: 0.9920\n",
            "Epoch 11/200\n",
            "2000/2000 [==============================] - 0s 194us/step - loss: 0.0273 - acc: 0.9940\n",
            "Epoch 12/200\n",
            "2000/2000 [==============================] - 0s 217us/step - loss: 0.0202 - acc: 0.9960\n",
            "Epoch 13/200\n",
            "2000/2000 [==============================] - 0s 215us/step - loss: 0.0172 - acc: 0.9975\n",
            "Epoch 14/200\n",
            "2000/2000 [==============================] - 0s 209us/step - loss: 0.0162 - acc: 0.9970\n",
            "Epoch 15/200\n",
            "2000/2000 [==============================] - 0s 217us/step - loss: 0.0104 - acc: 0.9980\n",
            "Epoch 16/200\n",
            "2000/2000 [==============================] - 0s 214us/step - loss: 0.0079 - acc: 0.9995\n",
            "Epoch 17/200\n",
            "2000/2000 [==============================] - 0s 240us/step - loss: 0.0064 - acc: 0.9990\n",
            "Epoch 18/200\n",
            "2000/2000 [==============================] - 0s 211us/step - loss: 0.0064 - acc: 0.9990\n",
            "Epoch 19/200\n",
            "2000/2000 [==============================] - 0s 209us/step - loss: 0.0064 - acc: 0.9990\n",
            "Epoch 20/200\n",
            "2000/2000 [==============================] - 0s 199us/step - loss: 0.0048 - acc: 0.9995\n",
            "Epoch 21/200\n",
            "2000/2000 [==============================] - 0s 210us/step - loss: 0.0060 - acc: 0.9980\n",
            "Epoch 22/200\n",
            "2000/2000 [==============================] - 0s 199us/step - loss: 0.0058 - acc: 0.9990\n",
            "Epoch 23/200\n",
            "2000/2000 [==============================] - 0s 206us/step - loss: 0.0056 - acc: 0.9995\n",
            "Epoch 24/200\n",
            "2000/2000 [==============================] - 0s 199us/step - loss: 0.0032 - acc: 1.0000\n",
            "Epoch 25/200\n",
            "2000/2000 [==============================] - 0s 203us/step - loss: 0.0030 - acc: 0.9995\n",
            "Epoch 26/200\n",
            "2000/2000 [==============================] - 0s 196us/step - loss: 0.0020 - acc: 1.0000\n",
            "Epoch 27/200\n",
            "2000/2000 [==============================] - 0s 197us/step - loss: 0.0045 - acc: 0.9995\n",
            "Epoch 28/200\n",
            "2000/2000 [==============================] - 0s 198us/step - loss: 0.0029 - acc: 1.0000\n",
            "Epoch 29/200\n",
            "2000/2000 [==============================] - 0s 207us/step - loss: 0.0036 - acc: 0.9985\n",
            "Epoch 30/200\n",
            "2000/2000 [==============================] - 0s 199us/step - loss: 0.0046 - acc: 0.9995\n",
            "Epoch 31/200\n",
            "2000/2000 [==============================] - 0s 199us/step - loss: 0.0094 - acc: 0.9980\n",
            "Epoch 32/200\n",
            "2000/2000 [==============================] - 0s 210us/step - loss: 0.0366 - acc: 0.9875\n",
            "Epoch 33/200\n",
            "2000/2000 [==============================] - 0s 195us/step - loss: 0.0751 - acc: 0.9745\n",
            "Epoch 34/200\n",
            "2000/2000 [==============================] - 0s 207us/step - loss: 0.0382 - acc: 0.9855\n",
            "Epoch 35/200\n",
            "2000/2000 [==============================] - 0s 199us/step - loss: 0.0205 - acc: 0.9940\n",
            "Epoch 36/200\n",
            "2000/2000 [==============================] - 0s 197us/step - loss: 0.0210 - acc: 0.9930\n",
            "Epoch 37/200\n",
            "2000/2000 [==============================] - 0s 198us/step - loss: 0.0179 - acc: 0.9935\n",
            "Epoch 38/200\n",
            "2000/2000 [==============================] - 0s 193us/step - loss: 0.0077 - acc: 0.9980\n",
            "Epoch 39/200\n",
            "2000/2000 [==============================] - 0s 207us/step - loss: 0.0089 - acc: 0.9980\n",
            "Epoch 40/200\n",
            "2000/2000 [==============================] - 0s 202us/step - loss: 0.0053 - acc: 0.9990\n",
            "Epoch 41/200\n",
            "2000/2000 [==============================] - 0s 204us/step - loss: 0.0055 - acc: 0.9985\n",
            "Epoch 42/200\n",
            "2000/2000 [==============================] - 0s 203us/step - loss: 0.0068 - acc: 0.9970\n",
            "Epoch 43/200\n",
            "2000/2000 [==============================] - 0s 190us/step - loss: 0.0025 - acc: 1.0000\n",
            "Epoch 44/200\n",
            "2000/2000 [==============================] - 0s 193us/step - loss: 0.0033 - acc: 0.9995\n",
            "Epoch 45/200\n",
            "2000/2000 [==============================] - 0s 207us/step - loss: 0.0034 - acc: 0.9985\n",
            "Epoch 46/200\n",
            "2000/2000 [==============================] - 0s 198us/step - loss: 0.0017 - acc: 1.0000\n",
            "Epoch 47/200\n",
            "2000/2000 [==============================] - 0s 202us/step - loss: 0.0019 - acc: 1.0000\n",
            "Epoch 48/200\n",
            "2000/2000 [==============================] - 0s 206us/step - loss: 0.0037 - acc: 0.9985\n",
            "Epoch 49/200\n",
            "2000/2000 [==============================] - 0s 202us/step - loss: 0.0058 - acc: 0.9970\n",
            "Epoch 50/200\n",
            "2000/2000 [==============================] - 0s 209us/step - loss: 0.0032 - acc: 1.0000\n",
            "Epoch 51/200\n",
            "2000/2000 [==============================] - 0s 202us/step - loss: 0.0034 - acc: 0.9990\n",
            "Epoch 52/200\n",
            "2000/2000 [==============================] - 0s 206us/step - loss: 0.0017 - acc: 1.0000\n",
            "Epoch 53/200\n",
            "2000/2000 [==============================] - 0s 203us/step - loss: 0.0016 - acc: 1.0000\n",
            "Epoch 54/200\n",
            "2000/2000 [==============================] - 0s 204us/step - loss: 5.7888e-04 - acc: 1.0000\n",
            "Epoch 55/200\n",
            "2000/2000 [==============================] - 0s 200us/step - loss: 6.6212e-04 - acc: 1.0000\n",
            "Epoch 56/200\n",
            "2000/2000 [==============================] - 0s 187us/step - loss: 7.6489e-04 - acc: 1.0000\n",
            "Epoch 57/200\n",
            "2000/2000 [==============================] - 0s 189us/step - loss: 8.1883e-04 - acc: 1.0000\n",
            "Epoch 58/200\n",
            "2000/2000 [==============================] - 0s 195us/step - loss: 8.0329e-04 - acc: 1.0000\n",
            "Epoch 59/200\n",
            "2000/2000 [==============================] - 0s 196us/step - loss: 0.0017 - acc: 0.9995\n",
            "Epoch 60/200\n",
            "2000/2000 [==============================] - 0s 197us/step - loss: 7.4225e-04 - acc: 1.0000\n",
            "Epoch 61/200\n",
            "2000/2000 [==============================] - 0s 210us/step - loss: 5.6116e-04 - acc: 1.0000\n",
            "Epoch 62/200\n",
            "2000/2000 [==============================] - 0s 188us/step - loss: 4.5008e-04 - acc: 1.0000\n",
            "Epoch 63/200\n",
            "2000/2000 [==============================] - 0s 198us/step - loss: 6.0557e-04 - acc: 1.0000\n",
            "Epoch 64/200\n",
            "2000/2000 [==============================] - 0s 219us/step - loss: 6.7542e-04 - acc: 1.0000\n",
            "Epoch 65/200\n",
            "2000/2000 [==============================] - 0s 207us/step - loss: 0.0023 - acc: 0.9990\n",
            "Epoch 66/200\n",
            "2000/2000 [==============================] - 0s 209us/step - loss: 0.0130 - acc: 0.9945\n",
            "Epoch 67/200\n",
            "2000/2000 [==============================] - 0s 203us/step - loss: 0.0419 - acc: 0.9875\n",
            "Epoch 68/200\n",
            "2000/2000 [==============================] - 0s 189us/step - loss: 0.0200 - acc: 0.9920\n",
            "Epoch 69/200\n",
            "2000/2000 [==============================] - 0s 194us/step - loss: 0.0530 - acc: 0.9850\n",
            "Epoch 70/200\n",
            "2000/2000 [==============================] - 0s 190us/step - loss: 0.0315 - acc: 0.9905\n",
            "Epoch 71/200\n",
            "2000/2000 [==============================] - 0s 199us/step - loss: 0.0170 - acc: 0.9950\n",
            "Epoch 72/200\n",
            "2000/2000 [==============================] - 0s 200us/step - loss: 0.0156 - acc: 0.9940\n",
            "Epoch 73/200\n",
            "2000/2000 [==============================] - 0s 210us/step - loss: 0.0247 - acc: 0.9920\n",
            "Epoch 74/200\n",
            "2000/2000 [==============================] - 0s 213us/step - loss: 0.0121 - acc: 0.9955\n",
            "Epoch 75/200\n",
            "2000/2000 [==============================] - 0s 196us/step - loss: 0.0114 - acc: 0.9965\n",
            "Epoch 76/200\n",
            "2000/2000 [==============================] - 0s 200us/step - loss: 0.0086 - acc: 0.9965\n",
            "Epoch 77/200\n",
            "2000/2000 [==============================] - 0s 203us/step - loss: 0.0052 - acc: 0.9975\n",
            "Epoch 78/200\n",
            "2000/2000 [==============================] - 0s 197us/step - loss: 0.0107 - acc: 0.9955\n",
            "Epoch 79/200\n",
            "2000/2000 [==============================] - 0s 193us/step - loss: 0.0101 - acc: 0.9970\n",
            "Epoch 80/200\n",
            "2000/2000 [==============================] - 0s 198us/step - loss: 0.0107 - acc: 0.9975\n",
            "Epoch 81/200\n",
            "2000/2000 [==============================] - 0s 198us/step - loss: 0.0059 - acc: 0.9980\n",
            "Epoch 82/200\n",
            "2000/2000 [==============================] - 0s 182us/step - loss: 0.0024 - acc: 0.9995\n",
            "Epoch 83/200\n",
            "2000/2000 [==============================] - 0s 183us/step - loss: 0.0011 - acc: 1.0000\n",
            "Epoch 84/200\n",
            "2000/2000 [==============================] - 0s 206us/step - loss: 6.3124e-04 - acc: 1.0000\n",
            "Epoch 85/200\n",
            "2000/2000 [==============================] - 0s 198us/step - loss: 0.0011 - acc: 0.9995\n",
            "Epoch 86/200\n",
            "2000/2000 [==============================] - 0s 201us/step - loss: 6.5924e-04 - acc: 1.0000\n",
            "Epoch 87/200\n",
            "2000/2000 [==============================] - 0s 195us/step - loss: 2.8188e-04 - acc: 1.0000\n",
            "Epoch 88/200\n",
            "2000/2000 [==============================] - 0s 204us/step - loss: 6.6225e-04 - acc: 1.0000\n",
            "Epoch 89/200\n",
            "2000/2000 [==============================] - 0s 211us/step - loss: 2.6257e-04 - acc: 1.0000\n",
            "Epoch 90/200\n",
            "2000/2000 [==============================] - 0s 195us/step - loss: 2.3432e-04 - acc: 1.0000\n",
            "Epoch 91/200\n",
            "2000/2000 [==============================] - 0s 201us/step - loss: 2.6627e-04 - acc: 1.0000\n",
            "Epoch 92/200\n",
            "2000/2000 [==============================] - 0s 184us/step - loss: 3.5863e-04 - acc: 1.0000\n",
            "Epoch 93/200\n",
            "2000/2000 [==============================] - 0s 185us/step - loss: 0.0017 - acc: 0.9990\n",
            "Epoch 94/200\n",
            "2000/2000 [==============================] - 0s 193us/step - loss: 0.0013 - acc: 0.9995\n",
            "Epoch 95/200\n",
            "2000/2000 [==============================] - 0s 194us/step - loss: 0.0016 - acc: 0.9995\n",
            "Epoch 96/200\n",
            "2000/2000 [==============================] - 0s 213us/step - loss: 0.0011 - acc: 0.9995\n",
            "Epoch 97/200\n",
            "2000/2000 [==============================] - 0s 218us/step - loss: 7.3329e-04 - acc: 0.9995\n",
            "Epoch 98/200\n",
            "2000/2000 [==============================] - 0s 210us/step - loss: 6.5329e-04 - acc: 1.0000\n",
            "Epoch 99/200\n",
            "2000/2000 [==============================] - 0s 227us/step - loss: 2.7548e-04 - acc: 1.0000\n",
            "Epoch 100/200\n",
            "2000/2000 [==============================] - 0s 212us/step - loss: 6.0575e-04 - acc: 0.9995\n",
            "Epoch 101/200\n",
            "2000/2000 [==============================] - 0s 206us/step - loss: 5.4191e-04 - acc: 1.0000\n",
            "Epoch 102/200\n",
            "2000/2000 [==============================] - 0s 187us/step - loss: 8.4669e-04 - acc: 1.0000\n",
            "Epoch 103/200\n",
            "2000/2000 [==============================] - 0s 196us/step - loss: 9.6488e-04 - acc: 1.0000\n",
            "Epoch 104/200\n",
            "2000/2000 [==============================] - 0s 191us/step - loss: 0.0045 - acc: 0.9980\n",
            "Epoch 105/200\n",
            "2000/2000 [==============================] - 0s 196us/step - loss: 0.0034 - acc: 0.9980\n",
            "Epoch 106/200\n",
            "2000/2000 [==============================] - 0s 205us/step - loss: 0.0027 - acc: 0.9990\n",
            "Epoch 107/200\n",
            "2000/2000 [==============================] - 0s 198us/step - loss: 0.0057 - acc: 0.9985\n",
            "Epoch 108/200\n",
            "2000/2000 [==============================] - 0s 193us/step - loss: 0.0118 - acc: 0.9960\n",
            "Epoch 109/200\n",
            "2000/2000 [==============================] - 0s 194us/step - loss: 0.0293 - acc: 0.9905\n",
            "Epoch 110/200\n",
            "2000/2000 [==============================] - 0s 186us/step - loss: 0.0224 - acc: 0.9930\n",
            "Epoch 111/200\n",
            "2000/2000 [==============================] - 0s 205us/step - loss: 0.0143 - acc: 0.9970\n",
            "Epoch 112/200\n",
            "2000/2000 [==============================] - 0s 211us/step - loss: 0.0055 - acc: 0.9970\n",
            "Epoch 113/200\n",
            "2000/2000 [==============================] - 0s 201us/step - loss: 0.0043 - acc: 0.9980\n",
            "Epoch 114/200\n",
            "2000/2000 [==============================] - 0s 216us/step - loss: 0.0166 - acc: 0.9940\n",
            "Epoch 115/200\n",
            "2000/2000 [==============================] - 0s 205us/step - loss: 0.0092 - acc: 0.9950\n",
            "Epoch 116/200\n",
            "2000/2000 [==============================] - 0s 211us/step - loss: 0.0203 - acc: 0.9950\n",
            "Epoch 117/200\n",
            "2000/2000 [==============================] - 0s 199us/step - loss: 0.0016 - acc: 1.0000\n",
            "Epoch 118/200\n",
            "2000/2000 [==============================] - 0s 213us/step - loss: 0.0014 - acc: 1.0000\n",
            "Epoch 119/200\n",
            "2000/2000 [==============================] - 0s 206us/step - loss: 0.0035 - acc: 0.9995\n",
            "Epoch 120/200\n",
            "2000/2000 [==============================] - 0s 189us/step - loss: 0.0043 - acc: 0.9985\n",
            "Epoch 121/200\n",
            "2000/2000 [==============================] - 0s 208us/step - loss: 0.0042 - acc: 0.9980\n",
            "Epoch 122/200\n",
            "2000/2000 [==============================] - 0s 197us/step - loss: 8.4253e-04 - acc: 1.0000\n",
            "Epoch 123/200\n",
            "2000/2000 [==============================] - 0s 203us/step - loss: 0.0023 - acc: 0.9990\n",
            "Epoch 124/200\n",
            "2000/2000 [==============================] - 0s 209us/step - loss: 0.0011 - acc: 1.0000\n",
            "Epoch 125/200\n",
            "2000/2000 [==============================] - 0s 199us/step - loss: 6.9767e-04 - acc: 1.0000\n",
            "Epoch 126/200\n",
            "2000/2000 [==============================] - 0s 203us/step - loss: 0.0017 - acc: 0.9995\n",
            "Epoch 127/200\n",
            "2000/2000 [==============================] - 0s 201us/step - loss: 0.0030 - acc: 0.9980\n",
            "Epoch 128/200\n",
            "2000/2000 [==============================] - 0s 199us/step - loss: 0.0034 - acc: 0.9995\n",
            "Epoch 129/200\n",
            "2000/2000 [==============================] - 0s 207us/step - loss: 5.9751e-04 - acc: 1.0000\n",
            "Epoch 130/200\n",
            "2000/2000 [==============================] - 0s 191us/step - loss: 2.5300e-04 - acc: 1.0000\n",
            "Epoch 131/200\n",
            "2000/2000 [==============================] - 0s 210us/step - loss: 0.0099 - acc: 0.9970\n",
            "Epoch 132/200\n",
            "2000/2000 [==============================] - 0s 201us/step - loss: 0.0086 - acc: 0.9970\n",
            "Epoch 133/200\n",
            "2000/2000 [==============================] - 0s 208us/step - loss: 0.0159 - acc: 0.9920\n",
            "Epoch 134/200\n",
            "2000/2000 [==============================] - 0s 218us/step - loss: 0.0112 - acc: 0.9950\n",
            "Epoch 135/200\n",
            "2000/2000 [==============================] - 0s 192us/step - loss: 0.0122 - acc: 0.9965\n",
            "Epoch 136/200\n",
            "2000/2000 [==============================] - 0s 197us/step - loss: 0.0187 - acc: 0.9945\n",
            "Epoch 137/200\n",
            "2000/2000 [==============================] - 0s 198us/step - loss: 0.0116 - acc: 0.9970\n",
            "Epoch 138/200\n",
            "2000/2000 [==============================] - 0s 198us/step - loss: 0.0079 - acc: 0.9980\n",
            "Epoch 139/200\n",
            "2000/2000 [==============================] - 0s 188us/step - loss: 0.0041 - acc: 0.9990\n",
            "Epoch 140/200\n",
            "2000/2000 [==============================] - 0s 194us/step - loss: 0.0123 - acc: 0.9965\n",
            "Epoch 141/200\n",
            "2000/2000 [==============================] - 0s 188us/step - loss: 0.0063 - acc: 0.9975\n",
            "Epoch 142/200\n",
            "2000/2000 [==============================] - 0s 192us/step - loss: 7.7537e-04 - acc: 1.0000\n",
            "Epoch 143/200\n",
            "2000/2000 [==============================] - 0s 192us/step - loss: 7.2954e-04 - acc: 1.0000\n",
            "Epoch 144/200\n",
            "2000/2000 [==============================] - 0s 202us/step - loss: 0.0010 - acc: 0.9995\n",
            "Epoch 145/200\n",
            "2000/2000 [==============================] - 0s 211us/step - loss: 3.2043e-04 - acc: 1.0000\n",
            "Epoch 146/200\n",
            "2000/2000 [==============================] - 0s 213us/step - loss: 5.3338e-04 - acc: 1.0000\n",
            "Epoch 147/200\n",
            "2000/2000 [==============================] - 0s 210us/step - loss: 8.8801e-04 - acc: 1.0000\n",
            "Epoch 148/200\n",
            "2000/2000 [==============================] - 0s 191us/step - loss: 0.0018 - acc: 0.9990\n",
            "Epoch 149/200\n",
            "2000/2000 [==============================] - 0s 191us/step - loss: 2.7598e-04 - acc: 1.0000\n",
            "Epoch 150/200\n",
            "2000/2000 [==============================] - 0s 207us/step - loss: 1.7827e-04 - acc: 1.0000\n",
            "Epoch 151/200\n",
            "2000/2000 [==============================] - 0s 203us/step - loss: 9.0931e-04 - acc: 1.0000\n",
            "Epoch 152/200\n",
            "2000/2000 [==============================] - 0s 195us/step - loss: 6.6810e-04 - acc: 0.9995\n",
            "Epoch 153/200\n",
            "2000/2000 [==============================] - 0s 203us/step - loss: 6.4545e-04 - acc: 1.0000\n",
            "Epoch 154/200\n",
            "2000/2000 [==============================] - 0s 195us/step - loss: 4.6454e-04 - acc: 1.0000\n",
            "Epoch 155/200\n",
            "2000/2000 [==============================] - 0s 197us/step - loss: 3.2892e-04 - acc: 1.0000\n",
            "Epoch 156/200\n",
            "2000/2000 [==============================] - 0s 190us/step - loss: 1.5460e-04 - acc: 1.0000\n",
            "Epoch 157/200\n",
            "2000/2000 [==============================] - 0s 183us/step - loss: 2.6417e-04 - acc: 1.0000\n",
            "Epoch 158/200\n",
            "2000/2000 [==============================] - 0s 202us/step - loss: 2.0890e-04 - acc: 1.0000\n",
            "Epoch 159/200\n",
            "2000/2000 [==============================] - 0s 198us/step - loss: 5.2189e-05 - acc: 1.0000\n",
            "Epoch 160/200\n",
            "2000/2000 [==============================] - 0s 190us/step - loss: 1.4116e-04 - acc: 1.0000\n",
            "Epoch 161/200\n",
            "2000/2000 [==============================] - 0s 206us/step - loss: 3.0083e-05 - acc: 1.0000\n",
            "Epoch 162/200\n",
            "2000/2000 [==============================] - 0s 194us/step - loss: 0.0031 - acc: 0.9980\n",
            "Epoch 163/200\n",
            "2000/2000 [==============================] - 0s 215us/step - loss: 0.0059 - acc: 0.9980\n",
            "Epoch 164/200\n",
            "2000/2000 [==============================] - 0s 197us/step - loss: 9.8792e-04 - acc: 1.0000\n",
            "Epoch 165/200\n",
            "2000/2000 [==============================] - 0s 187us/step - loss: 5.6876e-04 - acc: 0.9995\n",
            "Epoch 166/200\n",
            "2000/2000 [==============================] - 0s 196us/step - loss: 0.0015 - acc: 0.9995\n",
            "Epoch 167/200\n",
            "2000/2000 [==============================] - 0s 197us/step - loss: 5.6529e-04 - acc: 1.0000\n",
            "Epoch 168/200\n",
            "2000/2000 [==============================] - 0s 203us/step - loss: 0.0049 - acc: 0.9990\n",
            "Epoch 169/200\n",
            "2000/2000 [==============================] - 0s 192us/step - loss: 4.6632e-04 - acc: 1.0000\n",
            "Epoch 170/200\n",
            "2000/2000 [==============================] - 0s 184us/step - loss: 2.0604e-04 - acc: 1.0000\n",
            "Epoch 171/200\n",
            "2000/2000 [==============================] - 0s 211us/step - loss: 9.5176e-04 - acc: 0.9995\n",
            "Epoch 172/200\n",
            "2000/2000 [==============================] - 0s 196us/step - loss: 0.0128 - acc: 0.9975\n",
            "Epoch 173/200\n",
            "2000/2000 [==============================] - 0s 213us/step - loss: 0.0154 - acc: 0.9950\n",
            "Epoch 174/200\n",
            "2000/2000 [==============================] - 0s 204us/step - loss: 0.0123 - acc: 0.9960\n",
            "Epoch 175/200\n",
            "2000/2000 [==============================] - 0s 204us/step - loss: 0.0155 - acc: 0.9955\n",
            "Epoch 176/200\n",
            "2000/2000 [==============================] - 0s 214us/step - loss: 0.0156 - acc: 0.9930\n",
            "Epoch 177/200\n",
            "2000/2000 [==============================] - 0s 203us/step - loss: 0.0058 - acc: 0.9980\n",
            "Epoch 178/200\n",
            "2000/2000 [==============================] - 0s 220us/step - loss: 0.0031 - acc: 0.9990\n",
            "Epoch 179/200\n",
            "2000/2000 [==============================] - 0s 222us/step - loss: 0.0062 - acc: 0.9985\n",
            "Epoch 180/200\n",
            "2000/2000 [==============================] - 0s 216us/step - loss: 0.0020 - acc: 0.9990\n",
            "Epoch 181/200\n",
            "2000/2000 [==============================] - 0s 200us/step - loss: 0.0039 - acc: 0.9995\n",
            "Epoch 182/200\n",
            "2000/2000 [==============================] - 0s 197us/step - loss: 0.0030 - acc: 0.9985\n",
            "Epoch 183/200\n",
            "2000/2000 [==============================] - 0s 191us/step - loss: 8.1349e-04 - acc: 0.9995\n",
            "Epoch 184/200\n",
            "2000/2000 [==============================] - 0s 199us/step - loss: 0.0026 - acc: 0.9990\n",
            "Epoch 185/200\n",
            "2000/2000 [==============================] - 0s 206us/step - loss: 0.0032 - acc: 0.9990\n",
            "Epoch 186/200\n",
            "2000/2000 [==============================] - 0s 199us/step - loss: 0.0077 - acc: 0.9980\n",
            "Epoch 187/200\n",
            "2000/2000 [==============================] - 0s 192us/step - loss: 0.0036 - acc: 0.9990\n",
            "Epoch 188/200\n",
            "2000/2000 [==============================] - 0s 201us/step - loss: 0.0051 - acc: 0.9980\n",
            "Epoch 189/200\n",
            "2000/2000 [==============================] - 0s 181us/step - loss: 0.0100 - acc: 0.9980\n",
            "Epoch 190/200\n",
            "2000/2000 [==============================] - 0s 187us/step - loss: 0.0029 - acc: 0.9990\n",
            "Epoch 191/200\n",
            "2000/2000 [==============================] - 0s 210us/step - loss: 0.0021 - acc: 0.9995\n",
            "Epoch 192/200\n",
            "2000/2000 [==============================] - 0s 201us/step - loss: 0.0013 - acc: 0.9995\n",
            "Epoch 193/200\n",
            "2000/2000 [==============================] - 0s 207us/step - loss: 5.5580e-04 - acc: 1.0000\n",
            "Epoch 194/200\n",
            "2000/2000 [==============================] - 0s 185us/step - loss: 0.0014 - acc: 0.9995\n",
            "Epoch 195/200\n",
            "2000/2000 [==============================] - 0s 182us/step - loss: 0.0046 - acc: 0.9980\n",
            "Epoch 196/200\n",
            "2000/2000 [==============================] - 0s 209us/step - loss: 0.0012 - acc: 1.0000\n",
            "Epoch 197/200\n",
            "2000/2000 [==============================] - 0s 202us/step - loss: 0.0014 - acc: 0.9995\n",
            "Epoch 198/200\n",
            "2000/2000 [==============================] - 0s 202us/step - loss: 4.4942e-04 - acc: 1.0000\n",
            "Epoch 199/200\n",
            "2000/2000 [==============================] - 0s 197us/step - loss: 0.0020 - acc: 0.9990\n",
            "Epoch 200/200\n",
            "2000/2000 [==============================] - 0s 183us/step - loss: 7.9430e-04 - acc: 0.9995\n"
          ],
          "name": "stdout"
        }
      ]
    },
    {
      "cell_type": "code",
      "metadata": {
        "id": "JZYhSXjS5ID8",
        "colab_type": "code",
        "outputId": "a215c4bd-b64c-4dbd-d5f6-9b11bd29c87d",
        "colab": {
          "base_uri": "https://localhost:8080/",
          "height": 353
        }
      },
      "source": [
        "# Plot classification loss\n",
        "plt.figure(figsize=(10, 5))\n",
        "plt.plot(np.array(losses), label=\"Loss\")\n",
        "plt.title(\"Classification Loss\")\n",
        "plt.legend()"
      ],
      "execution_count": 0,
      "outputs": [
        {
          "output_type": "execute_result",
          "data": {
            "text/plain": [
              "<matplotlib.legend.Legend at 0x7fa5009e02e8>"
            ]
          },
          "metadata": {
            "tags": []
          },
          "execution_count": 200
        },
        {
          "output_type": "display_data",
          "data": {
            "image/png": "[encoded data removed]",
            "text/plain": [
              "<Figure size 720x360 with 1 Axes>"
            ]
          },
          "metadata": {
            "tags": []
          }
        }
      ]
    },
    {
      "cell_type": "code",
      "metadata": {
        "id": "1OX9tt085ID_",
        "colab_type": "code",
        "outputId": "98aefe15-329b-4e2a-a655-9ac943b7677a",
        "colab": {
          "base_uri": "https://localhost:8080/",
          "height": 353
        }
      },
      "source": [
        "# Plot classification accuracy\n",
        "plt.figure(figsize=(10, 5))\n",
        "plt.plot(np.array(accuracies), label=\"Accuracy\")\n",
        "plt.title(\"Classification Accuracy\")\n",
        "plt.legend()"
      ],
      "execution_count": 0,
      "outputs": [
        {
          "output_type": "execute_result",
          "data": {
            "text/plain": [
              "<matplotlib.legend.Legend at 0x7fa5016450f0>"
            ]
          },
          "metadata": {
            "tags": []
          },
          "execution_count": 186
        },
        {
          "output_type": "display_data",
          "data": {
            "image/png": "[encoded data removed]",
            "text/plain": [
              "<Figure size 720x360 with 1 Axes>"
            ]
          },
          "metadata": {
            "tags": []
          }
        }
      ]
    },
    {
      "cell_type": "code",
      "metadata": {
        "id": "6oMPnpnR5IEB",
        "colab_type": "code",
        "outputId": "b9a0b36d-4a94-4691-bfa9-2895199febbd",
        "colab": {
          "base_uri": "https://localhost:8080/",
          "height": 50
        }
      },
      "source": [
        "x, y = dataset.training_set()\n",
        "y = to_categorical(y, num_classes=num_classes)\n",
        "\n",
        "# Compute classification accuracy on the training set\n",
        "_, accuracy = mnist_classifier.evaluate(x, y)\n",
        "print(\"Training Accuracy: %.2f%%\" % (100 * accuracy))"
      ],
      "execution_count": 0,
      "outputs": [
        {
          "output_type": "stream",
          "text": [
            "2000/2000 [==============================] - 2s 860us/step\n",
            "Training Accuracy: 100.00%\n"
          ],
          "name": "stdout"
        }
      ]
    },
    {
      "cell_type": "code",
      "metadata": {
        "id": "x2B2kNsq5IEF",
        "colab_type": "code",
        "outputId": "2dec4540-a87c-4b01-afaf-2eb78fa81fc0",
        "colab": {
          "base_uri": "https://localhost:8080/",
          "height": 50
        }
      },
      "source": [
        "x, y = dataset.test_set()\n",
        "y = to_categorical(y, num_classes=num_classes)\n",
        "\n",
        "# Compute classification accuracy on the test set\n",
        "_, accuracy = mnist_classifier.evaluate(x, y)\n",
        "print(\"Test Accuracy: %.2f%%\" % (100 * accuracy))"
      ],
      "execution_count": 0,
      "outputs": [
        {
          "output_type": "stream",
          "text": [
            "10000/10000 [==============================] - 1s 79us/step\n",
            "Test Accuracy: 96.00%\n"
          ],
          "name": "stdout"
        }
      ]
    },
    {
      "cell_type": "code",
      "metadata": {
        "id": "8cYahGYx6Rox",
        "colab_type": "code",
        "outputId": "72d90250-2a6b-479d-9412-63eaf37e4541",
        "colab": {
          "base_uri": "https://localhost:8080/",
          "height": 398
        }
      },
      "source": [
        "acc_scgan = np.array([84.15, 94.73, 96.41, 96.24, 97.67, 97.92])\n",
        "acc_basic = np.array([72.94, 83.55, 90.89, 93.21, 95.17, 96.00])\n",
        "per = [1/600, 1/200, 1/100, 1/60, 1/40, 1/30]\n",
        "# Plot Discriminator supervised loss\n",
        "plt.figure(figsize=(15, 5))\n",
        "plt.plot(per, acc_scgan, label=\"SCGAN acc\", color='tab:blue')\n",
        "plt.plot(per, acc_basic, label=\"basic model acc\", color='tab:green')\n",
        "\n",
        "plt.xticks(per, rotation=90)\n",
        "\n",
        "plt.title(\"SCGAN and basic model accuracy\")\n",
        "plt.xlabel(\"Percentage\")\n",
        "plt.ylabel(\"Acc\")\n",
        "\n",
        "plt.grid()\n",
        "plt.legend()"
      ],
      "execution_count": 0,
      "outputs": [
        {
          "output_type": "execute_result",
          "data": {
            "text/plain": [
              "<matplotlib.legend.Legend at 0x7fa500550d68>"
            ]
          },
          "metadata": {
            "tags": []
          },
          "execution_count": 208
        },
        {
          "output_type": "display_data",
          "data": {
            "image/png": "[encoded data removed]",
            "text/plain": [
              "<Figure size 1080x360 with 1 Axes>"
            ]
          },
          "metadata": {
            "tags": []
          }
        }
      ]
    },
    {
      "cell_type": "markdown",
      "metadata": {
        "id": "UexjatKq5IEJ",
        "colab_type": "text"
      },
      "source": [
        "---"
      ]
    }
  ]
}