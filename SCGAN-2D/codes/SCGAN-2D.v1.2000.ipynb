{
  "nbformat": 4,
  "nbformat_minor": 0,
  "metadata": {
    "kernelspec": {
      "name": "python3",
      "display_name": "Python 3"
    },
    "language_info": {
      "codemirror_mode": {
        "name": "ipython",
        "version": 3
      },
      "file_extension": ".py",
      "mimetype": "text/x-python",
      "name": "python",
      "nbconvert_exporter": "python",
      "pygments_lexer": "ipython3",
      "version": "3.6.5"
    },
    "colab": {
      "name": "SCGAN.v1.ipynb",
      "version": "0.3.2",
      "provenance": [],
      "collapsed_sections": []
    },
    "accelerator": "GPU"
  },
  "cells": [
    {
      "cell_type": "markdown",
      "metadata": {
        "id": "4JrJW9Ib5ICb",
        "colab_type": "text"
      },
      "source": [
        "# Semi-Supervised Conditional GAN (SCGAN)"
      ]
    },
    {
      "cell_type": "code",
      "metadata": {
        "id": "QNWoI_bz5ICe",
        "colab_type": "code",
        "colab": {}
      },
      "source": [
        "%matplotlib inline\n",
        "\n",
        "import matplotlib.pyplot as plt\n",
        "import numpy as np\n",
        "import json\n",
        "\n",
        "from keras import backend as K\n",
        "\n",
        "from keras.datasets import mnist\n",
        "from keras.layers import (Activation, BatchNormalization, Concatenate, Dense,\n",
        "                          Dropout, Flatten, Input, Lambda, Reshape, Embedding,\n",
        "                          Multiply)\n",
        "from keras.layers.advanced_activations import LeakyReLU\n",
        "from keras.layers.convolutional import Conv2D, Conv2DTranspose\n",
        "from keras.models import Model, Sequential\n",
        "from keras.optimizers import Adam\n",
        "from keras.utils import to_categorical"
      ],
      "execution_count": 0,
      "outputs": []
    },
    {
      "cell_type": "markdown",
      "metadata": {
        "id": "xn9DfamS5ICl",
        "colab_type": "text"
      },
      "source": [
        "## Dataset"
      ]
    },
    {
      "cell_type": "code",
      "metadata": {
        "id": "bqo19imG5ICn",
        "colab_type": "code",
        "colab": {}
      },
      "source": [
        "class Dataset:\n",
        "    def __init__(self, num_labeled):\n",
        "\n",
        "        # Number labeled examples to use for training\n",
        "        self.num_labeled = num_labeled\n",
        "\n",
        "        # Load the MNIST dataset\n",
        "        (self.x_train, self.y_train), (self.x_test,\n",
        "                                       self.y_test) = mnist.load_data()\n",
        "\n",
        "        def preprocess_imgs(x):\n",
        "            # Rescale [0, 255] grayscale pixel values to [-1, 1]\n",
        "            x = (x.astype(np.float32) - 127.5) / 127.5\n",
        "            # Expand image dimensions to width x height x channels\n",
        "            x = np.expand_dims(x, axis=3)\n",
        "            return x\n",
        "\n",
        "        def preprocess_labels(y):\n",
        "            return y.reshape(-1, 1)\n",
        "\n",
        "        # Training data\n",
        "        self.x_train = preprocess_imgs(self.x_train)\n",
        "        self.y_train = preprocess_labels(self.y_train)\n",
        "\n",
        "        # Testing data\n",
        "        self.x_test = preprocess_imgs(self.x_test)\n",
        "        self.y_test = preprocess_labels(self.y_test)\n",
        "\n",
        "    def batch_labeled(self, batch_size):\n",
        "        # Get a random batch of labeled images and their labels\n",
        "        idx = np.random.randint(0, self.num_labeled, batch_size)\n",
        "        imgs = self.x_train[idx]\n",
        "        labels = self.y_train[idx]\n",
        "        return imgs, labels\n",
        "\n",
        "    def batch_unlabeled(self, batch_size):\n",
        "        # Get a random batch of unlabeled images\n",
        "        idx = np.random.randint(self.num_labeled, self.x_train.shape[0],\n",
        "                                batch_size)\n",
        "        imgs = self.x_train[idx]\n",
        "        return imgs\n",
        "\n",
        "    def training_set(self):\n",
        "        x_train = self.x_train[range(self.num_labeled)]\n",
        "        y_train = self.y_train[range(self.num_labeled)]\n",
        "        return x_train, y_train\n",
        "\n",
        "    def test_set(self):\n",
        "        return self.x_test, self.y_test"
      ],
      "execution_count": 0,
      "outputs": []
    },
    {
      "cell_type": "code",
      "metadata": {
        "id": "y6p2xUzF5ICt",
        "colab_type": "code",
        "colab": {}
      },
      "source": [
        "# Number of labeled examples to use (rest will be used as unlabeled)\n",
        "num_labeled = 2000\n",
        "\n",
        "dataset = Dataset(num_labeled)"
      ],
      "execution_count": 0,
      "outputs": []
    },
    {
      "cell_type": "code",
      "metadata": {
        "id": "IW2-FIrD2z8n",
        "colab_type": "code",
        "outputId": "91a43745-055d-4c2a-eba3-9aa606480d84",
        "colab": {
          "base_uri": "https://localhost:8080/",
          "height": 84
        }
      },
      "source": [
        "(x_train, y_train), (x_test, y_test) = mnist.load_data()\n",
        "print(x_train.shape)\n",
        "print(y_train.shape)\n",
        "print(x_test.shape)\n",
        "print(y_test.shape)"
      ],
      "execution_count": 0,
      "outputs": [
        {
          "output_type": "stream",
          "text": [
            "(60000, 28, 28)\n",
            "(60000,)\n",
            "(10000, 28, 28)\n",
            "(10000,)\n"
          ],
          "name": "stdout"
        }
      ]
    },
    {
      "cell_type": "markdown",
      "metadata": {
        "id": "UtT5bpqm5ICy",
        "colab_type": "text"
      },
      "source": [
        "# Semi-Supervied GAN"
      ]
    },
    {
      "cell_type": "code",
      "metadata": {
        "id": "zeaE_XJq5IC0",
        "colab_type": "code",
        "colab": {}
      },
      "source": [
        "img_rows = 28\n",
        "img_cols = 28\n",
        "channels = 1\n",
        "\n",
        "# Input image dimensions\n",
        "img_shape = (img_rows, img_cols, channels)\n",
        "\n",
        "# Size of the noise vector, used as input to the Generator\n",
        "z_dim = 100\n",
        "\n",
        "# Number of classes in the dataset\n",
        "num_classes = 10"
      ],
      "execution_count": 0,
      "outputs": []
    },
    {
      "cell_type": "markdown",
      "metadata": {
        "id": "SEGfARiO5IC5",
        "colab_type": "text"
      },
      "source": [
        "## Generator"
      ]
    },
    {
      "cell_type": "code",
      "metadata": {
        "id": "GpyzLGKJ5IC6",
        "colab_type": "code",
        "colab": {}
      },
      "source": [
        "def build_generator(z_dim):\n",
        "\n",
        "    model = Sequential()\n",
        "\n",
        "    # Reshape input into 7x7x256 tensor via a fully connected layer\n",
        "    model.add(Dense(256 * 7 * 7, input_dim=z_dim))\n",
        "    model.add(Reshape((7, 7, 256)))\n",
        "\n",
        "    # Transposed convolution layer, from 7x7x256 into 14x14x128 tensor\n",
        "    model.add(Conv2DTranspose(128, kernel_size=3, strides=2, padding='same'))\n",
        "\n",
        "    # Batch normalization\n",
        "    model.add(BatchNormalization())\n",
        "\n",
        "    # Leaky ReLU activation\n",
        "    model.add(LeakyReLU(alpha=0.01))\n",
        "\n",
        "    # Transposed convolution layer, from 14x14x128 to 14x14x64 tensor\n",
        "    model.add(Conv2DTranspose(64, kernel_size=3, strides=1, padding='same'))\n",
        "\n",
        "    # Batch normalization\n",
        "    model.add(BatchNormalization())\n",
        "\n",
        "    # Leaky ReLU activation\n",
        "    model.add(LeakyReLU(alpha=0.01))\n",
        "\n",
        "    # Transposed convolution layer, from 14x14x64 to 28x28x1 tensor\n",
        "    model.add(Conv2DTranspose(1, kernel_size=3, strides=2, padding='same'))\n",
        "\n",
        "    # Output layer with tanh activation\n",
        "    model.add(Activation('tanh'))\n",
        "    \n",
        "    z = Input(shape=(z_dim, ))\n",
        "    label = Input(shape=(num_classes, ), dtype='float32')\n",
        "    label_embedding = Dense(z_dim, input_dim=num_classes)(label)\n",
        "    print(label_embedding)\n",
        "    joined_representation = Multiply()([z, label_embedding])\n",
        "    print(joined_representation)\n",
        "    conditioned_img = model(joined_representation)\n",
        "\n",
        "    model = Model([z, label], conditioned_img)\n",
        "\n",
        "    return model"
      ],
      "execution_count": 0,
      "outputs": []
    },
    {
      "cell_type": "code",
      "metadata": {
        "id": "QRiDvGxWOKQZ",
        "colab_type": "code",
        "outputId": "d469bf40-3773-466a-d520-6107d1f57d24",
        "colab": {
          "base_uri": "https://localhost:8080/",
          "height": 370
        }
      },
      "source": [
        "build_generator(z_dim).summary()"
      ],
      "execution_count": 0,
      "outputs": [
        {
          "output_type": "stream",
          "text": [
            "Tensor(\"dense_13/BiasAdd:0\", shape=(?, 100), dtype=float32)\n",
            "Tensor(\"multiply_7/mul:0\", shape=(?, 100), dtype=float32)\n",
            "Model: \"model_5\"\n",
            "__________________________________________________________________________________________________\n",
            "Layer (type)                    Output Shape         Param #     Connected to                     \n",
            "==================================================================================================\n",
            "input_18 (InputLayer)           (None, 10)           0                                            \n",
            "__________________________________________________________________________________________________\n",
            "input_17 (InputLayer)           (None, 100)          0                                            \n",
            "__________________________________________________________________________________________________\n",
            "dense_13 (Dense)                (None, 100)          1100        input_18[0][0]                   \n",
            "__________________________________________________________________________________________________\n",
            "multiply_7 (Multiply)           (None, 100)          0           input_17[0][0]                   \n",
            "                                                                 dense_13[0][0]                   \n",
            "__________________________________________________________________________________________________\n",
            "sequential_11 (Sequential)      (None, 28, 28, 1)    1637121     multiply_7[0][0]                 \n",
            "==================================================================================================\n",
            "Total params: 1,638,221\n",
            "Trainable params: 1,637,837\n",
            "Non-trainable params: 384\n",
            "__________________________________________________________________________________________________\n"
          ],
          "name": "stdout"
        }
      ]
    },
    {
      "cell_type": "markdown",
      "metadata": {
        "id": "PXctmDp35IC-",
        "colab_type": "text"
      },
      "source": [
        "## Discriminator"
      ]
    },
    {
      "cell_type": "code",
      "metadata": {
        "id": "VahG39Gb5IC_",
        "colab_type": "code",
        "colab": {}
      },
      "source": [
        "def build_discriminator_net(img_shape):\n",
        "\n",
        "    model = Sequential()\n",
        "\n",
        "    # Convolutional layer, from 28x28x1 into 14x14x32 tensor\n",
        "    model.add(\n",
        "        Conv2D(32,\n",
        "               kernel_size=3,\n",
        "               strides=2,\n",
        "               input_shape=img_shape,\n",
        "               padding='same'))\n",
        "\n",
        "    # Leaky ReLU activation\n",
        "    model.add(LeakyReLU(alpha=0.01))\n",
        "\n",
        "    # Convolutional layer, from 14x14x32 into 7x7x64 tensor\n",
        "    model.add(\n",
        "        Conv2D(64,\n",
        "               kernel_size=3,\n",
        "               strides=2,\n",
        "               input_shape=img_shape,\n",
        "               padding='same'))\n",
        "\n",
        "    # Batch normalization\n",
        "    model.add(BatchNormalization())\n",
        "\n",
        "    # Leaky ReLU activation\n",
        "    model.add(LeakyReLU(alpha=0.01))\n",
        "\n",
        "    # Convolutional layer, from 7x7x64 tensor into 3x3x128 tensor\n",
        "    model.add(\n",
        "        Conv2D(128,\n",
        "               kernel_size=3,\n",
        "               strides=2,\n",
        "               input_shape=img_shape,\n",
        "               padding='same'))\n",
        "\n",
        "    # Batch normalization\n",
        "    model.add(BatchNormalization())\n",
        "\n",
        "    # Leaky ReLU activation\n",
        "    model.add(LeakyReLU(alpha=0.01))\n",
        "\n",
        "    # Droupout\n",
        "    model.add(Dropout(0.5))\n",
        "\n",
        "    # Flatten the tensor\n",
        "    model.add(Flatten())\n",
        "\n",
        "    # Fully connected layer with num_classes neurons\n",
        "    model.add(Dense(num_classes))\n",
        "\n",
        "    return model"
      ],
      "execution_count": 0,
      "outputs": []
    },
    {
      "cell_type": "code",
      "metadata": {
        "id": "-hSeX8Z75IDC",
        "colab_type": "code",
        "colab": {}
      },
      "source": [
        "def build_discriminator_supervised(discriminator_net):\n",
        "\n",
        "    model = Sequential()\n",
        "\n",
        "    model.add(discriminator_net)\n",
        "\n",
        "    # Softmax activation, giving predicted probability distribution over the real classes\n",
        "    model.add(Activation('softmax'))\n",
        "\n",
        "    return model"
      ],
      "execution_count": 0,
      "outputs": []
    },
    {
      "cell_type": "code",
      "metadata": {
        "id": "Kc_Skbce5IDF",
        "colab_type": "code",
        "colab": {}
      },
      "source": [
        "def build_discriminator_unsupervised(discriminator_net):\n",
        "\n",
        "    model = Sequential()\n",
        "\n",
        "    model.add(discriminator_net)\n",
        "\n",
        "    def predict(x):\n",
        "        # Transform distribution over real classes into a binary real-vs-fake probability\n",
        "        prediction = 1.0 - (1.0 /\n",
        "                            (K.sum(K.exp(x), axis=-1, keepdims=True) + 1.0))\n",
        "        return prediction\n",
        "\n",
        "    # 'Real-vs-fake' output neuron defined above\n",
        "    model.add(Lambda(predict))\n",
        "\n",
        "    return model"
      ],
      "execution_count": 0,
      "outputs": []
    },
    {
      "cell_type": "markdown",
      "metadata": {
        "id": "-Xz4dCm75IDJ",
        "colab_type": "text"
      },
      "source": [
        "## Build the Model"
      ]
    },
    {
      "cell_type": "code",
      "metadata": {
        "id": "kcTPOPCS5IDL",
        "colab_type": "code",
        "colab": {}
      },
      "source": [
        "def build_gan(generator, discriminator):\n",
        "\n",
        "#     model = Sequential()\n",
        "\n",
        "    # Combined Generator -> Discriminator model\n",
        "#     model.add(generator)\n",
        "#     model.add(discriminator)\n",
        "    \n",
        "    z = Input(shape=(z_dim, ))\n",
        "    label = Input(shape=(num_classes, ))\n",
        "    img = generator([z, label])\n",
        "    output = discriminator(img)\n",
        "    model = Model([z, label], output)\n",
        "\n",
        "    return model"
      ],
      "execution_count": 0,
      "outputs": []
    },
    {
      "cell_type": "code",
      "metadata": {
        "colab_type": "code",
        "outputId": "7641c283-58d4-4732-bb27-9b438457f0cb",
        "id": "GZhORKSp6P03",
        "colab": {
          "base_uri": "https://localhost:8080/",
          "height": 336
        }
      },
      "source": [
        "generator = build_generator(z_dim)\n",
        "discriminator_unsupervised.trainable = False\n",
        "gan = build_gan(generator, discriminator_unsupervised)\n",
        "gan.summary()\n",
        "gan.compile(loss='binary_crossentropy', optimizer=Adam())"
      ],
      "execution_count": 158,
      "outputs": [
        {
          "output_type": "stream",
          "text": [
            "Tensor(\"dense_28/BiasAdd:0\", shape=(?, 100), dtype=float32)\n",
            "Tensor(\"multiply_13/mul:0\", shape=(?, 100), dtype=float32)\n",
            "Model: \"model_17\"\n",
            "__________________________________________________________________________________________________\n",
            "Layer (type)                    Output Shape         Param #     Connected to                     \n",
            "==================================================================================================\n",
            "input_41 (InputLayer)           (None, 100)          0                                            \n",
            "__________________________________________________________________________________________________\n",
            "input_42 (InputLayer)           (None, 10)           0                                            \n",
            "__________________________________________________________________________________________________\n",
            "model_16 (Model)                (None, 28, 28, 1)    1638221     input_41[0][0]                   \n",
            "                                                                 input_42[0][0]                   \n",
            "__________________________________________________________________________________________________\n",
            "sequential_21 (Sequential)      (None, 1)            113930      model_16[1][0]                   \n",
            "==================================================================================================\n",
            "Total params: 1,752,151\n",
            "Trainable params: 1,637,837\n",
            "Non-trainable params: 114,314\n",
            "__________________________________________________________________________________________________\n"
          ],
          "name": "stdout"
        }
      ]
    },
    {
      "cell_type": "markdown",
      "metadata": {
        "id": "i-fxWZ8Y5IDP",
        "colab_type": "text"
      },
      "source": [
        "### Discriminator"
      ]
    },
    {
      "cell_type": "code",
      "metadata": {
        "id": "XPQ_Yvmz5IDQ",
        "colab_type": "code",
        "colab": {}
      },
      "source": [
        "# Core Discriminator network:\n",
        "# These layers are shared during supervised and unsupervised training\n",
        "discriminator_net = build_discriminator_net(img_shape)\n",
        "\n",
        "# Build & compile the Discriminator for supervised training\n",
        "discriminator_supervised = build_discriminator_supervised(discriminator_net)\n",
        "discriminator_supervised.compile(loss='categorical_crossentropy',\n",
        "                                 metrics=['accuracy'],\n",
        "                                 optimizer=Adam())\n",
        "\n",
        "# Build & compile the Discriminator for unsupervised training\n",
        "discriminator_unsupervised = build_discriminator_unsupervised(discriminator_net)\n",
        "discriminator_unsupervised.compile(loss='binary_crossentropy',\n",
        "                                   optimizer=Adam())"
      ],
      "execution_count": 0,
      "outputs": []
    },
    {
      "cell_type": "markdown",
      "metadata": {
        "id": "OX5cwJ_i5IDS",
        "colab_type": "text"
      },
      "source": [
        "### Generator"
      ]
    },
    {
      "cell_type": "code",
      "metadata": {
        "id": "bMRweuap5IDT",
        "colab_type": "code",
        "outputId": "a3adf8fa-2661-41fb-f00a-303d3b0810fa",
        "colab": {
          "base_uri": "https://localhost:8080/",
          "height": 50
        }
      },
      "source": [
        "# Build the Generator\n",
        "generator = build_generator(z_dim)\n",
        "\n",
        "# Keep Discriminator’s parameters constant for Generator training\n",
        "discriminator_unsupervised.trainable = False\n",
        "\n",
        "# Build and compile GAN model with fixed Discriminator to train the Generator\n",
        "# Note that we are using the Discriminator version with unsupervised output\n",
        "gan = build_gan(generator, discriminator_unsupervised)\n",
        "gan.compile(loss='binary_crossentropy', optimizer=Adam())"
      ],
      "execution_count": 160,
      "outputs": [
        {
          "output_type": "stream",
          "text": [
            "Tensor(\"dense_31/BiasAdd:0\", shape=(?, 100), dtype=float32)\n",
            "Tensor(\"multiply_14/mul:0\", shape=(?, 100), dtype=float32)\n"
          ],
          "name": "stdout"
        }
      ]
    },
    {
      "cell_type": "markdown",
      "metadata": {
        "id": "rSfkxFfH5IDW",
        "colab_type": "text"
      },
      "source": [
        "## Training"
      ]
    },
    {
      "cell_type": "code",
      "metadata": {
        "id": "EQx1f61tT1sF",
        "colab_type": "code",
        "colab": {}
      },
      "source": [
        "%mkdir models/models-label-2000\n",
        "%mkdir losses/losses-label-2000"
      ],
      "execution_count": 0,
      "outputs": []
    },
    {
      "cell_type": "code",
      "metadata": {
        "id": "lKb4Xds65IDX",
        "colab_type": "code",
        "colab": {}
      },
      "source": [
        "supervised_losses = []\n",
        "unsupervised_losses = []\n",
        "g_losses = []\n",
        "iteration_checkpoints = []\n",
        "\n",
        "\n",
        "def train(iterations, batch_size, save_interval):\n",
        "\n",
        "    # Labels for real images: all ones\n",
        "    real = np.ones((batch_size, 1))\n",
        "\n",
        "    # Labels for fake images: all zeros\n",
        "    fake = np.zeros((batch_size, 1))\n",
        "\n",
        "    for iteration in range(iterations):\n",
        "\n",
        "        # -------------------------\n",
        "        #  Train the Discriminator\n",
        "        # -------------------------\n",
        "\n",
        "        # Get labeled examples\n",
        "        imgs, labels = dataset.batch_labeled(batch_size)\n",
        "\n",
        "        # One-hot encode labels\n",
        "        labels = to_categorical(labels, num_classes=num_classes)\n",
        "\n",
        "        # Get unlabeled examples\n",
        "        imgs_unlabeled = dataset.batch_unlabeled(batch_size)\n",
        "\n",
        "        # Generate a batch of fake images\n",
        "        z = np.random.normal(0, 1, (batch_size, z_dim))\n",
        "        fake_labels = np.random.randint(0, num_classes, batch_size).reshape(-1, 1)\n",
        "        fake_labels = to_categorical(fake_labels, num_classes=num_classes)\n",
        "        gen_imgs = generator.predict([z, fake_labels])\n",
        "\n",
        "        # Train on real labeled examples\n",
        "        d_loss_supervised, accuracy = discriminator_supervised.train_on_batch(imgs, labels)\n",
        "\n",
        "        # Train on real unlabeled examples\n",
        "        d_loss_real = discriminator_unsupervised.train_on_batch(imgs_unlabeled, real)\n",
        "\n",
        "        # Train on fake examples\n",
        "        d_loss_fake = discriminator_unsupervised.train_on_batch(gen_imgs, fake)\n",
        "\n",
        "        d_loss_unsupervised = 0.5 * np.add(d_loss_real, d_loss_fake)\n",
        "\n",
        "        # ---------------------\n",
        "        #  Train the Generator\n",
        "        # ---------------------\n",
        "\n",
        "        # Generate a batch of fake images\n",
        "        z = np.random.normal(0, 1, (batch_size, z_dim))\n",
        "        gen_imgs = generator.predict([z, labels])\n",
        "\n",
        "        # Train Generator\n",
        "        g_loss = gan.train_on_batch([z,labels], np.ones((batch_size, 1)))\n",
        "\n",
        "        if (iteration + 1) % save_interval == 0:\n",
        "\n",
        "            # Save Discriminator supervised classification loss to be plotted after training\n",
        "            supervised_losses.append(d_loss_supervised)\n",
        "            unsupervised_losses.append(d_loss_unsupervised)\n",
        "            g_losses.append(g_loss)\n",
        "            \n",
        "            iteration_checkpoints.append(iteration + 1)\n",
        "\n",
        "            # Output training progress\n",
        "            print(\n",
        "                \"%d [D loss supervised: %.4f, acc.: %.2f%%] [D loss unsupervised: %.4f] [G loss: %f]\"\n",
        "                % (iteration + 1, d_loss_supervised, 100 * accuracy,\n",
        "                   d_loss_unsupervised, g_loss))\n",
        "            \n",
        "            discriminator_supervised.save(\"./models/models-label-\" + str(num_labeled) + \"/discriminator_supervised-\" + str(iteration+1) + \".h5\")\n",
        "            file1 = \"./losses/losses-label-\" + str(num_labeled) + \"/supervised_losses.json\"\n",
        "            file2 = \"./losses/losses-label-\" + str(num_labeled) + \"/unsupervised_losses.json\"\n",
        "            file3 = \"./losses/losses-label-\" + str(num_labeled) + \"/g_losses.json\"\n",
        "            with open(file1, 'w') as json_file:\n",
        "                  json.dump(str(supervised_losses), json_file)\n",
        "            with open(file2, 'w') as json_file:\n",
        "                  json.dump(str(unsupervised_losses), json_file)\n",
        "            with open(file3, 'w') as json_file:\n",
        "                  json.dump(str(g_losses), json_file)"
      ],
      "execution_count": 0,
      "outputs": []
    },
    {
      "cell_type": "markdown",
      "metadata": {
        "id": "2MoxwriW5IDb",
        "colab_type": "text"
      },
      "source": [
        "## Train the Model and Inspect Output"
      ]
    },
    {
      "cell_type": "markdown",
      "metadata": {
        "id": "EHHVLd0n5IDc",
        "colab_type": "text"
      },
      "source": [
        "Note that the `'Discrepancy between trainable weights and collected trainable'` warning from Keras is expected. It is by design: The Generator's trainable parameters are intentionally held constant during Discriminator training, and vice versa."
      ]
    },
    {
      "cell_type": "code",
      "metadata": {
        "scrolled": true,
        "id": "0ZWH2w_r5IDe",
        "colab_type": "code",
        "outputId": "479b4e54-a6d1-449b-ba4f-ead0b9285980",
        "colab": {
          "base_uri": "https://localhost:8080/",
          "height": 1000
        }
      },
      "source": [
        "# Set hyperparameters\n",
        "iterations = 8000\n",
        "batch_size = 32\n",
        "save_interval = 100\n",
        "\n",
        "# Train the SGAN for the specified number of iterations\n",
        "train(iterations, batch_size, save_interval)"
      ],
      "execution_count": 193,
      "outputs": [
        {
          "output_type": "stream",
          "text": [
            "/usr/local/lib/python3.6/dist-packages/keras/engine/training.py:493: UserWarning: Discrepancy between trainable weights and collected trainable weights, did you set `model.trainable` without calling `model.compile` after ?\n",
            "  'Discrepancy between trainable weights and collected trainable'\n"
          ],
          "name": "stderr"
        },
        {
          "output_type": "stream",
          "text": [
            "100 [D loss supervised: 0.0008, acc.: 100.00%] [D loss unsupervised: 0.2853] [G loss: 2.733469]\n",
            "200 [D loss supervised: 0.0025, acc.: 100.00%] [D loss unsupervised: 0.4632] [G loss: 3.281140]\n",
            "300 [D loss supervised: 0.0021, acc.: 100.00%] [D loss unsupervised: 0.4212] [G loss: 5.088121]\n",
            "400 [D loss supervised: 0.0039, acc.: 100.00%] [D loss unsupervised: 0.3730] [G loss: 3.235460]\n",
            "500 [D loss supervised: 0.0011, acc.: 100.00%] [D loss unsupervised: 0.4056] [G loss: 3.984171]\n",
            "600 [D loss supervised: 0.0011, acc.: 100.00%] [D loss unsupervised: 0.4596] [G loss: 2.689873]\n",
            "700 [D loss supervised: 0.0007, acc.: 100.00%] [D loss unsupervised: 0.2471] [G loss: 2.668294]\n",
            "800 [D loss supervised: 0.0011, acc.: 100.00%] [D loss unsupervised: 0.3470] [G loss: 3.064532]\n",
            "900 [D loss supervised: 0.0009, acc.: 100.00%] [D loss unsupervised: 0.5686] [G loss: 1.820377]\n",
            "1000 [D loss supervised: 0.0007, acc.: 100.00%] [D loss unsupervised: 0.2371] [G loss: 3.090157]\n",
            "1100 [D loss supervised: 0.0006, acc.: 100.00%] [D loss unsupervised: 0.1592] [G loss: 4.786161]\n",
            "1200 [D loss supervised: 0.0026, acc.: 100.00%] [D loss unsupervised: 0.0626] [G loss: 4.241292]\n",
            "1300 [D loss supervised: 0.0026, acc.: 100.00%] [D loss unsupervised: 0.0457] [G loss: 4.756291]\n",
            "1400 [D loss supervised: 0.0006, acc.: 100.00%] [D loss unsupervised: 0.5201] [G loss: 2.963820]\n",
            "1500 [D loss supervised: 0.0118, acc.: 100.00%] [D loss unsupervised: 0.2977] [G loss: 2.872293]\n",
            "1600 [D loss supervised: 0.0050, acc.: 100.00%] [D loss unsupervised: 0.3400] [G loss: 4.339951]\n",
            "1700 [D loss supervised: 0.0042, acc.: 100.00%] [D loss unsupervised: 0.3163] [G loss: 4.335780]\n",
            "1800 [D loss supervised: 0.0011, acc.: 100.00%] [D loss unsupervised: 0.1151] [G loss: 3.771710]\n",
            "1900 [D loss supervised: 0.0051, acc.: 100.00%] [D loss unsupervised: 0.2318] [G loss: 4.699145]\n",
            "2000 [D loss supervised: 0.0010, acc.: 100.00%] [D loss unsupervised: 0.1971] [G loss: 3.875755]\n",
            "2100 [D loss supervised: 0.0024, acc.: 100.00%] [D loss unsupervised: 0.2463] [G loss: 3.994245]\n",
            "2200 [D loss supervised: 0.0024, acc.: 100.00%] [D loss unsupervised: 0.2899] [G loss: 3.356971]\n",
            "2300 [D loss supervised: 0.0009, acc.: 100.00%] [D loss unsupervised: 0.2384] [G loss: 5.245883]\n",
            "2400 [D loss supervised: 0.0023, acc.: 100.00%] [D loss unsupervised: 0.2365] [G loss: 4.736862]\n",
            "2500 [D loss supervised: 0.0006, acc.: 100.00%] [D loss unsupervised: 0.2392] [G loss: 3.924830]\n",
            "2600 [D loss supervised: 0.0014, acc.: 100.00%] [D loss unsupervised: 0.3329] [G loss: 5.242372]\n",
            "2700 [D loss supervised: 0.0015, acc.: 100.00%] [D loss unsupervised: 0.1507] [G loss: 3.570984]\n",
            "2800 [D loss supervised: 0.0006, acc.: 100.00%] [D loss unsupervised: 0.1670] [G loss: 5.555947]\n",
            "2900 [D loss supervised: 0.0008, acc.: 100.00%] [D loss unsupervised: 0.0883] [G loss: 5.674254]\n",
            "3000 [D loss supervised: 0.0015, acc.: 100.00%] [D loss unsupervised: 0.1478] [G loss: 4.781845]\n",
            "3100 [D loss supervised: 0.0004, acc.: 100.00%] [D loss unsupervised: 0.3103] [G loss: 5.321236]\n",
            "3200 [D loss supervised: 0.0004, acc.: 100.00%] [D loss unsupervised: 0.3911] [G loss: 1.594159]\n",
            "3300 [D loss supervised: 0.0028, acc.: 100.00%] [D loss unsupervised: 0.1744] [G loss: 3.294960]\n",
            "3400 [D loss supervised: 0.0176, acc.: 100.00%] [D loss unsupervised: 0.2638] [G loss: 4.128521]\n",
            "3500 [D loss supervised: 0.0025, acc.: 100.00%] [D loss unsupervised: 0.3720] [G loss: 2.009401]\n",
            "3600 [D loss supervised: 0.0001, acc.: 100.00%] [D loss unsupervised: 0.2550] [G loss: 3.371438]\n",
            "3700 [D loss supervised: 0.0030, acc.: 100.00%] [D loss unsupervised: 0.3882] [G loss: 2.320299]\n",
            "3800 [D loss supervised: 0.0008, acc.: 100.00%] [D loss unsupervised: 0.6065] [G loss: 3.078557]\n",
            "3900 [D loss supervised: 0.0005, acc.: 100.00%] [D loss unsupervised: 0.1230] [G loss: 4.906744]\n",
            "4000 [D loss supervised: 0.0251, acc.: 96.88%] [D loss unsupervised: 0.2129] [G loss: 3.630271]\n",
            "4100 [D loss supervised: 0.0007, acc.: 100.00%] [D loss unsupervised: 0.3853] [G loss: 3.136331]\n",
            "4200 [D loss supervised: 0.0010, acc.: 100.00%] [D loss unsupervised: 0.2119] [G loss: 2.054542]\n",
            "4300 [D loss supervised: 0.0004, acc.: 100.00%] [D loss unsupervised: 0.0970] [G loss: 5.074231]\n",
            "4400 [D loss supervised: 0.0004, acc.: 100.00%] [D loss unsupervised: 0.5100] [G loss: 4.815905]\n",
            "4500 [D loss supervised: 0.0023, acc.: 100.00%] [D loss unsupervised: 0.4050] [G loss: 4.826532]\n",
            "4600 [D loss supervised: 0.0023, acc.: 100.00%] [D loss unsupervised: 0.1808] [G loss: 3.270457]\n",
            "4700 [D loss supervised: 0.0042, acc.: 100.00%] [D loss unsupervised: 0.6714] [G loss: 3.054972]\n",
            "4800 [D loss supervised: 0.0120, acc.: 100.00%] [D loss unsupervised: 0.5081] [G loss: 4.464169]\n",
            "4900 [D loss supervised: 0.0027, acc.: 100.00%] [D loss unsupervised: 0.4891] [G loss: 5.043839]\n",
            "5000 [D loss supervised: 0.0035, acc.: 100.00%] [D loss unsupervised: 0.2729] [G loss: 4.975027]\n",
            "5100 [D loss supervised: 0.0004, acc.: 100.00%] [D loss unsupervised: 0.3744] [G loss: 4.351510]\n",
            "5200 [D loss supervised: 0.0004, acc.: 100.00%] [D loss unsupervised: 0.2941] [G loss: 1.661054]\n",
            "5300 [D loss supervised: 0.0025, acc.: 100.00%] [D loss unsupervised: 0.3224] [G loss: 2.880614]\n",
            "5400 [D loss supervised: 0.0008, acc.: 100.00%] [D loss unsupervised: 0.2449] [G loss: 4.485345]\n",
            "5500 [D loss supervised: 0.0006, acc.: 100.00%] [D loss unsupervised: 0.3092] [G loss: 4.277319]\n",
            "5600 [D loss supervised: 0.0005, acc.: 100.00%] [D loss unsupervised: 0.3841] [G loss: 2.775369]\n",
            "5700 [D loss supervised: 0.0005, acc.: 100.00%] [D loss unsupervised: 0.2639] [G loss: 5.170987]\n",
            "5800 [D loss supervised: 0.0010, acc.: 100.00%] [D loss unsupervised: 0.2472] [G loss: 4.562883]\n",
            "5900 [D loss supervised: 0.0014, acc.: 100.00%] [D loss unsupervised: 0.4947] [G loss: 2.136252]\n",
            "6000 [D loss supervised: 0.0023, acc.: 100.00%] [D loss unsupervised: 0.6476] [G loss: 2.609212]\n",
            "6100 [D loss supervised: 0.0117, acc.: 100.00%] [D loss unsupervised: 0.2061] [G loss: 2.921497]\n",
            "6200 [D loss supervised: 0.0014, acc.: 100.00%] [D loss unsupervised: 0.4883] [G loss: 0.712635]\n",
            "6300 [D loss supervised: 0.0009, acc.: 100.00%] [D loss unsupervised: 0.3662] [G loss: 4.960768]\n",
            "6400 [D loss supervised: 0.0048, acc.: 100.00%] [D loss unsupervised: 0.4556] [G loss: 4.984849]\n",
            "6500 [D loss supervised: 0.0012, acc.: 100.00%] [D loss unsupervised: 0.2948] [G loss: 3.021620]\n",
            "6600 [D loss supervised: 0.0019, acc.: 100.00%] [D loss unsupervised: 0.1894] [G loss: 3.667296]\n",
            "6700 [D loss supervised: 0.0020, acc.: 100.00%] [D loss unsupervised: 0.1919] [G loss: 3.445265]\n",
            "6800 [D loss supervised: 0.0018, acc.: 100.00%] [D loss unsupervised: 0.4079] [G loss: 3.998872]\n",
            "6900 [D loss supervised: 0.0011, acc.: 100.00%] [D loss unsupervised: 0.2371] [G loss: 2.967478]\n",
            "7000 [D loss supervised: 0.0041, acc.: 100.00%] [D loss unsupervised: 0.0666] [G loss: 3.457040]\n",
            "7100 [D loss supervised: 0.0016, acc.: 100.00%] [D loss unsupervised: 0.3028] [G loss: 5.987478]\n",
            "7200 [D loss supervised: 0.0042, acc.: 100.00%] [D loss unsupervised: 0.3084] [G loss: 3.990560]\n",
            "7300 [D loss supervised: 0.0039, acc.: 100.00%] [D loss unsupervised: 0.3202] [G loss: 2.984599]\n",
            "7400 [D loss supervised: 0.0303, acc.: 96.88%] [D loss unsupervised: 0.4236] [G loss: 4.676677]\n",
            "7500 [D loss supervised: 0.0051, acc.: 100.00%] [D loss unsupervised: 0.2085] [G loss: 4.389826]\n",
            "7600 [D loss supervised: 0.0012, acc.: 100.00%] [D loss unsupervised: 0.3523] [G loss: 2.216769]\n",
            "7700 [D loss supervised: 0.0008, acc.: 100.00%] [D loss unsupervised: 0.2306] [G loss: 2.590007]\n",
            "7800 [D loss supervised: 0.0005, acc.: 100.00%] [D loss unsupervised: 0.3483] [G loss: 1.744924]\n",
            "7900 [D loss supervised: 0.0046, acc.: 100.00%] [D loss unsupervised: 0.2611] [G loss: 2.783969]\n",
            "8000 [D loss supervised: 0.0007, acc.: 100.00%] [D loss unsupervised: 0.5882] [G loss: 2.528886]\n"
          ],
          "name": "stdout"
        }
      ]
    },
    {
      "cell_type": "code",
      "metadata": {
        "id": "T98POkWe5IDh",
        "colab_type": "code",
        "outputId": "75bc3e76-cc60-4af6-b7e4-9f89a009d0e5",
        "colab": {
          "base_uri": "https://localhost:8080/",
          "height": 382
        }
      },
      "source": [
        "supervised_losses = np.array(supervised_losses)\n",
        "unsupervised_losses = np.array(unsupervised_losses)\n",
        "g_losses = np.array(g_losses)\n",
        "\n",
        "# Plot Discriminator supervised loss\n",
        "plt.figure(figsize=(15, 5))\n",
        "plt.plot(iteration_checkpoints, supervised_losses, label=\"Discriminator supervised loss\", color='tab:blue')\n",
        "plt.plot(iteration_checkpoints, unsupervised_losses, label=\"Discriminator unsupervised loss\", color='tab:green')\n",
        "plt.plot(iteration_checkpoints, g_losses, label=\"Generator supervised loss\", color='tab:red')\n",
        "\n",
        "plt.xticks(iteration_checkpoints, rotation=90)\n",
        "\n",
        "plt.title(\"Discriminator(supervised + unsupervised) + Generator Loss\")\n",
        "plt.xlabel(\"Iteration\")\n",
        "plt.ylabel(\"Loss\")\n",
        "plt.legend()"
      ],
      "execution_count": 194,
      "outputs": [
        {
          "output_type": "execute_result",
          "data": {
            "text/plain": [
              "<matplotlib.legend.Legend at 0x7fa502330d68>"
            ]
          },
          "metadata": {
            "tags": []
          },
          "execution_count": 194
        },
        {
          "output_type": "display_data",
          "data": {
            "image/png": "[encoded data removed]",
            "text/plain": [
              "<Figure size 1080x360 with 1 Axes>"
            ]
          },
          "metadata": {
            "tags": []
          }
        }
      ]
    },
    {
      "cell_type": "code",
      "metadata": {
        "id": "F61dqQWQ3ri6",
        "colab_type": "code",
        "outputId": "1938cc71-e36e-41ab-f079-725b73a0f548",
        "colab": {
          "base_uri": "https://localhost:8080/",
          "height": 50
        }
      },
      "source": [
        "print(supervised_losses[-10:])"
      ],
      "execution_count": 195,
      "outputs": [
        {
          "output_type": "stream",
          "text": [
            "[0.00158508 0.00421892 0.00393993 0.0302744  0.0050643  0.00120058\n",
            " 0.00076666 0.00052792 0.00463997 0.000655  ]\n"
          ],
          "name": "stdout"
        }
      ]
    },
    {
      "cell_type": "markdown",
      "metadata": {
        "id": "PScPJocN5IDk",
        "colab_type": "text"
      },
      "source": [
        "## SCGAN Classifier – Training and Test Accuracy "
      ]
    },
    {
      "cell_type": "code",
      "metadata": {
        "id": "e6BmzAGk5IDl",
        "colab_type": "code",
        "outputId": "74e9db16-663e-4c38-d1df-b4ee19e837c1",
        "colab": {
          "base_uri": "https://localhost:8080/",
          "height": 50
        }
      },
      "source": [
        "x, y = dataset.training_set()\n",
        "y = to_categorical(y, num_classes=num_classes)\n",
        "\n",
        "# Compute classification accuracy on the training set\n",
        "_, accuracy = discriminator_supervised.evaluate(x, y)\n",
        "print(\"Training Accuracy: %.2f%%\" % (100 * accuracy))"
      ],
      "execution_count": 196,
      "outputs": [
        {
          "output_type": "stream",
          "text": [
            "2000/2000 [==============================] - 0s 83us/step\n",
            "Training Accuracy: 100.00%\n"
          ],
          "name": "stdout"
        }
      ]
    },
    {
      "cell_type": "code",
      "metadata": {
        "id": "ctWFp3zX5IDo",
        "colab_type": "code",
        "outputId": "714f920f-7ec6-4c93-a432-07f71a8f255a",
        "colab": {
          "base_uri": "https://localhost:8080/",
          "height": 50
        }
      },
      "source": [
        "x, y = dataset.test_set()\n",
        "y = to_categorical(y, num_classes=num_classes)\n",
        "\n",
        "# Compute classification accuracy on the test set\n",
        "_, accuracy = discriminator_supervised.evaluate(x, y)\n",
        "print(\"Test Accuracy: %.2f%%\" % (100 * accuracy))"
      ],
      "execution_count": 197,
      "outputs": [
        {
          "output_type": "stream",
          "text": [
            "10000/10000 [==============================] - 1s 79us/step\n",
            "Test Accuracy: 97.92%\n"
          ],
          "name": "stdout"
        }
      ]
    },
    {
      "cell_type": "markdown",
      "metadata": {
        "id": "VDMoAU1r5IDv",
        "colab_type": "text"
      },
      "source": [
        "# Fully-Supervised Classifier"
      ]
    },
    {
      "cell_type": "code",
      "metadata": {
        "id": "TA4C3_RL5IDx",
        "colab_type": "code",
        "colab": {}
      },
      "source": [
        "# Fully supervised classifier with the same network architecture as the SGAN Discriminator\n",
        "mnist_classifier = build_discriminator_supervised(build_discriminator_net(img_shape))\n",
        "mnist_classifier.compile(loss='categorical_crossentropy',\n",
        "                         metrics=['accuracy'],\n",
        "                         optimizer=Adam())"
      ],
      "execution_count": 0,
      "outputs": []
    },
    {
      "cell_type": "code",
      "metadata": {
        "id": "zlJkb5fN5ID3",
        "colab_type": "code",
        "outputId": "051df77a-759a-4acb-ca21-cff655b8f74d",
        "colab": {
          "base_uri": "https://localhost:8080/",
          "height": 1000
        }
      },
      "source": [
        "imgs, labels = dataset.training_set()\n",
        "imgs = imgs[:num_labeled]\n",
        "labels = labels[:num_labeled]\n",
        "\n",
        "# One-hot encode labels\n",
        "labels = to_categorical(labels, num_classes=num_classes)\n",
        "\n",
        "# Train the classifier\n",
        "training = mnist_classifier.fit(x=imgs,\n",
        "                                y=labels,\n",
        "                                batch_size=32,\n",
        "                                epochs=200,\n",
        "                                verbose=1)\n",
        "losses = training.history['loss']\n",
        "accuracies = training.history['acc']"
      ],
      "execution_count": 199,
      "outputs": [
        {
          "output_type": "stream",
          "text": [
            "Epoch 1/200\n",
            "2000/2000 [==============================] - 5s 2ms/step - loss: 0.9853 - acc: 0.6775\n",
            "Epoch 2/200\n",
            "2000/2000 [==============================] - 0s 198us/step - loss: 0.3303 - acc: 0.8985\n",
            "Epoch 3/200\n",
            "2000/2000 [==============================] - 0s 199us/step - loss: 0.1916 - acc: 0.9470\n",
            "Epoch 4/200\n",
            "2000/2000 [==============================] - 0s 207us/step - loss: 0.1389 - acc: 0.9580\n",
            "Epoch 5/200\n",
            "2000/2000 [==============================] - 0s 209us/step - loss: 0.0821 - acc: 0.9770\n",
            "Epoch 6/200\n",
            "2000/2000 [==============================] - 0s 195us/step - loss: 0.0523 - acc: 0.9895\n",
            "Epoch 7/200\n",
            "2000/2000 [==============================] - 0s 198us/step - loss: 0.0395 - acc: 0.9905\n",
            "Epoch 8/200\n",
            "2000/2000 [==============================] - 0s 195us/step - loss: 0.0370 - acc: 0.9905\n",
            "Epoch 9/200\n",
            "2000/2000 [==============================] - 0s 205us/step - loss: 0.0298 - acc: 0.9925\n",
            "Epoch 10/200\n",
            "2000/2000 [==============================] - 0s 216us/step - loss: 0.0299 - acc: 0.9920\n",
            "Epoch 11/200\n",
            "2000/2000 [==============================] - 0s 194us/step - loss: 0.0273 - acc: 0.9940\n",
            "Epoch 12/200\n",
            "2000/2000 [==============================] - 0s 217us/step - loss: 0.0202 - acc: 0.9960\n",
            "Epoch 13/200\n",
            "2000/2000 [==============================] - 0s 215us/step - loss: 0.0172 - acc: 0.9975\n",
            "Epoch 14/200\n",
            "2000/2000 [==============================] - 0s 209us/step - loss: 0.0162 - acc: 0.9970\n",
            "Epoch 15/200\n",
            "2000/2000 [==============================] - 0s 217us/step - loss: 0.0104 - acc: 0.9980\n",
            "Epoch 16/200\n",
            "2000/2000 [==============================] - 0s 214us/step - loss: 0.0079 - acc: 0.9995\n",
            "Epoch 17/200\n",
            "2000/2000 [==============================] - 0s 240us/step - loss: 0.0064 - acc: 0.9990\n",
            "Epoch 18/200\n",
            "2000/2000 [==============================] - 0s 211us/step - loss: 0.0064 - acc: 0.9990\n",
            "Epoch 19/200\n",
            "2000/2000 [==============================] - 0s 209us/step - loss: 0.0064 - acc: 0.9990\n",
            "Epoch 20/200\n",
            "2000/2000 [==============================] - 0s 199us/step - loss: 0.0048 - acc: 0.9995\n",
            "Epoch 21/200\n",
            "2000/2000 [==============================] - 0s 210us/step - loss: 0.0060 - acc: 0.9980\n",
            "Epoch 22/200\n",
            "2000/2000 [==============================] - 0s 199us/step - loss: 0.0058 - acc: 0.9990\n",
            "Epoch 23/200\n",
            "2000/2000 [==============================] - 0s 206us/step - loss: 0.0056 - acc: 0.9995\n",
            "Epoch 24/200\n",
            "2000/2000 [==============================] - 0s 199us/step - loss: 0.0032 - acc: 1.0000\n",
            "Epoch 25/200\n",
            "2000/2000 [==============================] - 0s 203us/step - loss: 0.0030 - acc: 0.9995\n",
            "Epoch 26/200\n",
            "2000/2000 [==============================] - 0s 196us/step - loss: 0.0020 - acc: 1.0000\n",
            "Epoch 27/200\n",
            "2000/2000 [==============================] - 0s 197us/step - loss: 0.0045 - acc: 0.9995\n",
            "Epoch 28/200\n",
            "2000/2000 [==============================] - 0s 198us/step - loss: 0.0029 - acc: 1.0000\n",
            "Epoch 29/200\n",
            "2000/2000 [==============================] - 0s 207us/step - loss: 0.0036 - acc: 0.9985\n",
            "Epoch 30/200\n",
            "2000/2000 [==============================] - 0s 199us/step - loss: 0.0046 - acc: 0.9995\n",
            "Epoch 31/200\n",
            "2000/2000 [==============================] - 0s 199us/step - loss: 0.0094 - acc: 0.9980\n",
            "Epoch 32/200\n",
            "2000/2000 [==============================] - 0s 210us/step - loss: 0.0366 - acc: 0.9875\n",
            "Epoch 33/200\n",
            "2000/2000 [==============================] - 0s 195us/step - loss: 0.0751 - acc: 0.9745\n",
            "Epoch 34/200\n",
            "2000/2000 [==============================] - 0s 207us/step - loss: 0.0382 - acc: 0.9855\n",
            "Epoch 35/200\n",
            "2000/2000 [==============================] - 0s 199us/step - loss: 0.0205 - acc: 0.9940\n",
            "Epoch 36/200\n",
            "2000/2000 [==============================] - 0s 197us/step - loss: 0.0210 - acc: 0.9930\n",
            "Epoch 37/200\n",
            "2000/2000 [==============================] - 0s 198us/step - loss: 0.0179 - acc: 0.9935\n",
            "Epoch 38/200\n",
            "2000/2000 [==============================] - 0s 193us/step - loss: 0.0077 - acc: 0.9980\n",
            "Epoch 39/200\n",
            "2000/2000 [==============================] - 0s 207us/step - loss: 0.0089 - acc: 0.9980\n",
            "Epoch 40/200\n",
            "2000/2000 [==============================] - 0s 202us/step - loss: 0.0053 - acc: 0.9990\n",
            "Epoch 41/200\n",
            "2000/2000 [==============================] - 0s 204us/step - loss: 0.0055 - acc: 0.9985\n",
            "Epoch 42/200\n",
            "2000/2000 [==============================] - 0s 203us/step - loss: 0.0068 - acc: 0.9970\n",
            "Epoch 43/200\n",
            "2000/2000 [==============================] - 0s 190us/step - loss: 0.0025 - acc: 1.0000\n",
            "Epoch 44/200\n",
            "2000/2000 [==============================] - 0s 193us/step - loss: 0.0033 - acc: 0.9995\n",
            "Epoch 45/200\n",
            "2000/2000 [==============================] - 0s 207us/step - loss: 0.0034 - acc: 0.9985\n",
            "Epoch 46/200\n",
            "2000/2000 [==============================] - 0s 198us/step - loss: 0.0017 - acc: 1.0000\n",
            "Epoch 47/200\n",
            "2000/2000 [==============================] - 0s 202us/step - loss: 0.0019 - acc: 1.0000\n",
            "Epoch 48/200\n",
            "2000/2000 [==============================] - 0s 206us/step - loss: 0.0037 - acc: 0.9985\n",
            "Epoch 49/200\n",
            "2000/2000 [==============================] - 0s 202us/step - loss: 0.0058 - acc: 0.9970\n",
            "Epoch 50/200\n",
            "2000/2000 [==============================] - 0s 209us/step - loss: 0.0032 - acc: 1.0000\n",
            "Epoch 51/200\n",
            "2000/2000 [==============================] - 0s 202us/step - loss: 0.0034 - acc: 0.9990\n",
            "Epoch 52/200\n",
            "2000/2000 [==============================] - 0s 206us/step - loss: 0.0017 - acc: 1.0000\n",
            "Epoch 53/200\n",
            "2000/2000 [==============================] - 0s 203us/step - loss: 0.0016 - acc: 1.0000\n",
            "Epoch 54/200\n",
            "2000/2000 [==============================] - 0s 204us/step - loss: 5.7888e-04 - acc: 1.0000\n",
            "Epoch 55/200\n",
            "2000/2000 [==============================] - 0s 200us/step - loss: 6.6212e-04 - acc: 1.0000\n",
            "Epoch 56/200\n",
            "2000/2000 [==============================] - 0s 187us/step - loss: 7.6489e-04 - acc: 1.0000\n",
            "Epoch 57/200\n",
            "2000/2000 [==============================] - 0s 189us/step - loss: 8.1883e-04 - acc: 1.0000\n",
            "Epoch 58/200\n",
            "2000/2000 [==============================] - 0s 195us/step - loss: 8.0329e-04 - acc: 1.0000\n",
            "Epoch 59/200\n",
            "2000/2000 [==============================] - 0s 196us/step - loss: 0.0017 - acc: 0.9995\n",
            "Epoch 60/200\n",
            "2000/2000 [==============================] - 0s 197us/step - loss: 7.4225e-04 - acc: 1.0000\n",
            "Epoch 61/200\n",
            "2000/2000 [==============================] - 0s 210us/step - loss: 5.6116e-04 - acc: 1.0000\n",
            "Epoch 62/200\n",
            "2000/2000 [==============================] - 0s 188us/step - loss: 4.5008e-04 - acc: 1.0000\n",
            "Epoch 63/200\n",
            "2000/2000 [==============================] - 0s 198us/step - loss: 6.0557e-04 - acc: 1.0000\n",
            "Epoch 64/200\n",
            "2000/2000 [==============================] - 0s 219us/step - loss: 6.7542e-04 - acc: 1.0000\n",
            "Epoch 65/200\n",
            "2000/2000 [==============================] - 0s 207us/step - loss: 0.0023 - acc: 0.9990\n",
            "Epoch 66/200\n",
            "2000/2000 [==============================] - 0s 209us/step - loss: 0.0130 - acc: 0.9945\n",
            "Epoch 67/200\n",
            "2000/2000 [==============================] - 0s 203us/step - loss: 0.0419 - acc: 0.9875\n",
            "Epoch 68/200\n",
            "2000/2000 [==============================] - 0s 189us/step - loss: 0.0200 - acc: 0.9920\n",
            "Epoch 69/200\n",
            "2000/2000 [==============================] - 0s 194us/step - loss: 0.0530 - acc: 0.9850\n",
            "Epoch 70/200\n",
            "2000/2000 [==============================] - 0s 190us/step - loss: 0.0315 - acc: 0.9905\n",
            "Epoch 71/200\n",
            "2000/2000 [==============================] - 0s 199us/step - loss: 0.0170 - acc: 0.9950\n",
            "Epoch 72/200\n",
            "2000/2000 [==============================] - 0s 200us/step - loss: 0.0156 - acc: 0.9940\n",
            "Epoch 73/200\n",
            "2000/2000 [==============================] - 0s 210us/step - loss: 0.0247 - acc: 0.9920\n",
            "Epoch 74/200\n",
            "2000/2000 [==============================] - 0s 213us/step - loss: 0.0121 - acc: 0.9955\n",
            "Epoch 75/200\n",
            "2000/2000 [==============================] - 0s 196us/step - loss: 0.0114 - acc: 0.9965\n",
            "Epoch 76/200\n",
            "2000/2000 [==============================] - 0s 200us/step - loss: 0.0086 - acc: 0.9965\n",
            "Epoch 77/200\n",
            "2000/2000 [==============================] - 0s 203us/step - loss: 0.0052 - acc: 0.9975\n",
            "Epoch 78/200\n",
            "2000/2000 [==============================] - 0s 197us/step - loss: 0.0107 - acc: 0.9955\n",
            "Epoch 79/200\n",
            "2000/2000 [==============================] - 0s 193us/step - loss: 0.0101 - acc: 0.9970\n",
            "Epoch 80/200\n",
            "2000/2000 [==============================] - 0s 198us/step - loss: 0.0107 - acc: 0.9975\n",
            "Epoch 81/200\n",
            "2000/2000 [==============================] - 0s 198us/step - loss: 0.0059 - acc: 0.9980\n",
            "Epoch 82/200\n",
            "2000/2000 [==============================] - 0s 182us/step - loss: 0.0024 - acc: 0.9995\n",
            "Epoch 83/200\n",
            "2000/2000 [==============================] - 0s 183us/step - loss: 0.0011 - acc: 1.0000\n",
            "Epoch 84/200\n",
            "2000/2000 [==============================] - 0s 206us/step - loss: 6.3124e-04 - acc: 1.0000\n",
            "Epoch 85/200\n",
            "2000/2000 [==============================] - 0s 198us/step - loss: 0.0011 - acc: 0.9995\n",
            "Epoch 86/200\n",
            "2000/2000 [==============================] - 0s 201us/step - loss: 6.5924e-04 - acc: 1.0000\n",
            "Epoch 87/200\n",
            "2000/2000 [==============================] - 0s 195us/step - loss: 2.8188e-04 - acc: 1.0000\n",
            "Epoch 88/200\n",
            "2000/2000 [==============================] - 0s 204us/step - loss: 6.6225e-04 - acc: 1.0000\n",
            "Epoch 89/200\n",
            "2000/2000 [==============================] - 0s 211us/step - loss: 2.6257e-04 - acc: 1.0000\n",
            "Epoch 90/200\n",
            "2000/2000 [==============================] - 0s 195us/step - loss: 2.3432e-04 - acc: 1.0000\n",
            "Epoch 91/200\n",
            "2000/2000 [==============================] - 0s 201us/step - loss: 2.6627e-04 - acc: 1.0000\n",
            "Epoch 92/200\n",
            "2000/2000 [==============================] - 0s 184us/step - loss: 3.5863e-04 - acc: 1.0000\n",
            "Epoch 93/200\n",
            "2000/2000 [==============================] - 0s 185us/step - loss: 0.0017 - acc: 0.9990\n",
            "Epoch 94/200\n",
            "2000/2000 [==============================] - 0s 193us/step - loss: 0.0013 - acc: 0.9995\n",
            "Epoch 95/200\n",
            "2000/2000 [==============================] - 0s 194us/step - loss: 0.0016 - acc: 0.9995\n",
            "Epoch 96/200\n",
            "2000/2000 [==============================] - 0s 213us/step - loss: 0.0011 - acc: 0.9995\n",
            "Epoch 97/200\n",
            "2000/2000 [==============================] - 0s 218us/step - loss: 7.3329e-04 - acc: 0.9995\n",
            "Epoch 98/200\n",
            "2000/2000 [==============================] - 0s 210us/step - loss: 6.5329e-04 - acc: 1.0000\n",
            "Epoch 99/200\n",
            "2000/2000 [==============================] - 0s 227us/step - loss: 2.7548e-04 - acc: 1.0000\n",
            "Epoch 100/200\n",
            "2000/2000 [==============================] - 0s 212us/step - loss: 6.0575e-04 - acc: 0.9995\n",
            "Epoch 101/200\n",
            "2000/2000 [==============================] - 0s 206us/step - loss: 5.4191e-04 - acc: 1.0000\n",
            "Epoch 102/200\n",
            "2000/2000 [==============================] - 0s 187us/step - loss: 8.4669e-04 - acc: 1.0000\n",
            "Epoch 103/200\n",
            "2000/2000 [==============================] - 0s 196us/step - loss: 9.6488e-04 - acc: 1.0000\n",
            "Epoch 104/200\n",
            "2000/2000 [==============================] - 0s 191us/step - loss: 0.0045 - acc: 0.9980\n",
            "Epoch 105/200\n",
            "2000/2000 [==============================] - 0s 196us/step - loss: 0.0034 - acc: 0.9980\n",
            "Epoch 106/200\n",
            "2000/2000 [==============================] - 0s 205us/step - loss: 0.0027 - acc: 0.9990\n",
            "Epoch 107/200\n",
            "2000/2000 [==============================] - 0s 198us/step - loss: 0.0057 - acc: 0.9985\n",
            "Epoch 108/200\n",
            "2000/2000 [==============================] - 0s 193us/step - loss: 0.0118 - acc: 0.9960\n",
            "Epoch 109/200\n",
            "2000/2000 [==============================] - 0s 194us/step - loss: 0.0293 - acc: 0.9905\n",
            "Epoch 110/200\n",
            "2000/2000 [==============================] - 0s 186us/step - loss: 0.0224 - acc: 0.9930\n",
            "Epoch 111/200\n",
            "2000/2000 [==============================] - 0s 205us/step - loss: 0.0143 - acc: 0.9970\n",
            "Epoch 112/200\n",
            "2000/2000 [==============================] - 0s 211us/step - loss: 0.0055 - acc: 0.9970\n",
            "Epoch 113/200\n",
            "2000/2000 [==============================] - 0s 201us/step - loss: 0.0043 - acc: 0.9980\n",
            "Epoch 114/200\n",
            "2000/2000 [==============================] - 0s 216us/step - loss: 0.0166 - acc: 0.9940\n",
            "Epoch 115/200\n",
            "2000/2000 [==============================] - 0s 205us/step - loss: 0.0092 - acc: 0.9950\n",
            "Epoch 116/200\n",
            "2000/2000 [==============================] - 0s 211us/step - loss: 0.0203 - acc: 0.9950\n",
            "Epoch 117/200\n",
            "2000/2000 [==============================] - 0s 199us/step - loss: 0.0016 - acc: 1.0000\n",
            "Epoch 118/200\n",
            "2000/2000 [==============================] - 0s 213us/step - loss: 0.0014 - acc: 1.0000\n",
            "Epoch 119/200\n",
            "2000/2000 [==============================] - 0s 206us/step - loss: 0.0035 - acc: 0.9995\n",
            "Epoch 120/200\n",
            "2000/2000 [==============================] - 0s 189us/step - loss: 0.0043 - acc: 0.9985\n",
            "Epoch 121/200\n",
            "2000/2000 [==============================] - 0s 208us/step - loss: 0.0042 - acc: 0.9980\n",
            "Epoch 122/200\n",
            "2000/2000 [==============================] - 0s 197us/step - loss: 8.4253e-04 - acc: 1.0000\n",
            "Epoch 123/200\n",
            "2000/2000 [==============================] - 0s 203us/step - loss: 0.0023 - acc: 0.9990\n",
            "Epoch 124/200\n",
            "2000/2000 [==============================] - 0s 209us/step - loss: 0.0011 - acc: 1.0000\n",
            "Epoch 125/200\n",
            "2000/2000 [==============================] - 0s 199us/step - loss: 6.9767e-04 - acc: 1.0000\n",
            "Epoch 126/200\n",
            "2000/2000 [==============================] - 0s 203us/step - loss: 0.0017 - acc: 0.9995\n",
            "Epoch 127/200\n",
            "2000/2000 [==============================] - 0s 201us/step - loss: 0.0030 - acc: 0.9980\n",
            "Epoch 128/200\n",
            "2000/2000 [==============================] - 0s 199us/step - loss: 0.0034 - acc: 0.9995\n",
            "Epoch 129/200\n",
            "2000/2000 [==============================] - 0s 207us/step - loss: 5.9751e-04 - acc: 1.0000\n",
            "Epoch 130/200\n",
            "2000/2000 [==============================] - 0s 191us/step - loss: 2.5300e-04 - acc: 1.0000\n",
            "Epoch 131/200\n",
            "2000/2000 [==============================] - 0s 210us/step - loss: 0.0099 - acc: 0.9970\n",
            "Epoch 132/200\n",
            "2000/2000 [==============================] - 0s 201us/step - loss: 0.0086 - acc: 0.9970\n",
            "Epoch 133/200\n",
            "2000/2000 [==============================] - 0s 208us/step - loss: 0.0159 - acc: 0.9920\n",
            "Epoch 134/200\n",
            "2000/2000 [==============================] - 0s 218us/step - loss: 0.0112 - acc: 0.9950\n",
            "Epoch 135/200\n",
            "2000/2000 [==============================] - 0s 192us/step - loss: 0.0122 - acc: 0.9965\n",
            "Epoch 136/200\n",
            "2000/2000 [==============================] - 0s 197us/step - loss: 0.0187 - acc: 0.9945\n",
            "Epoch 137/200\n",
            "2000/2000 [==============================] - 0s 198us/step - loss: 0.0116 - acc: 0.9970\n",
            "Epoch 138/200\n",
            "2000/2000 [==============================] - 0s 198us/step - loss: 0.0079 - acc: 0.9980\n",
            "Epoch 139/200\n",
            "2000/2000 [==============================] - 0s 188us/step - loss: 0.0041 - acc: 0.9990\n",
            "Epoch 140/200\n",
            "2000/2000 [==============================] - 0s 194us/step - loss: 0.0123 - acc: 0.9965\n",
            "Epoch 141/200\n",
            "2000/2000 [==============================] - 0s 188us/step - loss: 0.0063 - acc: 0.9975\n",
            "Epoch 142/200\n",
            "2000/2000 [==============================] - 0s 192us/step - loss: 7.7537e-04 - acc: 1.0000\n",
            "Epoch 143/200\n",
            "2000/2000 [==============================] - 0s 192us/step - loss: 7.2954e-04 - acc: 1.0000\n",
            "Epoch 144/200\n",
            "2000/2000 [==============================] - 0s 202us/step - loss: 0.0010 - acc: 0.9995\n",
            "Epoch 145/200\n",
            "2000/2000 [==============================] - 0s 211us/step - loss: 3.2043e-04 - acc: 1.0000\n",
            "Epoch 146/200\n",
            "2000/2000 [==============================] - 0s 213us/step - loss: 5.3338e-04 - acc: 1.0000\n",
            "Epoch 147/200\n",
            "2000/2000 [==============================] - 0s 210us/step - loss: 8.8801e-04 - acc: 1.0000\n",
            "Epoch 148/200\n",
            "2000/2000 [==============================] - 0s 191us/step - loss: 0.0018 - acc: 0.9990\n",
            "Epoch 149/200\n",
            "2000/2000 [==============================] - 0s 191us/step - loss: 2.7598e-04 - acc: 1.0000\n",
            "Epoch 150/200\n",
            "2000/2000 [==============================] - 0s 207us/step - loss: 1.7827e-04 - acc: 1.0000\n",
            "Epoch 151/200\n",
            "2000/2000 [==============================] - 0s 203us/step - loss: 9.0931e-04 - acc: 1.0000\n",
            "Epoch 152/200\n",
            "2000/2000 [==============================] - 0s 195us/step - loss: 6.6810e-04 - acc: 0.9995\n",
            "Epoch 153/200\n",
            "2000/2000 [==============================] - 0s 203us/step - loss: 6.4545e-04 - acc: 1.0000\n",
            "Epoch 154/200\n",
            "2000/2000 [==============================] - 0s 195us/step - loss: 4.6454e-04 - acc: 1.0000\n",
            "Epoch 155/200\n",
            "2000/2000 [==============================] - 0s 197us/step - loss: 3.2892e-04 - acc: 1.0000\n",
            "Epoch 156/200\n",
            "2000/2000 [==============================] - 0s 190us/step - loss: 1.5460e-04 - acc: 1.0000\n",
            "Epoch 157/200\n",
            "2000/2000 [==============================] - 0s 183us/step - loss: 2.6417e-04 - acc: 1.0000\n",
            "Epoch 158/200\n",
            "2000/2000 [==============================] - 0s 202us/step - loss: 2.0890e-04 - acc: 1.0000\n",
            "Epoch 159/200\n",
            "2000/2000 [==============================] - 0s 198us/step - loss: 5.2189e-05 - acc: 1.0000\n",
            "Epoch 160/200\n",
            "2000/2000 [==============================] - 0s 190us/step - loss: 1.4116e-04 - acc: 1.0000\n",
            "Epoch 161/200\n",
            "2000/2000 [==============================] - 0s 206us/step - loss: 3.0083e-05 - acc: 1.0000\n",
            "Epoch 162/200\n",
            "2000/2000 [==============================] - 0s 194us/step - loss: 0.0031 - acc: 0.9980\n",
            "Epoch 163/200\n",
            "2000/2000 [==============================] - 0s 215us/step - loss: 0.0059 - acc: 0.9980\n",
            "Epoch 164/200\n",
            "2000/2000 [==============================] - 0s 197us/step - loss: 9.8792e-04 - acc: 1.0000\n",
            "Epoch 165/200\n",
            "2000/2000 [==============================] - 0s 187us/step - loss: 5.6876e-04 - acc: 0.9995\n",
            "Epoch 166/200\n",
            "2000/2000 [==============================] - 0s 196us/step - loss: 0.0015 - acc: 0.9995\n",
            "Epoch 167/200\n",
            "2000/2000 [==============================] - 0s 197us/step - loss: 5.6529e-04 - acc: 1.0000\n",
            "Epoch 168/200\n",
            "2000/2000 [==============================] - 0s 203us/step - loss: 0.0049 - acc: 0.9990\n",
            "Epoch 169/200\n",
            "2000/2000 [==============================] - 0s 192us/step - loss: 4.6632e-04 - acc: 1.0000\n",
            "Epoch 170/200\n",
            "2000/2000 [==============================] - 0s 184us/step - loss: 2.0604e-04 - acc: 1.0000\n",
            "Epoch 171/200\n",
            "2000/2000 [==============================] - 0s 211us/step - loss: 9.5176e-04 - acc: 0.9995\n",
            "Epoch 172/200\n",
            "2000/2000 [==============================] - 0s 196us/step - loss: 0.0128 - acc: 0.9975\n",
            "Epoch 173/200\n",
            "2000/2000 [==============================] - 0s 213us/step - loss: 0.0154 - acc: 0.9950\n",
            "Epoch 174/200\n",
            "2000/2000 [==============================] - 0s 204us/step - loss: 0.0123 - acc: 0.9960\n",
            "Epoch 175/200\n",
            "2000/2000 [==============================] - 0s 204us/step - loss: 0.0155 - acc: 0.9955\n",
            "Epoch 176/200\n",
            "2000/2000 [==============================] - 0s 214us/step - loss: 0.0156 - acc: 0.9930\n",
            "Epoch 177/200\n",
            "2000/2000 [==============================] - 0s 203us/step - loss: 0.0058 - acc: 0.9980\n",
            "Epoch 178/200\n",
            "2000/2000 [==============================] - 0s 220us/step - loss: 0.0031 - acc: 0.9990\n",
            "Epoch 179/200\n",
            "2000/2000 [==============================] - 0s 222us/step - loss: 0.0062 - acc: 0.9985\n",
            "Epoch 180/200\n",
            "2000/2000 [==============================] - 0s 216us/step - loss: 0.0020 - acc: 0.9990\n",
            "Epoch 181/200\n",
            "2000/2000 [==============================] - 0s 200us/step - loss: 0.0039 - acc: 0.9995\n",
            "Epoch 182/200\n",
            "2000/2000 [==============================] - 0s 197us/step - loss: 0.0030 - acc: 0.9985\n",
            "Epoch 183/200\n",
            "2000/2000 [==============================] - 0s 191us/step - loss: 8.1349e-04 - acc: 0.9995\n",
            "Epoch 184/200\n",
            "2000/2000 [==============================] - 0s 199us/step - loss: 0.0026 - acc: 0.9990\n",
            "Epoch 185/200\n",
            "2000/2000 [==============================] - 0s 206us/step - loss: 0.0032 - acc: 0.9990\n",
            "Epoch 186/200\n",
            "2000/2000 [==============================] - 0s 199us/step - loss: 0.0077 - acc: 0.9980\n",
            "Epoch 187/200\n",
            "2000/2000 [==============================] - 0s 192us/step - loss: 0.0036 - acc: 0.9990\n",
            "Epoch 188/200\n",
            "2000/2000 [==============================] - 0s 201us/step - loss: 0.0051 - acc: 0.9980\n",
            "Epoch 189/200\n",
            "2000/2000 [==============================] - 0s 181us/step - loss: 0.0100 - acc: 0.9980\n",
            "Epoch 190/200\n",
            "2000/2000 [==============================] - 0s 187us/step - loss: 0.0029 - acc: 0.9990\n",
            "Epoch 191/200\n",
            "2000/2000 [==============================] - 0s 210us/step - loss: 0.0021 - acc: 0.9995\n",
            "Epoch 192/200\n",
            "2000/2000 [==============================] - 0s 201us/step - loss: 0.0013 - acc: 0.9995\n",
            "Epoch 193/200\n",
            "2000/2000 [==============================] - 0s 207us/step - loss: 5.5580e-04 - acc: 1.0000\n",
            "Epoch 194/200\n",
            "2000/2000 [==============================] - 0s 185us/step - loss: 0.0014 - acc: 0.9995\n",
            "Epoch 195/200\n",
            "2000/2000 [==============================] - 0s 182us/step - loss: 0.0046 - acc: 0.9980\n",
            "Epoch 196/200\n",
            "2000/2000 [==============================] - 0s 209us/step - loss: 0.0012 - acc: 1.0000\n",
            "Epoch 197/200\n",
            "2000/2000 [==============================] - 0s 202us/step - loss: 0.0014 - acc: 0.9995\n",
            "Epoch 198/200\n",
            "2000/2000 [==============================] - 0s 202us/step - loss: 4.4942e-04 - acc: 1.0000\n",
            "Epoch 199/200\n",
            "2000/2000 [==============================] - 0s 197us/step - loss: 0.0020 - acc: 0.9990\n",
            "Epoch 200/200\n",
            "2000/2000 [==============================] - 0s 183us/step - loss: 7.9430e-04 - acc: 0.9995\n"
          ],
          "name": "stdout"
        }
      ]
    },
    {
      "cell_type": "code",
      "metadata": {
        "id": "JZYhSXjS5ID8",
        "colab_type": "code",
        "outputId": "a215c4bd-b64c-4dbd-d5f6-9b11bd29c87d",
        "colab": {
          "base_uri": "https://localhost:8080/",
          "height": 353
        }
      },
      "source": [
        "# Plot classification loss\n",
        "plt.figure(figsize=(10, 5))\n",
        "plt.plot(np.array(losses), label=\"Loss\")\n",
        "plt.title(\"Classification Loss\")\n",
        "plt.legend()"
      ],
      "execution_count": 200,
      "outputs": [
        {
          "output_type": "execute_result",
          "data": {
            "text/plain": [
              "<matplotlib.legend.Legend at 0x7fa5009e02e8>"
            ]
          },
          "metadata": {
            "tags": []
          },
          "execution_count": 200
        },
        {
          "output_type": "display_data",
          "data": {
            "image/png": "[encoded data removed]",
            "text/plain": [
              "<Figure size 720x360 with 1 Axes>"
            ]
          },
          "metadata": {
            "tags": []
          }
        }
      ]
    },
    {
      "cell_type": "code",
      "metadata": {
        "id": "1OX9tt085ID_",
        "colab_type": "code",
        "outputId": "98aefe15-329b-4e2a-a655-9ac943b7677a",
        "colab": {
          "base_uri": "https://localhost:8080/",
          "height": 353
        }
      },
      "source": [
        "# Plot classification accuracy\n",
        "plt.figure(figsize=(10, 5))\n",
        "plt.plot(np.array(accuracies), label=\"Accuracy\")\n",
        "plt.title(\"Classification Accuracy\")\n",
        "plt.legend()"
      ],
      "execution_count": 186,
      "outputs": [
        {
          "output_type": "execute_result",
          "data": {
            "text/plain": [
              "<matplotlib.legend.Legend at 0x7fa5016450f0>"
            ]
          },
          "metadata": {
            "tags": []
          },
          "execution_count": 186
        },
        {
          "output_type": "display_data",
          "data": {
            "image/png": "[encoded data removed]",
            "text/plain": [
              "<Figure size 720x360 with 1 Axes>"
            ]
          },
          "metadata": {
            "tags": []
          }
        }
      ]
    },
    {
      "cell_type": "code",
      "metadata": {
        "id": "6oMPnpnR5IEB",
        "colab_type": "code",
        "outputId": "b9a0b36d-4a94-4691-bfa9-2895199febbd",
        "colab": {
          "base_uri": "https://localhost:8080/",
          "height": 50
        }
      },
      "source": [
        "x, y = dataset.training_set()\n",
        "y = to_categorical(y, num_classes=num_classes)\n",
        "\n",
        "# Compute classification accuracy on the training set\n",
        "_, accuracy = mnist_classifier.evaluate(x, y)\n",
        "print(\"Training Accuracy: %.2f%%\" % (100 * accuracy))"
      ],
      "execution_count": 201,
      "outputs": [
        {
          "output_type": "stream",
          "text": [
            "2000/2000 [==============================] - 2s 860us/step\n",
            "Training Accuracy: 100.00%\n"
          ],
          "name": "stdout"
        }
      ]
    },
    {
      "cell_type": "code",
      "metadata": {
        "id": "x2B2kNsq5IEF",
        "colab_type": "code",
        "outputId": "2dec4540-a87c-4b01-afaf-2eb78fa81fc0",
        "colab": {
          "base_uri": "https://localhost:8080/",
          "height": 50
        }
      },
      "source": [
        "x, y = dataset.test_set()\n",
        "y = to_categorical(y, num_classes=num_classes)\n",
        "\n",
        "# Compute classification accuracy on the test set\n",
        "_, accuracy = mnist_classifier.evaluate(x, y)\n",
        "print(\"Test Accuracy: %.2f%%\" % (100 * accuracy))"
      ],
      "execution_count": 202,
      "outputs": [
        {
          "output_type": "stream",
          "text": [
            "10000/10000 [==============================] - 1s 79us/step\n",
            "Test Accuracy: 96.00%\n"
          ],
          "name": "stdout"
        }
      ]
    },
    {
      "cell_type": "markdown",
      "metadata": {
        "id": "UexjatKq5IEJ",
        "colab_type": "text"
      },
      "source": [
        "---"
      ]
    }
  ]
}