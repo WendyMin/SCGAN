{
  "nbformat": 4,
  "nbformat_minor": 0,
  "metadata": {
    "kernelspec": {
      "name": "python3",
      "display_name": "Python 3"
    },
    "language_info": {
      "codemirror_mode": {
        "name": "ipython",
        "version": 3
      },
      "file_extension": ".py",
      "mimetype": "text/x-python",
      "name": "python",
      "nbconvert_exporter": "python",
      "pygments_lexer": "ipython3",
      "version": "3.6.5"
    },
    "colab": {
      "name": "SCGAN.v1.ipynb",
      "version": "0.3.2",
      "provenance": [],
      "collapsed_sections": []
    },
    "accelerator": "GPU"
  },
  "cells": [
    {
      "cell_type": "markdown",
      "metadata": {
        "id": "4JrJW9Ib5ICb",
        "colab_type": "text"
      },
      "source": [
        "# Semi-Supervised Conditional GAN (SCGAN)"
      ]
    },
    {
      "cell_type": "code",
      "metadata": {
        "id": "QNWoI_bz5ICe",
        "colab_type": "code",
        "colab": {}
      },
      "source": [
        "%matplotlib inline\n",
        "\n",
        "import matplotlib.pyplot as plt\n",
        "import numpy as np\n",
        "import json\n",
        "\n",
        "from keras import backend as K\n",
        "\n",
        "from keras.datasets import mnist\n",
        "from keras.layers import (Activation, BatchNormalization, Concatenate, Dense,\n",
        "                          Dropout, Flatten, Input, Lambda, Reshape, Embedding,\n",
        "                          Multiply)\n",
        "from keras.layers.advanced_activations import LeakyReLU\n",
        "from keras.layers.convolutional import Conv2D, Conv2DTranspose\n",
        "from keras.models import Model, Sequential\n",
        "from keras.optimizers import Adam\n",
        "from keras.utils import to_categorical"
      ],
      "execution_count": 0,
      "outputs": []
    },
    {
      "cell_type": "markdown",
      "metadata": {
        "id": "xn9DfamS5ICl",
        "colab_type": "text"
      },
      "source": [
        "## Dataset"
      ]
    },
    {
      "cell_type": "code",
      "metadata": {
        "id": "bqo19imG5ICn",
        "colab_type": "code",
        "colab": {}
      },
      "source": [
        "class Dataset:\n",
        "    def __init__(self, num_labeled):\n",
        "\n",
        "        # Number labeled examples to use for training\n",
        "        self.num_labeled = num_labeled\n",
        "\n",
        "        # Load the MNIST dataset\n",
        "        (self.x_train, self.y_train), (self.x_test,\n",
        "                                       self.y_test) = mnist.load_data()\n",
        "\n",
        "        def preprocess_imgs(x):\n",
        "            # Rescale [0, 255] grayscale pixel values to [-1, 1]\n",
        "            x = (x.astype(np.float32) - 127.5) / 127.5\n",
        "            # Expand image dimensions to width x height x channels\n",
        "            x = np.expand_dims(x, axis=3)\n",
        "            return x\n",
        "\n",
        "        def preprocess_labels(y):\n",
        "            return y.reshape(-1, 1)\n",
        "\n",
        "        # Training data\n",
        "        self.x_train = preprocess_imgs(self.x_train)\n",
        "        self.y_train = preprocess_labels(self.y_train)\n",
        "\n",
        "        # Testing data\n",
        "        self.x_test = preprocess_imgs(self.x_test)\n",
        "        self.y_test = preprocess_labels(self.y_test)\n",
        "\n",
        "    def batch_labeled(self, batch_size):\n",
        "        # Get a random batch of labeled images and their labels\n",
        "        idx = np.random.randint(0, self.num_labeled, batch_size)\n",
        "        imgs = self.x_train[idx]\n",
        "        labels = self.y_train[idx]\n",
        "        return imgs, labels\n",
        "\n",
        "    def batch_unlabeled(self, batch_size):\n",
        "        # Get a random batch of unlabeled images\n",
        "        idx = np.random.randint(self.num_labeled, self.x_train.shape[0],\n",
        "                                batch_size)\n",
        "        imgs = self.x_train[idx]\n",
        "        return imgs\n",
        "\n",
        "    def training_set(self):\n",
        "        x_train = self.x_train[range(self.num_labeled)]\n",
        "        y_train = self.y_train[range(self.num_labeled)]\n",
        "        return x_train, y_train\n",
        "\n",
        "    def test_set(self):\n",
        "        return self.x_test, self.y_test"
      ],
      "execution_count": 0,
      "outputs": []
    },
    {
      "cell_type": "code",
      "metadata": {
        "id": "y6p2xUzF5ICt",
        "colab_type": "code",
        "colab": {}
      },
      "source": [
        "# Number of labeled examples to use (rest will be used as unlabeled)\n",
        "num_labeled = 300\n",
        "\n",
        "dataset = Dataset(num_labeled)"
      ],
      "execution_count": 0,
      "outputs": []
    },
    {
      "cell_type": "code",
      "metadata": {
        "id": "IW2-FIrD2z8n",
        "colab_type": "code",
        "outputId": "91a43745-055d-4c2a-eba3-9aa606480d84",
        "colab": {
          "base_uri": "https://localhost:8080/",
          "height": 84
        }
      },
      "source": [
        "(x_train, y_train), (x_test, y_test) = mnist.load_data()\n",
        "print(x_train.shape)\n",
        "print(y_train.shape)\n",
        "print(x_test.shape)\n",
        "print(y_test.shape)"
      ],
      "execution_count": 0,
      "outputs": [
        {
          "output_type": "stream",
          "text": [
            "(60000, 28, 28)\n",
            "(60000,)\n",
            "(10000, 28, 28)\n",
            "(10000,)\n"
          ],
          "name": "stdout"
        }
      ]
    },
    {
      "cell_type": "markdown",
      "metadata": {
        "id": "UtT5bpqm5ICy",
        "colab_type": "text"
      },
      "source": [
        "# Semi-Supervied GAN"
      ]
    },
    {
      "cell_type": "code",
      "metadata": {
        "id": "zeaE_XJq5IC0",
        "colab_type": "code",
        "colab": {}
      },
      "source": [
        "img_rows = 28\n",
        "img_cols = 28\n",
        "channels = 1\n",
        "\n",
        "# Input image dimensions\n",
        "img_shape = (img_rows, img_cols, channels)\n",
        "\n",
        "# Size of the noise vector, used as input to the Generator\n",
        "z_dim = 100\n",
        "\n",
        "# Number of classes in the dataset\n",
        "num_classes = 10"
      ],
      "execution_count": 0,
      "outputs": []
    },
    {
      "cell_type": "markdown",
      "metadata": {
        "id": "SEGfARiO5IC5",
        "colab_type": "text"
      },
      "source": [
        "## Generator"
      ]
    },
    {
      "cell_type": "code",
      "metadata": {
        "id": "GpyzLGKJ5IC6",
        "colab_type": "code",
        "colab": {}
      },
      "source": [
        "def build_generator(z_dim):\n",
        "\n",
        "    model = Sequential()\n",
        "\n",
        "    # Reshape input into 7x7x256 tensor via a fully connected layer\n",
        "    model.add(Dense(256 * 7 * 7, input_dim=z_dim))\n",
        "    model.add(Reshape((7, 7, 256)))\n",
        "\n",
        "    # Transposed convolution layer, from 7x7x256 into 14x14x128 tensor\n",
        "    model.add(Conv2DTranspose(128, kernel_size=3, strides=2, padding='same'))\n",
        "\n",
        "    # Batch normalization\n",
        "    model.add(BatchNormalization())\n",
        "\n",
        "    # Leaky ReLU activation\n",
        "    model.add(LeakyReLU(alpha=0.01))\n",
        "\n",
        "    # Transposed convolution layer, from 14x14x128 to 14x14x64 tensor\n",
        "    model.add(Conv2DTranspose(64, kernel_size=3, strides=1, padding='same'))\n",
        "\n",
        "    # Batch normalization\n",
        "    model.add(BatchNormalization())\n",
        "\n",
        "    # Leaky ReLU activation\n",
        "    model.add(LeakyReLU(alpha=0.01))\n",
        "\n",
        "    # Transposed convolution layer, from 14x14x64 to 28x28x1 tensor\n",
        "    model.add(Conv2DTranspose(1, kernel_size=3, strides=2, padding='same'))\n",
        "\n",
        "    # Output layer with tanh activation\n",
        "    model.add(Activation('tanh'))\n",
        "    \n",
        "    z = Input(shape=(z_dim, ))\n",
        "    label = Input(shape=(num_classes, ), dtype='float32')\n",
        "    label_embedding = Dense(z_dim, input_dim=num_classes)(label)\n",
        "    print(label_embedding)\n",
        "    joined_representation = Multiply()([z, label_embedding])\n",
        "    print(joined_representation)\n",
        "    conditioned_img = model(joined_representation)\n",
        "\n",
        "    model = Model([z, label], conditioned_img)\n",
        "\n",
        "    return model"
      ],
      "execution_count": 0,
      "outputs": []
    },
    {
      "cell_type": "code",
      "metadata": {
        "id": "QRiDvGxWOKQZ",
        "colab_type": "code",
        "outputId": "d469bf40-3773-466a-d520-6107d1f57d24",
        "colab": {
          "base_uri": "https://localhost:8080/",
          "height": 370
        }
      },
      "source": [
        "build_generator(z_dim).summary()"
      ],
      "execution_count": 0,
      "outputs": [
        {
          "output_type": "stream",
          "text": [
            "Tensor(\"dense_13/BiasAdd:0\", shape=(?, 100), dtype=float32)\n",
            "Tensor(\"multiply_7/mul:0\", shape=(?, 100), dtype=float32)\n",
            "Model: \"model_5\"\n",
            "__________________________________________________________________________________________________\n",
            "Layer (type)                    Output Shape         Param #     Connected to                     \n",
            "==================================================================================================\n",
            "input_18 (InputLayer)           (None, 10)           0                                            \n",
            "__________________________________________________________________________________________________\n",
            "input_17 (InputLayer)           (None, 100)          0                                            \n",
            "__________________________________________________________________________________________________\n",
            "dense_13 (Dense)                (None, 100)          1100        input_18[0][0]                   \n",
            "__________________________________________________________________________________________________\n",
            "multiply_7 (Multiply)           (None, 100)          0           input_17[0][0]                   \n",
            "                                                                 dense_13[0][0]                   \n",
            "__________________________________________________________________________________________________\n",
            "sequential_11 (Sequential)      (None, 28, 28, 1)    1637121     multiply_7[0][0]                 \n",
            "==================================================================================================\n",
            "Total params: 1,638,221\n",
            "Trainable params: 1,637,837\n",
            "Non-trainable params: 384\n",
            "__________________________________________________________________________________________________\n"
          ],
          "name": "stdout"
        }
      ]
    },
    {
      "cell_type": "markdown",
      "metadata": {
        "id": "PXctmDp35IC-",
        "colab_type": "text"
      },
      "source": [
        "## Discriminator"
      ]
    },
    {
      "cell_type": "code",
      "metadata": {
        "id": "VahG39Gb5IC_",
        "colab_type": "code",
        "colab": {}
      },
      "source": [
        "def build_discriminator_net(img_shape):\n",
        "\n",
        "    model = Sequential()\n",
        "\n",
        "    # Convolutional layer, from 28x28x1 into 14x14x32 tensor\n",
        "    model.add(\n",
        "        Conv2D(32,\n",
        "               kernel_size=3,\n",
        "               strides=2,\n",
        "               input_shape=img_shape,\n",
        "               padding='same'))\n",
        "\n",
        "    # Leaky ReLU activation\n",
        "    model.add(LeakyReLU(alpha=0.01))\n",
        "\n",
        "    # Convolutional layer, from 14x14x32 into 7x7x64 tensor\n",
        "    model.add(\n",
        "        Conv2D(64,\n",
        "               kernel_size=3,\n",
        "               strides=2,\n",
        "               input_shape=img_shape,\n",
        "               padding='same'))\n",
        "\n",
        "    # Batch normalization\n",
        "    model.add(BatchNormalization())\n",
        "\n",
        "    # Leaky ReLU activation\n",
        "    model.add(LeakyReLU(alpha=0.01))\n",
        "\n",
        "    # Convolutional layer, from 7x7x64 tensor into 3x3x128 tensor\n",
        "    model.add(\n",
        "        Conv2D(128,\n",
        "               kernel_size=3,\n",
        "               strides=2,\n",
        "               input_shape=img_shape,\n",
        "               padding='same'))\n",
        "\n",
        "    # Batch normalization\n",
        "    model.add(BatchNormalization())\n",
        "\n",
        "    # Leaky ReLU activation\n",
        "    model.add(LeakyReLU(alpha=0.01))\n",
        "\n",
        "    # Droupout\n",
        "    model.add(Dropout(0.5))\n",
        "\n",
        "    # Flatten the tensor\n",
        "    model.add(Flatten())\n",
        "\n",
        "    # Fully connected layer with num_classes neurons\n",
        "    model.add(Dense(num_classes))\n",
        "\n",
        "    return model"
      ],
      "execution_count": 0,
      "outputs": []
    },
    {
      "cell_type": "code",
      "metadata": {
        "id": "-hSeX8Z75IDC",
        "colab_type": "code",
        "colab": {}
      },
      "source": [
        "def build_discriminator_supervised(discriminator_net):\n",
        "\n",
        "    model = Sequential()\n",
        "\n",
        "    model.add(discriminator_net)\n",
        "\n",
        "    # Softmax activation, giving predicted probability distribution over the real classes\n",
        "    model.add(Activation('softmax'))\n",
        "\n",
        "    return model"
      ],
      "execution_count": 0,
      "outputs": []
    },
    {
      "cell_type": "code",
      "metadata": {
        "id": "Kc_Skbce5IDF",
        "colab_type": "code",
        "colab": {}
      },
      "source": [
        "def build_discriminator_unsupervised(discriminator_net):\n",
        "\n",
        "    model = Sequential()\n",
        "\n",
        "    model.add(discriminator_net)\n",
        "\n",
        "    def predict(x):\n",
        "        # Transform distribution over real classes into a binary real-vs-fake probability\n",
        "        prediction = 1.0 - (1.0 /\n",
        "                            (K.sum(K.exp(x), axis=-1, keepdims=True) + 1.0))\n",
        "        return prediction\n",
        "\n",
        "    # 'Real-vs-fake' output neuron defined above\n",
        "    model.add(Lambda(predict))\n",
        "\n",
        "    return model"
      ],
      "execution_count": 0,
      "outputs": []
    },
    {
      "cell_type": "markdown",
      "metadata": {
        "id": "-Xz4dCm75IDJ",
        "colab_type": "text"
      },
      "source": [
        "## Build the Model"
      ]
    },
    {
      "cell_type": "code",
      "metadata": {
        "id": "kcTPOPCS5IDL",
        "colab_type": "code",
        "colab": {}
      },
      "source": [
        "def build_gan(generator, discriminator):\n",
        "\n",
        "#     model = Sequential()\n",
        "\n",
        "    # Combined Generator -> Discriminator model\n",
        "#     model.add(generator)\n",
        "#     model.add(discriminator)\n",
        "    \n",
        "    z = Input(shape=(z_dim, ))\n",
        "    label = Input(shape=(num_classes, ))\n",
        "    img = generator([z, label])\n",
        "    output = discriminator(img)\n",
        "    model = Model([z, label], output)\n",
        "\n",
        "    return model"
      ],
      "execution_count": 0,
      "outputs": []
    },
    {
      "cell_type": "code",
      "metadata": {
        "colab_type": "code",
        "outputId": "4b5f1a6b-0be8-4bb2-b039-9c6f46605a6e",
        "id": "GZhORKSp6P03",
        "colab": {
          "base_uri": "https://localhost:8080/",
          "height": 336
        }
      },
      "source": [
        "generator = build_generator(z_dim)\n",
        "discriminator_unsupervised.trainable = False\n",
        "gan = build_gan(generator, discriminator_unsupervised)\n",
        "gan.summary()\n",
        "gan.compile(loss='binary_crossentropy', optimizer=Adam())"
      ],
      "execution_count": 127,
      "outputs": [
        {
          "output_type": "stream",
          "text": [
            "Tensor(\"dense_22/BiasAdd:0\", shape=(?, 100), dtype=float32)\n",
            "Tensor(\"multiply_11/mul:0\", shape=(?, 100), dtype=float32)\n",
            "Model: \"model_13\"\n",
            "__________________________________________________________________________________________________\n",
            "Layer (type)                    Output Shape         Param #     Connected to                     \n",
            "==================================================================================================\n",
            "input_33 (InputLayer)           (None, 100)          0                                            \n",
            "__________________________________________________________________________________________________\n",
            "input_34 (InputLayer)           (None, 10)           0                                            \n",
            "__________________________________________________________________________________________________\n",
            "model_12 (Model)                (None, 28, 28, 1)    1638221     input_33[0][0]                   \n",
            "                                                                 input_34[0][0]                   \n",
            "__________________________________________________________________________________________________\n",
            "sequential_15 (Sequential)      (None, 1)            113930      model_12[1][0]                   \n",
            "==================================================================================================\n",
            "Total params: 1,752,151\n",
            "Trainable params: 1,637,837\n",
            "Non-trainable params: 114,314\n",
            "__________________________________________________________________________________________________\n"
          ],
          "name": "stdout"
        }
      ]
    },
    {
      "cell_type": "markdown",
      "metadata": {
        "id": "i-fxWZ8Y5IDP",
        "colab_type": "text"
      },
      "source": [
        "### Discriminator"
      ]
    },
    {
      "cell_type": "code",
      "metadata": {
        "id": "XPQ_Yvmz5IDQ",
        "colab_type": "code",
        "colab": {}
      },
      "source": [
        "# Core Discriminator network:\n",
        "# These layers are shared during supervised and unsupervised training\n",
        "discriminator_net = build_discriminator_net(img_shape)\n",
        "\n",
        "# Build & compile the Discriminator for supervised training\n",
        "discriminator_supervised = build_discriminator_supervised(discriminator_net)\n",
        "discriminator_supervised.compile(loss='categorical_crossentropy',\n",
        "                                 metrics=['accuracy'],\n",
        "                                 optimizer=Adam())\n",
        "\n",
        "# Build & compile the Discriminator for unsupervised training\n",
        "discriminator_unsupervised = build_discriminator_unsupervised(discriminator_net)\n",
        "discriminator_unsupervised.compile(loss='binary_crossentropy',\n",
        "                                   optimizer=Adam())"
      ],
      "execution_count": 0,
      "outputs": []
    },
    {
      "cell_type": "markdown",
      "metadata": {
        "id": "OX5cwJ_i5IDS",
        "colab_type": "text"
      },
      "source": [
        "### Generator"
      ]
    },
    {
      "cell_type": "code",
      "metadata": {
        "id": "bMRweuap5IDT",
        "colab_type": "code",
        "outputId": "b04eaccc-9475-4957-ac8e-126d647e670c",
        "colab": {
          "base_uri": "https://localhost:8080/",
          "height": 50
        }
      },
      "source": [
        "# Build the Generator\n",
        "generator = build_generator(z_dim)\n",
        "\n",
        "# Keep Discriminator’s parameters constant for Generator training\n",
        "discriminator_unsupervised.trainable = False\n",
        "\n",
        "# Build and compile GAN model with fixed Discriminator to train the Generator\n",
        "# Note that we are using the Discriminator version with unsupervised output\n",
        "gan = build_gan(generator, discriminator_unsupervised)\n",
        "gan.compile(loss='binary_crossentropy', optimizer=Adam())"
      ],
      "execution_count": 129,
      "outputs": [
        {
          "output_type": "stream",
          "text": [
            "Tensor(\"dense_25/BiasAdd:0\", shape=(?, 100), dtype=float32)\n",
            "Tensor(\"multiply_12/mul:0\", shape=(?, 100), dtype=float32)\n"
          ],
          "name": "stdout"
        }
      ]
    },
    {
      "cell_type": "markdown",
      "metadata": {
        "id": "rSfkxFfH5IDW",
        "colab_type": "text"
      },
      "source": [
        "## Training"
      ]
    },
    {
      "cell_type": "code",
      "metadata": {
        "id": "EQx1f61tT1sF",
        "colab_type": "code",
        "colab": {}
      },
      "source": [
        "%mkdir models/models-label-300\n",
        "%mkdir losses/losses-label-300"
      ],
      "execution_count": 0,
      "outputs": []
    },
    {
      "cell_type": "code",
      "metadata": {
        "id": "lKb4Xds65IDX",
        "colab_type": "code",
        "colab": {}
      },
      "source": [
        "supervised_losses = []\n",
        "unsupervised_losses = []\n",
        "g_losses = []\n",
        "iteration_checkpoints = []\n",
        "\n",
        "\n",
        "def train(iterations, batch_size, save_interval):\n",
        "\n",
        "    # Labels for real images: all ones\n",
        "    real = np.ones((batch_size, 1))\n",
        "\n",
        "    # Labels for fake images: all zeros\n",
        "    fake = np.zeros((batch_size, 1))\n",
        "\n",
        "    for iteration in range(iterations):\n",
        "\n",
        "        # -------------------------\n",
        "        #  Train the Discriminator\n",
        "        # -------------------------\n",
        "\n",
        "        # Get labeled examples\n",
        "        imgs, labels = dataset.batch_labeled(batch_size)\n",
        "\n",
        "        # One-hot encode labels\n",
        "        labels = to_categorical(labels, num_classes=num_classes)\n",
        "\n",
        "        # Get unlabeled examples\n",
        "        imgs_unlabeled = dataset.batch_unlabeled(batch_size)\n",
        "\n",
        "        # Generate a batch of fake images\n",
        "        z = np.random.normal(0, 1, (batch_size, z_dim))\n",
        "        fake_labels = np.random.randint(0, num_classes, batch_size).reshape(-1, 1)\n",
        "        fake_labels = to_categorical(fake_labels, num_classes=num_classes)\n",
        "        gen_imgs = generator.predict([z, fake_labels])\n",
        "\n",
        "        # Train on real labeled examples\n",
        "        d_loss_supervised, accuracy = discriminator_supervised.train_on_batch(imgs, labels)\n",
        "\n",
        "        # Train on real unlabeled examples\n",
        "        d_loss_real = discriminator_unsupervised.train_on_batch(imgs_unlabeled, real)\n",
        "\n",
        "        # Train on fake examples\n",
        "        d_loss_fake = discriminator_unsupervised.train_on_batch(gen_imgs, fake)\n",
        "\n",
        "        d_loss_unsupervised = 0.5 * np.add(d_loss_real, d_loss_fake)\n",
        "\n",
        "        # ---------------------\n",
        "        #  Train the Generator\n",
        "        # ---------------------\n",
        "\n",
        "        # Generate a batch of fake images\n",
        "        z = np.random.normal(0, 1, (batch_size, z_dim))\n",
        "        gen_imgs = generator.predict([z, labels])\n",
        "\n",
        "        # Train Generator\n",
        "        g_loss = gan.train_on_batch([z,labels], np.ones((batch_size, 1)))\n",
        "\n",
        "        if (iteration + 1) % save_interval == 0:\n",
        "\n",
        "            # Save Discriminator supervised classification loss to be plotted after training\n",
        "            supervised_losses.append(d_loss_supervised)\n",
        "            unsupervised_losses.append(d_loss_unsupervised)\n",
        "            g_losses.append(g_loss)\n",
        "            \n",
        "            iteration_checkpoints.append(iteration + 1)\n",
        "\n",
        "            # Output training progress\n",
        "            print(\n",
        "                \"%d [D loss supervised: %.4f, acc.: %.2f%%] [D loss unsupervised: %.4f] [G loss: %f]\"\n",
        "                % (iteration + 1, d_loss_supervised, 100 * accuracy,\n",
        "                   d_loss_unsupervised, g_loss))\n",
        "            \n",
        "            discriminator_supervised.save(\"./models/models-label-\" + str(num_labeled) + \"/discriminator_supervised-\" + str(iteration+1) + \".h5\")\n",
        "            file1 = \"./losses/losses-label-\" + str(num_labeled) + \"/supervised_losses.json\"\n",
        "            file2 = \"./losses/losses-label-\" + str(num_labeled) + \"/unsupervised_losses.json\"\n",
        "            file3 = \"./losses/losses-label-\" + str(num_labeled) + \"/g_losses.json\"\n",
        "            with open(file1, 'w') as json_file:\n",
        "                  json.dump(str(supervised_losses), json_file)\n",
        "            with open(file2, 'w') as json_file:\n",
        "                  json.dump(str(unsupervised_losses), json_file)\n",
        "            with open(file3, 'w') as json_file:\n",
        "                  json.dump(str(g_losses), json_file)"
      ],
      "execution_count": 0,
      "outputs": []
    },
    {
      "cell_type": "markdown",
      "metadata": {
        "id": "2MoxwriW5IDb",
        "colab_type": "text"
      },
      "source": [
        "## Train the Model and Inspect Output"
      ]
    },
    {
      "cell_type": "markdown",
      "metadata": {
        "id": "EHHVLd0n5IDc",
        "colab_type": "text"
      },
      "source": [
        "Note that the `'Discrepancy between trainable weights and collected trainable'` warning from Keras is expected. It is by design: The Generator's trainable parameters are intentionally held constant during Discriminator training, and vice versa."
      ]
    },
    {
      "cell_type": "code",
      "metadata": {
        "scrolled": true,
        "id": "0ZWH2w_r5IDe",
        "colab_type": "code",
        "outputId": "4c4ab93f-819f-4f07-c869-885e2e0c864a",
        "colab": {
          "base_uri": "https://localhost:8080/",
          "height": 1000
        }
      },
      "source": [
        "# Set hyperparameters\n",
        "iterations = 8000\n",
        "batch_size = 32\n",
        "save_interval = 100\n",
        "\n",
        "# Train the SGAN for the specified number of iterations\n",
        "train(iterations, batch_size, save_interval)"
      ],
      "execution_count": 134,
      "outputs": [
        {
          "output_type": "stream",
          "text": [
            "/usr/local/lib/python3.6/dist-packages/keras/engine/training.py:493: UserWarning: Discrepancy between trainable weights and collected trainable weights, did you set `model.trainable` without calling `model.compile` after ?\n",
            "  'Discrepancy between trainable weights and collected trainable'\n",
            "/usr/local/lib/python3.6/dist-packages/keras/engine/training.py:493: UserWarning: Discrepancy between trainable weights and collected trainable weights, did you set `model.trainable` without calling `model.compile` after ?\n",
            "  'Discrepancy between trainable weights and collected trainable'\n",
            "/usr/local/lib/python3.6/dist-packages/keras/engine/training.py:493: UserWarning: Discrepancy between trainable weights and collected trainable weights, did you set `model.trainable` without calling `model.compile` after ?\n",
            "  'Discrepancy between trainable weights and collected trainable'\n"
          ],
          "name": "stderr"
        },
        {
          "output_type": "stream",
          "text": [
            "100 [D loss supervised: 0.2246, acc.: 90.62%] [D loss unsupervised: 0.1872] [G loss: 1.531911]\n",
            "200 [D loss supervised: 0.0606, acc.: 96.88%] [D loss unsupervised: 0.0130] [G loss: 0.306367]\n",
            "300 [D loss supervised: 0.0535, acc.: 100.00%] [D loss unsupervised: 0.0114] [G loss: 4.161637]\n",
            "400 [D loss supervised: 0.0747, acc.: 93.75%] [D loss unsupervised: 0.0448] [G loss: 7.163264]\n",
            "500 [D loss supervised: 0.0058, acc.: 100.00%] [D loss unsupervised: 0.0152] [G loss: 6.124997]\n",
            "600 [D loss supervised: 0.0021, acc.: 100.00%] [D loss unsupervised: 0.0766] [G loss: 3.509526]\n",
            "700 [D loss supervised: 0.0172, acc.: 100.00%] [D loss unsupervised: 0.2014] [G loss: 4.127585]\n",
            "800 [D loss supervised: 0.0688, acc.: 96.88%] [D loss unsupervised: 0.1002] [G loss: 5.230403]\n",
            "900 [D loss supervised: 0.0501, acc.: 100.00%] [D loss unsupervised: 0.5201] [G loss: 5.611135]\n",
            "1000 [D loss supervised: 0.0015, acc.: 100.00%] [D loss unsupervised: 0.1938] [G loss: 5.600113]\n",
            "1100 [D loss supervised: 0.0168, acc.: 100.00%] [D loss unsupervised: 0.8580] [G loss: 3.551988]\n",
            "1200 [D loss supervised: 0.0059, acc.: 100.00%] [D loss unsupervised: 0.0252] [G loss: 6.158628]\n",
            "1300 [D loss supervised: 0.0102, acc.: 100.00%] [D loss unsupervised: 0.1110] [G loss: 5.912419]\n",
            "1400 [D loss supervised: 0.0142, acc.: 100.00%] [D loss unsupervised: 0.1347] [G loss: 4.286912]\n",
            "1500 [D loss supervised: 0.0007, acc.: 100.00%] [D loss unsupervised: 0.2049] [G loss: 5.470263]\n",
            "1600 [D loss supervised: 0.0033, acc.: 100.00%] [D loss unsupervised: 0.1387] [G loss: 6.341918]\n",
            "1700 [D loss supervised: 0.0230, acc.: 100.00%] [D loss unsupervised: 0.4237] [G loss: 4.039328]\n",
            "1800 [D loss supervised: 0.0050, acc.: 100.00%] [D loss unsupervised: 0.0731] [G loss: 5.340894]\n",
            "1900 [D loss supervised: 0.0029, acc.: 100.00%] [D loss unsupervised: 0.3036] [G loss: 6.039283]\n",
            "2000 [D loss supervised: 0.0191, acc.: 100.00%] [D loss unsupervised: 0.1156] [G loss: 6.866738]\n",
            "2100 [D loss supervised: 0.0042, acc.: 100.00%] [D loss unsupervised: 0.0602] [G loss: 3.765387]\n",
            "2200 [D loss supervised: 0.0023, acc.: 100.00%] [D loss unsupervised: 0.2306] [G loss: 3.934348]\n",
            "2300 [D loss supervised: 0.0026, acc.: 100.00%] [D loss unsupervised: 0.3418] [G loss: 3.683523]\n",
            "2400 [D loss supervised: 0.0145, acc.: 100.00%] [D loss unsupervised: 0.0549] [G loss: 3.197743]\n",
            "2500 [D loss supervised: 0.0034, acc.: 100.00%] [D loss unsupervised: 0.2912] [G loss: 4.157305]\n",
            "2600 [D loss supervised: 0.0066, acc.: 100.00%] [D loss unsupervised: 0.3349] [G loss: 3.100032]\n",
            "2700 [D loss supervised: 0.0053, acc.: 100.00%] [D loss unsupervised: 0.3133] [G loss: 1.707933]\n",
            "2800 [D loss supervised: 0.0061, acc.: 100.00%] [D loss unsupervised: 0.3417] [G loss: 3.120128]\n",
            "2900 [D loss supervised: 0.0027, acc.: 100.00%] [D loss unsupervised: 0.6053] [G loss: 1.559043]\n",
            "3000 [D loss supervised: 0.0038, acc.: 100.00%] [D loss unsupervised: 0.5169] [G loss: 3.558720]\n",
            "3100 [D loss supervised: 0.0003, acc.: 100.00%] [D loss unsupervised: 0.1416] [G loss: 5.261973]\n",
            "3200 [D loss supervised: 0.0010, acc.: 100.00%] [D loss unsupervised: 0.0549] [G loss: 3.885221]\n",
            "3300 [D loss supervised: 0.0127, acc.: 100.00%] [D loss unsupervised: 0.4157] [G loss: 3.957167]\n",
            "3400 [D loss supervised: 0.0030, acc.: 100.00%] [D loss unsupervised: 0.3866] [G loss: 4.281675]\n",
            "3500 [D loss supervised: 0.0009, acc.: 100.00%] [D loss unsupervised: 0.2718] [G loss: 2.848451]\n",
            "3600 [D loss supervised: 0.0006, acc.: 100.00%] [D loss unsupervised: 0.4010] [G loss: 2.405544]\n",
            "3700 [D loss supervised: 0.0005, acc.: 100.00%] [D loss unsupervised: 0.2745] [G loss: 2.903278]\n",
            "3800 [D loss supervised: 0.0009, acc.: 100.00%] [D loss unsupervised: 0.2339] [G loss: 3.840087]\n",
            "3900 [D loss supervised: 0.0037, acc.: 100.00%] [D loss unsupervised: 0.4525] [G loss: 4.116120]\n",
            "4000 [D loss supervised: 0.0003, acc.: 100.00%] [D loss unsupervised: 0.3196] [G loss: 3.957720]\n",
            "4100 [D loss supervised: 0.0068, acc.: 100.00%] [D loss unsupervised: 0.2288] [G loss: 3.287508]\n",
            "4200 [D loss supervised: 0.0008, acc.: 100.00%] [D loss unsupervised: 0.2791] [G loss: 3.924444]\n",
            "4300 [D loss supervised: 0.0025, acc.: 100.00%] [D loss unsupervised: 0.3920] [G loss: 4.861985]\n",
            "4400 [D loss supervised: 0.0010, acc.: 100.00%] [D loss unsupervised: 0.2640] [G loss: 2.789805]\n",
            "4500 [D loss supervised: 0.0013, acc.: 100.00%] [D loss unsupervised: 0.2378] [G loss: 5.850849]\n",
            "4600 [D loss supervised: 0.0007, acc.: 100.00%] [D loss unsupervised: 0.3192] [G loss: 3.933615]\n",
            "4700 [D loss supervised: 0.0012, acc.: 100.00%] [D loss unsupervised: 0.3118] [G loss: 2.537803]\n",
            "4800 [D loss supervised: 0.0072, acc.: 100.00%] [D loss unsupervised: 0.1845] [G loss: 2.608300]\n",
            "4900 [D loss supervised: 0.0005, acc.: 100.00%] [D loss unsupervised: 0.5633] [G loss: 4.343461]\n",
            "5000 [D loss supervised: 0.0007, acc.: 100.00%] [D loss unsupervised: 0.3178] [G loss: 2.836867]\n",
            "5100 [D loss supervised: 0.0037, acc.: 100.00%] [D loss unsupervised: 0.2143] [G loss: 4.609948]\n",
            "5200 [D loss supervised: 0.0010, acc.: 100.00%] [D loss unsupervised: 0.4286] [G loss: 3.636450]\n",
            "5300 [D loss supervised: 0.0009, acc.: 100.00%] [D loss unsupervised: 0.3798] [G loss: 2.018499]\n",
            "5400 [D loss supervised: 0.0004, acc.: 100.00%] [D loss unsupervised: 0.5304] [G loss: 4.817908]\n",
            "5500 [D loss supervised: 0.0009, acc.: 100.00%] [D loss unsupervised: 0.2732] [G loss: 2.858860]\n",
            "5600 [D loss supervised: 0.0033, acc.: 100.00%] [D loss unsupervised: 0.1013] [G loss: 3.558825]\n",
            "5700 [D loss supervised: 0.0014, acc.: 100.00%] [D loss unsupervised: 0.4176] [G loss: 2.217873]\n",
            "5800 [D loss supervised: 0.0011, acc.: 100.00%] [D loss unsupervised: 0.2114] [G loss: 2.530242]\n",
            "5900 [D loss supervised: 0.0008, acc.: 100.00%] [D loss unsupervised: 0.5802] [G loss: 3.175017]\n",
            "6000 [D loss supervised: 0.0006, acc.: 100.00%] [D loss unsupervised: 0.4639] [G loss: 1.853675]\n",
            "6100 [D loss supervised: 0.0028, acc.: 100.00%] [D loss unsupervised: 0.3304] [G loss: 3.029560]\n",
            "6200 [D loss supervised: 0.0005, acc.: 100.00%] [D loss unsupervised: 0.5056] [G loss: 2.179207]\n",
            "6300 [D loss supervised: 0.0009, acc.: 100.00%] [D loss unsupervised: 0.3156] [G loss: 2.239052]\n",
            "6400 [D loss supervised: 0.0032, acc.: 100.00%] [D loss unsupervised: 0.4552] [G loss: 2.340669]\n",
            "6500 [D loss supervised: 0.0020, acc.: 100.00%] [D loss unsupervised: 0.2331] [G loss: 4.334399]\n",
            "6600 [D loss supervised: 0.0016, acc.: 100.00%] [D loss unsupervised: 0.4582] [G loss: 4.077026]\n",
            "6700 [D loss supervised: 0.0011, acc.: 100.00%] [D loss unsupervised: 0.2330] [G loss: 3.647061]\n",
            "6800 [D loss supervised: 0.0014, acc.: 100.00%] [D loss unsupervised: 0.3618] [G loss: 2.339364]\n",
            "6900 [D loss supervised: 0.0035, acc.: 100.00%] [D loss unsupervised: 0.3198] [G loss: 3.905616]\n",
            "7000 [D loss supervised: 0.0017, acc.: 100.00%] [D loss unsupervised: 0.3085] [G loss: 2.091633]\n",
            "7100 [D loss supervised: 0.0020, acc.: 100.00%] [D loss unsupervised: 0.4866] [G loss: 4.333440]\n",
            "7200 [D loss supervised: 0.0026, acc.: 100.00%] [D loss unsupervised: 0.0934] [G loss: 4.191518]\n",
            "7300 [D loss supervised: 0.0005, acc.: 100.00%] [D loss unsupervised: 0.2144] [G loss: 4.907547]\n",
            "7400 [D loss supervised: 0.0002, acc.: 100.00%] [D loss unsupervised: 0.1204] [G loss: 4.428093]\n",
            "7500 [D loss supervised: 0.0002, acc.: 100.00%] [D loss unsupervised: 0.3283] [G loss: 3.085717]\n",
            "7600 [D loss supervised: 0.0004, acc.: 100.00%] [D loss unsupervised: 0.3246] [G loss: 4.320198]\n",
            "7700 [D loss supervised: 0.0010, acc.: 100.00%] [D loss unsupervised: 0.4256] [G loss: 4.224142]\n",
            "7800 [D loss supervised: 0.0009, acc.: 100.00%] [D loss unsupervised: 0.3909] [G loss: 2.963990]\n",
            "7900 [D loss supervised: 0.0009, acc.: 100.00%] [D loss unsupervised: 0.2823] [G loss: 3.796857]\n",
            "8000 [D loss supervised: 0.0005, acc.: 100.00%] [D loss unsupervised: 0.2155] [G loss: 3.058035]\n"
          ],
          "name": "stdout"
        }
      ]
    },
    {
      "cell_type": "code",
      "metadata": {
        "id": "T98POkWe5IDh",
        "colab_type": "code",
        "outputId": "72c7061c-7d2a-4590-98a5-cee0be89aafb",
        "colab": {
          "base_uri": "https://localhost:8080/",
          "height": 382
        }
      },
      "source": [
        "supervised_losses = np.array(supervised_losses)\n",
        "unsupervised_losses = np.array(unsupervised_losses)\n",
        "g_losses = np.array(g_losses)\n",
        "\n",
        "# Plot Discriminator supervised loss\n",
        "plt.figure(figsize=(15, 5))\n",
        "plt.plot(iteration_checkpoints, supervised_losses, label=\"Discriminator supervised loss\", color='tab:blue')\n",
        "plt.plot(iteration_checkpoints, unsupervised_losses, label=\"Discriminator unsupervised loss\", color='tab:green')\n",
        "plt.plot(iteration_checkpoints, g_losses, label=\"Generator supervised loss\", color='tab:red')\n",
        "\n",
        "plt.xticks(iteration_checkpoints, rotation=90)\n",
        "\n",
        "plt.title(\"Discriminator(supervised + unsupervised) + Generator Loss\")\n",
        "plt.xlabel(\"Iteration\")\n",
        "plt.ylabel(\"Loss\")\n",
        "plt.legend()"
      ],
      "execution_count": 135,
      "outputs": [
        {
          "output_type": "execute_result",
          "data": {
            "text/plain": [
              "<matplotlib.legend.Legend at 0x7fa506b86f60>"
            ]
          },
          "metadata": {
            "tags": []
          },
          "execution_count": 135
        },
        {
          "output_type": "display_data",
          "data": {
            "image/png": "[encoded data removed]",
            "text/plain": [
              "<Figure size 1080x360 with 1 Axes>"
            ]
          },
          "metadata": {
            "tags": []
          }
        }
      ]
    },
    {
      "cell_type": "code",
      "metadata": {
        "id": "F61dqQWQ3ri6",
        "colab_type": "code",
        "outputId": "8bfee675-c5d5-487e-ed7a-74c0ca60520e",
        "colab": {
          "base_uri": "https://localhost:8080/",
          "height": 50
        }
      },
      "source": [
        "print(supervised_losses[-10:])"
      ],
      "execution_count": 136,
      "outputs": [
        {
          "output_type": "stream",
          "text": [
            "[0.0020162  0.00256766 0.00052579 0.00017562 0.0001837  0.00036028\n",
            " 0.00102303 0.00091592 0.00094435 0.00048323]\n"
          ],
          "name": "stdout"
        }
      ]
    },
    {
      "cell_type": "markdown",
      "metadata": {
        "id": "PScPJocN5IDk",
        "colab_type": "text"
      },
      "source": [
        "## SGAN Classifier – Training and Test Accuracy "
      ]
    },
    {
      "cell_type": "code",
      "metadata": {
        "id": "e6BmzAGk5IDl",
        "colab_type": "code",
        "outputId": "1e609e74-e71f-467c-8fae-9056c52dbc28",
        "colab": {
          "base_uri": "https://localhost:8080/",
          "height": 50
        }
      },
      "source": [
        "x, y = dataset.training_set()\n",
        "y = to_categorical(y, num_classes=num_classes)\n",
        "\n",
        "# Compute classification accuracy on the training set\n",
        "_, accuracy = discriminator_supervised.evaluate(x, y)\n",
        "print(\"Training Accuracy: %.2f%%\" % (100 * accuracy))"
      ],
      "execution_count": 137,
      "outputs": [
        {
          "output_type": "stream",
          "text": [
            "300/300 [==============================] - 1s 3ms/step\n",
            "Training Accuracy: 100.00%\n"
          ],
          "name": "stdout"
        }
      ]
    },
    {
      "cell_type": "code",
      "metadata": {
        "id": "ctWFp3zX5IDo",
        "colab_type": "code",
        "outputId": "54c66451-04da-413a-ca96-0e725fdc8c93",
        "colab": {
          "base_uri": "https://localhost:8080/",
          "height": 50
        }
      },
      "source": [
        "x, y = dataset.test_set()\n",
        "y = to_categorical(y, num_classes=num_classes)\n",
        "\n",
        "# Compute classification accuracy on the test set\n",
        "_, accuracy = discriminator_supervised.evaluate(x, y)\n",
        "print(\"Test Accuracy: %.2f%%\" % (100 * accuracy))"
      ],
      "execution_count": 138,
      "outputs": [
        {
          "output_type": "stream",
          "text": [
            "10000/10000 [==============================] - 1s 69us/step\n",
            "Test Accuracy: 94.73%\n"
          ],
          "name": "stdout"
        }
      ]
    },
    {
      "cell_type": "markdown",
      "metadata": {
        "id": "VDMoAU1r5IDv",
        "colab_type": "text"
      },
      "source": [
        "# Fully-Supervised Classifier"
      ]
    },
    {
      "cell_type": "code",
      "metadata": {
        "id": "TA4C3_RL5IDx",
        "colab_type": "code",
        "colab": {}
      },
      "source": [
        "# Fully supervised classifier with the same network architecture as the SGAN Discriminator\n",
        "mnist_classifier = build_discriminator_supervised(build_discriminator_net(img_shape))\n",
        "mnist_classifier.compile(loss='categorical_crossentropy',\n",
        "                         metrics=['accuracy'],\n",
        "                         optimizer=Adam())"
      ],
      "execution_count": 0,
      "outputs": []
    },
    {
      "cell_type": "code",
      "metadata": {
        "id": "zlJkb5fN5ID3",
        "colab_type": "code",
        "outputId": "8ee7e2e8-502a-4ad8-a32f-b3dccd6fb3d9",
        "colab": {
          "base_uri": "https://localhost:8080/",
          "height": 1000
        }
      },
      "source": [
        "imgs, labels = dataset.training_set()\n",
        "imgs = imgs[:num_labeled]\n",
        "labels = labels[:num_labeled]\n",
        "\n",
        "# One-hot encode labels\n",
        "labels = to_categorical(labels, num_classes=num_classes)\n",
        "\n",
        "# Train the classifier\n",
        "training = mnist_classifier.fit(x=imgs,\n",
        "                                y=labels,\n",
        "                                batch_size=32,\n",
        "                                epochs=200,\n",
        "                                verbose=1)\n",
        "losses = training.history['loss']\n",
        "accuracies = training.history['acc']"
      ],
      "execution_count": 140,
      "outputs": [
        {
          "output_type": "stream",
          "text": [
            "Epoch 1/200\n",
            "300/300 [==============================] - 3s 9ms/step - loss: 2.0384 - acc: 0.3633\n",
            "Epoch 2/200\n",
            "300/300 [==============================] - 0s 231us/step - loss: 0.7299 - acc: 0.7667\n",
            "Epoch 3/200\n",
            "300/300 [==============================] - 0s 231us/step - loss: 0.3658 - acc: 0.9067\n",
            "Epoch 4/200\n",
            "300/300 [==============================] - 0s 233us/step - loss: 0.2479 - acc: 0.9333\n",
            "Epoch 5/200\n",
            "300/300 [==============================] - 0s 234us/step - loss: 0.1523 - acc: 0.9733\n",
            "Epoch 6/200\n",
            "300/300 [==============================] - 0s 199us/step - loss: 0.1084 - acc: 0.9867\n",
            "Epoch 7/200\n",
            "300/300 [==============================] - 0s 222us/step - loss: 0.0870 - acc: 0.9867\n",
            "Epoch 8/200\n",
            "300/300 [==============================] - 0s 217us/step - loss: 0.0597 - acc: 0.9933\n",
            "Epoch 9/200\n",
            "300/300 [==============================] - 0s 236us/step - loss: 0.0541 - acc: 0.9933\n",
            "Epoch 10/200\n",
            "300/300 [==============================] - 0s 203us/step - loss: 0.0484 - acc: 1.0000\n",
            "Epoch 11/200\n",
            "300/300 [==============================] - 0s 211us/step - loss: 0.0284 - acc: 1.0000\n",
            "Epoch 12/200\n",
            "300/300 [==============================] - 0s 267us/step - loss: 0.0356 - acc: 0.9967\n",
            "Epoch 13/200\n",
            "300/300 [==============================] - 0s 193us/step - loss: 0.0296 - acc: 0.9967\n",
            "Epoch 14/200\n",
            "300/300 [==============================] - 0s 211us/step - loss: 0.0158 - acc: 1.0000\n",
            "Epoch 15/200\n",
            "300/300 [==============================] - 0s 236us/step - loss: 0.0157 - acc: 1.0000\n",
            "Epoch 16/200\n",
            "300/300 [==============================] - 0s 214us/step - loss: 0.0166 - acc: 1.0000\n",
            "Epoch 17/200\n",
            "300/300 [==============================] - 0s 231us/step - loss: 0.0092 - acc: 1.0000\n",
            "Epoch 18/200\n",
            "300/300 [==============================] - 0s 211us/step - loss: 0.0112 - acc: 1.0000\n",
            "Epoch 19/200\n",
            "300/300 [==============================] - 0s 238us/step - loss: 0.0085 - acc: 1.0000\n",
            "Epoch 20/200\n",
            "300/300 [==============================] - 0s 211us/step - loss: 0.0108 - acc: 1.0000\n",
            "Epoch 21/200\n",
            "300/300 [==============================] - 0s 218us/step - loss: 0.0076 - acc: 1.0000\n",
            "Epoch 22/200\n",
            "300/300 [==============================] - 0s 218us/step - loss: 0.0061 - acc: 1.0000\n",
            "Epoch 23/200\n",
            "300/300 [==============================] - 0s 219us/step - loss: 0.0065 - acc: 1.0000\n",
            "Epoch 24/200\n",
            "300/300 [==============================] - 0s 211us/step - loss: 0.0052 - acc: 1.0000\n",
            "Epoch 25/200\n",
            "300/300 [==============================] - 0s 199us/step - loss: 0.0063 - acc: 1.0000\n",
            "Epoch 26/200\n",
            "300/300 [==============================] - 0s 212us/step - loss: 0.0046 - acc: 1.0000\n",
            "Epoch 27/200\n",
            "300/300 [==============================] - 0s 248us/step - loss: 0.0057 - acc: 1.0000\n",
            "Epoch 28/200\n",
            "300/300 [==============================] - 0s 235us/step - loss: 0.0048 - acc: 1.0000\n",
            "Epoch 29/200\n",
            "300/300 [==============================] - 0s 289us/step - loss: 0.0040 - acc: 1.0000\n",
            "Epoch 30/200\n",
            "300/300 [==============================] - 0s 228us/step - loss: 0.0039 - acc: 1.0000\n",
            "Epoch 31/200\n",
            "300/300 [==============================] - 0s 233us/step - loss: 0.0038 - acc: 1.0000\n",
            "Epoch 32/200\n",
            "300/300 [==============================] - 0s 255us/step - loss: 0.0044 - acc: 1.0000\n",
            "Epoch 33/200\n",
            "300/300 [==============================] - 0s 234us/step - loss: 0.0042 - acc: 1.0000\n",
            "Epoch 34/200\n",
            "300/300 [==============================] - 0s 225us/step - loss: 0.0036 - acc: 1.0000\n",
            "Epoch 35/200\n",
            "300/300 [==============================] - 0s 203us/step - loss: 0.0034 - acc: 1.0000\n",
            "Epoch 36/200\n",
            "300/300 [==============================] - 0s 239us/step - loss: 0.0034 - acc: 1.0000\n",
            "Epoch 37/200\n",
            "300/300 [==============================] - 0s 201us/step - loss: 0.0051 - acc: 1.0000\n",
            "Epoch 38/200\n",
            "300/300 [==============================] - 0s 197us/step - loss: 0.0031 - acc: 1.0000\n",
            "Epoch 39/200\n",
            "300/300 [==============================] - 0s 211us/step - loss: 0.0023 - acc: 1.0000\n",
            "Epoch 40/200\n",
            "300/300 [==============================] - 0s 193us/step - loss: 0.0023 - acc: 1.0000\n",
            "Epoch 41/200\n",
            "300/300 [==============================] - 0s 195us/step - loss: 0.0030 - acc: 1.0000\n",
            "Epoch 42/200\n",
            "300/300 [==============================] - 0s 233us/step - loss: 0.0020 - acc: 1.0000\n",
            "Epoch 43/200\n",
            "300/300 [==============================] - 0s 197us/step - loss: 0.0024 - acc: 1.0000\n",
            "Epoch 44/200\n",
            "300/300 [==============================] - 0s 191us/step - loss: 0.0029 - acc: 1.0000\n",
            "Epoch 45/200\n",
            "300/300 [==============================] - 0s 194us/step - loss: 0.0017 - acc: 1.0000\n",
            "Epoch 46/200\n",
            "300/300 [==============================] - 0s 233us/step - loss: 0.0023 - acc: 1.0000\n",
            "Epoch 47/200\n",
            "300/300 [==============================] - 0s 196us/step - loss: 0.0016 - acc: 1.0000\n",
            "Epoch 48/200\n",
            "300/300 [==============================] - 0s 192us/step - loss: 0.0031 - acc: 1.0000\n",
            "Epoch 49/200\n",
            "300/300 [==============================] - 0s 194us/step - loss: 0.0016 - acc: 1.0000\n",
            "Epoch 50/200\n",
            "300/300 [==============================] - 0s 203us/step - loss: 0.0026 - acc: 1.0000\n",
            "Epoch 51/200\n",
            "300/300 [==============================] - 0s 191us/step - loss: 0.0013 - acc: 1.0000\n",
            "Epoch 52/200\n",
            "300/300 [==============================] - 0s 203us/step - loss: 0.0016 - acc: 1.0000\n",
            "Epoch 53/200\n",
            "300/300 [==============================] - 0s 198us/step - loss: 0.0015 - acc: 1.0000\n",
            "Epoch 54/200\n",
            "300/300 [==============================] - 0s 195us/step - loss: 0.0013 - acc: 1.0000\n",
            "Epoch 55/200\n",
            "300/300 [==============================] - 0s 196us/step - loss: 0.0016 - acc: 1.0000\n",
            "Epoch 56/200\n",
            "300/300 [==============================] - 0s 206us/step - loss: 0.0019 - acc: 1.0000\n",
            "Epoch 57/200\n",
            "300/300 [==============================] - 0s 212us/step - loss: 0.0012 - acc: 1.0000\n",
            "Epoch 58/200\n",
            "300/300 [==============================] - 0s 205us/step - loss: 0.0016 - acc: 1.0000\n",
            "Epoch 59/200\n",
            "300/300 [==============================] - 0s 231us/step - loss: 0.0015 - acc: 1.0000\n",
            "Epoch 60/200\n",
            "300/300 [==============================] - 0s 209us/step - loss: 0.0010 - acc: 1.0000\n",
            "Epoch 61/200\n",
            "300/300 [==============================] - 0s 196us/step - loss: 0.0014 - acc: 1.0000\n",
            "Epoch 62/200\n",
            "300/300 [==============================] - 0s 197us/step - loss: 9.6876e-04 - acc: 1.0000\n",
            "Epoch 63/200\n",
            "300/300 [==============================] - 0s 189us/step - loss: 9.8096e-04 - acc: 1.0000\n",
            "Epoch 64/200\n",
            "300/300 [==============================] - 0s 194us/step - loss: 0.0012 - acc: 1.0000\n",
            "Epoch 65/200\n",
            "300/300 [==============================] - 0s 201us/step - loss: 0.0010 - acc: 1.0000\n",
            "Epoch 66/200\n",
            "300/300 [==============================] - 0s 206us/step - loss: 0.0012 - acc: 1.0000\n",
            "Epoch 67/200\n",
            "300/300 [==============================] - 0s 194us/step - loss: 0.0012 - acc: 1.0000\n",
            "Epoch 68/200\n",
            "300/300 [==============================] - 0s 194us/step - loss: 0.0012 - acc: 1.0000\n",
            "Epoch 69/200\n",
            "300/300 [==============================] - 0s 199us/step - loss: 6.5137e-04 - acc: 1.0000\n",
            "Epoch 70/200\n",
            "300/300 [==============================] - 0s 196us/step - loss: 8.9859e-04 - acc: 1.0000\n",
            "Epoch 71/200\n",
            "300/300 [==============================] - 0s 192us/step - loss: 7.2748e-04 - acc: 1.0000\n",
            "Epoch 72/200\n",
            "300/300 [==============================] - 0s 196us/step - loss: 0.0011 - acc: 1.0000\n",
            "Epoch 73/200\n",
            "300/300 [==============================] - 0s 189us/step - loss: 8.5963e-04 - acc: 1.0000\n",
            "Epoch 74/200\n",
            "300/300 [==============================] - 0s 190us/step - loss: 7.9844e-04 - acc: 1.0000\n",
            "Epoch 75/200\n",
            "300/300 [==============================] - 0s 185us/step - loss: 8.3001e-04 - acc: 1.0000\n",
            "Epoch 76/200\n",
            "300/300 [==============================] - 0s 232us/step - loss: 0.0012 - acc: 1.0000\n",
            "Epoch 77/200\n",
            "300/300 [==============================] - 0s 203us/step - loss: 7.2864e-04 - acc: 1.0000\n",
            "Epoch 78/200\n",
            "300/300 [==============================] - 0s 196us/step - loss: 9.2253e-04 - acc: 1.0000\n",
            "Epoch 79/200\n",
            "300/300 [==============================] - 0s 220us/step - loss: 8.5747e-04 - acc: 1.0000\n",
            "Epoch 80/200\n",
            "300/300 [==============================] - 0s 203us/step - loss: 7.0542e-04 - acc: 1.0000\n",
            "Epoch 81/200\n",
            "300/300 [==============================] - 0s 203us/step - loss: 9.2540e-04 - acc: 1.0000\n",
            "Epoch 82/200\n",
            "300/300 [==============================] - 0s 204us/step - loss: 8.3904e-04 - acc: 1.0000\n",
            "Epoch 83/200\n",
            "300/300 [==============================] - 0s 217us/step - loss: 0.0014 - acc: 1.0000\n",
            "Epoch 84/200\n",
            "300/300 [==============================] - 0s 198us/step - loss: 7.4899e-04 - acc: 1.0000\n",
            "Epoch 85/200\n",
            "300/300 [==============================] - 0s 192us/step - loss: 0.0011 - acc: 1.0000\n",
            "Epoch 86/200\n",
            "300/300 [==============================] - 0s 188us/step - loss: 7.0891e-04 - acc: 1.0000\n",
            "Epoch 87/200\n",
            "300/300 [==============================] - 0s 195us/step - loss: 9.8507e-04 - acc: 1.0000\n",
            "Epoch 88/200\n",
            "300/300 [==============================] - 0s 207us/step - loss: 6.6078e-04 - acc: 1.0000\n",
            "Epoch 89/200\n",
            "300/300 [==============================] - 0s 201us/step - loss: 5.8495e-04 - acc: 1.0000\n",
            "Epoch 90/200\n",
            "300/300 [==============================] - 0s 207us/step - loss: 8.7480e-04 - acc: 1.0000\n",
            "Epoch 91/200\n",
            "300/300 [==============================] - 0s 201us/step - loss: 6.9733e-04 - acc: 1.0000\n",
            "Epoch 92/200\n",
            "300/300 [==============================] - 0s 213us/step - loss: 7.0199e-04 - acc: 1.0000\n",
            "Epoch 93/200\n",
            "300/300 [==============================] - 0s 201us/step - loss: 6.0393e-04 - acc: 1.0000\n",
            "Epoch 94/200\n",
            "300/300 [==============================] - 0s 198us/step - loss: 5.7416e-04 - acc: 1.0000\n",
            "Epoch 95/200\n",
            "300/300 [==============================] - 0s 206us/step - loss: 9.7930e-04 - acc: 1.0000\n",
            "Epoch 96/200\n",
            "300/300 [==============================] - 0s 204us/step - loss: 5.2670e-04 - acc: 1.0000\n",
            "Epoch 97/200\n",
            "300/300 [==============================] - 0s 203us/step - loss: 4.7506e-04 - acc: 1.0000\n",
            "Epoch 98/200\n",
            "300/300 [==============================] - 0s 198us/step - loss: 4.9862e-04 - acc: 1.0000\n",
            "Epoch 99/200\n",
            "300/300 [==============================] - 0s 202us/step - loss: 4.6781e-04 - acc: 1.0000\n",
            "Epoch 100/200\n",
            "300/300 [==============================] - 0s 228us/step - loss: 3.6066e-04 - acc: 1.0000\n",
            "Epoch 101/200\n",
            "300/300 [==============================] - 0s 190us/step - loss: 5.3029e-04 - acc: 1.0000\n",
            "Epoch 102/200\n",
            "300/300 [==============================] - 0s 188us/step - loss: 4.6334e-04 - acc: 1.0000\n",
            "Epoch 103/200\n",
            "300/300 [==============================] - 0s 182us/step - loss: 3.9496e-04 - acc: 1.0000\n",
            "Epoch 104/200\n",
            "300/300 [==============================] - 0s 191us/step - loss: 5.1051e-04 - acc: 1.0000\n",
            "Epoch 105/200\n",
            "300/300 [==============================] - 0s 200us/step - loss: 2.8810e-04 - acc: 1.0000\n",
            "Epoch 106/200\n",
            "300/300 [==============================] - 0s 203us/step - loss: 4.1032e-04 - acc: 1.0000\n",
            "Epoch 107/200\n",
            "300/300 [==============================] - 0s 198us/step - loss: 3.9376e-04 - acc: 1.0000\n",
            "Epoch 108/200\n",
            "300/300 [==============================] - 0s 186us/step - loss: 3.0349e-04 - acc: 1.0000\n",
            "Epoch 109/200\n",
            "300/300 [==============================] - 0s 238us/step - loss: 5.7135e-04 - acc: 1.0000\n",
            "Epoch 110/200\n",
            "300/300 [==============================] - 0s 204us/step - loss: 4.2133e-04 - acc: 1.0000\n",
            "Epoch 111/200\n",
            "300/300 [==============================] - 0s 220us/step - loss: 3.9031e-04 - acc: 1.0000\n",
            "Epoch 112/200\n",
            "300/300 [==============================] - 0s 207us/step - loss: 5.3233e-04 - acc: 1.0000\n",
            "Epoch 113/200\n",
            "300/300 [==============================] - 0s 208us/step - loss: 5.3954e-04 - acc: 1.0000\n",
            "Epoch 114/200\n",
            "300/300 [==============================] - 0s 264us/step - loss: 4.0724e-04 - acc: 1.0000\n",
            "Epoch 115/200\n",
            "300/300 [==============================] - 0s 216us/step - loss: 4.4480e-04 - acc: 1.0000\n",
            "Epoch 116/200\n",
            "300/300 [==============================] - 0s 203us/step - loss: 3.4213e-04 - acc: 1.0000\n",
            "Epoch 117/200\n",
            "300/300 [==============================] - 0s 204us/step - loss: 4.0006e-04 - acc: 1.0000\n",
            "Epoch 118/200\n",
            "300/300 [==============================] - 0s 205us/step - loss: 2.9329e-04 - acc: 1.0000\n",
            "Epoch 119/200\n",
            "300/300 [==============================] - 0s 219us/step - loss: 2.8423e-04 - acc: 1.0000\n",
            "Epoch 120/200\n",
            "300/300 [==============================] - 0s 190us/step - loss: 2.8794e-04 - acc: 1.0000\n",
            "Epoch 121/200\n",
            "300/300 [==============================] - 0s 191us/step - loss: 5.0286e-04 - acc: 1.0000\n",
            "Epoch 122/200\n",
            "300/300 [==============================] - 0s 189us/step - loss: 3.7775e-04 - acc: 1.0000\n",
            "Epoch 123/200\n",
            "300/300 [==============================] - 0s 200us/step - loss: 3.2954e-04 - acc: 1.0000\n",
            "Epoch 124/200\n",
            "300/300 [==============================] - 0s 192us/step - loss: 3.7255e-04 - acc: 1.0000\n",
            "Epoch 125/200\n",
            "300/300 [==============================] - 0s 241us/step - loss: 2.8178e-04 - acc: 1.0000\n",
            "Epoch 126/200\n",
            "300/300 [==============================] - 0s 196us/step - loss: 3.0001e-04 - acc: 1.0000\n",
            "Epoch 127/200\n",
            "300/300 [==============================] - 0s 185us/step - loss: 3.0743e-04 - acc: 1.0000\n",
            "Epoch 128/200\n",
            "300/300 [==============================] - 0s 242us/step - loss: 2.6972e-04 - acc: 1.0000\n",
            "Epoch 129/200\n",
            "300/300 [==============================] - 0s 200us/step - loss: 3.8356e-04 - acc: 1.0000\n",
            "Epoch 130/200\n",
            "300/300 [==============================] - 0s 186us/step - loss: 5.9815e-04 - acc: 1.0000\n",
            "Epoch 131/200\n",
            "300/300 [==============================] - 0s 198us/step - loss: 3.8349e-04 - acc: 1.0000\n",
            "Epoch 132/200\n",
            "300/300 [==============================] - 0s 190us/step - loss: 2.0388e-04 - acc: 1.0000\n",
            "Epoch 133/200\n",
            "300/300 [==============================] - 0s 201us/step - loss: 4.0898e-04 - acc: 1.0000\n",
            "Epoch 134/200\n",
            "300/300 [==============================] - 0s 218us/step - loss: 3.9069e-04 - acc: 1.0000\n",
            "Epoch 135/200\n",
            "300/300 [==============================] - 0s 196us/step - loss: 2.3192e-04 - acc: 1.0000\n",
            "Epoch 136/200\n",
            "300/300 [==============================] - 0s 188us/step - loss: 2.2788e-04 - acc: 1.0000\n",
            "Epoch 137/200\n",
            "300/300 [==============================] - 0s 189us/step - loss: 2.5981e-04 - acc: 1.0000\n",
            "Epoch 138/200\n",
            "300/300 [==============================] - 0s 194us/step - loss: 2.2636e-04 - acc: 1.0000\n",
            "Epoch 139/200\n",
            "300/300 [==============================] - 0s 237us/step - loss: 2.5571e-04 - acc: 1.0000\n",
            "Epoch 140/200\n",
            "300/300 [==============================] - 0s 242us/step - loss: 2.2642e-04 - acc: 1.0000\n",
            "Epoch 141/200\n",
            "300/300 [==============================] - 0s 193us/step - loss: 3.5264e-04 - acc: 1.0000\n",
            "Epoch 142/200\n",
            "300/300 [==============================] - 0s 250us/step - loss: 2.5911e-04 - acc: 1.0000\n",
            "Epoch 143/200\n",
            "300/300 [==============================] - 0s 191us/step - loss: 2.6691e-04 - acc: 1.0000\n",
            "Epoch 144/200\n",
            "300/300 [==============================] - 0s 197us/step - loss: 2.7143e-04 - acc: 1.0000\n",
            "Epoch 145/200\n",
            "300/300 [==============================] - 0s 199us/step - loss: 2.7237e-04 - acc: 1.0000\n",
            "Epoch 146/200\n",
            "300/300 [==============================] - 0s 235us/step - loss: 2.0521e-04 - acc: 1.0000\n",
            "Epoch 147/200\n",
            "300/300 [==============================] - 0s 222us/step - loss: 1.9352e-04 - acc: 1.0000\n",
            "Epoch 148/200\n",
            "300/300 [==============================] - 0s 204us/step - loss: 1.8920e-04 - acc: 1.0000\n",
            "Epoch 149/200\n",
            "300/300 [==============================] - 0s 190us/step - loss: 2.6182e-04 - acc: 1.0000\n",
            "Epoch 150/200\n",
            "300/300 [==============================] - 0s 197us/step - loss: 2.4434e-04 - acc: 1.0000\n",
            "Epoch 151/200\n",
            "300/300 [==============================] - 0s 196us/step - loss: 2.2257e-04 - acc: 1.0000\n",
            "Epoch 152/200\n",
            "300/300 [==============================] - 0s 189us/step - loss: 1.6980e-04 - acc: 1.0000\n",
            "Epoch 153/200\n",
            "300/300 [==============================] - 0s 201us/step - loss: 2.4064e-04 - acc: 1.0000\n",
            "Epoch 154/200\n",
            "300/300 [==============================] - 0s 193us/step - loss: 1.7715e-04 - acc: 1.0000\n",
            "Epoch 155/200\n",
            "300/300 [==============================] - 0s 253us/step - loss: 1.4634e-04 - acc: 1.0000\n",
            "Epoch 156/200\n",
            "300/300 [==============================] - 0s 200us/step - loss: 1.8931e-04 - acc: 1.0000\n",
            "Epoch 157/200\n",
            "300/300 [==============================] - 0s 233us/step - loss: 1.5658e-04 - acc: 1.0000\n",
            "Epoch 158/200\n",
            "300/300 [==============================] - 0s 257us/step - loss: 2.0429e-04 - acc: 1.0000\n",
            "Epoch 159/200\n",
            "300/300 [==============================] - 0s 247us/step - loss: 2.8664e-04 - acc: 1.0000\n",
            "Epoch 160/200\n",
            "300/300 [==============================] - 0s 202us/step - loss: 1.9542e-04 - acc: 1.0000\n",
            "Epoch 161/200\n",
            "300/300 [==============================] - 0s 202us/step - loss: 1.4726e-04 - acc: 1.0000\n",
            "Epoch 162/200\n",
            "300/300 [==============================] - 0s 218us/step - loss: 1.3518e-04 - acc: 1.0000\n",
            "Epoch 163/200\n",
            "300/300 [==============================] - 0s 206us/step - loss: 1.6838e-04 - acc: 1.0000\n",
            "Epoch 164/200\n",
            "300/300 [==============================] - 0s 218us/step - loss: 4.2129e-04 - acc: 1.0000\n",
            "Epoch 165/200\n",
            "300/300 [==============================] - 0s 227us/step - loss: 1.8635e-04 - acc: 1.0000\n",
            "Epoch 166/200\n",
            "300/300 [==============================] - 0s 216us/step - loss: 1.9360e-04 - acc: 1.0000\n",
            "Epoch 167/200\n",
            "300/300 [==============================] - 0s 207us/step - loss: 1.8372e-04 - acc: 1.0000\n",
            "Epoch 168/200\n",
            "300/300 [==============================] - 0s 199us/step - loss: 1.7211e-04 - acc: 1.0000\n",
            "Epoch 169/200\n",
            "300/300 [==============================] - 0s 199us/step - loss: 1.7685e-04 - acc: 1.0000\n",
            "Epoch 170/200\n",
            "300/300 [==============================] - 0s 196us/step - loss: 3.5790e-04 - acc: 1.0000\n",
            "Epoch 171/200\n",
            "300/300 [==============================] - 0s 188us/step - loss: 2.7199e-04 - acc: 1.0000\n",
            "Epoch 172/200\n",
            "300/300 [==============================] - 0s 194us/step - loss: 2.0004e-04 - acc: 1.0000\n",
            "Epoch 173/200\n",
            "300/300 [==============================] - 0s 190us/step - loss: 1.8643e-04 - acc: 1.0000\n",
            "Epoch 174/200\n",
            "300/300 [==============================] - 0s 236us/step - loss: 2.6187e-04 - acc: 1.0000\n",
            "Epoch 175/200\n",
            "300/300 [==============================] - 0s 204us/step - loss: 2.8454e-04 - acc: 1.0000\n",
            "Epoch 176/200\n",
            "300/300 [==============================] - 0s 190us/step - loss: 2.1801e-04 - acc: 1.0000\n",
            "Epoch 177/200\n",
            "300/300 [==============================] - 0s 198us/step - loss: 1.8826e-04 - acc: 1.0000\n",
            "Epoch 178/200\n",
            "300/300 [==============================] - 0s 202us/step - loss: 1.7771e-04 - acc: 1.0000\n",
            "Epoch 179/200\n",
            "300/300 [==============================] - 0s 195us/step - loss: 1.8818e-04 - acc: 1.0000\n",
            "Epoch 180/200\n",
            "300/300 [==============================] - 0s 206us/step - loss: 1.5160e-04 - acc: 1.0000\n",
            "Epoch 181/200\n",
            "300/300 [==============================] - 0s 210us/step - loss: 1.5148e-04 - acc: 1.0000\n",
            "Epoch 182/200\n",
            "300/300 [==============================] - 0s 211us/step - loss: 2.1152e-04 - acc: 1.0000\n",
            "Epoch 183/200\n",
            "300/300 [==============================] - 0s 229us/step - loss: 2.3605e-04 - acc: 1.0000\n",
            "Epoch 184/200\n",
            "300/300 [==============================] - 0s 201us/step - loss: 1.8042e-04 - acc: 1.0000\n",
            "Epoch 185/200\n",
            "300/300 [==============================] - 0s 211us/step - loss: 1.9474e-04 - acc: 1.0000\n",
            "Epoch 186/200\n",
            "300/300 [==============================] - 0s 213us/step - loss: 1.3784e-04 - acc: 1.0000\n",
            "Epoch 187/200\n",
            "300/300 [==============================] - 0s 210us/step - loss: 1.5680e-04 - acc: 1.0000\n",
            "Epoch 188/200\n",
            "300/300 [==============================] - 0s 200us/step - loss: 1.5268e-04 - acc: 1.0000\n",
            "Epoch 189/200\n",
            "300/300 [==============================] - 0s 200us/step - loss: 1.7262e-04 - acc: 1.0000\n",
            "Epoch 190/200\n",
            "300/300 [==============================] - 0s 237us/step - loss: 1.3896e-04 - acc: 1.0000\n",
            "Epoch 191/200\n",
            "300/300 [==============================] - 0s 267us/step - loss: 1.6226e-04 - acc: 1.0000\n",
            "Epoch 192/200\n",
            "300/300 [==============================] - 0s 197us/step - loss: 9.6733e-05 - acc: 1.0000\n",
            "Epoch 193/200\n",
            "300/300 [==============================] - 0s 193us/step - loss: 1.5088e-04 - acc: 1.0000\n",
            "Epoch 194/200\n",
            "300/300 [==============================] - 0s 198us/step - loss: 9.8908e-05 - acc: 1.0000\n",
            "Epoch 195/200\n",
            "300/300 [==============================] - 0s 189us/step - loss: 2.1887e-04 - acc: 1.0000\n",
            "Epoch 196/200\n",
            "300/300 [==============================] - 0s 194us/step - loss: 1.0358e-04 - acc: 1.0000\n",
            "Epoch 197/200\n",
            "300/300 [==============================] - 0s 203us/step - loss: 1.3968e-04 - acc: 1.0000\n",
            "Epoch 198/200\n",
            "300/300 [==============================] - 0s 189us/step - loss: 8.7486e-05 - acc: 1.0000\n",
            "Epoch 199/200\n",
            "300/300 [==============================] - 0s 190us/step - loss: 1.4437e-04 - acc: 1.0000\n",
            "Epoch 200/200\n",
            "300/300 [==============================] - 0s 196us/step - loss: 1.1730e-04 - acc: 1.0000\n"
          ],
          "name": "stdout"
        }
      ]
    },
    {
      "cell_type": "code",
      "metadata": {
        "id": "JZYhSXjS5ID8",
        "colab_type": "code",
        "outputId": "5dc170e6-224a-4a42-ba6c-2f12e6e3f662",
        "colab": {
          "base_uri": "https://localhost:8080/",
          "height": 353
        }
      },
      "source": [
        "# Plot classification loss\n",
        "plt.figure(figsize=(10, 5))\n",
        "plt.plot(np.array(losses), label=\"Loss\")\n",
        "plt.title(\"Classification Loss\")\n",
        "plt.legend()"
      ],
      "execution_count": 141,
      "outputs": [
        {
          "output_type": "execute_result",
          "data": {
            "text/plain": [
              "<matplotlib.legend.Legend at 0x7fa50600ef98>"
            ]
          },
          "metadata": {
            "tags": []
          },
          "execution_count": 141
        },
        {
          "output_type": "display_data",
          "data": {
            "image/png": "[encoded data removed]",
            "text/plain": [
              "<Figure size 720x360 with 1 Axes>"
            ]
          },
          "metadata": {
            "tags": []
          }
        }
      ]
    },
    {
      "cell_type": "code",
      "metadata": {
        "id": "1OX9tt085ID_",
        "colab_type": "code",
        "outputId": "1acf9307-f2c5-4247-a820-9a2b58b63723",
        "colab": {
          "base_uri": "https://localhost:8080/",
          "height": 353
        }
      },
      "source": [
        "# Plot classification accuracy\n",
        "plt.figure(figsize=(10, 5))\n",
        "plt.plot(np.array(accuracies), label=\"Accuracy\")\n",
        "plt.title(\"Classification Accuracy\")\n",
        "plt.legend()"
      ],
      "execution_count": 142,
      "outputs": [
        {
          "output_type": "execute_result",
          "data": {
            "text/plain": [
              "<matplotlib.legend.Legend at 0x7fa505fee588>"
            ]
          },
          "metadata": {
            "tags": []
          },
          "execution_count": 142
        },
        {
          "output_type": "display_data",
          "data": {
            "image/png": "[encoded data removed]",
            "text/plain": [
              "<Figure size 720x360 with 1 Axes>"
            ]
          },
          "metadata": {
            "tags": []
          }
        }
      ]
    },
    {
      "cell_type": "code",
      "metadata": {
        "id": "6oMPnpnR5IEB",
        "colab_type": "code",
        "outputId": "df7a8a24-3b39-4d9e-e419-b98ebbbbadb2",
        "colab": {
          "base_uri": "https://localhost:8080/",
          "height": 50
        }
      },
      "source": [
        "x, y = dataset.training_set()\n",
        "y = to_categorical(y, num_classes=num_classes)\n",
        "\n",
        "# Compute classification accuracy on the training set\n",
        "_, accuracy = mnist_classifier.evaluate(x, y)\n",
        "print(\"Training Accuracy: %.2f%%\" % (100 * accuracy))"
      ],
      "execution_count": 143,
      "outputs": [
        {
          "output_type": "stream",
          "text": [
            "300/300 [==============================] - 1s 4ms/step\n",
            "Training Accuracy: 100.00%\n"
          ],
          "name": "stdout"
        }
      ]
    },
    {
      "cell_type": "code",
      "metadata": {
        "id": "x2B2kNsq5IEF",
        "colab_type": "code",
        "outputId": "0b7a58e0-c69c-46ba-a2f8-d3a37ab76a2d",
        "colab": {
          "base_uri": "https://localhost:8080/",
          "height": 50
        }
      },
      "source": [
        "x, y = dataset.test_set()\n",
        "y = to_categorical(y, num_classes=num_classes)\n",
        "\n",
        "# Compute classification accuracy on the test set\n",
        "_, accuracy = mnist_classifier.evaluate(x, y)\n",
        "print(\"Test Accuracy: %.2f%%\" % (100 * accuracy))"
      ],
      "execution_count": 144,
      "outputs": [
        {
          "output_type": "stream",
          "text": [
            "10000/10000 [==============================] - 1s 72us/step\n",
            "Test Accuracy: 83.55%\n"
          ],
          "name": "stdout"
        }
      ]
    },
    {
      "cell_type": "markdown",
      "metadata": {
        "id": "UexjatKq5IEJ",
        "colab_type": "text"
      },
      "source": [
        "---"
      ]
    }
  ]
}