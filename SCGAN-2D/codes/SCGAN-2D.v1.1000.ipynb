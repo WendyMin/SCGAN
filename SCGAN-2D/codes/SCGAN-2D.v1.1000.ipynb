{
  "nbformat": 4,
  "nbformat_minor": 0,
  "metadata": {
    "kernelspec": {
      "name": "python3",
      "display_name": "Python 3"
    },
    "language_info": {
      "codemirror_mode": {
        "name": "ipython",
        "version": 3
      },
      "file_extension": ".py",
      "mimetype": "text/x-python",
      "name": "python",
      "nbconvert_exporter": "python",
      "pygments_lexer": "ipython3",
      "version": "3.6.5"
    },
    "colab": {
      "name": "SCGAN.v1.ipynb",
      "version": "0.3.2",
      "provenance": [],
      "collapsed_sections": []
    },
    "accelerator": "GPU"
  },
  "cells": [
    {
      "cell_type": "markdown",
      "metadata": {
        "id": "4JrJW9Ib5ICb",
        "colab_type": "text"
      },
      "source": [
        "# Semi-Supervised Conditional GAN (SCGAN)"
      ]
    },
    {
      "cell_type": "code",
      "metadata": {
        "id": "QNWoI_bz5ICe",
        "colab_type": "code",
        "colab": {}
      },
      "source": [
        "%matplotlib inline\n",
        "\n",
        "import matplotlib.pyplot as plt\n",
        "import numpy as np\n",
        "import json\n",
        "\n",
        "from keras import backend as K\n",
        "\n",
        "from keras.datasets import mnist\n",
        "from keras.layers import (Activation, BatchNormalization, Concatenate, Dense,\n",
        "                          Dropout, Flatten, Input, Lambda, Reshape, Embedding,\n",
        "                          Multiply)\n",
        "from keras.layers.advanced_activations import LeakyReLU\n",
        "from keras.layers.convolutional import Conv2D, Conv2DTranspose\n",
        "from keras.models import Model, Sequential\n",
        "from keras.optimizers import Adam\n",
        "from keras.utils import to_categorical"
      ],
      "execution_count": 0,
      "outputs": []
    },
    {
      "cell_type": "markdown",
      "metadata": {
        "id": "xn9DfamS5ICl",
        "colab_type": "text"
      },
      "source": [
        "## Dataset"
      ]
    },
    {
      "cell_type": "code",
      "metadata": {
        "id": "bqo19imG5ICn",
        "colab_type": "code",
        "colab": {}
      },
      "source": [
        "class Dataset:\n",
        "    def __init__(self, num_labeled):\n",
        "\n",
        "        # Number labeled examples to use for training\n",
        "        self.num_labeled = num_labeled\n",
        "\n",
        "        # Load the MNIST dataset\n",
        "        (self.x_train, self.y_train), (self.x_test,\n",
        "                                       self.y_test) = mnist.load_data()\n",
        "\n",
        "        def preprocess_imgs(x):\n",
        "            # Rescale [0, 255] grayscale pixel values to [-1, 1]\n",
        "            x = (x.astype(np.float32) - 127.5) / 127.5\n",
        "            # Expand image dimensions to width x height x channels\n",
        "            x = np.expand_dims(x, axis=3)\n",
        "            return x\n",
        "\n",
        "        def preprocess_labels(y):\n",
        "            return y.reshape(-1, 1)\n",
        "\n",
        "        # Training data\n",
        "        self.x_train = preprocess_imgs(self.x_train)\n",
        "        self.y_train = preprocess_labels(self.y_train)\n",
        "\n",
        "        # Testing data\n",
        "        self.x_test = preprocess_imgs(self.x_test)\n",
        "        self.y_test = preprocess_labels(self.y_test)\n",
        "\n",
        "    def batch_labeled(self, batch_size):\n",
        "        # Get a random batch of labeled images and their labels\n",
        "        idx = np.random.randint(0, self.num_labeled, batch_size)\n",
        "        imgs = self.x_train[idx]\n",
        "        labels = self.y_train[idx]\n",
        "        return imgs, labels\n",
        "\n",
        "    def batch_unlabeled(self, batch_size):\n",
        "        # Get a random batch of unlabeled images\n",
        "        idx = np.random.randint(self.num_labeled, self.x_train.shape[0],\n",
        "                                batch_size)\n",
        "        imgs = self.x_train[idx]\n",
        "        return imgs\n",
        "\n",
        "    def training_set(self):\n",
        "        x_train = self.x_train[range(self.num_labeled)]\n",
        "        y_train = self.y_train[range(self.num_labeled)]\n",
        "        return x_train, y_train\n",
        "\n",
        "    def test_set(self):\n",
        "        return self.x_test, self.y_test"
      ],
      "execution_count": 0,
      "outputs": []
    },
    {
      "cell_type": "code",
      "metadata": {
        "id": "y6p2xUzF5ICt",
        "colab_type": "code",
        "colab": {}
      },
      "source": [
        "# Number of labeled examples to use (rest will be used as unlabeled)\n",
        "num_labeled = 1000\n",
        "\n",
        "dataset = Dataset(num_labeled)"
      ],
      "execution_count": 0,
      "outputs": []
    },
    {
      "cell_type": "code",
      "metadata": {
        "id": "IW2-FIrD2z8n",
        "colab_type": "code",
        "outputId": "91a43745-055d-4c2a-eba3-9aa606480d84",
        "colab": {
          "base_uri": "https://localhost:8080/",
          "height": 84
        }
      },
      "source": [
        "(x_train, y_train), (x_test, y_test) = mnist.load_data()\n",
        "print(x_train.shape)\n",
        "print(y_train.shape)\n",
        "print(x_test.shape)\n",
        "print(y_test.shape)"
      ],
      "execution_count": 0,
      "outputs": [
        {
          "output_type": "stream",
          "text": [
            "(60000, 28, 28)\n",
            "(60000,)\n",
            "(10000, 28, 28)\n",
            "(10000,)\n"
          ],
          "name": "stdout"
        }
      ]
    },
    {
      "cell_type": "markdown",
      "metadata": {
        "id": "UtT5bpqm5ICy",
        "colab_type": "text"
      },
      "source": [
        "# Semi-Supervied GAN"
      ]
    },
    {
      "cell_type": "code",
      "metadata": {
        "id": "zeaE_XJq5IC0",
        "colab_type": "code",
        "colab": {}
      },
      "source": [
        "img_rows = 28\n",
        "img_cols = 28\n",
        "channels = 1\n",
        "\n",
        "# Input image dimensions\n",
        "img_shape = (img_rows, img_cols, channels)\n",
        "\n",
        "# Size of the noise vector, used as input to the Generator\n",
        "z_dim = 100\n",
        "\n",
        "# Number of classes in the dataset\n",
        "num_classes = 10"
      ],
      "execution_count": 0,
      "outputs": []
    },
    {
      "cell_type": "markdown",
      "metadata": {
        "id": "SEGfARiO5IC5",
        "colab_type": "text"
      },
      "source": [
        "## Generator"
      ]
    },
    {
      "cell_type": "code",
      "metadata": {
        "id": "GpyzLGKJ5IC6",
        "colab_type": "code",
        "colab": {}
      },
      "source": [
        "def build_generator(z_dim):\n",
        "\n",
        "    model = Sequential()\n",
        "\n",
        "    # Reshape input into 7x7x256 tensor via a fully connected layer\n",
        "    model.add(Dense(256 * 7 * 7, input_dim=z_dim))\n",
        "    model.add(Reshape((7, 7, 256)))\n",
        "\n",
        "    # Transposed convolution layer, from 7x7x256 into 14x14x128 tensor\n",
        "    model.add(Conv2DTranspose(128, kernel_size=3, strides=2, padding='same'))\n",
        "\n",
        "    # Batch normalization\n",
        "    model.add(BatchNormalization())\n",
        "\n",
        "    # Leaky ReLU activation\n",
        "    model.add(LeakyReLU(alpha=0.01))\n",
        "\n",
        "    # Transposed convolution layer, from 14x14x128 to 14x14x64 tensor\n",
        "    model.add(Conv2DTranspose(64, kernel_size=3, strides=1, padding='same'))\n",
        "\n",
        "    # Batch normalization\n",
        "    model.add(BatchNormalization())\n",
        "\n",
        "    # Leaky ReLU activation\n",
        "    model.add(LeakyReLU(alpha=0.01))\n",
        "\n",
        "    # Transposed convolution layer, from 14x14x64 to 28x28x1 tensor\n",
        "    model.add(Conv2DTranspose(1, kernel_size=3, strides=2, padding='same'))\n",
        "\n",
        "    # Output layer with tanh activation\n",
        "    model.add(Activation('tanh'))\n",
        "    \n",
        "    z = Input(shape=(z_dim, ))\n",
        "    label = Input(shape=(num_classes, ), dtype='float32')\n",
        "    label_embedding = Dense(z_dim, input_dim=num_classes)(label)\n",
        "    print(label_embedding)\n",
        "    joined_representation = Multiply()([z, label_embedding])\n",
        "    print(joined_representation)\n",
        "    conditioned_img = model(joined_representation)\n",
        "\n",
        "    model = Model([z, label], conditioned_img)\n",
        "\n",
        "    return model"
      ],
      "execution_count": 0,
      "outputs": []
    },
    {
      "cell_type": "code",
      "metadata": {
        "id": "QRiDvGxWOKQZ",
        "colab_type": "code",
        "outputId": "d469bf40-3773-466a-d520-6107d1f57d24",
        "colab": {
          "base_uri": "https://localhost:8080/",
          "height": 370
        }
      },
      "source": [
        "build_generator(z_dim).summary()"
      ],
      "execution_count": 0,
      "outputs": [
        {
          "output_type": "stream",
          "text": [
            "Tensor(\"dense_13/BiasAdd:0\", shape=(?, 100), dtype=float32)\n",
            "Tensor(\"multiply_7/mul:0\", shape=(?, 100), dtype=float32)\n",
            "Model: \"model_5\"\n",
            "__________________________________________________________________________________________________\n",
            "Layer (type)                    Output Shape         Param #     Connected to                     \n",
            "==================================================================================================\n",
            "input_18 (InputLayer)           (None, 10)           0                                            \n",
            "__________________________________________________________________________________________________\n",
            "input_17 (InputLayer)           (None, 100)          0                                            \n",
            "__________________________________________________________________________________________________\n",
            "dense_13 (Dense)                (None, 100)          1100        input_18[0][0]                   \n",
            "__________________________________________________________________________________________________\n",
            "multiply_7 (Multiply)           (None, 100)          0           input_17[0][0]                   \n",
            "                                                                 dense_13[0][0]                   \n",
            "__________________________________________________________________________________________________\n",
            "sequential_11 (Sequential)      (None, 28, 28, 1)    1637121     multiply_7[0][0]                 \n",
            "==================================================================================================\n",
            "Total params: 1,638,221\n",
            "Trainable params: 1,637,837\n",
            "Non-trainable params: 384\n",
            "__________________________________________________________________________________________________\n"
          ],
          "name": "stdout"
        }
      ]
    },
    {
      "cell_type": "markdown",
      "metadata": {
        "id": "PXctmDp35IC-",
        "colab_type": "text"
      },
      "source": [
        "## Discriminator"
      ]
    },
    {
      "cell_type": "code",
      "metadata": {
        "id": "VahG39Gb5IC_",
        "colab_type": "code",
        "colab": {}
      },
      "source": [
        "def build_discriminator_net(img_shape):\n",
        "\n",
        "    model = Sequential()\n",
        "\n",
        "    # Convolutional layer, from 28x28x1 into 14x14x32 tensor\n",
        "    model.add(\n",
        "        Conv2D(32,\n",
        "               kernel_size=3,\n",
        "               strides=2,\n",
        "               input_shape=img_shape,\n",
        "               padding='same'))\n",
        "\n",
        "    # Leaky ReLU activation\n",
        "    model.add(LeakyReLU(alpha=0.01))\n",
        "\n",
        "    # Convolutional layer, from 14x14x32 into 7x7x64 tensor\n",
        "    model.add(\n",
        "        Conv2D(64,\n",
        "               kernel_size=3,\n",
        "               strides=2,\n",
        "               input_shape=img_shape,\n",
        "               padding='same'))\n",
        "\n",
        "    # Batch normalization\n",
        "    model.add(BatchNormalization())\n",
        "\n",
        "    # Leaky ReLU activation\n",
        "    model.add(LeakyReLU(alpha=0.01))\n",
        "\n",
        "    # Convolutional layer, from 7x7x64 tensor into 3x3x128 tensor\n",
        "    model.add(\n",
        "        Conv2D(128,\n",
        "               kernel_size=3,\n",
        "               strides=2,\n",
        "               input_shape=img_shape,\n",
        "               padding='same'))\n",
        "\n",
        "    # Batch normalization\n",
        "    model.add(BatchNormalization())\n",
        "\n",
        "    # Leaky ReLU activation\n",
        "    model.add(LeakyReLU(alpha=0.01))\n",
        "\n",
        "    # Droupout\n",
        "    model.add(Dropout(0.5))\n",
        "\n",
        "    # Flatten the tensor\n",
        "    model.add(Flatten())\n",
        "\n",
        "    # Fully connected layer with num_classes neurons\n",
        "    model.add(Dense(num_classes))\n",
        "\n",
        "    return model"
      ],
      "execution_count": 0,
      "outputs": []
    },
    {
      "cell_type": "code",
      "metadata": {
        "id": "-hSeX8Z75IDC",
        "colab_type": "code",
        "colab": {}
      },
      "source": [
        "def build_discriminator_supervised(discriminator_net):\n",
        "\n",
        "    model = Sequential()\n",
        "\n",
        "    model.add(discriminator_net)\n",
        "\n",
        "    # Softmax activation, giving predicted probability distribution over the real classes\n",
        "    model.add(Activation('softmax'))\n",
        "\n",
        "    return model"
      ],
      "execution_count": 0,
      "outputs": []
    },
    {
      "cell_type": "code",
      "metadata": {
        "id": "Kc_Skbce5IDF",
        "colab_type": "code",
        "colab": {}
      },
      "source": [
        "def build_discriminator_unsupervised(discriminator_net):\n",
        "\n",
        "    model = Sequential()\n",
        "\n",
        "    model.add(discriminator_net)\n",
        "\n",
        "    def predict(x):\n",
        "        # Transform distribution over real classes into a binary real-vs-fake probability\n",
        "        prediction = 1.0 - (1.0 /\n",
        "                            (K.sum(K.exp(x), axis=-1, keepdims=True) + 1.0))\n",
        "        return prediction\n",
        "\n",
        "    # 'Real-vs-fake' output neuron defined above\n",
        "    model.add(Lambda(predict))\n",
        "\n",
        "    return model"
      ],
      "execution_count": 0,
      "outputs": []
    },
    {
      "cell_type": "markdown",
      "metadata": {
        "id": "-Xz4dCm75IDJ",
        "colab_type": "text"
      },
      "source": [
        "## Build the Model"
      ]
    },
    {
      "cell_type": "code",
      "metadata": {
        "id": "kcTPOPCS5IDL",
        "colab_type": "code",
        "colab": {}
      },
      "source": [
        "def build_gan(generator, discriminator):\n",
        "\n",
        "#     model = Sequential()\n",
        "\n",
        "    # Combined Generator -> Discriminator model\n",
        "#     model.add(generator)\n",
        "#     model.add(discriminator)\n",
        "    \n",
        "    z = Input(shape=(z_dim, ))\n",
        "    label = Input(shape=(num_classes, ))\n",
        "    img = generator([z, label])\n",
        "    output = discriminator(img)\n",
        "    model = Model([z, label], output)\n",
        "\n",
        "    return model"
      ],
      "execution_count": 0,
      "outputs": []
    },
    {
      "cell_type": "code",
      "metadata": {
        "colab_type": "code",
        "outputId": "7641c283-58d4-4732-bb27-9b438457f0cb",
        "id": "GZhORKSp6P03",
        "colab": {
          "base_uri": "https://localhost:8080/",
          "height": 336
        }
      },
      "source": [
        "generator = build_generator(z_dim)\n",
        "discriminator_unsupervised.trainable = False\n",
        "gan = build_gan(generator, discriminator_unsupervised)\n",
        "gan.summary()\n",
        "gan.compile(loss='binary_crossentropy', optimizer=Adam())"
      ],
      "execution_count": 158,
      "outputs": [
        {
          "output_type": "stream",
          "text": [
            "Tensor(\"dense_28/BiasAdd:0\", shape=(?, 100), dtype=float32)\n",
            "Tensor(\"multiply_13/mul:0\", shape=(?, 100), dtype=float32)\n",
            "Model: \"model_17\"\n",
            "__________________________________________________________________________________________________\n",
            "Layer (type)                    Output Shape         Param #     Connected to                     \n",
            "==================================================================================================\n",
            "input_41 (InputLayer)           (None, 100)          0                                            \n",
            "__________________________________________________________________________________________________\n",
            "input_42 (InputLayer)           (None, 10)           0                                            \n",
            "__________________________________________________________________________________________________\n",
            "model_16 (Model)                (None, 28, 28, 1)    1638221     input_41[0][0]                   \n",
            "                                                                 input_42[0][0]                   \n",
            "__________________________________________________________________________________________________\n",
            "sequential_21 (Sequential)      (None, 1)            113930      model_16[1][0]                   \n",
            "==================================================================================================\n",
            "Total params: 1,752,151\n",
            "Trainable params: 1,637,837\n",
            "Non-trainable params: 114,314\n",
            "__________________________________________________________________________________________________\n"
          ],
          "name": "stdout"
        }
      ]
    },
    {
      "cell_type": "markdown",
      "metadata": {
        "id": "i-fxWZ8Y5IDP",
        "colab_type": "text"
      },
      "source": [
        "### Discriminator"
      ]
    },
    {
      "cell_type": "code",
      "metadata": {
        "id": "XPQ_Yvmz5IDQ",
        "colab_type": "code",
        "colab": {}
      },
      "source": [
        "# Core Discriminator network:\n",
        "# These layers are shared during supervised and unsupervised training\n",
        "discriminator_net = build_discriminator_net(img_shape)\n",
        "\n",
        "# Build & compile the Discriminator for supervised training\n",
        "discriminator_supervised = build_discriminator_supervised(discriminator_net)\n",
        "discriminator_supervised.compile(loss='categorical_crossentropy',\n",
        "                                 metrics=['accuracy'],\n",
        "                                 optimizer=Adam())\n",
        "\n",
        "# Build & compile the Discriminator for unsupervised training\n",
        "discriminator_unsupervised = build_discriminator_unsupervised(discriminator_net)\n",
        "discriminator_unsupervised.compile(loss='binary_crossentropy',\n",
        "                                   optimizer=Adam())"
      ],
      "execution_count": 0,
      "outputs": []
    },
    {
      "cell_type": "markdown",
      "metadata": {
        "id": "OX5cwJ_i5IDS",
        "colab_type": "text"
      },
      "source": [
        "### Generator"
      ]
    },
    {
      "cell_type": "code",
      "metadata": {
        "id": "bMRweuap5IDT",
        "colab_type": "code",
        "outputId": "a3adf8fa-2661-41fb-f00a-303d3b0810fa",
        "colab": {
          "base_uri": "https://localhost:8080/",
          "height": 50
        }
      },
      "source": [
        "# Build the Generator\n",
        "generator = build_generator(z_dim)\n",
        "\n",
        "# Keep Discriminator’s parameters constant for Generator training\n",
        "discriminator_unsupervised.trainable = False\n",
        "\n",
        "# Build and compile GAN model with fixed Discriminator to train the Generator\n",
        "# Note that we are using the Discriminator version with unsupervised output\n",
        "gan = build_gan(generator, discriminator_unsupervised)\n",
        "gan.compile(loss='binary_crossentropy', optimizer=Adam())"
      ],
      "execution_count": 160,
      "outputs": [
        {
          "output_type": "stream",
          "text": [
            "Tensor(\"dense_31/BiasAdd:0\", shape=(?, 100), dtype=float32)\n",
            "Tensor(\"multiply_14/mul:0\", shape=(?, 100), dtype=float32)\n"
          ],
          "name": "stdout"
        }
      ]
    },
    {
      "cell_type": "markdown",
      "metadata": {
        "id": "rSfkxFfH5IDW",
        "colab_type": "text"
      },
      "source": [
        "## Training"
      ]
    },
    {
      "cell_type": "code",
      "metadata": {
        "id": "EQx1f61tT1sF",
        "colab_type": "code",
        "colab": {}
      },
      "source": [
        "%mkdir models/models-label-1000\n",
        "%mkdir losses/losses-label-1000"
      ],
      "execution_count": 0,
      "outputs": []
    },
    {
      "cell_type": "code",
      "metadata": {
        "id": "lKb4Xds65IDX",
        "colab_type": "code",
        "colab": {}
      },
      "source": [
        "supervised_losses = []\n",
        "unsupervised_losses = []\n",
        "g_losses = []\n",
        "iteration_checkpoints = []\n",
        "\n",
        "\n",
        "def train(iterations, batch_size, save_interval):\n",
        "\n",
        "    # Labels for real images: all ones\n",
        "    real = np.ones((batch_size, 1))\n",
        "\n",
        "    # Labels for fake images: all zeros\n",
        "    fake = np.zeros((batch_size, 1))\n",
        "\n",
        "    for iteration in range(iterations):\n",
        "\n",
        "        # -------------------------\n",
        "        #  Train the Discriminator\n",
        "        # -------------------------\n",
        "\n",
        "        # Get labeled examples\n",
        "        imgs, labels = dataset.batch_labeled(batch_size)\n",
        "\n",
        "        # One-hot encode labels\n",
        "        labels = to_categorical(labels, num_classes=num_classes)\n",
        "\n",
        "        # Get unlabeled examples\n",
        "        imgs_unlabeled = dataset.batch_unlabeled(batch_size)\n",
        "\n",
        "        # Generate a batch of fake images\n",
        "        z = np.random.normal(0, 1, (batch_size, z_dim))\n",
        "        fake_labels = np.random.randint(0, num_classes, batch_size).reshape(-1, 1)\n",
        "        fake_labels = to_categorical(fake_labels, num_classes=num_classes)\n",
        "        gen_imgs = generator.predict([z, fake_labels])\n",
        "\n",
        "        # Train on real labeled examples\n",
        "        d_loss_supervised, accuracy = discriminator_supervised.train_on_batch(imgs, labels)\n",
        "\n",
        "        # Train on real unlabeled examples\n",
        "        d_loss_real = discriminator_unsupervised.train_on_batch(imgs_unlabeled, real)\n",
        "\n",
        "        # Train on fake examples\n",
        "        d_loss_fake = discriminator_unsupervised.train_on_batch(gen_imgs, fake)\n",
        "\n",
        "        d_loss_unsupervised = 0.5 * np.add(d_loss_real, d_loss_fake)\n",
        "\n",
        "        # ---------------------\n",
        "        #  Train the Generator\n",
        "        # ---------------------\n",
        "\n",
        "        # Generate a batch of fake images\n",
        "        z = np.random.normal(0, 1, (batch_size, z_dim))\n",
        "        gen_imgs = generator.predict([z, labels])\n",
        "\n",
        "        # Train Generator\n",
        "        g_loss = gan.train_on_batch([z,labels], np.ones((batch_size, 1)))\n",
        "\n",
        "        if (iteration + 1) % save_interval == 0:\n",
        "\n",
        "            # Save Discriminator supervised classification loss to be plotted after training\n",
        "            supervised_losses.append(d_loss_supervised)\n",
        "            unsupervised_losses.append(d_loss_unsupervised)\n",
        "            g_losses.append(g_loss)\n",
        "            \n",
        "            iteration_checkpoints.append(iteration + 1)\n",
        "\n",
        "            # Output training progress\n",
        "            print(\n",
        "                \"%d [D loss supervised: %.4f, acc.: %.2f%%] [D loss unsupervised: %.4f] [G loss: %f]\"\n",
        "                % (iteration + 1, d_loss_supervised, 100 * accuracy,\n",
        "                   d_loss_unsupervised, g_loss))\n",
        "            \n",
        "            discriminator_supervised.save(\"./models/models-label-\" + str(num_labeled) + \"/discriminator_supervised-\" + str(iteration+1) + \".h5\")\n",
        "            file1 = \"./losses/losses-label-\" + str(num_labeled) + \"/supervised_losses.json\"\n",
        "            file2 = \"./losses/losses-label-\" + str(num_labeled) + \"/unsupervised_losses.json\"\n",
        "            file3 = \"./losses/losses-label-\" + str(num_labeled) + \"/g_losses.json\"\n",
        "            with open(file1, 'w') as json_file:\n",
        "                  json.dump(str(supervised_losses), json_file)\n",
        "            with open(file2, 'w') as json_file:\n",
        "                  json.dump(str(unsupervised_losses), json_file)\n",
        "            with open(file3, 'w') as json_file:\n",
        "                  json.dump(str(g_losses), json_file)"
      ],
      "execution_count": 0,
      "outputs": []
    },
    {
      "cell_type": "markdown",
      "metadata": {
        "id": "2MoxwriW5IDb",
        "colab_type": "text"
      },
      "source": [
        "## Train the Model and Inspect Output"
      ]
    },
    {
      "cell_type": "markdown",
      "metadata": {
        "id": "EHHVLd0n5IDc",
        "colab_type": "text"
      },
      "source": [
        "Note that the `'Discrepancy between trainable weights and collected trainable'` warning from Keras is expected. It is by design: The Generator's trainable parameters are intentionally held constant during Discriminator training, and vice versa."
      ]
    },
    {
      "cell_type": "code",
      "metadata": {
        "scrolled": true,
        "id": "0ZWH2w_r5IDe",
        "colab_type": "code",
        "outputId": "c4246ecf-6cbf-4cba-d24a-2dcdfdde7bd5",
        "colab": {
          "base_uri": "https://localhost:8080/",
          "height": 1000
        }
      },
      "source": [
        "# Set hyperparameters\n",
        "iterations = 8000\n",
        "batch_size = 32\n",
        "save_interval = 100\n",
        "\n",
        "# Train the SGAN for the specified number of iterations\n",
        "train(iterations, batch_size, save_interval)"
      ],
      "execution_count": 163,
      "outputs": [
        {
          "output_type": "stream",
          "text": [
            "/usr/local/lib/python3.6/dist-packages/keras/engine/training.py:493: UserWarning: Discrepancy between trainable weights and collected trainable weights, did you set `model.trainable` without calling `model.compile` after ?\n",
            "  'Discrepancy between trainable weights and collected trainable'\n",
            "/usr/local/lib/python3.6/dist-packages/keras/engine/training.py:493: UserWarning: Discrepancy between trainable weights and collected trainable weights, did you set `model.trainable` without calling `model.compile` after ?\n",
            "  'Discrepancy between trainable weights and collected trainable'\n",
            "/usr/local/lib/python3.6/dist-packages/keras/engine/training.py:493: UserWarning: Discrepancy between trainable weights and collected trainable weights, did you set `model.trainable` without calling `model.compile` after ?\n",
            "  'Discrepancy between trainable weights and collected trainable'\n"
          ],
          "name": "stderr"
        },
        {
          "output_type": "stream",
          "text": [
            "100 [D loss supervised: 0.3104, acc.: 90.62%] [D loss unsupervised: 0.0118] [G loss: 3.182050]\n",
            "200 [D loss supervised: 0.0557, acc.: 100.00%] [D loss unsupervised: 0.0223] [G loss: 1.475410]\n",
            "300 [D loss supervised: 0.1232, acc.: 93.75%] [D loss unsupervised: 0.0705] [G loss: 3.847853]\n",
            "400 [D loss supervised: 0.0846, acc.: 96.88%] [D loss unsupervised: 0.0909] [G loss: 5.216974]\n",
            "500 [D loss supervised: 0.0548, acc.: 96.88%] [D loss unsupervised: 0.0396] [G loss: 5.483150]\n",
            "600 [D loss supervised: 0.0466, acc.: 100.00%] [D loss unsupervised: 0.0803] [G loss: 4.546072]\n",
            "700 [D loss supervised: 0.0094, acc.: 100.00%] [D loss unsupervised: 0.0798] [G loss: 5.646016]\n",
            "800 [D loss supervised: 0.0306, acc.: 100.00%] [D loss unsupervised: 0.1260] [G loss: 4.947357]\n",
            "900 [D loss supervised: 0.0329, acc.: 100.00%] [D loss unsupervised: 0.2130] [G loss: 3.595466]\n",
            "1000 [D loss supervised: 0.0206, acc.: 100.00%] [D loss unsupervised: 0.4399] [G loss: 2.534733]\n",
            "1100 [D loss supervised: 0.0072, acc.: 100.00%] [D loss unsupervised: 0.6890] [G loss: 4.222082]\n",
            "1200 [D loss supervised: 0.0142, acc.: 100.00%] [D loss unsupervised: 0.1343] [G loss: 2.997773]\n",
            "1300 [D loss supervised: 0.0353, acc.: 100.00%] [D loss unsupervised: 0.1421] [G loss: 4.553277]\n",
            "1400 [D loss supervised: 0.0092, acc.: 100.00%] [D loss unsupervised: 0.2492] [G loss: 1.762856]\n",
            "1500 [D loss supervised: 0.0296, acc.: 96.88%] [D loss unsupervised: 0.3381] [G loss: 3.552712]\n",
            "1600 [D loss supervised: 0.0104, acc.: 100.00%] [D loss unsupervised: 0.0525] [G loss: 3.482708]\n",
            "1700 [D loss supervised: 0.0106, acc.: 100.00%] [D loss unsupervised: 0.0716] [G loss: 5.917741]\n",
            "1800 [D loss supervised: 0.0215, acc.: 100.00%] [D loss unsupervised: 0.2024] [G loss: 3.820358]\n",
            "1900 [D loss supervised: 0.0309, acc.: 100.00%] [D loss unsupervised: 0.2938] [G loss: 3.360476]\n",
            "2000 [D loss supervised: 0.0008, acc.: 100.00%] [D loss unsupervised: 0.2592] [G loss: 3.738356]\n",
            "2100 [D loss supervised: 0.0045, acc.: 100.00%] [D loss unsupervised: 0.3297] [G loss: 2.871037]\n",
            "2200 [D loss supervised: 0.0036, acc.: 100.00%] [D loss unsupervised: 0.3712] [G loss: 4.496580]\n",
            "2300 [D loss supervised: 0.0110, acc.: 100.00%] [D loss unsupervised: 0.1243] [G loss: 3.191867]\n",
            "2400 [D loss supervised: 0.0089, acc.: 100.00%] [D loss unsupervised: 0.1023] [G loss: 3.921807]\n",
            "2500 [D loss supervised: 0.0168, acc.: 100.00%] [D loss unsupervised: 0.1756] [G loss: 3.489880]\n",
            "2600 [D loss supervised: 0.0056, acc.: 100.00%] [D loss unsupervised: 0.1233] [G loss: 5.496019]\n",
            "2700 [D loss supervised: 0.0099, acc.: 100.00%] [D loss unsupervised: 0.1185] [G loss: 5.027024]\n",
            "2800 [D loss supervised: 0.0242, acc.: 100.00%] [D loss unsupervised: 0.0928] [G loss: 6.162649]\n",
            "2900 [D loss supervised: 0.0197, acc.: 100.00%] [D loss unsupervised: 0.2030] [G loss: 3.419607]\n",
            "3000 [D loss supervised: 0.0020, acc.: 100.00%] [D loss unsupervised: 0.1468] [G loss: 2.721805]\n",
            "3100 [D loss supervised: 0.0234, acc.: 100.00%] [D loss unsupervised: 0.3402] [G loss: 3.595211]\n",
            "3200 [D loss supervised: 0.0115, acc.: 100.00%] [D loss unsupervised: 0.4283] [G loss: 3.646361]\n",
            "3300 [D loss supervised: 0.0048, acc.: 100.00%] [D loss unsupervised: 0.1740] [G loss: 2.287505]\n",
            "3400 [D loss supervised: 0.0016, acc.: 100.00%] [D loss unsupervised: 0.2938] [G loss: 5.255845]\n",
            "3500 [D loss supervised: 0.0114, acc.: 100.00%] [D loss unsupervised: 0.2266] [G loss: 3.764210]\n",
            "3600 [D loss supervised: 0.0034, acc.: 100.00%] [D loss unsupervised: 0.1064] [G loss: 3.394777]\n",
            "3700 [D loss supervised: 0.0037, acc.: 100.00%] [D loss unsupervised: 0.1567] [G loss: 4.906326]\n",
            "3800 [D loss supervised: 0.0024, acc.: 100.00%] [D loss unsupervised: 0.2905] [G loss: 3.697164]\n",
            "3900 [D loss supervised: 0.0018, acc.: 100.00%] [D loss unsupervised: 0.2876] [G loss: 4.005312]\n",
            "4000 [D loss supervised: 0.0012, acc.: 100.00%] [D loss unsupervised: 0.3601] [G loss: 2.143839]\n",
            "4100 [D loss supervised: 0.0115, acc.: 100.00%] [D loss unsupervised: 0.2285] [G loss: 5.126901]\n",
            "4200 [D loss supervised: 0.0005, acc.: 100.00%] [D loss unsupervised: 0.2067] [G loss: 5.425831]\n",
            "4300 [D loss supervised: 0.0054, acc.: 100.00%] [D loss unsupervised: 0.1278] [G loss: 2.245852]\n",
            "4400 [D loss supervised: 0.0007, acc.: 100.00%] [D loss unsupervised: 0.1669] [G loss: 2.673254]\n",
            "4500 [D loss supervised: 0.0046, acc.: 100.00%] [D loss unsupervised: 0.2936] [G loss: 3.604503]\n",
            "4600 [D loss supervised: 0.0015, acc.: 100.00%] [D loss unsupervised: 0.2174] [G loss: 4.275103]\n",
            "4700 [D loss supervised: 0.0011, acc.: 100.00%] [D loss unsupervised: 0.1972] [G loss: 3.385831]\n",
            "4800 [D loss supervised: 0.0050, acc.: 100.00%] [D loss unsupervised: 0.2745] [G loss: 2.890969]\n",
            "4900 [D loss supervised: 0.0045, acc.: 100.00%] [D loss unsupervised: 0.1501] [G loss: 4.106153]\n",
            "5000 [D loss supervised: 0.0019, acc.: 100.00%] [D loss unsupervised: 0.2431] [G loss: 4.541526]\n",
            "5100 [D loss supervised: 0.0020, acc.: 100.00%] [D loss unsupervised: 0.0846] [G loss: 5.168434]\n",
            "5200 [D loss supervised: 0.0018, acc.: 100.00%] [D loss unsupervised: 0.1649] [G loss: 4.661153]\n",
            "5300 [D loss supervised: 0.0113, acc.: 100.00%] [D loss unsupervised: 0.1690] [G loss: 7.714278]\n",
            "5400 [D loss supervised: 0.0026, acc.: 100.00%] [D loss unsupervised: 0.3660] [G loss: 6.035770]\n",
            "5500 [D loss supervised: 0.0155, acc.: 100.00%] [D loss unsupervised: 0.1436] [G loss: 5.843217]\n",
            "5600 [D loss supervised: 0.0021, acc.: 100.00%] [D loss unsupervised: 0.1169] [G loss: 5.395916]\n",
            "5700 [D loss supervised: 0.0021, acc.: 100.00%] [D loss unsupervised: 0.3376] [G loss: 3.607673]\n",
            "5800 [D loss supervised: 0.0008, acc.: 100.00%] [D loss unsupervised: 0.4855] [G loss: 2.318969]\n",
            "5900 [D loss supervised: 0.0017, acc.: 100.00%] [D loss unsupervised: 0.2149] [G loss: 6.079028]\n",
            "6000 [D loss supervised: 0.0062, acc.: 100.00%] [D loss unsupervised: 0.0948] [G loss: 4.571695]\n",
            "6100 [D loss supervised: 0.0037, acc.: 100.00%] [D loss unsupervised: 0.1733] [G loss: 3.020587]\n",
            "6200 [D loss supervised: 0.0034, acc.: 100.00%] [D loss unsupervised: 0.2526] [G loss: 3.191955]\n",
            "6300 [D loss supervised: 0.0011, acc.: 100.00%] [D loss unsupervised: 0.3718] [G loss: 3.822294]\n",
            "6400 [D loss supervised: 0.0547, acc.: 96.88%] [D loss unsupervised: 0.5115] [G loss: 1.873213]\n",
            "6500 [D loss supervised: 0.0026, acc.: 100.00%] [D loss unsupervised: 0.3200] [G loss: 3.587808]\n",
            "6600 [D loss supervised: 0.0016, acc.: 100.00%] [D loss unsupervised: 0.0392] [G loss: 4.843822]\n",
            "6700 [D loss supervised: 0.0037, acc.: 100.00%] [D loss unsupervised: 0.2015] [G loss: 3.948854]\n",
            "6800 [D loss supervised: 0.0005, acc.: 100.00%] [D loss unsupervised: 0.3628] [G loss: 2.607887]\n",
            "6900 [D loss supervised: 0.0003, acc.: 100.00%] [D loss unsupervised: 0.2577] [G loss: 3.492699]\n",
            "7000 [D loss supervised: 0.0014, acc.: 100.00%] [D loss unsupervised: 0.1009] [G loss: 4.381144]\n",
            "7100 [D loss supervised: 0.0005, acc.: 100.00%] [D loss unsupervised: 0.1686] [G loss: 6.261109]\n",
            "7200 [D loss supervised: 0.0015, acc.: 100.00%] [D loss unsupervised: 0.3283] [G loss: 3.909389]\n",
            "7300 [D loss supervised: 0.0023, acc.: 100.00%] [D loss unsupervised: 0.3317] [G loss: 3.787906]\n",
            "7400 [D loss supervised: 0.0039, acc.: 100.00%] [D loss unsupervised: 0.4126] [G loss: 2.414354]\n",
            "7500 [D loss supervised: 0.0006, acc.: 100.00%] [D loss unsupervised: 0.5808] [G loss: 4.075026]\n",
            "7600 [D loss supervised: 0.0109, acc.: 100.00%] [D loss unsupervised: 0.2362] [G loss: 3.587675]\n",
            "7700 [D loss supervised: 0.0006, acc.: 100.00%] [D loss unsupervised: 0.1884] [G loss: 3.303177]\n",
            "7800 [D loss supervised: 0.0007, acc.: 100.00%] [D loss unsupervised: 0.5429] [G loss: 2.566358]\n",
            "7900 [D loss supervised: 0.0011, acc.: 100.00%] [D loss unsupervised: 0.2874] [G loss: 3.303555]\n",
            "8000 [D loss supervised: 0.0021, acc.: 100.00%] [D loss unsupervised: 0.3911] [G loss: 3.028098]\n"
          ],
          "name": "stdout"
        }
      ]
    },
    {
      "cell_type": "code",
      "metadata": {
        "id": "T98POkWe5IDh",
        "colab_type": "code",
        "outputId": "fadb50df-1a99-4761-b13d-955714929195",
        "colab": {
          "base_uri": "https://localhost:8080/",
          "height": 382
        }
      },
      "source": [
        "supervised_losses = np.array(supervised_losses)\n",
        "unsupervised_losses = np.array(unsupervised_losses)\n",
        "g_losses = np.array(g_losses)\n",
        "\n",
        "# Plot Discriminator supervised loss\n",
        "plt.figure(figsize=(15, 5))\n",
        "plt.plot(iteration_checkpoints, supervised_losses, label=\"Discriminator supervised loss\", color='tab:blue')\n",
        "plt.plot(iteration_checkpoints, unsupervised_losses, label=\"Discriminator unsupervised loss\", color='tab:green')\n",
        "plt.plot(iteration_checkpoints, g_losses, label=\"Generator supervised loss\", color='tab:red')\n",
        "\n",
        "plt.xticks(iteration_checkpoints, rotation=90)\n",
        "\n",
        "plt.title(\"Discriminator(supervised + unsupervised) + Generator Loss\")\n",
        "plt.xlabel(\"Iteration\")\n",
        "plt.ylabel(\"Loss\")\n",
        "plt.legend()"
      ],
      "execution_count": 164,
      "outputs": [
        {
          "output_type": "execute_result",
          "data": {
            "text/plain": [
              "<matplotlib.legend.Legend at 0x7fa503078eb8>"
            ]
          },
          "metadata": {
            "tags": []
          },
          "execution_count": 164
        },
        {
          "output_type": "display_data",
          "data": {
            "image/png": "[encoded data removed]",
            "text/plain": [
              "<Figure size 1080x360 with 1 Axes>"
            ]
          },
          "metadata": {
            "tags": []
          }
        }
      ]
    },
    {
      "cell_type": "code",
      "metadata": {
        "id": "F61dqQWQ3ri6",
        "colab_type": "code",
        "outputId": "07a14ab5-7323-44b2-8f84-6a94cc47ea94",
        "colab": {
          "base_uri": "https://localhost:8080/",
          "height": 50
        }
      },
      "source": [
        "print(supervised_losses[-10:])"
      ],
      "execution_count": 165,
      "outputs": [
        {
          "output_type": "stream",
          "text": [
            "[0.00052179 0.00153511 0.00225196 0.00394122 0.00064216 0.01090027\n",
            " 0.00055001 0.00069199 0.00110341 0.00206788]\n"
          ],
          "name": "stdout"
        }
      ]
    },
    {
      "cell_type": "markdown",
      "metadata": {
        "id": "PScPJocN5IDk",
        "colab_type": "text"
      },
      "source": [
        "## SGAN Classifier – Training and Test Accuracy "
      ]
    },
    {
      "cell_type": "code",
      "metadata": {
        "id": "e6BmzAGk5IDl",
        "colab_type": "code",
        "outputId": "6d457c92-0899-48bb-d6fa-ff313b77bd25",
        "colab": {
          "base_uri": "https://localhost:8080/",
          "height": 50
        }
      },
      "source": [
        "x, y = dataset.training_set()\n",
        "y = to_categorical(y, num_classes=num_classes)\n",
        "\n",
        "# Compute classification accuracy on the training set\n",
        "_, accuracy = discriminator_supervised.evaluate(x, y)\n",
        "print(\"Training Accuracy: %.2f%%\" % (100 * accuracy))"
      ],
      "execution_count": 166,
      "outputs": [
        {
          "output_type": "stream",
          "text": [
            "1000/1000 [==============================] - 1s 1ms/step\n",
            "Training Accuracy: 100.00%\n"
          ],
          "name": "stdout"
        }
      ]
    },
    {
      "cell_type": "code",
      "metadata": {
        "id": "ctWFp3zX5IDo",
        "colab_type": "code",
        "outputId": "eeda5c4f-50af-48d6-c707-f50bbcdabc90",
        "colab": {
          "base_uri": "https://localhost:8080/",
          "height": 50
        }
      },
      "source": [
        "x, y = dataset.test_set()\n",
        "y = to_categorical(y, num_classes=num_classes)\n",
        "\n",
        "# Compute classification accuracy on the test set\n",
        "_, accuracy = discriminator_supervised.evaluate(x, y)\n",
        "print(\"Test Accuracy: %.2f%%\" % (100 * accuracy))"
      ],
      "execution_count": 167,
      "outputs": [
        {
          "output_type": "stream",
          "text": [
            "10000/10000 [==============================] - 1s 73us/step\n",
            "Test Accuracy: 96.24%\n"
          ],
          "name": "stdout"
        }
      ]
    },
    {
      "cell_type": "markdown",
      "metadata": {
        "id": "VDMoAU1r5IDv",
        "colab_type": "text"
      },
      "source": [
        "# Fully-Supervised Classifier"
      ]
    },
    {
      "cell_type": "code",
      "metadata": {
        "id": "TA4C3_RL5IDx",
        "colab_type": "code",
        "colab": {}
      },
      "source": [
        "# Fully supervised classifier with the same network architecture as the SGAN Discriminator\n",
        "mnist_classifier = build_discriminator_supervised(build_discriminator_net(img_shape))\n",
        "mnist_classifier.compile(loss='categorical_crossentropy',\n",
        "                         metrics=['accuracy'],\n",
        "                         optimizer=Adam())"
      ],
      "execution_count": 0,
      "outputs": []
    },
    {
      "cell_type": "code",
      "metadata": {
        "id": "zlJkb5fN5ID3",
        "colab_type": "code",
        "outputId": "e4ce883b-0bd5-4b13-9058-57ec41ac000b",
        "colab": {
          "base_uri": "https://localhost:8080/",
          "height": 1000
        }
      },
      "source": [
        "imgs, labels = dataset.training_set()\n",
        "imgs = imgs[:num_labeled]\n",
        "labels = labels[:num_labeled]\n",
        "\n",
        "# One-hot encode labels\n",
        "labels = to_categorical(labels, num_classes=num_classes)\n",
        "\n",
        "# Train the classifier\n",
        "training = mnist_classifier.fit(x=imgs,\n",
        "                                y=labels,\n",
        "                                batch_size=32,\n",
        "                                epochs=200,\n",
        "                                verbose=1)\n",
        "losses = training.history['loss']\n",
        "accuracies = training.history['acc']"
      ],
      "execution_count": 169,
      "outputs": [
        {
          "output_type": "stream",
          "text": [
            "Epoch 1/200\n",
            "1000/1000 [==============================] - 4s 4ms/step - loss: 1.3372 - acc: 0.5830\n",
            "Epoch 2/200\n",
            "1000/1000 [==============================] - 0s 190us/step - loss: 0.4793 - acc: 0.8520\n",
            "Epoch 3/200\n",
            "1000/1000 [==============================] - 0s 189us/step - loss: 0.2742 - acc: 0.9170\n",
            "Epoch 4/200\n",
            "1000/1000 [==============================] - 0s 180us/step - loss: 0.1937 - acc: 0.9450\n",
            "Epoch 5/200\n",
            "1000/1000 [==============================] - 0s 205us/step - loss: 0.1405 - acc: 0.9610\n",
            "Epoch 6/200\n",
            "1000/1000 [==============================] - 0s 190us/step - loss: 0.1003 - acc: 0.9780\n",
            "Epoch 7/200\n",
            "1000/1000 [==============================] - 0s 187us/step - loss: 0.0742 - acc: 0.9820\n",
            "Epoch 8/200\n",
            "1000/1000 [==============================] - 0s 182us/step - loss: 0.0434 - acc: 0.9900\n",
            "Epoch 9/200\n",
            "1000/1000 [==============================] - 0s 186us/step - loss: 0.0370 - acc: 0.9940\n",
            "Epoch 10/200\n",
            "1000/1000 [==============================] - 0s 194us/step - loss: 0.0269 - acc: 0.9970\n",
            "Epoch 11/200\n",
            "1000/1000 [==============================] - 0s 201us/step - loss: 0.0189 - acc: 0.9990\n",
            "Epoch 12/200\n",
            "1000/1000 [==============================] - 0s 211us/step - loss: 0.0173 - acc: 0.9990\n",
            "Epoch 13/200\n",
            "1000/1000 [==============================] - 0s 196us/step - loss: 0.0145 - acc: 1.0000\n",
            "Epoch 14/200\n",
            "1000/1000 [==============================] - 0s 198us/step - loss: 0.0129 - acc: 0.9980\n",
            "Epoch 15/200\n",
            "1000/1000 [==============================] - 0s 211us/step - loss: 0.0090 - acc: 1.0000\n",
            "Epoch 16/200\n",
            "1000/1000 [==============================] - 0s 187us/step - loss: 0.0104 - acc: 0.9980\n",
            "Epoch 17/200\n",
            "1000/1000 [==============================] - 0s 194us/step - loss: 0.0092 - acc: 0.9990\n",
            "Epoch 18/200\n",
            "1000/1000 [==============================] - 0s 206us/step - loss: 0.0091 - acc: 0.9990\n",
            "Epoch 19/200\n",
            "1000/1000 [==============================] - 0s 200us/step - loss: 0.0070 - acc: 1.0000\n",
            "Epoch 20/200\n",
            "1000/1000 [==============================] - 0s 203us/step - loss: 0.0097 - acc: 0.9980\n",
            "Epoch 21/200\n",
            "1000/1000 [==============================] - 0s 193us/step - loss: 0.0070 - acc: 1.0000\n",
            "Epoch 22/200\n",
            "1000/1000 [==============================] - 0s 187us/step - loss: 0.0051 - acc: 1.0000\n",
            "Epoch 23/200\n",
            "1000/1000 [==============================] - 0s 194us/step - loss: 0.0042 - acc: 1.0000\n",
            "Epoch 24/200\n",
            "1000/1000 [==============================] - 0s 188us/step - loss: 0.0036 - acc: 1.0000\n",
            "Epoch 25/200\n",
            "1000/1000 [==============================] - 0s 191us/step - loss: 0.0031 - acc: 1.0000\n",
            "Epoch 26/200\n",
            "1000/1000 [==============================] - 0s 194us/step - loss: 0.0043 - acc: 1.0000\n",
            "Epoch 27/200\n",
            "1000/1000 [==============================] - 0s 193us/step - loss: 0.0031 - acc: 1.0000\n",
            "Epoch 28/200\n",
            "1000/1000 [==============================] - 0s 203us/step - loss: 0.0031 - acc: 1.0000\n",
            "Epoch 29/200\n",
            "1000/1000 [==============================] - 0s 190us/step - loss: 0.0019 - acc: 1.0000\n",
            "Epoch 30/200\n",
            "1000/1000 [==============================] - 0s 183us/step - loss: 0.0026 - acc: 1.0000\n",
            "Epoch 31/200\n",
            "1000/1000 [==============================] - 0s 207us/step - loss: 0.0026 - acc: 1.0000\n",
            "Epoch 32/200\n",
            "1000/1000 [==============================] - 0s 184us/step - loss: 0.0017 - acc: 1.0000\n",
            "Epoch 33/200\n",
            "1000/1000 [==============================] - 0s 200us/step - loss: 0.0015 - acc: 1.0000\n",
            "Epoch 34/200\n",
            "1000/1000 [==============================] - 0s 198us/step - loss: 0.0013 - acc: 1.0000\n",
            "Epoch 35/200\n",
            "1000/1000 [==============================] - 0s 207us/step - loss: 0.0013 - acc: 1.0000\n",
            "Epoch 36/200\n",
            "1000/1000 [==============================] - 0s 212us/step - loss: 0.0014 - acc: 1.0000\n",
            "Epoch 37/200\n",
            "1000/1000 [==============================] - 0s 211us/step - loss: 0.0011 - acc: 1.0000\n",
            "Epoch 38/200\n",
            "1000/1000 [==============================] - 0s 220us/step - loss: 0.0011 - acc: 1.0000\n",
            "Epoch 39/200\n",
            "1000/1000 [==============================] - 0s 215us/step - loss: 9.3751e-04 - acc: 1.0000\n",
            "Epoch 40/200\n",
            "1000/1000 [==============================] - 0s 200us/step - loss: 0.0010 - acc: 1.0000\n",
            "Epoch 41/200\n",
            "1000/1000 [==============================] - 0s 218us/step - loss: 0.0010 - acc: 1.0000\n",
            "Epoch 42/200\n",
            "1000/1000 [==============================] - 0s 208us/step - loss: 8.8218e-04 - acc: 1.0000\n",
            "Epoch 43/200\n",
            "1000/1000 [==============================] - 0s 218us/step - loss: 0.0011 - acc: 1.0000\n",
            "Epoch 44/200\n",
            "1000/1000 [==============================] - 0s 190us/step - loss: 0.0016 - acc: 1.0000\n",
            "Epoch 45/200\n",
            "1000/1000 [==============================] - 0s 190us/step - loss: 0.0012 - acc: 1.0000\n",
            "Epoch 46/200\n",
            "1000/1000 [==============================] - 0s 206us/step - loss: 8.7013e-04 - acc: 1.0000\n",
            "Epoch 47/200\n",
            "1000/1000 [==============================] - 0s 187us/step - loss: 8.0291e-04 - acc: 1.0000\n",
            "Epoch 48/200\n",
            "1000/1000 [==============================] - 0s 191us/step - loss: 0.0010 - acc: 1.0000\n",
            "Epoch 49/200\n",
            "1000/1000 [==============================] - 0s 202us/step - loss: 6.6425e-04 - acc: 1.0000\n",
            "Epoch 50/200\n",
            "1000/1000 [==============================] - 0s 204us/step - loss: 7.9817e-04 - acc: 1.0000\n",
            "Epoch 51/200\n",
            "1000/1000 [==============================] - 0s 208us/step - loss: 9.8296e-04 - acc: 1.0000\n",
            "Epoch 52/200\n",
            "1000/1000 [==============================] - 0s 204us/step - loss: 9.5207e-04 - acc: 1.0000\n",
            "Epoch 53/200\n",
            "1000/1000 [==============================] - 0s 189us/step - loss: 0.0012 - acc: 1.0000\n",
            "Epoch 54/200\n",
            "1000/1000 [==============================] - 0s 195us/step - loss: 8.9953e-04 - acc: 1.0000\n",
            "Epoch 55/200\n",
            "1000/1000 [==============================] - 0s 182us/step - loss: 9.7379e-04 - acc: 1.0000\n",
            "Epoch 56/200\n",
            "1000/1000 [==============================] - 0s 192us/step - loss: 5.9725e-04 - acc: 1.0000\n",
            "Epoch 57/200\n",
            "1000/1000 [==============================] - 0s 197us/step - loss: 7.3863e-04 - acc: 1.0000\n",
            "Epoch 58/200\n",
            "1000/1000 [==============================] - 0s 193us/step - loss: 5.3837e-04 - acc: 1.0000\n",
            "Epoch 59/200\n",
            "1000/1000 [==============================] - 0s 182us/step - loss: 8.1917e-04 - acc: 1.0000\n",
            "Epoch 60/200\n",
            "1000/1000 [==============================] - 0s 186us/step - loss: 4.6003e-04 - acc: 1.0000\n",
            "Epoch 61/200\n",
            "1000/1000 [==============================] - 0s 193us/step - loss: 5.5894e-04 - acc: 1.0000\n",
            "Epoch 62/200\n",
            "1000/1000 [==============================] - 0s 194us/step - loss: 4.9313e-04 - acc: 1.0000\n",
            "Epoch 63/200\n",
            "1000/1000 [==============================] - 0s 195us/step - loss: 4.5402e-04 - acc: 1.0000\n",
            "Epoch 64/200\n",
            "1000/1000 [==============================] - 0s 196us/step - loss: 5.0662e-04 - acc: 1.0000\n",
            "Epoch 65/200\n",
            "1000/1000 [==============================] - 0s 189us/step - loss: 4.4619e-04 - acc: 1.0000\n",
            "Epoch 66/200\n",
            "1000/1000 [==============================] - 0s 186us/step - loss: 9.9305e-04 - acc: 1.0000\n",
            "Epoch 67/200\n",
            "1000/1000 [==============================] - 0s 202us/step - loss: 6.2129e-04 - acc: 1.0000\n",
            "Epoch 68/200\n",
            "1000/1000 [==============================] - 0s 218us/step - loss: 4.2405e-04 - acc: 1.0000\n",
            "Epoch 69/200\n",
            "1000/1000 [==============================] - 0s 182us/step - loss: 5.3057e-04 - acc: 1.0000\n",
            "Epoch 70/200\n",
            "1000/1000 [==============================] - 0s 183us/step - loss: 4.1587e-04 - acc: 1.0000\n",
            "Epoch 71/200\n",
            "1000/1000 [==============================] - 0s 180us/step - loss: 4.9492e-04 - acc: 1.0000\n",
            "Epoch 72/200\n",
            "1000/1000 [==============================] - 0s 194us/step - loss: 4.4177e-04 - acc: 1.0000\n",
            "Epoch 73/200\n",
            "1000/1000 [==============================] - 0s 193us/step - loss: 4.3642e-04 - acc: 1.0000\n",
            "Epoch 74/200\n",
            "1000/1000 [==============================] - 0s 194us/step - loss: 3.6032e-04 - acc: 1.0000\n",
            "Epoch 75/200\n",
            "1000/1000 [==============================] - 0s 198us/step - loss: 4.3268e-04 - acc: 1.0000\n",
            "Epoch 76/200\n",
            "1000/1000 [==============================] - 0s 189us/step - loss: 4.4341e-04 - acc: 1.0000\n",
            "Epoch 77/200\n",
            "1000/1000 [==============================] - 0s 207us/step - loss: 4.3871e-04 - acc: 1.0000\n",
            "Epoch 78/200\n",
            "1000/1000 [==============================] - 0s 205us/step - loss: 3.8029e-04 - acc: 1.0000\n",
            "Epoch 79/200\n",
            "1000/1000 [==============================] - 0s 201us/step - loss: 3.5735e-04 - acc: 1.0000\n",
            "Epoch 80/200\n",
            "1000/1000 [==============================] - 0s 197us/step - loss: 2.7298e-04 - acc: 1.0000\n",
            "Epoch 81/200\n",
            "1000/1000 [==============================] - 0s 199us/step - loss: 3.1879e-04 - acc: 1.0000\n",
            "Epoch 82/200\n",
            "1000/1000 [==============================] - 0s 199us/step - loss: 2.2406e-04 - acc: 1.0000\n",
            "Epoch 83/200\n",
            "1000/1000 [==============================] - 0s 183us/step - loss: 2.9729e-04 - acc: 1.0000\n",
            "Epoch 84/200\n",
            "1000/1000 [==============================] - 0s 181us/step - loss: 2.5537e-04 - acc: 1.0000\n",
            "Epoch 85/200\n",
            "1000/1000 [==============================] - 0s 197us/step - loss: 2.5169e-04 - acc: 1.0000\n",
            "Epoch 86/200\n",
            "1000/1000 [==============================] - 0s 197us/step - loss: 3.4429e-04 - acc: 1.0000\n",
            "Epoch 87/200\n",
            "1000/1000 [==============================] - 0s 192us/step - loss: 2.6730e-04 - acc: 1.0000\n",
            "Epoch 88/200\n",
            "1000/1000 [==============================] - 0s 202us/step - loss: 1.6296e-04 - acc: 1.0000\n",
            "Epoch 89/200\n",
            "1000/1000 [==============================] - 0s 186us/step - loss: 3.6248e-04 - acc: 1.0000\n",
            "Epoch 90/200\n",
            "1000/1000 [==============================] - 0s 186us/step - loss: 2.5963e-04 - acc: 1.0000\n",
            "Epoch 91/200\n",
            "1000/1000 [==============================] - 0s 187us/step - loss: 2.2630e-04 - acc: 1.0000\n",
            "Epoch 92/200\n",
            "1000/1000 [==============================] - 0s 181us/step - loss: 2.1458e-04 - acc: 1.0000\n",
            "Epoch 93/200\n",
            "1000/1000 [==============================] - 0s 193us/step - loss: 2.3274e-04 - acc: 1.0000\n",
            "Epoch 94/200\n",
            "1000/1000 [==============================] - 0s 196us/step - loss: 2.9428e-04 - acc: 1.0000\n",
            "Epoch 95/200\n",
            "1000/1000 [==============================] - 0s 209us/step - loss: 5.2788e-04 - acc: 1.0000\n",
            "Epoch 96/200\n",
            "1000/1000 [==============================] - 0s 199us/step - loss: 3.2168e-04 - acc: 1.0000\n",
            "Epoch 97/200\n",
            "1000/1000 [==============================] - 0s 184us/step - loss: 2.6211e-04 - acc: 1.0000\n",
            "Epoch 98/200\n",
            "1000/1000 [==============================] - 0s 193us/step - loss: 1.6062e-04 - acc: 1.0000\n",
            "Epoch 99/200\n",
            "1000/1000 [==============================] - 0s 203us/step - loss: 1.4199e-04 - acc: 1.0000\n",
            "Epoch 100/200\n",
            "1000/1000 [==============================] - 0s 194us/step - loss: 1.5617e-04 - acc: 1.0000\n",
            "Epoch 101/200\n",
            "1000/1000 [==============================] - 0s 187us/step - loss: 2.0051e-04 - acc: 1.0000\n",
            "Epoch 102/200\n",
            "1000/1000 [==============================] - 0s 188us/step - loss: 1.6303e-04 - acc: 1.0000\n",
            "Epoch 103/200\n",
            "1000/1000 [==============================] - 0s 188us/step - loss: 3.0327e-04 - acc: 1.0000\n",
            "Epoch 104/200\n",
            "1000/1000 [==============================] - 0s 201us/step - loss: 0.0034 - acc: 0.9990\n",
            "Epoch 105/200\n",
            "1000/1000 [==============================] - 0s 195us/step - loss: 0.2182 - acc: 0.9360\n",
            "Epoch 106/200\n",
            "1000/1000 [==============================] - 0s 203us/step - loss: 0.2741 - acc: 0.9190\n",
            "Epoch 107/200\n",
            "1000/1000 [==============================] - 0s 202us/step - loss: 0.0781 - acc: 0.9750\n",
            "Epoch 108/200\n",
            "1000/1000 [==============================] - 0s 182us/step - loss: 0.0667 - acc: 0.9850\n",
            "Epoch 109/200\n",
            "1000/1000 [==============================] - 0s 208us/step - loss: 0.0392 - acc: 0.9870\n",
            "Epoch 110/200\n",
            "1000/1000 [==============================] - 0s 185us/step - loss: 0.0223 - acc: 0.9930\n",
            "Epoch 111/200\n",
            "1000/1000 [==============================] - 0s 188us/step - loss: 0.0185 - acc: 0.9920\n",
            "Epoch 112/200\n",
            "1000/1000 [==============================] - 0s 187us/step - loss: 0.0132 - acc: 0.9950\n",
            "Epoch 113/200\n",
            "1000/1000 [==============================] - 0s 183us/step - loss: 0.0079 - acc: 0.9970\n",
            "Epoch 114/200\n",
            "1000/1000 [==============================] - 0s 194us/step - loss: 0.0046 - acc: 0.9990\n",
            "Epoch 115/200\n",
            "1000/1000 [==============================] - 0s 185us/step - loss: 0.0049 - acc: 0.9990\n",
            "Epoch 116/200\n",
            "1000/1000 [==============================] - 0s 187us/step - loss: 0.0049 - acc: 0.9990\n",
            "Epoch 117/200\n",
            "1000/1000 [==============================] - 0s 182us/step - loss: 0.0023 - acc: 0.9990\n",
            "Epoch 118/200\n",
            "1000/1000 [==============================] - 0s 193us/step - loss: 0.0022 - acc: 0.9990\n",
            "Epoch 119/200\n",
            "1000/1000 [==============================] - 0s 189us/step - loss: 0.0022 - acc: 0.9990\n",
            "Epoch 120/200\n",
            "1000/1000 [==============================] - 0s 194us/step - loss: 0.0029 - acc: 0.9990\n",
            "Epoch 121/200\n",
            "1000/1000 [==============================] - 0s 185us/step - loss: 0.0045 - acc: 0.9980\n",
            "Epoch 122/200\n",
            "1000/1000 [==============================] - 0s 187us/step - loss: 0.0047 - acc: 0.9980\n",
            "Epoch 123/200\n",
            "1000/1000 [==============================] - 0s 187us/step - loss: 0.0026 - acc: 0.9990\n",
            "Epoch 124/200\n",
            "1000/1000 [==============================] - 0s 188us/step - loss: 0.0025 - acc: 1.0000\n",
            "Epoch 125/200\n",
            "1000/1000 [==============================] - 0s 202us/step - loss: 0.0019 - acc: 1.0000\n",
            "Epoch 126/200\n",
            "1000/1000 [==============================] - 0s 182us/step - loss: 0.0021 - acc: 1.0000\n",
            "Epoch 127/200\n",
            "1000/1000 [==============================] - 0s 178us/step - loss: 0.0016 - acc: 1.0000\n",
            "Epoch 128/200\n",
            "1000/1000 [==============================] - 0s 187us/step - loss: 7.1011e-04 - acc: 1.0000\n",
            "Epoch 129/200\n",
            "1000/1000 [==============================] - 0s 182us/step - loss: 8.0809e-04 - acc: 1.0000\n",
            "Epoch 130/200\n",
            "1000/1000 [==============================] - 0s 192us/step - loss: 6.9094e-04 - acc: 1.0000\n",
            "Epoch 131/200\n",
            "1000/1000 [==============================] - 0s 199us/step - loss: 5.1174e-04 - acc: 1.0000\n",
            "Epoch 132/200\n",
            "1000/1000 [==============================] - 0s 191us/step - loss: 4.6754e-04 - acc: 1.0000\n",
            "Epoch 133/200\n",
            "1000/1000 [==============================] - 0s 190us/step - loss: 0.0020 - acc: 0.9990\n",
            "Epoch 134/200\n",
            "1000/1000 [==============================] - 0s 185us/step - loss: 9.2633e-04 - acc: 1.0000\n",
            "Epoch 135/200\n",
            "1000/1000 [==============================] - 0s 220us/step - loss: 5.5899e-04 - acc: 1.0000\n",
            "Epoch 136/200\n",
            "1000/1000 [==============================] - 0s 205us/step - loss: 8.8330e-04 - acc: 1.0000\n",
            "Epoch 137/200\n",
            "1000/1000 [==============================] - 0s 190us/step - loss: 3.6255e-04 - acc: 1.0000\n",
            "Epoch 138/200\n",
            "1000/1000 [==============================] - 0s 191us/step - loss: 8.1956e-04 - acc: 1.0000\n",
            "Epoch 139/200\n",
            "1000/1000 [==============================] - 0s 200us/step - loss: 2.9591e-04 - acc: 1.0000\n",
            "Epoch 140/200\n",
            "1000/1000 [==============================] - 0s 191us/step - loss: 6.1107e-04 - acc: 1.0000\n",
            "Epoch 141/200\n",
            "1000/1000 [==============================] - 0s 205us/step - loss: 2.7802e-04 - acc: 1.0000\n",
            "Epoch 142/200\n",
            "1000/1000 [==============================] - 0s 193us/step - loss: 6.0846e-04 - acc: 1.0000\n",
            "Epoch 143/200\n",
            "1000/1000 [==============================] - 0s 189us/step - loss: 2.0046e-04 - acc: 1.0000\n",
            "Epoch 144/200\n",
            "1000/1000 [==============================] - 0s 194us/step - loss: 2.0486e-04 - acc: 1.0000\n",
            "Epoch 145/200\n",
            "1000/1000 [==============================] - 0s 206us/step - loss: 3.9353e-04 - acc: 1.0000\n",
            "Epoch 146/200\n",
            "1000/1000 [==============================] - 0s 206us/step - loss: 2.8076e-04 - acc: 1.0000\n",
            "Epoch 147/200\n",
            "1000/1000 [==============================] - 0s 192us/step - loss: 1.6357e-04 - acc: 1.0000\n",
            "Epoch 148/200\n",
            "1000/1000 [==============================] - 0s 193us/step - loss: 2.4431e-04 - acc: 1.0000\n",
            "Epoch 149/200\n",
            "1000/1000 [==============================] - 0s 202us/step - loss: 3.1625e-04 - acc: 1.0000\n",
            "Epoch 150/200\n",
            "1000/1000 [==============================] - 0s 199us/step - loss: 5.4740e-04 - acc: 1.0000\n",
            "Epoch 151/200\n",
            "1000/1000 [==============================] - 0s 206us/step - loss: 2.4446e-04 - acc: 1.0000\n",
            "Epoch 152/200\n",
            "1000/1000 [==============================] - 0s 189us/step - loss: 2.6881e-04 - acc: 1.0000\n",
            "Epoch 153/200\n",
            "1000/1000 [==============================] - 0s 187us/step - loss: 4.0292e-04 - acc: 1.0000\n",
            "Epoch 154/200\n",
            "1000/1000 [==============================] - 0s 185us/step - loss: 2.0191e-04 - acc: 1.0000\n",
            "Epoch 155/200\n",
            "1000/1000 [==============================] - 0s 188us/step - loss: 3.2794e-04 - acc: 1.0000\n",
            "Epoch 156/200\n",
            "1000/1000 [==============================] - 0s 186us/step - loss: 2.7132e-04 - acc: 1.0000\n",
            "Epoch 157/200\n",
            "1000/1000 [==============================] - 0s 211us/step - loss: 1.8285e-04 - acc: 1.0000\n",
            "Epoch 158/200\n",
            "1000/1000 [==============================] - 0s 181us/step - loss: 2.5051e-04 - acc: 1.0000\n",
            "Epoch 159/200\n",
            "1000/1000 [==============================] - 0s 184us/step - loss: 1.6444e-04 - acc: 1.0000\n",
            "Epoch 160/200\n",
            "1000/1000 [==============================] - 0s 182us/step - loss: 2.5957e-04 - acc: 1.0000\n",
            "Epoch 161/200\n",
            "1000/1000 [==============================] - 0s 193us/step - loss: 2.2218e-04 - acc: 1.0000\n",
            "Epoch 162/200\n",
            "1000/1000 [==============================] - 0s 198us/step - loss: 1.6415e-04 - acc: 1.0000\n",
            "Epoch 163/200\n",
            "1000/1000 [==============================] - 0s 191us/step - loss: 2.8060e-04 - acc: 1.0000\n",
            "Epoch 164/200\n",
            "1000/1000 [==============================] - 0s 188us/step - loss: 4.4822e-04 - acc: 1.0000\n",
            "Epoch 165/200\n",
            "1000/1000 [==============================] - 0s 189us/step - loss: 4.3384e-04 - acc: 1.0000\n",
            "Epoch 166/200\n",
            "1000/1000 [==============================] - 0s 191us/step - loss: 1.0809e-04 - acc: 1.0000\n",
            "Epoch 167/200\n",
            "1000/1000 [==============================] - 0s 196us/step - loss: 8.8315e-05 - acc: 1.0000\n",
            "Epoch 168/200\n",
            "1000/1000 [==============================] - 0s 198us/step - loss: 1.4918e-04 - acc: 1.0000\n",
            "Epoch 169/200\n",
            "1000/1000 [==============================] - 0s 196us/step - loss: 4.1919e-04 - acc: 1.0000\n",
            "Epoch 170/200\n",
            "1000/1000 [==============================] - 0s 183us/step - loss: 7.8141e-04 - acc: 1.0000\n",
            "Epoch 171/200\n",
            "1000/1000 [==============================] - 0s 196us/step - loss: 9.3140e-04 - acc: 0.9990\n",
            "Epoch 172/200\n",
            "1000/1000 [==============================] - 0s 199us/step - loss: 0.0015 - acc: 0.9990\n",
            "Epoch 173/200\n",
            "1000/1000 [==============================] - 0s 204us/step - loss: 0.0013 - acc: 1.0000\n",
            "Epoch 174/200\n",
            "1000/1000 [==============================] - 0s 184us/step - loss: 0.0017 - acc: 0.9990\n",
            "Epoch 175/200\n",
            "1000/1000 [==============================] - 0s 186us/step - loss: 6.8658e-04 - acc: 1.0000\n",
            "Epoch 176/200\n",
            "1000/1000 [==============================] - 0s 182us/step - loss: 4.4811e-04 - acc: 1.0000\n",
            "Epoch 177/200\n",
            "1000/1000 [==============================] - 0s 188us/step - loss: 1.8486e-04 - acc: 1.0000\n",
            "Epoch 178/200\n",
            "1000/1000 [==============================] - 0s 206us/step - loss: 1.1801e-04 - acc: 1.0000\n",
            "Epoch 179/200\n",
            "1000/1000 [==============================] - 0s 195us/step - loss: 1.6659e-04 - acc: 1.0000\n",
            "Epoch 180/200\n",
            "1000/1000 [==============================] - 0s 193us/step - loss: 0.0076 - acc: 0.9980\n",
            "Epoch 181/200\n",
            "1000/1000 [==============================] - 0s 188us/step - loss: 0.0243 - acc: 0.9950\n",
            "Epoch 182/200\n",
            "1000/1000 [==============================] - 0s 183us/step - loss: 0.0257 - acc: 0.9890\n",
            "Epoch 183/200\n",
            "1000/1000 [==============================] - 0s 197us/step - loss: 0.0262 - acc: 0.9900\n",
            "Epoch 184/200\n",
            "1000/1000 [==============================] - 0s 184us/step - loss: 0.0175 - acc: 0.9940\n",
            "Epoch 185/200\n",
            "1000/1000 [==============================] - 0s 188us/step - loss: 0.0258 - acc: 0.9910\n",
            "Epoch 186/200\n",
            "1000/1000 [==============================] - 0s 202us/step - loss: 0.0218 - acc: 0.9950\n",
            "Epoch 187/200\n",
            "1000/1000 [==============================] - 0s 198us/step - loss: 0.0189 - acc: 0.9970\n",
            "Epoch 188/200\n",
            "1000/1000 [==============================] - 0s 203us/step - loss: 0.0431 - acc: 0.9850\n",
            "Epoch 189/200\n",
            "1000/1000 [==============================] - 0s 198us/step - loss: 0.0133 - acc: 0.9950\n",
            "Epoch 190/200\n",
            "1000/1000 [==============================] - 0s 206us/step - loss: 0.0070 - acc: 0.9980\n",
            "Epoch 191/200\n",
            "1000/1000 [==============================] - 0s 194us/step - loss: 0.0173 - acc: 0.9940\n",
            "Epoch 192/200\n",
            "1000/1000 [==============================] - 0s 197us/step - loss: 0.0111 - acc: 0.9950\n",
            "Epoch 193/200\n",
            "1000/1000 [==============================] - 0s 225us/step - loss: 0.0061 - acc: 0.9980\n",
            "Epoch 194/200\n",
            "1000/1000 [==============================] - 0s 196us/step - loss: 0.0066 - acc: 0.9990\n",
            "Epoch 195/200\n",
            "1000/1000 [==============================] - 0s 197us/step - loss: 0.0057 - acc: 0.9990\n",
            "Epoch 196/200\n",
            "1000/1000 [==============================] - 0s 204us/step - loss: 0.0022 - acc: 0.9990\n",
            "Epoch 197/200\n",
            "1000/1000 [==============================] - 0s 201us/step - loss: 0.0047 - acc: 0.9980\n",
            "Epoch 198/200\n",
            "1000/1000 [==============================] - 0s 194us/step - loss: 0.0135 - acc: 0.9960\n",
            "Epoch 199/200\n",
            "1000/1000 [==============================] - 0s 210us/step - loss: 0.0029 - acc: 0.9980\n",
            "Epoch 200/200\n",
            "1000/1000 [==============================] - 0s 195us/step - loss: 0.0060 - acc: 0.9960\n"
          ],
          "name": "stdout"
        }
      ]
    },
    {
      "cell_type": "code",
      "metadata": {
        "id": "JZYhSXjS5ID8",
        "colab_type": "code",
        "outputId": "fa1ad1e3-a3ec-43b9-f6d7-2fa219b9b39a",
        "colab": {
          "base_uri": "https://localhost:8080/",
          "height": 353
        }
      },
      "source": [
        "# Plot classification loss\n",
        "plt.figure(figsize=(10, 5))\n",
        "plt.plot(np.array(losses), label=\"Loss\")\n",
        "plt.title(\"Classification Loss\")\n",
        "plt.legend()"
      ],
      "execution_count": 170,
      "outputs": [
        {
          "output_type": "execute_result",
          "data": {
            "text/plain": [
              "<matplotlib.legend.Legend at 0x7fa5023c2e48>"
            ]
          },
          "metadata": {
            "tags": []
          },
          "execution_count": 170
        },
        {
          "output_type": "display_data",
          "data": {
            "image/png": "[encoded data removed]",
            "text/plain": [
              "<Figure size 720x360 with 1 Axes>"
            ]
          },
          "metadata": {
            "tags": []
          }
        }
      ]
    },
    {
      "cell_type": "code",
      "metadata": {
        "id": "1OX9tt085ID_",
        "colab_type": "code",
        "outputId": "4c23e807-1dad-4024-f3e3-0aedac8e9219",
        "colab": {
          "base_uri": "https://localhost:8080/",
          "height": 353
        }
      },
      "source": [
        "# Plot classification accuracy\n",
        "plt.figure(figsize=(10, 5))\n",
        "plt.plot(np.array(accuracies), label=\"Accuracy\")\n",
        "plt.title(\"Classification Accuracy\")\n",
        "plt.legend()"
      ],
      "execution_count": 171,
      "outputs": [
        {
          "output_type": "execute_result",
          "data": {
            "text/plain": [
              "<matplotlib.legend.Legend at 0x7fa50239af60>"
            ]
          },
          "metadata": {
            "tags": []
          },
          "execution_count": 171
        },
        {
          "output_type": "display_data",
          "data": {
            "image/png": "[encoded data removed]",
            "text/plain": [
              "<Figure size 720x360 with 1 Axes>"
            ]
          },
          "metadata": {
            "tags": []
          }
        }
      ]
    },
    {
      "cell_type": "code",
      "metadata": {
        "id": "6oMPnpnR5IEB",
        "colab_type": "code",
        "outputId": "3da7589c-5428-4e8b-eee2-07abf8d00985",
        "colab": {
          "base_uri": "https://localhost:8080/",
          "height": 50
        }
      },
      "source": [
        "x, y = dataset.training_set()\n",
        "y = to_categorical(y, num_classes=num_classes)\n",
        "\n",
        "# Compute classification accuracy on the training set\n",
        "_, accuracy = mnist_classifier.evaluate(x, y)\n",
        "print(\"Training Accuracy: %.2f%%\" % (100 * accuracy))"
      ],
      "execution_count": 172,
      "outputs": [
        {
          "output_type": "stream",
          "text": [
            "1000/1000 [==============================] - 2s 2ms/step\n",
            "Training Accuracy: 100.00%\n"
          ],
          "name": "stdout"
        }
      ]
    },
    {
      "cell_type": "code",
      "metadata": {
        "id": "x2B2kNsq5IEF",
        "colab_type": "code",
        "outputId": "d6d13469-866c-4551-e215-442bab09b258",
        "colab": {
          "base_uri": "https://localhost:8080/",
          "height": 50
        }
      },
      "source": [
        "x, y = dataset.test_set()\n",
        "y = to_categorical(y, num_classes=num_classes)\n",
        "\n",
        "# Compute classification accuracy on the test set\n",
        "_, accuracy = mnist_classifier.evaluate(x, y)\n",
        "print(\"Test Accuracy: %.2f%%\" % (100 * accuracy))"
      ],
      "execution_count": 173,
      "outputs": [
        {
          "output_type": "stream",
          "text": [
            "10000/10000 [==============================] - 1s 74us/step\n",
            "Test Accuracy: 93.21%\n"
          ],
          "name": "stdout"
        }
      ]
    },
    {
      "cell_type": "markdown",
      "metadata": {
        "id": "UexjatKq5IEJ",
        "colab_type": "text"
      },
      "source": [
        "---"
      ]
    }
  ]
}