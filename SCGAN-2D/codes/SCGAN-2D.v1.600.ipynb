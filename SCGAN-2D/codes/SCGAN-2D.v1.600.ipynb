{
  "nbformat": 4,
  "nbformat_minor": 0,
  "metadata": {
    "kernelspec": {
      "name": "python3",
      "display_name": "Python 3"
    },
    "language_info": {
      "codemirror_mode": {
        "name": "ipython",
        "version": 3
      },
      "file_extension": ".py",
      "mimetype": "text/x-python",
      "name": "python",
      "nbconvert_exporter": "python",
      "pygments_lexer": "ipython3",
      "version": "3.6.5"
    },
    "colab": {
      "name": "SCGAN.v1.ipynb",
      "version": "0.3.2",
      "provenance": [],
      "collapsed_sections": []
    },
    "accelerator": "GPU"
  },
  "cells": [
    {
      "cell_type": "markdown",
      "metadata": {
        "id": "4JrJW9Ib5ICb",
        "colab_type": "text"
      },
      "source": [
        "# Semi-Supervised Conditional GAN (SCGAN)"
      ]
    },
    {
      "cell_type": "code",
      "metadata": {
        "id": "QNWoI_bz5ICe",
        "colab_type": "code",
        "colab": {}
      },
      "source": [
        "%matplotlib inline\n",
        "\n",
        "import matplotlib.pyplot as plt\n",
        "import numpy as np\n",
        "import json\n",
        "\n",
        "from keras import backend as K\n",
        "\n",
        "from keras.datasets import mnist\n",
        "from keras.layers import (Activation, BatchNormalization, Concatenate, Dense,\n",
        "                          Dropout, Flatten, Input, Lambda, Reshape, Embedding,\n",
        "                          Multiply)\n",
        "from keras.layers.advanced_activations import LeakyReLU\n",
        "from keras.layers.convolutional import Conv2D, Conv2DTranspose\n",
        "from keras.models import Model, Sequential\n",
        "from keras.optimizers import Adam\n",
        "from keras.utils import to_categorical"
      ],
      "execution_count": 0,
      "outputs": []
    },
    {
      "cell_type": "markdown",
      "metadata": {
        "id": "xn9DfamS5ICl",
        "colab_type": "text"
      },
      "source": [
        "## Dataset"
      ]
    },
    {
      "cell_type": "code",
      "metadata": {
        "id": "bqo19imG5ICn",
        "colab_type": "code",
        "colab": {}
      },
      "source": [
        "class Dataset:\n",
        "    def __init__(self, num_labeled):\n",
        "\n",
        "        # Number labeled examples to use for training\n",
        "        self.num_labeled = num_labeled\n",
        "\n",
        "        # Load the MNIST dataset\n",
        "        (self.x_train, self.y_train), (self.x_test,\n",
        "                                       self.y_test) = mnist.load_data()\n",
        "\n",
        "        def preprocess_imgs(x):\n",
        "            # Rescale [0, 255] grayscale pixel values to [-1, 1]\n",
        "            x = (x.astype(np.float32) - 127.5) / 127.5\n",
        "            # Expand image dimensions to width x height x channels\n",
        "            x = np.expand_dims(x, axis=3)\n",
        "            return x\n",
        "\n",
        "        def preprocess_labels(y):\n",
        "            return y.reshape(-1, 1)\n",
        "\n",
        "        # Training data\n",
        "        self.x_train = preprocess_imgs(self.x_train)\n",
        "        self.y_train = preprocess_labels(self.y_train)\n",
        "\n",
        "        # Testing data\n",
        "        self.x_test = preprocess_imgs(self.x_test)\n",
        "        self.y_test = preprocess_labels(self.y_test)\n",
        "\n",
        "    def batch_labeled(self, batch_size):\n",
        "        # Get a random batch of labeled images and their labels\n",
        "        idx = np.random.randint(0, self.num_labeled, batch_size)\n",
        "        imgs = self.x_train[idx]\n",
        "        labels = self.y_train[idx]\n",
        "        return imgs, labels\n",
        "\n",
        "    def batch_unlabeled(self, batch_size):\n",
        "        # Get a random batch of unlabeled images\n",
        "        idx = np.random.randint(self.num_labeled, self.x_train.shape[0],\n",
        "                                batch_size)\n",
        "        imgs = self.x_train[idx]\n",
        "        return imgs\n",
        "\n",
        "    def training_set(self):\n",
        "        x_train = self.x_train[range(self.num_labeled)]\n",
        "        y_train = self.y_train[range(self.num_labeled)]\n",
        "        return x_train, y_train\n",
        "\n",
        "    def test_set(self):\n",
        "        return self.x_test, self.y_test"
      ],
      "execution_count": 0,
      "outputs": []
    },
    {
      "cell_type": "code",
      "metadata": {
        "id": "y6p2xUzF5ICt",
        "colab_type": "code",
        "colab": {}
      },
      "source": [
        "# Number of labeled examples to use (rest will be used as unlabeled)\n",
        "num_labeled = 600\n",
        "\n",
        "dataset = Dataset(num_labeled)"
      ],
      "execution_count": 0,
      "outputs": []
    },
    {
      "cell_type": "code",
      "metadata": {
        "id": "R0lLk5Sp2nlW",
        "colab_type": "code",
        "colab": {}
      },
      "source": [
        "(x_train, y_train), (x_test, y_test) = mnist.load_data()"
      ],
      "execution_count": 0,
      "outputs": []
    },
    {
      "cell_type": "code",
      "metadata": {
        "id": "IW2-FIrD2z8n",
        "colab_type": "code",
        "colab": {
          "base_uri": "https://localhost:8080/",
          "height": 84
        },
        "outputId": "91a43745-055d-4c2a-eba3-9aa606480d84"
      },
      "source": [
        "print(x_train.shape)\n",
        "print(y_train.shape)\n",
        "print(x_test.shape)\n",
        "print(y_test.shape)"
      ],
      "execution_count": 66,
      "outputs": [
        {
          "output_type": "stream",
          "text": [
            "(60000, 28, 28)\n",
            "(60000,)\n",
            "(10000, 28, 28)\n",
            "(10000,)\n"
          ],
          "name": "stdout"
        }
      ]
    },
    {
      "cell_type": "code",
      "metadata": {
        "id": "0QFGIwV-GWOy",
        "colab_type": "code",
        "colab": {}
      },
      "source": [
        "t_idx1 = np.random.randint(0, 100, 32)\n",
        "t_idx2 = np.random.randint(100, x_train.shape[0],\n",
        "                                32)"
      ],
      "execution_count": 0,
      "outputs": []
    },
    {
      "cell_type": "code",
      "metadata": {
        "id": "_vE-MTuRGmJH",
        "colab_type": "code",
        "colab": {
          "base_uri": "https://localhost:8080/",
          "height": 84
        },
        "outputId": "49330e7a-337c-4523-a357-bfaefc4081d9"
      },
      "source": [
        "print(t_idx1.shape)\n",
        "print(t_idx2.shape)\n",
        "print(t_idx1[:10])\n",
        "print(t_idx2[:10])"
      ],
      "execution_count": 70,
      "outputs": [
        {
          "output_type": "stream",
          "text": [
            "(32,)\n",
            "(32,)\n",
            "[99 77 33 62 39 55 47 55 57 23]\n",
            "[ 4967 58002 17787 57397 27050 42093 23363 21942 47476 17935]\n"
          ],
          "name": "stdout"
        }
      ]
    },
    {
      "cell_type": "markdown",
      "metadata": {
        "id": "UtT5bpqm5ICy",
        "colab_type": "text"
      },
      "source": [
        "# Semi-Supervied GAN"
      ]
    },
    {
      "cell_type": "code",
      "metadata": {
        "id": "zeaE_XJq5IC0",
        "colab_type": "code",
        "colab": {}
      },
      "source": [
        "img_rows = 28\n",
        "img_cols = 28\n",
        "channels = 1\n",
        "\n",
        "# Input image dimensions\n",
        "img_shape = (img_rows, img_cols, channels)\n",
        "\n",
        "# Size of the noise vector, used as input to the Generator\n",
        "z_dim = 100\n",
        "\n",
        "# Number of classes in the dataset\n",
        "num_classes = 10"
      ],
      "execution_count": 0,
      "outputs": []
    },
    {
      "cell_type": "markdown",
      "metadata": {
        "id": "SEGfARiO5IC5",
        "colab_type": "text"
      },
      "source": [
        "## Generator"
      ]
    },
    {
      "cell_type": "code",
      "metadata": {
        "id": "GpyzLGKJ5IC6",
        "colab_type": "code",
        "colab": {}
      },
      "source": [
        "def build_generator(z_dim):\n",
        "\n",
        "    model = Sequential()\n",
        "\n",
        "    # Reshape input into 7x7x256 tensor via a fully connected layer\n",
        "    model.add(Dense(256 * 7 * 7, input_dim=z_dim))\n",
        "    model.add(Reshape((7, 7, 256)))\n",
        "\n",
        "    # Transposed convolution layer, from 7x7x256 into 14x14x128 tensor\n",
        "    model.add(Conv2DTranspose(128, kernel_size=3, strides=2, padding='same'))\n",
        "\n",
        "    # Batch normalization\n",
        "    model.add(BatchNormalization())\n",
        "\n",
        "    # Leaky ReLU activation\n",
        "    model.add(LeakyReLU(alpha=0.01))\n",
        "\n",
        "    # Transposed convolution layer, from 14x14x128 to 14x14x64 tensor\n",
        "    model.add(Conv2DTranspose(64, kernel_size=3, strides=1, padding='same'))\n",
        "\n",
        "    # Batch normalization\n",
        "    model.add(BatchNormalization())\n",
        "\n",
        "    # Leaky ReLU activation\n",
        "    model.add(LeakyReLU(alpha=0.01))\n",
        "\n",
        "    # Transposed convolution layer, from 14x14x64 to 28x28x1 tensor\n",
        "    model.add(Conv2DTranspose(1, kernel_size=3, strides=2, padding='same'))\n",
        "\n",
        "    # Output layer with tanh activation\n",
        "    model.add(Activation('tanh'))\n",
        "    \n",
        "    z = Input(shape=(z_dim, ))\n",
        "    label = Input(shape=(num_classes, ), dtype='float32')\n",
        "    label_embedding = Dense(z_dim, input_dim=num_classes)(label)\n",
        "    print(label_embedding)\n",
        "    joined_representation = Multiply()([z, label_embedding])\n",
        "    print(joined_representation)\n",
        "    conditioned_img = model(joined_representation)\n",
        "\n",
        "    model = Model([z, label], conditioned_img)\n",
        "\n",
        "    return model"
      ],
      "execution_count": 0,
      "outputs": []
    },
    {
      "cell_type": "code",
      "metadata": {
        "id": "QRiDvGxWOKQZ",
        "colab_type": "code",
        "colab": {
          "base_uri": "https://localhost:8080/",
          "height": 370
        },
        "outputId": "d469bf40-3773-466a-d520-6107d1f57d24"
      },
      "source": [
        "build_generator(z_dim).summary()"
      ],
      "execution_count": 77,
      "outputs": [
        {
          "output_type": "stream",
          "text": [
            "Tensor(\"dense_13/BiasAdd:0\", shape=(?, 100), dtype=float32)\n",
            "Tensor(\"multiply_7/mul:0\", shape=(?, 100), dtype=float32)\n",
            "Model: \"model_5\"\n",
            "__________________________________________________________________________________________________\n",
            "Layer (type)                    Output Shape         Param #     Connected to                     \n",
            "==================================================================================================\n",
            "input_18 (InputLayer)           (None, 10)           0                                            \n",
            "__________________________________________________________________________________________________\n",
            "input_17 (InputLayer)           (None, 100)          0                                            \n",
            "__________________________________________________________________________________________________\n",
            "dense_13 (Dense)                (None, 100)          1100        input_18[0][0]                   \n",
            "__________________________________________________________________________________________________\n",
            "multiply_7 (Multiply)           (None, 100)          0           input_17[0][0]                   \n",
            "                                                                 dense_13[0][0]                   \n",
            "__________________________________________________________________________________________________\n",
            "sequential_11 (Sequential)      (None, 28, 28, 1)    1637121     multiply_7[0][0]                 \n",
            "==================================================================================================\n",
            "Total params: 1,638,221\n",
            "Trainable params: 1,637,837\n",
            "Non-trainable params: 384\n",
            "__________________________________________________________________________________________________\n"
          ],
          "name": "stdout"
        }
      ]
    },
    {
      "cell_type": "code",
      "metadata": {
        "id": "PIhJjyyXOgsI",
        "colab_type": "code",
        "colab": {
          "base_uri": "https://localhost:8080/",
          "height": 538
        },
        "outputId": "0e3de106-e612-49db-fa17-519a6aa79e7f"
      },
      "source": [
        "batch_size=30\n",
        "imgs, labels = dataset.batch_labeled(batch_size)\n",
        "# labels = to_categorical(labels, num_classes=num_classes)\n",
        "labels = np.random.randint(0, num_classes, batch_size).reshape(-1, 1)\n",
        "print(labels.shape)\n",
        "print(labels)"
      ],
      "execution_count": 53,
      "outputs": [
        {
          "output_type": "stream",
          "text": [
            "(30, 1)\n",
            "[[8]\n",
            " [5]\n",
            " [2]\n",
            " [0]\n",
            " [1]\n",
            " [5]\n",
            " [7]\n",
            " [7]\n",
            " [6]\n",
            " [7]\n",
            " [4]\n",
            " [4]\n",
            " [1]\n",
            " [7]\n",
            " [0]\n",
            " [9]\n",
            " [9]\n",
            " [0]\n",
            " [7]\n",
            " [0]\n",
            " [8]\n",
            " [0]\n",
            " [1]\n",
            " [4]\n",
            " [8]\n",
            " [9]\n",
            " [8]\n",
            " [3]\n",
            " [0]\n",
            " [4]]\n"
          ],
          "name": "stdout"
        }
      ]
    },
    {
      "cell_type": "markdown",
      "metadata": {
        "id": "PXctmDp35IC-",
        "colab_type": "text"
      },
      "source": [
        "## Discriminator"
      ]
    },
    {
      "cell_type": "code",
      "metadata": {
        "id": "VahG39Gb5IC_",
        "colab_type": "code",
        "colab": {}
      },
      "source": [
        "def build_discriminator_net(img_shape):\n",
        "\n",
        "    model = Sequential()\n",
        "\n",
        "    # Convolutional layer, from 28x28x1 into 14x14x32 tensor\n",
        "    model.add(\n",
        "        Conv2D(32,\n",
        "               kernel_size=3,\n",
        "               strides=2,\n",
        "               input_shape=img_shape,\n",
        "               padding='same'))\n",
        "\n",
        "    # Leaky ReLU activation\n",
        "    model.add(LeakyReLU(alpha=0.01))\n",
        "\n",
        "    # Convolutional layer, from 14x14x32 into 7x7x64 tensor\n",
        "    model.add(\n",
        "        Conv2D(64,\n",
        "               kernel_size=3,\n",
        "               strides=2,\n",
        "               input_shape=img_shape,\n",
        "               padding='same'))\n",
        "\n",
        "    # Batch normalization\n",
        "    model.add(BatchNormalization())\n",
        "\n",
        "    # Leaky ReLU activation\n",
        "    model.add(LeakyReLU(alpha=0.01))\n",
        "\n",
        "    # Convolutional layer, from 7x7x64 tensor into 3x3x128 tensor\n",
        "    model.add(\n",
        "        Conv2D(128,\n",
        "               kernel_size=3,\n",
        "               strides=2,\n",
        "               input_shape=img_shape,\n",
        "               padding='same'))\n",
        "\n",
        "    # Batch normalization\n",
        "    model.add(BatchNormalization())\n",
        "\n",
        "    # Leaky ReLU activation\n",
        "    model.add(LeakyReLU(alpha=0.01))\n",
        "\n",
        "    # Droupout\n",
        "    model.add(Dropout(0.5))\n",
        "\n",
        "    # Flatten the tensor\n",
        "    model.add(Flatten())\n",
        "\n",
        "    # Fully connected layer with num_classes neurons\n",
        "    model.add(Dense(num_classes))\n",
        "\n",
        "    return model"
      ],
      "execution_count": 0,
      "outputs": []
    },
    {
      "cell_type": "code",
      "metadata": {
        "id": "-hSeX8Z75IDC",
        "colab_type": "code",
        "colab": {}
      },
      "source": [
        "def build_discriminator_supervised(discriminator_net):\n",
        "\n",
        "    model = Sequential()\n",
        "\n",
        "    model.add(discriminator_net)\n",
        "\n",
        "    # Softmax activation, giving predicted probability distribution over the real classes\n",
        "    model.add(Activation('softmax'))\n",
        "\n",
        "    return model"
      ],
      "execution_count": 0,
      "outputs": []
    },
    {
      "cell_type": "code",
      "metadata": {
        "id": "Kc_Skbce5IDF",
        "colab_type": "code",
        "colab": {}
      },
      "source": [
        "def build_discriminator_unsupervised(discriminator_net):\n",
        "\n",
        "    model = Sequential()\n",
        "\n",
        "    model.add(discriminator_net)\n",
        "\n",
        "    def predict(x):\n",
        "        # Transform distribution over real classes into a binary real-vs-fake probability\n",
        "        prediction = 1.0 - (1.0 /\n",
        "                            (K.sum(K.exp(x), axis=-1, keepdims=True) + 1.0))\n",
        "        return prediction\n",
        "\n",
        "    # 'Real-vs-fake' output neuron defined above\n",
        "    model.add(Lambda(predict))\n",
        "\n",
        "    return model"
      ],
      "execution_count": 0,
      "outputs": []
    },
    {
      "cell_type": "markdown",
      "metadata": {
        "id": "-Xz4dCm75IDJ",
        "colab_type": "text"
      },
      "source": [
        "## Build the Model"
      ]
    },
    {
      "cell_type": "code",
      "metadata": {
        "id": "kcTPOPCS5IDL",
        "colab_type": "code",
        "colab": {}
      },
      "source": [
        "def build_gan(generator, discriminator):\n",
        "\n",
        "#     model = Sequential()\n",
        "\n",
        "    # Combined Generator -> Discriminator model\n",
        "#     model.add(generator)\n",
        "#     model.add(discriminator)\n",
        "    \n",
        "    z = Input(shape=(z_dim, ))\n",
        "    label = Input(shape=(num_classes, ))\n",
        "    img = generator([z, label])\n",
        "    output = discriminator(img)\n",
        "    model = Model([z, label], output)\n",
        "\n",
        "    return model"
      ],
      "execution_count": 0,
      "outputs": []
    },
    {
      "cell_type": "code",
      "metadata": {
        "colab_type": "code",
        "outputId": "c510f8de-e957-4696-fbd6-abedace561f8",
        "id": "GZhORKSp6P03",
        "colab": {
          "base_uri": "https://localhost:8080/",
          "height": 336
        }
      },
      "source": [
        "generator = build_generator(z_dim)\n",
        "discriminator_unsupervised.trainable = False\n",
        "gan = build_gan(generator, discriminator_unsupervised)\n",
        "gan.summary()\n",
        "gan.compile(loss='binary_crossentropy', optimizer=Adam())"
      ],
      "execution_count": 93,
      "outputs": [
        {
          "output_type": "stream",
          "text": [
            "Tensor(\"dense_20/BiasAdd:0\", shape=(?, 100), dtype=float32)\n",
            "Tensor(\"multiply_10/mul:0\", shape=(?, 100), dtype=float32)\n",
            "Model: \"model_11\"\n",
            "__________________________________________________________________________________________________\n",
            "Layer (type)                    Output Shape         Param #     Connected to                     \n",
            "==================================================================================================\n",
            "input_29 (InputLayer)           (None, 100)          0                                            \n",
            "__________________________________________________________________________________________________\n",
            "input_30 (InputLayer)           (None, 10)           0                                            \n",
            "__________________________________________________________________________________________________\n",
            "model_10 (Model)                (None, 28, 28, 1)    1638221     input_29[0][0]                   \n",
            "                                                                 input_30[0][0]                   \n",
            "__________________________________________________________________________________________________\n",
            "sequential_15 (Sequential)      (None, 1)            113930      model_10[1][0]                   \n",
            "==================================================================================================\n",
            "Total params: 1,752,151\n",
            "Trainable params: 1,637,837\n",
            "Non-trainable params: 114,314\n",
            "__________________________________________________________________________________________________\n"
          ],
          "name": "stdout"
        }
      ]
    },
    {
      "cell_type": "markdown",
      "metadata": {
        "id": "i-fxWZ8Y5IDP",
        "colab_type": "text"
      },
      "source": [
        "### Discriminator"
      ]
    },
    {
      "cell_type": "code",
      "metadata": {
        "id": "XPQ_Yvmz5IDQ",
        "colab_type": "code",
        "colab": {}
      },
      "source": [
        "# Core Discriminator network:\n",
        "# These layers are shared during supervised and unsupervised training\n",
        "discriminator_net = build_discriminator_net(img_shape)\n",
        "\n",
        "# Build & compile the Discriminator for supervised training\n",
        "discriminator_supervised = build_discriminator_supervised(discriminator_net)\n",
        "discriminator_supervised.compile(loss='categorical_crossentropy',\n",
        "                                 metrics=['accuracy'],\n",
        "                                 optimizer=Adam())\n",
        "\n",
        "# Build & compile the Discriminator for unsupervised training\n",
        "discriminator_unsupervised = build_discriminator_unsupervised(discriminator_net)\n",
        "discriminator_unsupervised.compile(loss='binary_crossentropy',\n",
        "                                   optimizer=Adam())"
      ],
      "execution_count": 0,
      "outputs": []
    },
    {
      "cell_type": "markdown",
      "metadata": {
        "id": "OX5cwJ_i5IDS",
        "colab_type": "text"
      },
      "source": [
        "### Generator"
      ]
    },
    {
      "cell_type": "code",
      "metadata": {
        "id": "bMRweuap5IDT",
        "colab_type": "code",
        "colab": {
          "base_uri": "https://localhost:8080/",
          "height": 50
        },
        "outputId": "7d5c6bc5-9831-4b23-ff5c-63a0b720afe0"
      },
      "source": [
        "# Build the Generator\n",
        "generator = build_generator(z_dim)\n",
        "\n",
        "# Keep Discriminator’s parameters constant for Generator training\n",
        "discriminator_unsupervised.trainable = False\n",
        "\n",
        "# Build and compile GAN model with fixed Discriminator to train the Generator\n",
        "# Note that we are using the Discriminator version with unsupervised output\n",
        "gan = build_gan(generator, discriminator_unsupervised)\n",
        "gan.compile(loss='binary_crossentropy', optimizer=Adam())"
      ],
      "execution_count": 84,
      "outputs": [
        {
          "output_type": "stream",
          "text": [
            "Tensor(\"dense_18/BiasAdd:0\", shape=(?, 100), dtype=float32)\n",
            "Tensor(\"multiply_9/mul:0\", shape=(?, 100), dtype=float32)\n"
          ],
          "name": "stdout"
        }
      ]
    },
    {
      "cell_type": "markdown",
      "metadata": {
        "id": "rSfkxFfH5IDW",
        "colab_type": "text"
      },
      "source": [
        "## Training"
      ]
    },
    {
      "cell_type": "code",
      "metadata": {
        "id": "lKb4Xds65IDX",
        "colab_type": "code",
        "colab": {}
      },
      "source": [
        "supervised_losses = []\n",
        "unsupervised_losses = []\n",
        "g_losses = []\n",
        "iteration_checkpoints = []\n",
        "\n",
        "\n",
        "def train(iterations, batch_size, save_interval):\n",
        "\n",
        "    # Labels for real images: all ones\n",
        "    real = np.ones((batch_size, 1))\n",
        "\n",
        "    # Labels for fake images: all zeros\n",
        "    fake = np.zeros((batch_size, 1))\n",
        "\n",
        "    for iteration in range(iterations):\n",
        "\n",
        "        # -------------------------\n",
        "        #  Train the Discriminator\n",
        "        # -------------------------\n",
        "\n",
        "        # Get labeled examples\n",
        "        imgs, labels = dataset.batch_labeled(batch_size)\n",
        "\n",
        "        # One-hot encode labels\n",
        "        labels = to_categorical(labels, num_classes=num_classes)\n",
        "\n",
        "        # Get unlabeled examples\n",
        "        imgs_unlabeled = dataset.batch_unlabeled(batch_size)\n",
        "\n",
        "        # Generate a batch of fake images\n",
        "        z = np.random.normal(0, 1, (batch_size, z_dim))\n",
        "        fake_labels = np.random.randint(0, num_classes, batch_size).reshape(-1, 1)\n",
        "        fake_labels = to_categorical(fake_labels, num_classes=num_classes)\n",
        "        gen_imgs = generator.predict([z, fake_labels])\n",
        "\n",
        "        # Train on real labeled examples\n",
        "        d_loss_supervised, accuracy = discriminator_supervised.train_on_batch(imgs, labels)\n",
        "\n",
        "        # Train on real unlabeled examples\n",
        "        d_loss_real = discriminator_unsupervised.train_on_batch(imgs_unlabeled, real)\n",
        "\n",
        "        # Train on fake examples\n",
        "        d_loss_fake = discriminator_unsupervised.train_on_batch(gen_imgs, fake)\n",
        "\n",
        "        d_loss_unsupervised = 0.5 * np.add(d_loss_real, d_loss_fake)\n",
        "\n",
        "        # ---------------------\n",
        "        #  Train the Generator\n",
        "        # ---------------------\n",
        "\n",
        "        # Generate a batch of fake images\n",
        "        z = np.random.normal(0, 1, (batch_size, z_dim))\n",
        "        gen_imgs = generator.predict([z, labels])\n",
        "\n",
        "        # Train Generator\n",
        "        g_loss = gan.train_on_batch([z,labels], np.ones((batch_size, 1)))\n",
        "\n",
        "        if (iteration + 1) % save_interval == 0:\n",
        "\n",
        "            # Save Discriminator supervised classification loss to be plotted after training\n",
        "            supervised_losses.append(d_loss_supervised)\n",
        "            unsupervised_losses.append(d_loss_unsupervised)\n",
        "            g_losses.append(g_loss)\n",
        "            \n",
        "            iteration_checkpoints.append(iteration + 1)\n",
        "\n",
        "            # Output training progress\n",
        "            print(\n",
        "                \"%d [D loss supervised: %.4f, acc.: %.2f%%] [D loss unsupervised: %.4f] [G loss: %f]\"\n",
        "                % (iteration + 1, d_loss_supervised, 100 * accuracy,\n",
        "                   d_loss_unsupervised, g_loss))\n",
        "            \n",
        "            discriminator_supervised.save(\"./models/models-label-600/discriminator_supervised-\" + str(iteration+1) + \".h5\")\n",
        "\n",
        "            with open('./losses/losses-label-600/supervised_losses.json', 'w') as json_file:\n",
        "                  json.dump(str(supervised_losses), json_file)\n",
        "            with open('./losses/losses-label-600/unsupervised_losses.json', 'w') as json_file:\n",
        "                  json.dump(str(unsupervised_losses), json_file)\n",
        "            with open('./losses/losses-label-600/g_losses.json', 'w') as json_file:\n",
        "                  json.dump(str(g_losses), json_file)"
      ],
      "execution_count": 0,
      "outputs": []
    },
    {
      "cell_type": "code",
      "metadata": {
        "id": "yYSNY6mNJq9V",
        "colab_type": "code",
        "colab": {}
      },
      "source": [
        "%mkdir models/models-label-600\n",
        "%mkdir losses/losses-label-600"
      ],
      "execution_count": 0,
      "outputs": []
    },
    {
      "cell_type": "markdown",
      "metadata": {
        "id": "2MoxwriW5IDb",
        "colab_type": "text"
      },
      "source": [
        "## Train the Model and Inspect Output"
      ]
    },
    {
      "cell_type": "markdown",
      "metadata": {
        "id": "EHHVLd0n5IDc",
        "colab_type": "text"
      },
      "source": [
        "Note that the `'Discrepancy between trainable weights and collected trainable'` warning from Keras is expected. It is by design: The Generator's trainable parameters are intentionally held constant during Discriminator training, and vice versa."
      ]
    },
    {
      "cell_type": "code",
      "metadata": {
        "scrolled": true,
        "id": "0ZWH2w_r5IDe",
        "colab_type": "code",
        "colab": {
          "base_uri": "https://localhost:8080/",
          "height": 1000
        },
        "outputId": "b7a4c737-7415-4db6-881d-87e88073cd8e"
      },
      "source": [
        "# Set hyperparameters\n",
        "iterations = 8000\n",
        "batch_size = 32\n",
        "save_interval = 100\n",
        "\n",
        "# Train the SGAN for the specified number of iterations\n",
        "train(iterations, batch_size, save_interval)"
      ],
      "execution_count": 95,
      "outputs": [
        {
          "output_type": "stream",
          "text": [
            "/usr/local/lib/python3.6/dist-packages/keras/engine/training.py:493: UserWarning: Discrepancy between trainable weights and collected trainable weights, did you set `model.trainable` without calling `model.compile` after ?\n",
            "  'Discrepancy between trainable weights and collected trainable'\n",
            "/usr/local/lib/python3.6/dist-packages/keras/engine/training.py:493: UserWarning: Discrepancy between trainable weights and collected trainable weights, did you set `model.trainable` without calling `model.compile` after ?\n",
            "  'Discrepancy between trainable weights and collected trainable'\n"
          ],
          "name": "stderr"
        },
        {
          "output_type": "stream",
          "text": [
            "100 [D loss supervised: 0.2118, acc.: 93.75%] [D loss unsupervised: 0.0032] [G loss: 1.808625]\n",
            "200 [D loss supervised: 0.2799, acc.: 90.62%] [D loss unsupervised: 0.0361] [G loss: 5.253924]\n",
            "300 [D loss supervised: 0.0672, acc.: 96.88%] [D loss unsupervised: 0.0082] [G loss: 2.892293]\n",
            "400 [D loss supervised: 0.0616, acc.: 96.88%] [D loss unsupervised: 0.1877] [G loss: 8.186205]\n",
            "500 [D loss supervised: 0.0420, acc.: 100.00%] [D loss unsupervised: 0.0524] [G loss: 6.274427]\n",
            "600 [D loss supervised: 0.0048, acc.: 100.00%] [D loss unsupervised: 0.1190] [G loss: 6.037522]\n",
            "700 [D loss supervised: 0.0930, acc.: 96.88%] [D loss unsupervised: 0.2770] [G loss: 6.873848]\n",
            "800 [D loss supervised: 0.0504, acc.: 100.00%] [D loss unsupervised: 0.0492] [G loss: 6.124915]\n",
            "900 [D loss supervised: 0.1715, acc.: 93.75%] [D loss unsupervised: 0.0290] [G loss: 7.373411]\n",
            "1000 [D loss supervised: 0.0194, acc.: 100.00%] [D loss unsupervised: 0.2641] [G loss: 4.960900]\n",
            "1100 [D loss supervised: 0.0025, acc.: 100.00%] [D loss unsupervised: 0.2097] [G loss: 4.553411]\n",
            "1200 [D loss supervised: 0.0100, acc.: 100.00%] [D loss unsupervised: 0.1502] [G loss: 5.018777]\n",
            "1300 [D loss supervised: 0.0126, acc.: 100.00%] [D loss unsupervised: 0.1477] [G loss: 5.105907]\n",
            "1400 [D loss supervised: 0.0096, acc.: 100.00%] [D loss unsupervised: 0.4082] [G loss: 2.740476]\n",
            "1500 [D loss supervised: 0.0019, acc.: 100.00%] [D loss unsupervised: 0.2784] [G loss: 3.437994]\n",
            "1600 [D loss supervised: 0.0103, acc.: 100.00%] [D loss unsupervised: 0.2517] [G loss: 4.198947]\n",
            "1700 [D loss supervised: 0.0073, acc.: 100.00%] [D loss unsupervised: 0.2151] [G loss: 4.029314]\n",
            "1800 [D loss supervised: 0.0108, acc.: 100.00%] [D loss unsupervised: 0.3480] [G loss: 3.584600]\n",
            "1900 [D loss supervised: 0.0129, acc.: 100.00%] [D loss unsupervised: 0.2962] [G loss: 2.851401]\n",
            "2000 [D loss supervised: 0.0090, acc.: 100.00%] [D loss unsupervised: 0.0805] [G loss: 4.885448]\n",
            "2100 [D loss supervised: 0.0186, acc.: 100.00%] [D loss unsupervised: 0.2918] [G loss: 3.563398]\n",
            "2200 [D loss supervised: 0.0072, acc.: 100.00%] [D loss unsupervised: 0.1995] [G loss: 3.807078]\n",
            "2300 [D loss supervised: 0.0040, acc.: 100.00%] [D loss unsupervised: 0.5295] [G loss: 3.588170]\n",
            "2400 [D loss supervised: 0.0040, acc.: 100.00%] [D loss unsupervised: 0.4689] [G loss: 2.225331]\n",
            "2500 [D loss supervised: 0.0141, acc.: 100.00%] [D loss unsupervised: 0.3390] [G loss: 3.382247]\n",
            "2600 [D loss supervised: 0.0095, acc.: 100.00%] [D loss unsupervised: 0.1537] [G loss: 2.420360]\n",
            "2700 [D loss supervised: 0.0121, acc.: 100.00%] [D loss unsupervised: 0.1270] [G loss: 4.578704]\n",
            "2800 [D loss supervised: 0.0014, acc.: 100.00%] [D loss unsupervised: 0.2528] [G loss: 4.057768]\n",
            "2900 [D loss supervised: 0.0126, acc.: 100.00%] [D loss unsupervised: 0.3966] [G loss: 2.232168]\n",
            "3000 [D loss supervised: 0.0046, acc.: 100.00%] [D loss unsupervised: 0.2390] [G loss: 5.325862]\n",
            "3100 [D loss supervised: 0.0060, acc.: 100.00%] [D loss unsupervised: 0.1307] [G loss: 3.328566]\n",
            "3200 [D loss supervised: 0.0142, acc.: 100.00%] [D loss unsupervised: 0.3277] [G loss: 3.030344]\n",
            "3300 [D loss supervised: 0.0077, acc.: 100.00%] [D loss unsupervised: 0.0880] [G loss: 2.292419]\n",
            "3400 [D loss supervised: 0.0028, acc.: 100.00%] [D loss unsupervised: 0.2833] [G loss: 3.946424]\n",
            "3500 [D loss supervised: 0.0093, acc.: 100.00%] [D loss unsupervised: 0.1958] [G loss: 3.742839]\n",
            "3600 [D loss supervised: 0.0041, acc.: 100.00%] [D loss unsupervised: 0.1518] [G loss: 4.888896]\n",
            "3700 [D loss supervised: 0.0009, acc.: 100.00%] [D loss unsupervised: 0.3395] [G loss: 4.897840]\n",
            "3800 [D loss supervised: 0.0010, acc.: 100.00%] [D loss unsupervised: 0.6106] [G loss: 3.729333]\n",
            "3900 [D loss supervised: 0.0033, acc.: 100.00%] [D loss unsupervised: 0.9880] [G loss: 2.461919]\n",
            "4000 [D loss supervised: 0.0009, acc.: 100.00%] [D loss unsupervised: 0.2668] [G loss: 4.623405]\n",
            "4100 [D loss supervised: 0.0014, acc.: 100.00%] [D loss unsupervised: 0.3912] [G loss: 4.201818]\n",
            "4200 [D loss supervised: 0.0031, acc.: 100.00%] [D loss unsupervised: 0.0971] [G loss: 5.912208]\n",
            "4300 [D loss supervised: 0.0025, acc.: 100.00%] [D loss unsupervised: 0.3801] [G loss: 5.385821]\n",
            "4400 [D loss supervised: 0.0058, acc.: 100.00%] [D loss unsupervised: 0.2644] [G loss: 4.464881]\n",
            "4500 [D loss supervised: 0.0028, acc.: 100.00%] [D loss unsupervised: 0.3205] [G loss: 3.534585]\n",
            "4600 [D loss supervised: 0.0080, acc.: 100.00%] [D loss unsupervised: 0.4393] [G loss: 3.615408]\n",
            "4700 [D loss supervised: 0.0066, acc.: 100.00%] [D loss unsupervised: 0.2532] [G loss: 2.208797]\n",
            "4800 [D loss supervised: 0.0022, acc.: 100.00%] [D loss unsupervised: 0.1825] [G loss: 2.608594]\n",
            "4900 [D loss supervised: 0.0017, acc.: 100.00%] [D loss unsupervised: 0.4580] [G loss: 3.791193]\n",
            "5000 [D loss supervised: 0.0024, acc.: 100.00%] [D loss unsupervised: 0.1733] [G loss: 4.332053]\n",
            "5100 [D loss supervised: 0.0030, acc.: 100.00%] [D loss unsupervised: 0.2992] [G loss: 2.422054]\n",
            "5200 [D loss supervised: 0.0021, acc.: 100.00%] [D loss unsupervised: 0.5769] [G loss: 5.431697]\n",
            "5300 [D loss supervised: 0.0040, acc.: 100.00%] [D loss unsupervised: 0.4196] [G loss: 4.622064]\n",
            "5400 [D loss supervised: 0.0024, acc.: 100.00%] [D loss unsupervised: 0.4937] [G loss: 3.197809]\n",
            "6600 [D loss supervised: 0.0012, acc.: 100.00%] [D loss unsupervised: 0.1971] [G loss: 3.889155]\n",
            "6700 [D loss supervised: 0.0010, acc.: 100.00%] [D loss unsupervised: 0.2831] [G loss: 2.641968]\n",
            "6800 [D loss supervised: 0.0009, acc.: 100.00%] [D loss unsupervised: 0.2027] [G loss: 5.927539]\n",
            "6900 [D loss supervised: 0.0007, acc.: 100.00%] [D loss unsupervised: 0.2657] [G loss: 4.086194]\n",
            "7000 [D loss supervised: 0.0055, acc.: 100.00%] [D loss unsupervised: 0.4095] [G loss: 2.834231]\n",
            "7100 [D loss supervised: 0.0004, acc.: 100.00%] [D loss unsupervised: 0.3205] [G loss: 3.343876]\n",
            "7200 [D loss supervised: 0.0007, acc.: 100.00%] [D loss unsupervised: 0.2700] [G loss: 2.563364]\n",
            "7300 [D loss supervised: 0.0015, acc.: 100.00%] [D loss unsupervised: 0.3571] [G loss: 2.193455]\n",
            "7400 [D loss supervised: 0.0038, acc.: 100.00%] [D loss unsupervised: 0.2244] [G loss: 4.491956]\n",
            "7500 [D loss supervised: 0.0003, acc.: 100.00%] [D loss unsupervised: 0.2511] [G loss: 4.840789]\n",
            "7600 [D loss supervised: 0.0005, acc.: 100.00%] [D loss unsupervised: 0.1947] [G loss: 2.583987]\n",
            "7700 [D loss supervised: 0.0015, acc.: 100.00%] [D loss unsupervised: 0.5485] [G loss: 1.829785]\n",
            "7800 [D loss supervised: 0.0006, acc.: 100.00%] [D loss unsupervised: 0.4588] [G loss: 4.041098]\n",
            "7900 [D loss supervised: 0.0040, acc.: 100.00%] [D loss unsupervised: 0.3701] [G loss: 3.022250]\n",
            "8000 [D loss supervised: 0.0032, acc.: 100.00%] [D loss unsupervised: 0.3794] [G loss: 2.503738]\n"
          ],
          "name": "stdout"
        }
      ]
    },
    {
      "cell_type": "code",
      "metadata": {
        "id": "9nr6YWqNszIj",
        "colab_type": "code",
        "colab": {
          "base_uri": "https://localhost:8080/",
          "height": 1361
        },
        "outputId": "95a58fd0-159d-411a-d4f9-a931ec54e01c"
      },
      "source": [
        "%ls models"
      ],
      "execution_count": 53,
      "outputs": [
        {
          "output_type": "stream",
          "text": [
            "discriminator_supervised-1000.h5  dis_super-1000.h5\n",
            "discriminator_supervised-100.h5   dis_super-100.h5\n",
            "discriminator_supervised-1100.h5  dis_super-1100.h5\n",
            "discriminator_supervised-1200.h5  dis_super-1200.h5\n",
            "discriminator_supervised-1300.h5  dis_super-1300.h5\n",
            "discriminator_supervised-1400.h5  dis_super-1400.h5\n",
            "discriminator_supervised-1500.h5  dis_super-1500.h5\n",
            "discriminator_supervised-1600.h5  dis_super-1600.h5\n",
            "discriminator_supervised-1700.h5  dis_super-1700.h5\n",
            "discriminator_supervised-1800.h5  dis_super-1800.h5\n",
            "discriminator_supervised-1900.h5  dis_super-1900.h5\n",
            "discriminator_supervised-2000.h5  dis_super-2000.h5\n",
            "discriminator_supervised-200.h5   dis_super-200.h5\n",
            "discriminator_supervised-2100.h5  dis_super-2100.h5\n",
            "discriminator_supervised-2200.h5  dis_super-2200.h5\n",
            "discriminator_supervised-2300.h5  dis_super-2300.h5\n",
            "discriminator_supervised-2400.h5  dis_super-2400.h5\n",
            "discriminator_supervised-2500.h5  dis_super-2500.h5\n",
            "discriminator_supervised-2600.h5  dis_super-2600.h5\n",
            "discriminator_supervised-2700.h5  dis_super-2700.h5\n",
            "discriminator_supervised-2800.h5  dis_super-2800.h5\n",
            "discriminator_supervised-2900.h5  dis_super-2900.h5\n",
            "discriminator_supervised-3000.h5  dis_super-3000.h5\n",
            "discriminator_supervised-300.h5   dis_super-300.h5\n",
            "discriminator_supervised-3100.h5  dis_super-3100.h5\n",
            "discriminator_supervised-3200.h5  dis_super-3200.h5\n",
            "discriminator_supervised-3300.h5  dis_super-3300.h5\n",
            "discriminator_supervised-3400.h5  dis_super-3400.h5\n",
            "discriminator_supervised-3500.h5  dis_super-3500.h5\n",
            "discriminator_supervised-3600.h5  dis_super-3600.h5\n",
            "discriminator_supervised-3700.h5  dis_super-3700.h5\n",
            "discriminator_supervised-3800.h5  dis_super-3800.h5\n",
            "discriminator_supervised-3900.h5  dis_super-3900.h5\n",
            "discriminator_supervised-4000.h5  dis_super-4000.h5\n",
            "discriminator_supervised-400.h5   dis_super-400.h5\n",
            "discriminator_supervised-4100.h5  dis_super-4100.h5\n",
            "discriminator_supervised-4200.h5  dis_super-4200.h5\n",
            "discriminator_supervised-4300.h5  dis_super-4300.h5\n",
            "discriminator_supervised-4400.h5  dis_super-4400.h5\n",
            "discriminator_supervised-4500.h5  dis_super-4500.h5\n",
            "discriminator_supervised-4600.h5  dis_super-4600.h5\n",
            "discriminator_supervised-4700.h5  dis_super-4700.h5\n",
            "discriminator_supervised-4800.h5  dis_super-4800.h5\n",
            "discriminator_supervised-4900.h5  dis_super-4900.h5\n",
            "discriminator_supervised-5000.h5  dis_super-5000.h5\n",
            "discriminator_supervised-500.h5   dis_super-500.h5\n",
            "discriminator_supervised-5100.h5  dis_super-5100.h5\n",
            "discriminator_supervised-5200.h5  dis_super-5200.h5\n",
            "discriminator_supervised-5300.h5  dis_super-5300.h5\n",
            "discriminator_supervised-5400.h5  dis_super-5400.h5\n",
            "discriminator_supervised-5500.h5  dis_super-5500.h5\n",
            "discriminator_supervised-5600.h5  dis_super-5600.h5\n",
            "discriminator_supervised-5700.h5  dis_super-5700.h5\n",
            "discriminator_supervised-5800.h5  dis_super-5800.h5\n",
            "discriminator_supervised-5900.h5  dis_super-5900.h5\n",
            "discriminator_supervised-6000.h5  dis_super-6000.h5\n",
            "discriminator_supervised-600.h5   dis_super-600.h5\n",
            "discriminator_supervised-6100.h5  dis_super-6100.h5\n",
            "discriminator_supervised-6200.h5  dis_super-6200.h5\n",
            "discriminator_supervised-6300.h5  dis_super-6300.h5\n",
            "discriminator_supervised-6400.h5  dis_super-6400.h5\n",
            "discriminator_supervised-6500.h5  dis_super-6500.h5\n",
            "discriminator_supervised-6600.h5  dis_super-6600.h5\n",
            "discriminator_supervised-6700.h5  dis_super-6700.h5\n",
            "discriminator_supervised-6800.h5  dis_super-6800.h5\n",
            "discriminator_supervised-6900.h5  dis_super-6900.h5\n",
            "discriminator_supervised-7000.h5  dis_super-7000.h5\n",
            "discriminator_supervised-700.h5   dis_super-700.h5\n",
            "discriminator_supervised-7100.h5  dis_super-7100.h5\n",
            "discriminator_supervised-7200.h5  dis_super-7200.h5\n",
            "discriminator_supervised-7300.h5  dis_super-7300.h5\n",
            "discriminator_supervised-7400.h5  dis_super-7400.h5\n",
            "discriminator_supervised-7500.h5  dis_super-7500.h5\n",
            "discriminator_supervised-7600.h5  dis_super-7600.h5\n",
            "discriminator_supervised-7700.h5  dis_super-7700.h5\n",
            "discriminator_supervised-7800.h5  dis_super-7800.h5\n",
            "discriminator_supervised-7900.h5  dis_super-7900.h5\n",
            "discriminator_supervised-8000.h5  dis_super-8000.h5\n",
            "discriminator_supervised-800.h5   dis_super-800.h5\n",
            "discriminator_supervised-900.h5   dis_super-900.h5\n"
          ],
          "name": "stdout"
        }
      ]
    },
    {
      "cell_type": "code",
      "metadata": {
        "id": "T98POkWe5IDh",
        "colab_type": "code",
        "colab": {
          "base_uri": "https://localhost:8080/",
          "height": 382
        },
        "outputId": "f917a3d6-a438-406c-8fca-225a36340553"
      },
      "source": [
        "supervised_losses = np.array(supervised_losses)\n",
        "unsupervised_losses = np.array(unsupervised_losses)\n",
        "g_losses = np.array(g_losses)\n",
        "\n",
        "# Plot Discriminator supervised loss\n",
        "plt.figure(figsize=(15, 5))\n",
        "plt.plot(iteration_checkpoints, supervised_losses, label=\"Discriminator supervised loss\", color='tab:blue')\n",
        "plt.plot(iteration_checkpoints, unsupervised_losses, label=\"Discriminator unsupervised loss\", color='tab:green')\n",
        "plt.plot(iteration_checkpoints, g_losses, label=\"Generator supervised loss\", color='tab:red')\n",
        "\n",
        "plt.xticks(iteration_checkpoints, rotation=90)\n",
        "\n",
        "plt.title(\"Discriminator(supervised + unsupervised) + Generator Loss\")\n",
        "plt.xlabel(\"Iteration\")\n",
        "plt.ylabel(\"Loss\")\n",
        "plt.legend()"
      ],
      "execution_count": 96,
      "outputs": [
        {
          "output_type": "execute_result",
          "data": {
            "text/plain": [
              "<matplotlib.legend.Legend at 0x7fa509e90630>"
            ]
          },
          "metadata": {
            "tags": []
          },
          "execution_count": 96
        },
        {
          "output_type": "display_data",
          "data": {
            "image/png": "[encoded data removed]",
            "text/plain": [
              "<Figure size 1080x360 with 1 Axes>"
            ]
          },
          "metadata": {
            "tags": []
          }
        }
      ]
    },
    {
      "cell_type": "code",
      "metadata": {
        "id": "F61dqQWQ3ri6",
        "colab_type": "code",
        "colab": {
          "base_uri": "https://localhost:8080/",
          "height": 50
        },
        "outputId": "8589344f-0c83-4011-e648-65c245d4a49d"
      },
      "source": [
        "print(supervised_losses[-10:])"
      ],
      "execution_count": 97,
      "outputs": [
        {
          "output_type": "stream",
          "text": [
            "[0.00039823 0.00067498 0.00150757 0.00380607 0.00030762 0.00054798\n",
            " 0.00153454 0.00063338 0.00397493 0.003244  ]\n"
          ],
          "name": "stdout"
        }
      ]
    },
    {
      "cell_type": "markdown",
      "metadata": {
        "id": "PScPJocN5IDk",
        "colab_type": "text"
      },
      "source": [
        "## SGAN Classifier – Training and Test Accuracy "
      ]
    },
    {
      "cell_type": "code",
      "metadata": {
        "id": "e6BmzAGk5IDl",
        "colab_type": "code",
        "colab": {
          "base_uri": "https://localhost:8080/",
          "height": 50
        },
        "outputId": "8b74bbae-de97-4b94-c5d9-3414cc6260d7"
      },
      "source": [
        "x, y = dataset.training_set()\n",
        "y = to_categorical(y, num_classes=num_classes)\n",
        "\n",
        "# Compute classification accuracy on the training set\n",
        "_, accuracy = discriminator_supervised.evaluate(x, y)\n",
        "print(\"Training Accuracy: %.2f%%\" % (100 * accuracy))"
      ],
      "execution_count": 101,
      "outputs": [
        {
          "output_type": "stream",
          "text": [
            "600/600 [==============================] - 0s 79us/step\n",
            "Training Accuracy: 100.00%\n"
          ],
          "name": "stdout"
        }
      ]
    },
    {
      "cell_type": "code",
      "metadata": {
        "id": "ctWFp3zX5IDo",
        "colab_type": "code",
        "colab": {
          "base_uri": "https://localhost:8080/",
          "height": 50
        },
        "outputId": "47490fc4-786a-495a-e6cc-82a056e6c802"
      },
      "source": [
        "x, y = dataset.test_set()\n",
        "y = to_categorical(y, num_classes=num_classes)\n",
        "\n",
        "# Compute classification accuracy on the test set\n",
        "_, accuracy = discriminator_supervised.evaluate(x, y)\n",
        "print(\"Test Accuracy: %.2f%%\" % (100 * accuracy))"
      ],
      "execution_count": 102,
      "outputs": [
        {
          "output_type": "stream",
          "text": [
            "10000/10000 [==============================] - 1s 69us/step\n",
            "Test Accuracy: 96.41%\n"
          ],
          "name": "stdout"
        }
      ]
    },
    {
      "cell_type": "markdown",
      "metadata": {
        "id": "s1IMxeNa5IDu",
        "colab_type": "text"
      },
      "source": [
        "---"
      ]
    },
    {
      "cell_type": "markdown",
      "metadata": {
        "id": "VDMoAU1r5IDv",
        "colab_type": "text"
      },
      "source": [
        "# Fully-Supervised Classifier"
      ]
    },
    {
      "cell_type": "code",
      "metadata": {
        "id": "TA4C3_RL5IDx",
        "colab_type": "code",
        "colab": {}
      },
      "source": [
        "# Fully supervised classifier with the same network architecture as the SGAN Discriminator\n",
        "mnist_classifier = build_discriminator_supervised(build_discriminator_net(img_shape))\n",
        "mnist_classifier.compile(loss='categorical_crossentropy',\n",
        "                         metrics=['accuracy'],\n",
        "                         optimizer=Adam())"
      ],
      "execution_count": 0,
      "outputs": []
    },
    {
      "cell_type": "code",
      "metadata": {
        "id": "zlJkb5fN5ID3",
        "colab_type": "code",
        "colab": {
          "base_uri": "https://localhost:8080/",
          "height": 1000
        },
        "outputId": "ab2bf2a8-a122-447c-891a-5cdadc36185c"
      },
      "source": [
        "imgs, labels = dataset.training_set()\n",
        "imgs = imgs[:num_labeled]\n",
        "labels = labels[:num_labeled]\n",
        "\n",
        "# One-hot encode labels\n",
        "labels = to_categorical(labels, num_classes=num_classes)\n",
        "\n",
        "# Train the classifier\n",
        "training = mnist_classifier.fit(x=imgs,\n",
        "                                y=labels,\n",
        "                                batch_size=32,\n",
        "                                epochs=200,\n",
        "                                verbose=1)\n",
        "losses = training.history['loss']\n",
        "accuracies = training.history['acc']"
      ],
      "execution_count": 114,
      "outputs": [
        {
          "output_type": "stream",
          "text": [
            "Epoch 1/200\n",
            "600/600 [==============================] - 0s 212us/step - loss: 1.6606e-06 - acc: 1.0000\n",
            "Epoch 2/200\n",
            "600/600 [==============================] - 0s 187us/step - loss: 8.2078e-07 - acc: 1.0000\n",
            "Epoch 3/200\n",
            "600/600 [==============================] - 0s 177us/step - loss: 1.8600e-06 - acc: 1.0000\n",
            "Epoch 4/200\n",
            "600/600 [==============================] - 0s 192us/step - loss: 1.3175e-06 - acc: 1.0000\n",
            "Epoch 5/200\n",
            "600/600 [==============================] - 0s 181us/step - loss: 5.5113e-06 - acc: 1.0000\n",
            "Epoch 6/200\n",
            "600/600 [==============================] - 0s 190us/step - loss: 1.0355e-06 - acc: 1.0000\n",
            "Epoch 7/200\n",
            "600/600 [==============================] - 0s 187us/step - loss: 7.6980e-06 - acc: 1.0000\n",
            "Epoch 8/200\n",
            "600/600 [==============================] - 0s 193us/step - loss: 1.7910e-06 - acc: 1.0000\n",
            "Epoch 9/200\n",
            "600/600 [==============================] - 0s 185us/step - loss: 1.1360e-05 - acc: 1.0000\n",
            "Epoch 10/200\n",
            "600/600 [==============================] - 0s 198us/step - loss: 4.1542e-06 - acc: 1.0000\n",
            "Epoch 11/200\n",
            "600/600 [==============================] - 0s 188us/step - loss: 1.3416e-06 - acc: 1.0000\n",
            "Epoch 12/200\n",
            "600/600 [==============================] - 0s 192us/step - loss: 1.3939e-06 - acc: 1.0000\n",
            "Epoch 13/200\n",
            "600/600 [==============================] - 0s 175us/step - loss: 1.1141e-05 - acc: 1.0000\n",
            "Epoch 14/200\n",
            "600/600 [==============================] - 0s 188us/step - loss: 1.9157e-06 - acc: 1.0000\n",
            "Epoch 15/200\n",
            "600/600 [==============================] - 0s 172us/step - loss: 4.3154e-07 - acc: 1.0000\n",
            "Epoch 16/200\n",
            "600/600 [==============================] - 0s 179us/step - loss: 6.1453e-07 - acc: 1.0000\n",
            "Epoch 17/200\n",
            "600/600 [==============================] - 0s 180us/step - loss: 1.7655e-05 - acc: 1.0000\n",
            "Epoch 18/200\n",
            "600/600 [==============================] - 0s 185us/step - loss: 2.8962e-06 - acc: 1.0000\n",
            "Epoch 19/200\n",
            "600/600 [==============================] - 0s 193us/step - loss: 5.8212e-06 - acc: 1.0000\n",
            "Epoch 20/200\n",
            "600/600 [==============================] - 0s 184us/step - loss: 1.5010e-06 - acc: 1.0000\n",
            "Epoch 21/200\n",
            "600/600 [==============================] - 0s 178us/step - loss: 2.8402e-05 - acc: 1.0000\n",
            "Epoch 22/200\n",
            "600/600 [==============================] - 0s 180us/step - loss: 5.1445e-06 - acc: 1.0000\n",
            "Epoch 23/200\n",
            "600/600 [==============================] - 0s 181us/step - loss: 6.7335e-07 - acc: 1.0000\n",
            "Epoch 24/200\n",
            "600/600 [==============================] - 0s 175us/step - loss: 1.0000e-06 - acc: 1.0000\n",
            "Epoch 25/200\n",
            "600/600 [==============================] - 0s 195us/step - loss: 5.8324e-07 - acc: 1.0000\n",
            "Epoch 26/200\n",
            "600/600 [==============================] - 0s 184us/step - loss: 3.8805e-06 - acc: 1.0000\n",
            "Epoch 27/200\n",
            "600/600 [==============================] - 0s 176us/step - loss: 1.4058e-06 - acc: 1.0000\n",
            "Epoch 28/200\n",
            "600/600 [==============================] - 0s 208us/step - loss: 1.0684e-06 - acc: 1.0000\n",
            "Epoch 29/200\n",
            "600/600 [==============================] - 0s 175us/step - loss: 8.2278e-06 - acc: 1.0000\n",
            "Epoch 30/200\n",
            "600/600 [==============================] - 0s 180us/step - loss: 2.0446e-06 - acc: 1.0000\n",
            "Epoch 31/200\n",
            "600/600 [==============================] - 0s 175us/step - loss: 1.7709e-06 - acc: 1.0000\n",
            "Epoch 32/200\n",
            "600/600 [==============================] - 0s 172us/step - loss: 7.2323e-07 - acc: 1.0000\n",
            "Epoch 33/200\n",
            "600/600 [==============================] - 0s 184us/step - loss: 9.1189e-07 - acc: 1.0000\n",
            "Epoch 34/200\n",
            "600/600 [==============================] - 0s 175us/step - loss: 2.8430e-06 - acc: 1.0000\n",
            "Epoch 35/200\n",
            "600/600 [==============================] - 0s 178us/step - loss: 2.7885e-07 - acc: 1.0000\n",
            "Epoch 36/200\n",
            "600/600 [==============================] - 0s 178us/step - loss: 8.8767e-07 - acc: 1.0000\n",
            "Epoch 37/200\n",
            "600/600 [==============================] - 0s 182us/step - loss: 1.5330e-06 - acc: 1.0000\n",
            "Epoch 38/200\n",
            "600/600 [==============================] - 0s 216us/step - loss: 1.6103e-06 - acc: 1.0000\n",
            "Epoch 39/200\n",
            "600/600 [==============================] - 0s 174us/step - loss: 1.4077e-06 - acc: 1.0000\n",
            "Epoch 40/200\n",
            "600/600 [==============================] - 0s 173us/step - loss: 2.0445e-06 - acc: 1.0000\n",
            "Epoch 41/200\n",
            "600/600 [==============================] - 0s 183us/step - loss: 2.5911e-06 - acc: 1.0000\n",
            "Epoch 42/200\n",
            "600/600 [==============================] - 0s 191us/step - loss: 2.8518e-06 - acc: 1.0000\n",
            "Epoch 43/200\n",
            "600/600 [==============================] - 0s 216us/step - loss: 1.1265e-06 - acc: 1.0000\n",
            "Epoch 44/200\n",
            "600/600 [==============================] - 0s 177us/step - loss: 5.1231e-07 - acc: 1.0000\n",
            "Epoch 45/200\n",
            "600/600 [==============================] - 0s 178us/step - loss: 1.5674e-06 - acc: 1.0000\n",
            "Epoch 46/200\n",
            "600/600 [==============================] - 0s 180us/step - loss: 8.4451e-07 - acc: 1.0000\n",
            "Epoch 47/200\n",
            "600/600 [==============================] - 0s 210us/step - loss: 3.6419e-07 - acc: 1.0000\n",
            "Epoch 48/200\n",
            "600/600 [==============================] - 0s 178us/step - loss: 8.9518e-07 - acc: 1.0000\n",
            "Epoch 49/200\n",
            "600/600 [==============================] - 0s 190us/step - loss: 9.4482e-06 - acc: 1.0000\n",
            "Epoch 50/200\n",
            "600/600 [==============================] - 0s 176us/step - loss: 5.4271e-07 - acc: 1.0000\n",
            "Epoch 51/200\n",
            "600/600 [==============================] - 0s 178us/step - loss: 8.4710e-07 - acc: 1.0000\n",
            "Epoch 52/200\n",
            "600/600 [==============================] - 0s 178us/step - loss: 1.0122e-05 - acc: 1.0000\n",
            "Epoch 53/200\n",
            "600/600 [==============================] - 0s 187us/step - loss: 9.7558e-07 - acc: 1.0000\n",
            "Epoch 54/200\n",
            "600/600 [==============================] - 0s 180us/step - loss: 9.5074e-07 - acc: 1.0000\n",
            "Epoch 55/200\n",
            "600/600 [==============================] - 0s 182us/step - loss: 2.1840e-06 - acc: 1.0000\n",
            "Epoch 56/200\n",
            "600/600 [==============================] - 0s 201us/step - loss: 4.8658e-07 - acc: 1.0000\n",
            "Epoch 57/200\n",
            "600/600 [==============================] - 0s 176us/step - loss: 8.1630e-07 - acc: 1.0000\n",
            "Epoch 58/200\n",
            "600/600 [==============================] - 0s 200us/step - loss: 3.8330e-06 - acc: 1.0000\n",
            "Epoch 59/200\n",
            "600/600 [==============================] - 0s 191us/step - loss: 5.1281e-07 - acc: 1.0000\n",
            "Epoch 60/200\n",
            "600/600 [==============================] - 0s 179us/step - loss: 7.3047e-07 - acc: 1.0000\n",
            "Epoch 61/200\n",
            "600/600 [==============================] - 0s 185us/step - loss: 1.0578e-06 - acc: 1.0000\n",
            "Epoch 62/200\n",
            "600/600 [==============================] - 0s 175us/step - loss: 7.9465e-07 - acc: 1.0000\n",
            "Epoch 63/200\n",
            "600/600 [==============================] - 0s 187us/step - loss: 1.1322e-06 - acc: 1.0000\n",
            "Epoch 64/200\n",
            "600/600 [==============================] - 0s 179us/step - loss: 5.7097e-06 - acc: 1.0000\n",
            "Epoch 65/200\n",
            "600/600 [==============================] - 0s 185us/step - loss: 3.8575e-07 - acc: 1.0000\n",
            "Epoch 66/200\n",
            "600/600 [==============================] - 0s 180us/step - loss: 1.8443e-06 - acc: 1.0000\n",
            "Epoch 67/200\n",
            "600/600 [==============================] - 0s 178us/step - loss: 7.0484e-07 - acc: 1.0000\n",
            "Epoch 68/200\n",
            "600/600 [==============================] - 0s 196us/step - loss: 2.6951e-07 - acc: 1.0000\n",
            "Epoch 69/200\n",
            "600/600 [==============================] - 0s 216us/step - loss: 4.8688e-07 - acc: 1.0000\n",
            "Epoch 70/200\n",
            "600/600 [==============================] - 0s 191us/step - loss: 3.7094e-07 - acc: 1.0000\n",
            "Epoch 71/200\n",
            "600/600 [==============================] - 0s 190us/step - loss: 1.7453e-06 - acc: 1.0000\n",
            "Epoch 72/200\n",
            "600/600 [==============================] - 0s 184us/step - loss: 8.5712e-06 - acc: 1.0000\n",
            "Epoch 73/200\n",
            "600/600 [==============================] - 0s 187us/step - loss: 4.7556e-07 - acc: 1.0000\n",
            "Epoch 74/200\n",
            "600/600 [==============================] - 0s 215us/step - loss: 7.0972e-07 - acc: 1.0000\n",
            "Epoch 75/200\n",
            "600/600 [==============================] - 0s 184us/step - loss: 1.7932e-06 - acc: 1.0000\n",
            "Epoch 76/200\n",
            "600/600 [==============================] - 0s 188us/step - loss: 2.8719e-06 - acc: 1.0000\n",
            "Epoch 77/200\n",
            "600/600 [==============================] - 0s 190us/step - loss: 4.1151e-06 - acc: 1.0000\n",
            "Epoch 78/200\n",
            "600/600 [==============================] - 0s 229us/step - loss: 9.3632e-07 - acc: 1.0000\n",
            "Epoch 79/200\n",
            "600/600 [==============================] - 0s 203us/step - loss: 3.9889e-06 - acc: 1.0000\n",
            "Epoch 80/200\n",
            "600/600 [==============================] - 0s 207us/step - loss: 2.1625e-06 - acc: 1.0000\n",
            "Epoch 81/200\n",
            "600/600 [==============================] - 0s 219us/step - loss: 5.0774e-07 - acc: 1.0000\n",
            "Epoch 82/200\n",
            "600/600 [==============================] - 0s 214us/step - loss: 3.4452e-07 - acc: 1.0000\n",
            "Epoch 83/200\n",
            "600/600 [==============================] - 0s 199us/step - loss: 1.1926e-06 - acc: 1.0000\n",
            "Epoch 84/200\n",
            "600/600 [==============================] - 0s 184us/step - loss: 1.3287e-06 - acc: 1.0000\n",
            "Epoch 85/200\n",
            "600/600 [==============================] - 0s 180us/step - loss: 5.3338e-07 - acc: 1.0000\n",
            "Epoch 86/200\n",
            "600/600 [==============================] - 0s 184us/step - loss: 5.8761e-07 - acc: 1.0000\n",
            "Epoch 87/200\n",
            "600/600 [==============================] - 0s 170us/step - loss: 3.2460e-06 - acc: 1.0000\n",
            "Epoch 88/200\n",
            "600/600 [==============================] - 0s 175us/step - loss: 9.8629e-07 - acc: 1.0000\n",
            "Epoch 89/200\n",
            "600/600 [==============================] - 0s 183us/step - loss: 1.3777e-06 - acc: 1.0000\n",
            "Epoch 90/200\n",
            "600/600 [==============================] - 0s 182us/step - loss: 3.8922e-07 - acc: 1.0000\n",
            "Epoch 91/200\n",
            "600/600 [==============================] - 0s 185us/step - loss: 1.3382e-06 - acc: 1.0000\n",
            "Epoch 92/200\n",
            "600/600 [==============================] - 0s 216us/step - loss: 2.1323e-05 - acc: 1.0000\n",
            "Epoch 93/200\n",
            "600/600 [==============================] - 0s 196us/step - loss: 1.7440e-06 - acc: 1.0000\n",
            "Epoch 94/200\n",
            "600/600 [==============================] - 0s 180us/step - loss: 3.7821e-06 - acc: 1.0000\n",
            "Epoch 95/200\n",
            "600/600 [==============================] - 0s 182us/step - loss: 1.2483e-06 - acc: 1.0000\n",
            "Epoch 96/200\n",
            "600/600 [==============================] - 0s 179us/step - loss: 5.2264e-07 - acc: 1.0000\n",
            "Epoch 97/200\n",
            "600/600 [==============================] - 0s 193us/step - loss: 4.3780e-07 - acc: 1.0000\n",
            "Epoch 98/200\n",
            "600/600 [==============================] - 0s 180us/step - loss: 6.4375e-07 - acc: 1.0000\n",
            "Epoch 99/200\n",
            "600/600 [==============================] - 0s 176us/step - loss: 1.7829e-06 - acc: 1.0000\n",
            "Epoch 100/200\n",
            "600/600 [==============================] - 0s 170us/step - loss: 2.3138e-06 - acc: 1.0000\n",
            "Epoch 101/200\n",
            "600/600 [==============================] - 0s 204us/step - loss: 5.4410e-07 - acc: 1.0000\n",
            "Epoch 102/200\n",
            "600/600 [==============================] - 0s 186us/step - loss: 1.5028e-05 - acc: 1.0000\n",
            "Epoch 103/200\n",
            "600/600 [==============================] - 0s 173us/step - loss: 2.3706e-06 - acc: 1.0000\n",
            "Epoch 104/200\n",
            "600/600 [==============================] - 0s 173us/step - loss: 4.5374e-05 - acc: 1.0000\n",
            "Epoch 105/200\n",
            "600/600 [==============================] - 0s 187us/step - loss: 9.9484e-06 - acc: 1.0000\n",
            "Epoch 106/200\n",
            "600/600 [==============================] - 0s 180us/step - loss: 2.6170e-05 - acc: 1.0000\n",
            "Epoch 107/200\n",
            "600/600 [==============================] - 0s 176us/step - loss: 4.4906e-06 - acc: 1.0000\n",
            "Epoch 108/200\n",
            "600/600 [==============================] - 0s 170us/step - loss: 1.8962e-05 - acc: 1.0000\n",
            "Epoch 109/200\n",
            "600/600 [==============================] - 0s 182us/step - loss: 1.2333e-06 - acc: 1.0000\n",
            "Epoch 110/200\n",
            "600/600 [==============================] - 0s 187us/step - loss: 6.8425e-05 - acc: 1.0000\n",
            "Epoch 111/200\n",
            "600/600 [==============================] - 0s 172us/step - loss: 0.0027 - acc: 0.9983\n",
            "Epoch 112/200\n",
            "600/600 [==============================] - 0s 173us/step - loss: 0.0112 - acc: 0.9917\n",
            "Epoch 113/200\n",
            "600/600 [==============================] - 0s 194us/step - loss: 0.0392 - acc: 0.9900\n",
            "Epoch 114/200\n",
            "600/600 [==============================] - 0s 186us/step - loss: 0.0253 - acc: 0.9883\n",
            "Epoch 115/200\n",
            "600/600 [==============================] - 0s 178us/step - loss: 0.0537 - acc: 0.9850\n",
            "Epoch 116/200\n",
            "600/600 [==============================] - 0s 173us/step - loss: 0.0510 - acc: 0.9850\n",
            "Epoch 117/200\n",
            "600/600 [==============================] - 0s 184us/step - loss: 0.0281 - acc: 0.9933\n",
            "Epoch 118/200\n",
            "600/600 [==============================] - 0s 172us/step - loss: 0.0060 - acc: 0.9983\n",
            "Epoch 119/200\n",
            "600/600 [==============================] - 0s 186us/step - loss: 0.0017 - acc: 1.0000\n",
            "Epoch 120/200\n",
            "600/600 [==============================] - 0s 185us/step - loss: 0.0058 - acc: 0.9950\n",
            "Epoch 121/200\n",
            "600/600 [==============================] - 0s 175us/step - loss: 0.0033 - acc: 0.9983\n",
            "Epoch 122/200\n",
            "600/600 [==============================] - 0s 189us/step - loss: 7.8071e-04 - acc: 1.0000\n",
            "Epoch 123/200\n",
            "600/600 [==============================] - 0s 172us/step - loss: 8.3670e-04 - acc: 1.0000\n",
            "Epoch 124/200\n",
            "600/600 [==============================] - 0s 171us/step - loss: 0.0020 - acc: 0.9983\n",
            "Epoch 125/200\n",
            "600/600 [==============================] - 0s 170us/step - loss: 8.9673e-04 - acc: 1.0000\n",
            "Epoch 126/200\n",
            "600/600 [==============================] - 0s 174us/step - loss: 8.1469e-04 - acc: 1.0000\n",
            "Epoch 127/200\n",
            "600/600 [==============================] - 0s 178us/step - loss: 4.8164e-04 - acc: 1.0000\n",
            "Epoch 128/200\n",
            "600/600 [==============================] - 0s 179us/step - loss: 4.1878e-04 - acc: 1.0000\n",
            "Epoch 129/200\n",
            "600/600 [==============================] - 0s 202us/step - loss: 1.1497e-04 - acc: 1.0000\n",
            "Epoch 130/200\n",
            "600/600 [==============================] - 0s 175us/step - loss: 2.6880e-04 - acc: 1.0000\n",
            "Epoch 131/200\n",
            "600/600 [==============================] - 0s 207us/step - loss: 2.0970e-04 - acc: 1.0000\n",
            "Epoch 132/200\n",
            "600/600 [==============================] - 0s 217us/step - loss: 5.5475e-04 - acc: 1.0000\n",
            "Epoch 133/200\n",
            "600/600 [==============================] - 0s 178us/step - loss: 1.6637e-05 - acc: 1.0000\n",
            "Epoch 134/200\n",
            "600/600 [==============================] - 0s 170us/step - loss: 8.1462e-05 - acc: 1.0000\n",
            "Epoch 135/200\n",
            "600/600 [==============================] - 0s 173us/step - loss: 5.0033e-05 - acc: 1.0000\n",
            "Epoch 136/200\n",
            "600/600 [==============================] - 0s 171us/step - loss: 1.8281e-04 - acc: 1.0000\n",
            "Epoch 137/200\n",
            "600/600 [==============================] - 0s 176us/step - loss: 1.2438e-04 - acc: 1.0000\n",
            "Epoch 138/200\n",
            "600/600 [==============================] - 0s 188us/step - loss: 1.2482e-04 - acc: 1.0000\n",
            "Epoch 139/200\n",
            "600/600 [==============================] - 0s 175us/step - loss: 0.0036 - acc: 0.9967\n",
            "Epoch 140/200\n",
            "600/600 [==============================] - 0s 195us/step - loss: 1.3897e-04 - acc: 1.0000\n",
            "Epoch 141/200\n",
            "600/600 [==============================] - 0s 176us/step - loss: 2.8750e-04 - acc: 1.0000\n",
            "Epoch 142/200\n",
            "600/600 [==============================] - 0s 170us/step - loss: 5.5667e-05 - acc: 1.0000\n",
            "Epoch 143/200\n",
            "600/600 [==============================] - 0s 179us/step - loss: 2.8970e-04 - acc: 1.0000\n",
            "Epoch 144/200\n",
            "600/600 [==============================] - 0s 172us/step - loss: 4.4489e-04 - acc: 1.0000\n",
            "Epoch 145/200\n",
            "600/600 [==============================] - 0s 178us/step - loss: 1.7569e-04 - acc: 1.0000\n",
            "Epoch 146/200\n",
            "600/600 [==============================] - 0s 169us/step - loss: 1.9487e-05 - acc: 1.0000\n",
            "Epoch 147/200\n",
            "600/600 [==============================] - 0s 176us/step - loss: 1.3292e-04 - acc: 1.0000\n",
            "Epoch 148/200\n",
            "600/600 [==============================] - 0s 198us/step - loss: 3.7968e-05 - acc: 1.0000\n",
            "Epoch 149/200\n",
            "600/600 [==============================] - 0s 170us/step - loss: 4.6122e-05 - acc: 1.0000\n",
            "Epoch 150/200\n",
            "600/600 [==============================] - 0s 174us/step - loss: 3.1644e-05 - acc: 1.0000\n",
            "Epoch 151/200\n",
            "600/600 [==============================] - 0s 171us/step - loss: 1.9003e-04 - acc: 1.0000\n",
            "Epoch 152/200\n",
            "600/600 [==============================] - 0s 173us/step - loss: 4.3508e-05 - acc: 1.0000\n",
            "Epoch 153/200\n",
            "600/600 [==============================] - 0s 174us/step - loss: 7.7915e-04 - acc: 1.0000\n",
            "Epoch 154/200\n",
            "600/600 [==============================] - 0s 184us/step - loss: 9.3784e-04 - acc: 1.0000\n",
            "Epoch 155/200\n",
            "600/600 [==============================] - 0s 174us/step - loss: 0.0031 - acc: 0.9967\n",
            "Epoch 156/200\n",
            "600/600 [==============================] - 0s 171us/step - loss: 1.7278e-04 - acc: 1.0000\n",
            "Epoch 157/200\n",
            "600/600 [==============================] - 0s 197us/step - loss: 2.7342e-04 - acc: 1.0000\n",
            "Epoch 158/200\n",
            "600/600 [==============================] - 0s 176us/step - loss: 0.0054 - acc: 0.9983\n",
            "Epoch 159/200\n",
            "600/600 [==============================] - 0s 190us/step - loss: 0.0100 - acc: 0.9967\n",
            "Epoch 160/200\n",
            "600/600 [==============================] - 0s 194us/step - loss: 0.0032 - acc: 0.9983\n",
            "Epoch 161/200\n",
            "600/600 [==============================] - 0s 200us/step - loss: 0.0011 - acc: 1.0000\n",
            "Epoch 162/200\n",
            "600/600 [==============================] - 0s 178us/step - loss: 6.0521e-04 - acc: 1.0000\n",
            "Epoch 163/200\n",
            "600/600 [==============================] - 0s 177us/step - loss: 2.4170e-05 - acc: 1.0000\n",
            "Epoch 164/200\n",
            "600/600 [==============================] - 0s 180us/step - loss: 0.0016 - acc: 1.0000\n",
            "Epoch 165/200\n",
            "600/600 [==============================] - 0s 181us/step - loss: 1.9559e-04 - acc: 1.0000\n",
            "Epoch 166/200\n",
            "600/600 [==============================] - 0s 214us/step - loss: 1.6345e-04 - acc: 1.0000\n",
            "Epoch 167/200\n",
            "600/600 [==============================] - 0s 186us/step - loss: 1.7274e-04 - acc: 1.0000\n",
            "Epoch 168/200\n",
            "600/600 [==============================] - 0s 210us/step - loss: 3.8451e-04 - acc: 1.0000\n",
            "Epoch 169/200\n",
            "600/600 [==============================] - 0s 177us/step - loss: 5.7824e-05 - acc: 1.0000\n",
            "Epoch 170/200\n",
            "600/600 [==============================] - 0s 169us/step - loss: 2.5205e-04 - acc: 1.0000\n",
            "Epoch 171/200\n",
            "600/600 [==============================] - 0s 176us/step - loss: 6.1496e-05 - acc: 1.0000\n",
            "Epoch 172/200\n",
            "600/600 [==============================] - 0s 211us/step - loss: 7.5225e-06 - acc: 1.0000\n",
            "Epoch 173/200\n",
            "600/600 [==============================] - 0s 194us/step - loss: 1.2856e-04 - acc: 1.0000\n",
            "Epoch 174/200\n",
            "600/600 [==============================] - 0s 189us/step - loss: 9.3934e-05 - acc: 1.0000\n",
            "Epoch 175/200\n",
            "600/600 [==============================] - 0s 213us/step - loss: 1.6882e-05 - acc: 1.0000\n",
            "Epoch 176/200\n",
            "600/600 [==============================] - 0s 217us/step - loss: 2.7208e-06 - acc: 1.0000\n",
            "Epoch 177/200\n",
            "600/600 [==============================] - 0s 182us/step - loss: 6.3867e-06 - acc: 1.0000\n",
            "Epoch 178/200\n",
            "600/600 [==============================] - 0s 182us/step - loss: 1.6916e-05 - acc: 1.0000\n",
            "Epoch 179/200\n",
            "600/600 [==============================] - 0s 180us/step - loss: 2.7854e-04 - acc: 1.0000\n",
            "Epoch 180/200\n",
            "600/600 [==============================] - 0s 183us/step - loss: 1.6037e-04 - acc: 1.0000\n",
            "Epoch 181/200\n",
            "600/600 [==============================] - 0s 183us/step - loss: 9.9748e-06 - acc: 1.0000\n",
            "Epoch 182/200\n",
            "600/600 [==============================] - 0s 186us/step - loss: 2.5777e-05 - acc: 1.0000\n",
            "Epoch 183/200\n",
            "600/600 [==============================] - 0s 188us/step - loss: 4.5455e-05 - acc: 1.0000\n",
            "Epoch 184/200\n",
            "600/600 [==============================] - 0s 206us/step - loss: 1.8114e-04 - acc: 1.0000\n",
            "Epoch 185/200\n",
            "600/600 [==============================] - 0s 211us/step - loss: 3.8272e-04 - acc: 1.0000\n",
            "Epoch 186/200\n",
            "600/600 [==============================] - 0s 209us/step - loss: 0.0029 - acc: 0.9983\n",
            "Epoch 187/200\n",
            "600/600 [==============================] - 0s 182us/step - loss: 0.0034 - acc: 0.9983\n",
            "Epoch 188/200\n",
            "600/600 [==============================] - 0s 184us/step - loss: 0.0016 - acc: 0.9983\n",
            "Epoch 189/200\n",
            "600/600 [==============================] - 0s 187us/step - loss: 0.0049 - acc: 0.9983\n",
            "Epoch 190/200\n",
            "600/600 [==============================] - 0s 186us/step - loss: 0.0028 - acc: 0.9983\n",
            "Epoch 191/200\n",
            "600/600 [==============================] - 0s 181us/step - loss: 0.0109 - acc: 0.9967\n",
            "Epoch 192/200\n",
            "600/600 [==============================] - 0s 180us/step - loss: 0.0044 - acc: 0.9983\n",
            "Epoch 193/200\n",
            "600/600 [==============================] - 0s 206us/step - loss: 1.4207e-04 - acc: 1.0000\n",
            "Epoch 194/200\n",
            "600/600 [==============================] - 0s 189us/step - loss: 0.0039 - acc: 0.9983\n",
            "Epoch 195/200\n",
            "600/600 [==============================] - 0s 220us/step - loss: 6.8303e-04 - acc: 1.0000\n",
            "Epoch 196/200\n",
            "600/600 [==============================] - 0s 190us/step - loss: 0.0042 - acc: 0.9983\n",
            "Epoch 197/200\n",
            "600/600 [==============================] - 0s 185us/step - loss: 2.4138e-04 - acc: 1.0000\n",
            "Epoch 198/200\n",
            "600/600 [==============================] - 0s 183us/step - loss: 0.0059 - acc: 0.9983\n",
            "Epoch 199/200\n",
            "600/600 [==============================] - 0s 191us/step - loss: 0.0066 - acc: 0.9983\n",
            "Epoch 200/200\n",
            "600/600 [==============================] - 0s 185us/step - loss: 2.4958e-05 - acc: 1.0000\n"
          ],
          "name": "stdout"
        }
      ]
    },
    {
      "cell_type": "code",
      "metadata": {
        "id": "JZYhSXjS5ID8",
        "colab_type": "code",
        "colab": {
          "base_uri": "https://localhost:8080/",
          "height": 353
        },
        "outputId": "243137b1-f7fc-468b-e9b5-47890943c224"
      },
      "source": [
        "# Plot classification loss\n",
        "plt.figure(figsize=(10, 5))\n",
        "plt.plot(np.array(losses), label=\"Loss\")\n",
        "plt.title(\"Classification Loss\")\n",
        "plt.legend()"
      ],
      "execution_count": 115,
      "outputs": [
        {
          "output_type": "execute_result",
          "data": {
            "text/plain": [
              "<matplotlib.legend.Legend at 0x7fa509bf09e8>"
            ]
          },
          "metadata": {
            "tags": []
          },
          "execution_count": 115
        },
        {
          "output_type": "display_data",
          "data": {
            "image/png": "[encoded data removed]",
            "text/plain": [
              "<Figure size 720x360 with 1 Axes>"
            ]
          },
          "metadata": {
            "tags": []
          }
        }
      ]
    },
    {
      "cell_type": "code",
      "metadata": {
        "id": "1OX9tt085ID_",
        "colab_type": "code",
        "colab": {
          "base_uri": "https://localhost:8080/",
          "height": 353
        },
        "outputId": "bdd90b26-667e-493e-a2de-3d11e983db04"
      },
      "source": [
        "# Plot classification accuracy\n",
        "plt.figure(figsize=(10, 5))\n",
        "plt.plot(np.array(accuracies), label=\"Accuracy\")\n",
        "plt.title(\"Classification Accuracy\")\n",
        "plt.legend()"
      ],
      "execution_count": 116,
      "outputs": [
        {
          "output_type": "execute_result",
          "data": {
            "text/plain": [
              "<matplotlib.legend.Legend at 0x7fa509b66d68>"
            ]
          },
          "metadata": {
            "tags": []
          },
          "execution_count": 116
        },
        {
          "output_type": "display_data",
          "data": {
            "image/png": "[encoded data removed]",
            "text/plain": [
              "<Figure size 720x360 with 1 Axes>"
            ]
          },
          "metadata": {
            "tags": []
          }
        }
      ]
    },
    {
      "cell_type": "code",
      "metadata": {
        "id": "6oMPnpnR5IEB",
        "colab_type": "code",
        "colab": {
          "base_uri": "https://localhost:8080/",
          "height": 50
        },
        "outputId": "1f54942a-1be2-4c47-9407-55d769b36cda"
      },
      "source": [
        "x, y = dataset.training_set()\n",
        "y = to_categorical(y, num_classes=num_classes)\n",
        "\n",
        "# Compute classification accuracy on the training set\n",
        "_, accuracy = mnist_classifier.evaluate(x, y)\n",
        "print(\"Training Accuracy: %.2f%%\" % (100 * accuracy))"
      ],
      "execution_count": 112,
      "outputs": [
        {
          "output_type": "stream",
          "text": [
            "600/600 [==============================] - 0s 75us/step\n",
            "Training Accuracy: 100.00%\n"
          ],
          "name": "stdout"
        }
      ]
    },
    {
      "cell_type": "code",
      "metadata": {
        "id": "x2B2kNsq5IEF",
        "colab_type": "code",
        "colab": {
          "base_uri": "https://localhost:8080/",
          "height": 50
        },
        "outputId": "e7188275-9f37-49ef-9dcc-0bd713855b1c"
      },
      "source": [
        "x, y = dataset.test_set()\n",
        "y = to_categorical(y, num_classes=num_classes)\n",
        "\n",
        "# Compute classification accuracy on the test set\n",
        "_, accuracy = mnist_classifier.evaluate(x, y)\n",
        "print(\"Test Accuracy: %.2f%%\" % (100 * accuracy))"
      ],
      "execution_count": 117,
      "outputs": [
        {
          "output_type": "stream",
          "text": [
            "10000/10000 [==============================] - 1s 66us/step\n",
            "Test Accuracy: 90.89%\n"
          ],
          "name": "stdout"
        }
      ]
    },
    {
      "cell_type": "markdown",
      "metadata": {
        "id": "UexjatKq5IEJ",
        "colab_type": "text"
      },
      "source": [
        "---"
      ]
    }
  ]
}