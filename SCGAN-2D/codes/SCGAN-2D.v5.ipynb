{
  "nbformat": 4,
  "nbformat_minor": 0,
  "metadata": {
    "kernelspec": {
      "name": "python3",
      "display_name": "Python 3"
    },
    "language_info": {
      "codemirror_mode": {
        "name": "ipython",
        "version": 3
      },
      "file_extension": ".py",
      "mimetype": "text/x-python",
      "name": "python",
      "nbconvert_exporter": "python",
      "pygments_lexer": "ipython3",
      "version": "3.6.5"
    },
    "colab": {
      "name": "SCGAN.v1.ipynb",
      "provenance": [],
      "collapsed_sections": [],
      "toc_visible": true
    },
    "accelerator": "GPU"
  },
  "cells": [
    {
      "cell_type": "markdown",
      "metadata": {
        "id": "4JrJW9Ib5ICb",
        "colab_type": "text"
      },
      "source": [
        "# Process data"
      ]
    },
    {
      "cell_type": "code",
      "metadata": {
        "id": "QNWoI_bz5ICe",
        "colab_type": "code",
        "outputId": "6d41e3bd-4ada-4e05-ab7a-ab5649cec3c3",
        "colab": {
          "base_uri": "https://localhost:8080/",
          "height": 82
        }
      },
      "source": [
        "%matplotlib inline\n",
        "\n",
        "import matplotlib.pyplot as plt\n",
        "import numpy as np\n",
        "import json\n",
        "import time\n",
        "\n",
        "from keras import backend as K\n",
        "import tensorflow as tf\n",
        "import keras\n",
        "\n",
        "from keras.datasets import mnist\n",
        "from keras.layers import (Activation, BatchNormalization, Concatenate, Dense,\n",
        "                          Dropout, Flatten, Input, Lambda, Reshape, Embedding,\n",
        "                          Multiply)\n",
        "from keras.layers.advanced_activations import LeakyReLU\n",
        "from keras.layers.convolutional import Conv2D, Conv2DTranspose\n",
        "from keras.models import Model, Sequential, load_model\n",
        "from keras.optimizers import Adam\n",
        "from keras.utils import to_categorical\n",
        "from keras.utils.vis_utils import plot_model"
      ],
      "execution_count": 1,
      "outputs": [
        {
          "output_type": "stream",
          "text": [
            "Using TensorFlow backend.\n"
          ],
          "name": "stderr"
        },
        {
          "output_type": "display_data",
          "data": {
            "text/html": [
              "<p style=\"color: red;\">\n",
              "The default version of TensorFlow in Colab will soon switch to TensorFlow 2.x.<br>\n",
              "We recommend you <a href=\"https://www.tensorflow.org/guide/migrate\" target=\"_blank\">upgrade</a> now \n",
              "or ensure your notebook will continue to use TensorFlow 1.x via the <code>%tensorflow_version 1.x</code> magic:\n",
              "<a href=\"https://colab.research.google.com/notebooks/tensorflow_version.ipynb\" target=\"_blank\">more info</a>.</p>\n"
            ],
            "text/plain": [
              "<IPython.core.display.HTML object>"
            ]
          },
          "metadata": {
            "tags": []
          }
        }
      ]
    },
    {
      "cell_type": "code",
      "metadata": {
        "id": "wF6CdoCBLjiC",
        "colab_type": "code",
        "outputId": "39efcb87-6a44-4bcd-adb2-819b8b278b57",
        "colab": {
          "base_uri": "https://localhost:8080/",
          "height": 218
        }
      },
      "source": [
        "# (x_train, y_train), (x_test, y_test) = mnist.load_data()\n",
        "\n",
        "# print(\"Before process:\")\n",
        "# print(x_train.shape)\n",
        "# print(y_train.shape)\n",
        "# print(x_test.shape)\n",
        "# print(y_test.shape)\n",
        "\n",
        "# def preprocess_imgs(x):\n",
        "#       # Rescale [0, 255] grayscale pixel values to [-1, 1]\n",
        "#       x = (x.astype(np.float32) - 127.5) / 127.5\n",
        "#       # Expand image dimensions to width x height x channels, 28*28*1\n",
        "#       x = np.expand_dims(x, axis=3)\n",
        "#       return x\n",
        "\n",
        "# def preprocess_labels(y):\n",
        "#     y = y.reshape(-1, 1)\n",
        "#     y = to_categorical(y, num_classes = 10)\n",
        "#     return y\n",
        "\n",
        "# x_train = preprocess_imgs(x_train)\n",
        "# y_train = preprocess_labels(y_train)\n",
        "# x_test = preprocess_imgs(x_test)\n",
        "# y_test = preprocess_labels(y_test)\n",
        "\n",
        "# print(\"After process:\")\n",
        "# print(x_train.shape)\n",
        "# print(y_train.shape)\n",
        "# print(x_test.shape)\n",
        "# print(y_test.shape)"
      ],
      "execution_count": 0,
      "outputs": [
        {
          "output_type": "stream",
          "text": [
            "Downloading data from https://s3.amazonaws.com/img-datasets/mnist.npz\n",
            "11493376/11490434 [==============================] - 1s 0us/step\n",
            "Before process:\n",
            "(60000, 28, 28)\n",
            "(60000,)\n",
            "(10000, 28, 28)\n",
            "(10000,)\n",
            "After process:\n",
            "(60000, 28, 28, 1)\n",
            "(60000, 10)\n",
            "(10000, 28, 28, 1)\n",
            "(10000, 10)\n"
          ],
          "name": "stdout"
        }
      ]
    },
    {
      "cell_type": "markdown",
      "metadata": {
        "id": "xn9DfamS5ICl",
        "colab_type": "text"
      },
      "source": [
        "## Dataset"
      ]
    },
    {
      "cell_type": "code",
      "metadata": {
        "id": "bqo19imG5ICn",
        "colab_type": "code",
        "colab": {}
      },
      "source": [
        "class Dataset:\n",
        "    def __init__(self, num_labeled):\n",
        "\n",
        "        def preprocess_imgs(x):\n",
        "            # Rescale [0, 255] grayscale pixel values to [-1, 1]\n",
        "            x = (x.astype(np.float32) - 127.5) / 127.5\n",
        "            # Expand image dimensions to width x height x channels, 28*28*1\n",
        "            x = np.expand_dims(x, axis=3)\n",
        "            return x\n",
        "\n",
        "        def preprocess_labels(y):\n",
        "            y = y.reshape(-1, 1)\n",
        "            y = to_categorical(y, num_classes = 10)\n",
        "            return y\n",
        "\n",
        "        (x_train, y_train), (x_test, y_test) = mnist.load_data()\n",
        "        x_train = preprocess_imgs(x_train)\n",
        "        y_train = preprocess_labels(y_train)\n",
        "        x_test = preprocess_imgs(x_test)\n",
        "        y_test = preprocess_labels(y_test)\n",
        "\n",
        "        # Number labeled examples to use for training\n",
        "        self.num_labeled = num_labeled\n",
        "        self.x_train = x_train\n",
        "        self.y_train = y_train\n",
        "        self.x_test = x_test\n",
        "        self.y_test = y_test\n",
        "        del x_train, y_train, x_test, y_test\n",
        "\n",
        "    def batch_labeled(self, batch_size):\n",
        "        # Get a random batch of labeled images and their labels\n",
        "        idx = np.random.randint(0, self.num_labeled, batch_size)\n",
        "        imgs = self.x_train[idx]\n",
        "        labels = self.y_train[idx]\n",
        "        return imgs, labels\n",
        "\n",
        "    def batch_unlabeled(self, batch_size):\n",
        "        # Get a random batch of unlabeled images\n",
        "        idx = np.random.randint(self.num_labeled, self.x_train.shape[0], batch_size)\n",
        "        imgs = self.x_train[idx]\n",
        "        return imgs\n",
        "\n",
        "    def training_set(self):\n",
        "        return self.x_train, self.y_train\n",
        "\n",
        "    def test_set(self):\n",
        "        return self.x_test, self.y_test"
      ],
      "execution_count": 0,
      "outputs": []
    },
    {
      "cell_type": "markdown",
      "metadata": {
        "id": "m5_Ys_5xmUQN",
        "colab_type": "text"
      },
      "source": [
        "## Check the data"
      ]
    },
    {
      "cell_type": "code",
      "metadata": {
        "colab_type": "code",
        "outputId": "1642a02a-1f2b-48d2-df3c-6ccc40f757ec",
        "id": "CuxsRAX_mPuk",
        "colab": {
          "base_uri": "https://localhost:8080/",
          "height": 34
        }
      },
      "source": [
        "# Training set\n",
        "\n",
        "d_ytrain = {}\n",
        "for i in range(10):\n",
        "  d_ytrain[i] = 0\n",
        "for i in range(len(y_train)):\n",
        "  d_ytrain[y_train[i]] = d_ytrain.get(y_train[i]) + 1\n",
        "print(d_ytrain)"
      ],
      "execution_count": 0,
      "outputs": [
        {
          "output_type": "stream",
          "text": [
            "{0: 5923, 1: 6742, 2: 5958, 3: 6131, 4: 5842, 5: 5421, 6: 5918, 7: 6265, 8: 5851, 9: 5949}\n"
          ],
          "name": "stdout"
        }
      ]
    },
    {
      "cell_type": "code",
      "metadata": {
        "colab_type": "code",
        "outputId": "23b50c58-5edc-400d-8223-ae60fbf21948",
        "id": "HrN-dnDzmNIH",
        "colab": {
          "base_uri": "https://localhost:8080/",
          "height": 34
        }
      },
      "source": [
        "# Test set\n",
        "\n",
        "d_ytest = {}\n",
        "for i in range(10):\n",
        "  d_ytest[i] = 0\n",
        "for i in range(len(y_test)):\n",
        "  d_ytest[y_test[i]] = d_ytest.get(y_test[i]) + 1\n",
        "print(d_ytest)"
      ],
      "execution_count": 0,
      "outputs": [
        {
          "output_type": "stream",
          "text": [
            "{0: 980, 1: 1135, 2: 1032, 3: 1010, 4: 982, 5: 892, 6: 958, 7: 1028, 8: 974, 9: 1009}\n"
          ],
          "name": "stdout"
        }
      ]
    },
    {
      "cell_type": "markdown",
      "metadata": {
        "id": "XXeESx0zSFws",
        "colab_type": "text"
      },
      "source": [
        "# Number of labeled data"
      ]
    },
    {
      "cell_type": "code",
      "metadata": {
        "id": "ozm27T5MSHeH",
        "colab_type": "code",
        "colab": {}
      },
      "source": [
        "num_labeled = 2000"
      ],
      "execution_count": 0,
      "outputs": []
    },
    {
      "cell_type": "markdown",
      "metadata": {
        "id": "UtT5bpqm5ICy",
        "colab_type": "text"
      },
      "source": [
        "# SCGAN-2D"
      ]
    },
    {
      "cell_type": "code",
      "metadata": {
        "id": "zeaE_XJq5IC0",
        "colab_type": "code",
        "colab": {}
      },
      "source": [
        "img_rows = 28\n",
        "img_cols = 28\n",
        "channels = 1\n",
        "\n",
        "# Input image dimensions\n",
        "img_shape = (img_rows, img_cols, channels)\n",
        "\n",
        "# Size of the noise vector, used as input to the Generator\n",
        "z_dim = 100\n",
        "\n",
        "# Number of classes in the dataset\n",
        "num_classes = 10"
      ],
      "execution_count": 0,
      "outputs": []
    },
    {
      "cell_type": "markdown",
      "metadata": {
        "id": "SEGfARiO5IC5",
        "colab_type": "text"
      },
      "source": [
        "## Build the model"
      ]
    },
    {
      "cell_type": "code",
      "metadata": {
        "id": "GpyzLGKJ5IC6",
        "colab_type": "code",
        "colab": {}
      },
      "source": [
        "def build_generator(z_dim):\n",
        "  \n",
        "    z = Input(shape=(z_dim, ))\n",
        "    label = Input(shape=(num_classes, ), dtype='float32')\n",
        "    label_embedding = Dense(z_dim, input_dim=num_classes)(label)\n",
        "    joined_representation = Multiply()([z, label_embedding])\n",
        "    \n",
        "#     model = Sequential()\n",
        "\n",
        "    # Reshape input into 7x7x256 tensor via a fully connected layer\n",
        "    model = Dense(256 * 7 * 7, input_dim=z_dim)(joined_representation)\n",
        "    model = Reshape((7, 7, 256))(model)\n",
        "\n",
        "    # Transposed convolution layer, from 7x7x256 into 14x14x128 tensor\n",
        "    model = Conv2DTranspose(128, kernel_size=3, strides=2, padding='same')(model)\n",
        "\n",
        "    # Batch normalization\n",
        "    model = BatchNormalization()(model)\n",
        "\n",
        "    # Leaky ReLU activation\n",
        "    model = LeakyReLU(alpha=0.01)(model)\n",
        "\n",
        "    # Transposed convolution layer, from 14x14x128 to 14x14x64 tensor\n",
        "    model = Conv2DTranspose(64, kernel_size=3, strides=1, padding='same')(model)\n",
        "\n",
        "    # Batch normalization\n",
        "    model = BatchNormalization()(model)\n",
        "\n",
        "    # Leaky ReLU activation\n",
        "    model = LeakyReLU(alpha=0.01)(model)\n",
        "\n",
        "    # Transposed convolution layer, from 14x14x64 to 28x28x1 tensor\n",
        "    model = Conv2DTranspose(1, kernel_size=3, strides=2, padding='same')(model)\n",
        "\n",
        "    # Output layer with tanh activation\n",
        "    conditioned_img = Activation('tanh')(model)\n",
        "    \n",
        "#     conditioned_img = model(joined_representation)\n",
        "\n",
        "    model = Model([z, label], conditioned_img)\n",
        "\n",
        "    return model"
      ],
      "execution_count": 0,
      "outputs": []
    },
    {
      "cell_type": "code",
      "metadata": {
        "id": "QRiDvGxWOKQZ",
        "colab_type": "code",
        "outputId": "a45b258c-df2c-4c2b-d7c5-3da88a2d3658",
        "colab": {
          "base_uri": "https://localhost:8080/",
          "height": 1000
        }
      },
      "source": [
        "build_generator(z_dim).summary()"
      ],
      "execution_count": 6,
      "outputs": [
        {
          "output_type": "stream",
          "text": [
            "WARNING:tensorflow:From /usr/local/lib/python3.6/dist-packages/keras/backend/tensorflow_backend.py:66: The name tf.get_default_graph is deprecated. Please use tf.compat.v1.get_default_graph instead.\n",
            "\n",
            "WARNING:tensorflow:From /usr/local/lib/python3.6/dist-packages/keras/backend/tensorflow_backend.py:541: The name tf.placeholder is deprecated. Please use tf.compat.v1.placeholder instead.\n",
            "\n",
            "WARNING:tensorflow:From /usr/local/lib/python3.6/dist-packages/keras/backend/tensorflow_backend.py:4432: The name tf.random_uniform is deprecated. Please use tf.random.uniform instead.\n",
            "\n",
            "WARNING:tensorflow:From /usr/local/lib/python3.6/dist-packages/keras/backend/tensorflow_backend.py:190: The name tf.get_default_session is deprecated. Please use tf.compat.v1.get_default_session instead.\n",
            "\n",
            "WARNING:tensorflow:From /usr/local/lib/python3.6/dist-packages/keras/backend/tensorflow_backend.py:197: The name tf.ConfigProto is deprecated. Please use tf.compat.v1.ConfigProto instead.\n",
            "\n",
            "WARNING:tensorflow:From /usr/local/lib/python3.6/dist-packages/keras/backend/tensorflow_backend.py:203: The name tf.Session is deprecated. Please use tf.compat.v1.Session instead.\n",
            "\n",
            "WARNING:tensorflow:From /usr/local/lib/python3.6/dist-packages/keras/backend/tensorflow_backend.py:207: The name tf.global_variables is deprecated. Please use tf.compat.v1.global_variables instead.\n",
            "\n",
            "WARNING:tensorflow:From /usr/local/lib/python3.6/dist-packages/keras/backend/tensorflow_backend.py:216: The name tf.is_variable_initialized is deprecated. Please use tf.compat.v1.is_variable_initialized instead.\n",
            "\n",
            "WARNING:tensorflow:From /usr/local/lib/python3.6/dist-packages/keras/backend/tensorflow_backend.py:223: The name tf.variables_initializer is deprecated. Please use tf.compat.v1.variables_initializer instead.\n",
            "\n",
            "WARNING:tensorflow:From /usr/local/lib/python3.6/dist-packages/keras/backend/tensorflow_backend.py:2041: The name tf.nn.fused_batch_norm is deprecated. Please use tf.compat.v1.nn.fused_batch_norm instead.\n",
            "\n",
            "WARNING:tensorflow:From /usr/local/lib/python3.6/dist-packages/keras/backend/tensorflow_backend.py:148: The name tf.placeholder_with_default is deprecated. Please use tf.compat.v1.placeholder_with_default instead.\n",
            "\n",
            "Model: \"model_1\"\n",
            "__________________________________________________________________________________________________\n",
            "Layer (type)                    Output Shape         Param #     Connected to                     \n",
            "==================================================================================================\n",
            "input_2 (InputLayer)            (None, 10)           0                                            \n",
            "__________________________________________________________________________________________________\n",
            "input_1 (InputLayer)            (None, 100)          0                                            \n",
            "__________________________________________________________________________________________________\n",
            "dense_1 (Dense)                 (None, 100)          1100        input_2[0][0]                    \n",
            "__________________________________________________________________________________________________\n",
            "multiply_1 (Multiply)           (None, 100)          0           input_1[0][0]                    \n",
            "                                                                 dense_1[0][0]                    \n",
            "__________________________________________________________________________________________________\n",
            "dense_2 (Dense)                 (None, 12544)        1266944     multiply_1[0][0]                 \n",
            "__________________________________________________________________________________________________\n",
            "reshape_1 (Reshape)             (None, 7, 7, 256)    0           dense_2[0][0]                    \n",
            "__________________________________________________________________________________________________\n",
            "conv2d_transpose_1 (Conv2DTrans (None, 14, 14, 128)  295040      reshape_1[0][0]                  \n",
            "__________________________________________________________________________________________________\n",
            "batch_normalization_1 (BatchNor (None, 14, 14, 128)  512         conv2d_transpose_1[0][0]         \n",
            "__________________________________________________________________________________________________\n",
            "leaky_re_lu_1 (LeakyReLU)       (None, 14, 14, 128)  0           batch_normalization_1[0][0]      \n",
            "__________________________________________________________________________________________________\n",
            "conv2d_transpose_2 (Conv2DTrans (None, 14, 14, 64)   73792       leaky_re_lu_1[0][0]              \n",
            "__________________________________________________________________________________________________\n",
            "batch_normalization_2 (BatchNor (None, 14, 14, 64)   256         conv2d_transpose_2[0][0]         \n",
            "__________________________________________________________________________________________________\n",
            "leaky_re_lu_2 (LeakyReLU)       (None, 14, 14, 64)   0           batch_normalization_2[0][0]      \n",
            "__________________________________________________________________________________________________\n",
            "conv2d_transpose_3 (Conv2DTrans (None, 28, 28, 1)    577         leaky_re_lu_2[0][0]              \n",
            "__________________________________________________________________________________________________\n",
            "activation_1 (Activation)       (None, 28, 28, 1)    0           conv2d_transpose_3[0][0]         \n",
            "==================================================================================================\n",
            "Total params: 1,638,221\n",
            "Trainable params: 1,637,837\n",
            "Non-trainable params: 384\n",
            "__________________________________________________________________________________________________\n"
          ],
          "name": "stdout"
        }
      ]
    },
    {
      "cell_type": "code",
      "metadata": {
        "id": "VahG39Gb5IC_",
        "colab_type": "code",
        "colab": {}
      },
      "source": [
        "def build_discriminator_net(img_shape):\n",
        "\n",
        "    model = Sequential()\n",
        "\n",
        "    # Convolutional layer, from 28x28x1 into 14x14x32 tensor\n",
        "    model.add(Conv2D(32, kernel_size=3, strides=2, input_shape=img_shape, padding='same'))\n",
        "\n",
        "    # Leaky ReLU activation\n",
        "    model.add(LeakyReLU(alpha=0.01))\n",
        "\n",
        "    # Convolutional layer, from 14x14x32 into 7x7x64 tensor\n",
        "    model.add(Conv2D(64, kernel_size=3, strides=2, input_shape=img_shape, padding='same'))\n",
        "\n",
        "    # Batch normalization\n",
        "    model.add(BatchNormalization())\n",
        "\n",
        "    # Leaky ReLU activation\n",
        "    model.add(LeakyReLU(alpha=0.01))\n",
        "\n",
        "    # Convolutional layer, from 7x7x64 tensor into 3x3x128 tensor\n",
        "    model.add(Conv2D(128, kernel_size=3, strides=2, input_shape=img_shape, padding='same'))\n",
        "\n",
        "    # Batch normalization\n",
        "    model.add(BatchNormalization())\n",
        "\n",
        "    # Leaky ReLU activation\n",
        "    model.add(LeakyReLU(alpha=0.01))\n",
        "\n",
        "    # Droupout\n",
        "    model.add(Dropout(0.5))\n",
        "\n",
        "    # Flatten the tensor\n",
        "    model.add(Flatten())\n",
        "\n",
        "    # Fully connected layer with num_classes neurons\n",
        "    model.add(Dense(num_classes))\n",
        "\n",
        "    return model"
      ],
      "execution_count": 0,
      "outputs": []
    },
    {
      "cell_type": "code",
      "metadata": {
        "id": "-hSeX8Z75IDC",
        "colab_type": "code",
        "colab": {}
      },
      "source": [
        "def build_discriminator_supervised(discriminator_net):\n",
        "\n",
        "    model = Sequential()\n",
        "\n",
        "    model.add(discriminator_net)\n",
        "\n",
        "    # Softmax activation, giving predicted probability distribution over the real classes\n",
        "    model.add(Activation('softmax'))\n",
        "\n",
        "    return model"
      ],
      "execution_count": 0,
      "outputs": []
    },
    {
      "cell_type": "code",
      "metadata": {
        "id": "Kc_Skbce5IDF",
        "colab_type": "code",
        "colab": {}
      },
      "source": [
        "def build_discriminator_unsupervised(discriminator_net):\n",
        "\n",
        "    model = Sequential()\n",
        "\n",
        "    model.add(discriminator_net)\n",
        "\n",
        "    def predict(x):\n",
        "        # Transform distribution over real classes into a binary real-vs-fake probability\n",
        "        prediction = 1.0 - (1.0 / (K.sum(K.exp(x), axis=-1, keepdims=True) + 1.0))\n",
        "        return prediction\n",
        "\n",
        "    # 'Real-vs-fake' output neuron defined above\n",
        "    model.add(Lambda(predict))\n",
        "\n",
        "    return model"
      ],
      "execution_count": 0,
      "outputs": []
    },
    {
      "cell_type": "code",
      "metadata": {
        "id": "kcTPOPCS5IDL",
        "colab_type": "code",
        "colab": {}
      },
      "source": [
        "def build_gan(generator, discriminator):\n",
        "    \n",
        "    z = Input(shape=(z_dim, ))\n",
        "    label = Input(shape=(num_classes, ))\n",
        "    img = generator([z, label])\n",
        "    output = discriminator(img)\n",
        "    model = Model([z, label], output)\n",
        "\n",
        "    return model"
      ],
      "execution_count": 0,
      "outputs": []
    },
    {
      "cell_type": "code",
      "metadata": {
        "id": "XPQ_Yvmz5IDQ",
        "colab_type": "code",
        "colab": {
          "base_uri": "https://localhost:8080/",
          "height": 217
        },
        "outputId": "bfa1a8f1-66b4-4630-b293-eb0875efc2e0"
      },
      "source": [
        "# Core Discriminator network:\n",
        "# These layers are shared during supervised and unsupervised training\n",
        "\n",
        "discriminator_net = build_discriminator_net(img_shape)\n",
        "\n",
        "discriminator_supervised = build_discriminator_supervised(discriminator_net)\n",
        "discriminator_supervised.compile(loss='categorical_crossentropy',\n",
        "                                 metrics=['accuracy'],\n",
        "                                 optimizer=Adam())\n",
        "\n",
        "discriminator_unsupervised = build_discriminator_unsupervised(discriminator_net)\n",
        "discriminator_unsupervised.compile(loss='binary_crossentropy',\n",
        "                                metrics=['accuracy'],\n",
        "                                optimizer=Adam())"
      ],
      "execution_count": 11,
      "outputs": [
        {
          "output_type": "stream",
          "text": [
            "WARNING:tensorflow:From /usr/local/lib/python3.6/dist-packages/keras/backend/tensorflow_backend.py:3733: calling dropout (from tensorflow.python.ops.nn_ops) with keep_prob is deprecated and will be removed in a future version.\n",
            "Instructions for updating:\n",
            "Please use `rate` instead of `keep_prob`. Rate should be set to `rate = 1 - keep_prob`.\n",
            "WARNING:tensorflow:From /usr/local/lib/python3.6/dist-packages/keras/optimizers.py:793: The name tf.train.Optimizer is deprecated. Please use tf.compat.v1.train.Optimizer instead.\n",
            "\n",
            "WARNING:tensorflow:From /usr/local/lib/python3.6/dist-packages/keras/backend/tensorflow_backend.py:3576: The name tf.log is deprecated. Please use tf.math.log instead.\n",
            "\n",
            "WARNING:tensorflow:From /usr/local/lib/python3.6/dist-packages/tensorflow_core/python/ops/nn_impl.py:183: where (from tensorflow.python.ops.array_ops) is deprecated and will be removed in a future version.\n",
            "Instructions for updating:\n",
            "Use tf.where in 2.0, which has the same broadcast rule as np.where\n"
          ],
          "name": "stdout"
        }
      ]
    },
    {
      "cell_type": "code",
      "metadata": {
        "id": "bMRweuap5IDT",
        "colab_type": "code",
        "colab": {}
      },
      "source": [
        "# Build the Generator\n",
        "generator = build_generator(z_dim)\n",
        "\n",
        "discriminator_supervised.trainable = False\n",
        "discriminator_unsupervised.trainable = False\n",
        "gan = build_gan(generator, discriminator_unsupervised)\n",
        "gan.compile(loss='binary_crossentropy', \n",
        "            metrics=['accuracy'], \n",
        "            optimizer=Adam())"
      ],
      "execution_count": 0,
      "outputs": []
    },
    {
      "cell_type": "code",
      "metadata": {
        "id": "wdK-poJClotB",
        "colab_type": "code",
        "colab": {}
      },
      "source": [
        "%mkdir images"
      ],
      "execution_count": 0,
      "outputs": []
    },
    {
      "cell_type": "code",
      "metadata": {
        "id": "nYEd_7wgg6np",
        "colab_type": "code",
        "colab": {}
      },
      "source": [
        "plot_model(generator,to_file=\"images/model_generator.png\",show_shapes=True)"
      ],
      "execution_count": 0,
      "outputs": []
    },
    {
      "cell_type": "code",
      "metadata": {
        "id": "YWBfqsihof7J",
        "colab_type": "code",
        "colab": {}
      },
      "source": [
        "plot_model(discriminator_net,to_file=\"images/discriminator_net.png\",show_shapes=True)"
      ],
      "execution_count": 0,
      "outputs": []
    },
    {
      "cell_type": "code",
      "metadata": {
        "id": "Xpgh7rWLmDLD",
        "colab_type": "code",
        "colab": {}
      },
      "source": [
        "plot_model(discriminator_supervised,to_file=\"images/model_discriminator_supervised.png\",show_shapes=True)"
      ],
      "execution_count": 0,
      "outputs": []
    },
    {
      "cell_type": "code",
      "metadata": {
        "id": "aOS0F6Z0mKOM",
        "colab_type": "code",
        "colab": {}
      },
      "source": [
        "plot_model(discriminator_unsupervised,to_file=\"images/model_discriminator_unsupervised.png\",show_shapes=True)"
      ],
      "execution_count": 0,
      "outputs": []
    },
    {
      "cell_type": "code",
      "metadata": {
        "id": "6TS-bU5RmbTE",
        "colab_type": "code",
        "colab": {}
      },
      "source": [
        "plot_model(gan,to_file=\"images/model_gan.png\",show_shapes=True)"
      ],
      "execution_count": 0,
      "outputs": []
    },
    {
      "cell_type": "markdown",
      "metadata": {
        "id": "rSfkxFfH5IDW",
        "colab_type": "text"
      },
      "source": [
        "## Training"
      ]
    },
    {
      "cell_type": "code",
      "metadata": {
        "id": "EQx1f61tT1sF",
        "colab_type": "code",
        "colab": {}
      },
      "source": [
        "%mkdir models\n",
        "%mkdir losses\n",
        "%mkdir models/models-label-2000\n",
        "%mkdir losses/losses-label-2000"
      ],
      "execution_count": 0,
      "outputs": []
    },
    {
      "cell_type": "code",
      "metadata": {
        "id": "3kOoUEbFT2fE",
        "colab_type": "code",
        "colab": {}
      },
      "source": [
        "def pretrain(iterations_pre, batch_size, save_interval):\n",
        "  for iteration in range(iterations_pre):\n",
        "      # imgs_labeled, labels = dataset.training_set()\n",
        "      imgs_labeled, labels = dataset.batch_labeled(1000)\n",
        "      loss_d_labeled_class, acc_d_labeled_class = discriminator_supervised.train_on_batch(imgs_labeled, labels)\n",
        "      if (iteration + 1) % save_interval == 0:\n",
        "          \n",
        "          # Output training progress\n",
        "          print(\n",
        "              \"%d [D loss class: %.4f, acc: %.2f%%]\"\n",
        "              % (iteration + 1, loss_d_labeled_class, 100 * acc_d_labeled_class))\n",
        "          \n",
        "          discriminator_supervised.save(\"./models/discriminator_supervised-\" + str(iteration+1) + \".h5\")\n",
        "          \n",
        "          # x, y = dataset.training_set()\n",
        "          # _, accuracy = discriminator_class.evaluate(x, y)\n",
        "          # print(\"Training Accuracy: %.2f%%\" % (100 * accuracy))      "
      ],
      "execution_count": 0,
      "outputs": []
    },
    {
      "cell_type": "code",
      "metadata": {
        "id": "ucBhxPeBT_th",
        "colab_type": "code",
        "outputId": "565dd997-7156-4b96-f5d8-31a1a5e39025",
        "colab": {
          "base_uri": "https://localhost:8080/",
          "height": 377
        }
      },
      "source": [
        "# Set hyperparameters\n",
        "iterations_pre = 2000 # 2000\n",
        "batch_size = 32\n",
        "save_interval = 100\n",
        "\n",
        "dataset = Dataset(num_labeled)\n",
        "\n",
        "discriminator_supervised.trainable = True\n",
        "\n",
        "pretrain(iterations_pre, batch_size, save_interval)"
      ],
      "execution_count": 19,
      "outputs": [
        {
          "output_type": "stream",
          "text": [
            "100 [D loss class: 0.0063, acc: 100.00%]\n",
            "200 [D loss class: 0.0036, acc: 100.00%]\n",
            "300 [D loss class: 0.0016, acc: 100.00%]\n",
            "400 [D loss class: 0.0011, acc: 100.00%]\n",
            "500 [D loss class: 0.0007, acc: 100.00%]\n",
            "600 [D loss class: 0.0005, acc: 100.00%]\n",
            "700 [D loss class: 0.0005, acc: 100.00%]\n",
            "800 [D loss class: 0.0003, acc: 100.00%]\n",
            "900 [D loss class: 0.0003, acc: 100.00%]\n",
            "1000 [D loss class: 0.0003, acc: 100.00%]\n",
            "1100 [D loss class: 0.0002, acc: 100.00%]\n",
            "1200 [D loss class: 0.0003, acc: 100.00%]\n",
            "1300 [D loss class: 0.0005, acc: 100.00%]\n",
            "1400 [D loss class: 0.0001, acc: 100.00%]\n",
            "1500 [D loss class: 0.0001, acc: 100.00%]\n",
            "1600 [D loss class: 0.0001, acc: 100.00%]\n",
            "1700 [D loss class: 0.0001, acc: 100.00%]\n",
            "1800 [D loss class: 0.0001, acc: 100.00%]\n",
            "1900 [D loss class: 0.0001, acc: 100.00%]\n",
            "2000 [D loss class: 0.0001, acc: 100.00%]\n"
          ],
          "name": "stdout"
        }
      ]
    },
    {
      "cell_type": "code",
      "metadata": {
        "id": "AFrt2bcjoKDr",
        "colab_type": "code",
        "outputId": "dd639cfc-7593-47d7-b365-21963963e588",
        "colab": {
          "base_uri": "https://localhost:8080/",
          "height": 89
        }
      },
      "source": [
        "x, y = dataset.training_set()\n",
        "_, accuracy = discriminator_supervised.evaluate(x, y)\n",
        "print(\"Training Accuracy: %.2f%%\" % (100 * accuracy))\n",
        "\n",
        "x, y = dataset.test_set()\n",
        "_, accuracy = discriminator_supervised.evaluate(x, y)\n",
        "print(\"Test Accuracy: %.2f%%\" % (100 * accuracy))"
      ],
      "execution_count": 22,
      "outputs": [
        {
          "output_type": "stream",
          "text": [
            "60000/60000 [==============================] - 4s 61us/step\n",
            "Training Accuracy: 95.52%\n",
            "10000/10000 [==============================] - 1s 61us/step\n",
            "Test Accuracy: 95.68%\n"
          ],
          "name": "stdout"
        }
      ]
    },
    {
      "cell_type": "code",
      "metadata": {
        "id": "kJRUSjHRVaeI",
        "colab_type": "code",
        "outputId": "b99408c4-db48-49d7-b8d1-d5e574c6914a",
        "colab": {
          "base_uri": "https://localhost:8080/",
          "height": 761
        }
      },
      "source": [
        "accs = []\n",
        "tx = [x for x in range(100,2100,100)]\n",
        "acc_max = [0,0]\n",
        "\n",
        "tmodel = build_discriminator_supervised(build_discriminator_net(img_shape))\n",
        "tmodel.compile(loss='categorical_crossentropy',\n",
        "                         metrics=['accuracy'],\n",
        "                         optimizer=Adam())\n",
        "\n",
        "for e in tx:\n",
        "  tmodel.load_weights(\"./models/discriminator_supervised-\"+ str(e) +\".h5\", by_name=False)\n",
        "  _, acc = tmodel.evaluate(x, y)\n",
        "  accs.append(acc)\n",
        "print(max(accs))\n",
        "\n",
        "plt.figure(figsize=(15, 5))\n",
        "plt.plot(tx, accs, label=\"accs\", color='blue')\n",
        "plt.xticks(tx, rotation=90)\n",
        "plt.title(\"accs with epoch\")\n",
        "plt.xlabel(\"epoch\")\n",
        "plt.ylabel(\"accs\")\n",
        "plt.legend()"
      ],
      "execution_count": 23,
      "outputs": [
        {
          "output_type": "stream",
          "text": [
            "10000/10000 [==============================] - 1s 70us/step\n",
            "10000/10000 [==============================] - 1s 57us/step\n",
            "10000/10000 [==============================] - 1s 57us/step\n",
            "10000/10000 [==============================] - 1s 58us/step\n",
            "10000/10000 [==============================] - 1s 57us/step\n",
            "10000/10000 [==============================] - 1s 56us/step\n",
            "10000/10000 [==============================] - 1s 57us/step\n",
            "10000/10000 [==============================] - 1s 58us/step\n",
            "10000/10000 [==============================] - 1s 58us/step\n",
            "10000/10000 [==============================] - 1s 60us/step\n",
            "10000/10000 [==============================] - 1s 57us/step\n",
            "10000/10000 [==============================] - 1s 57us/step\n",
            "10000/10000 [==============================] - 1s 57us/step\n",
            "10000/10000 [==============================] - 1s 56us/step\n",
            "10000/10000 [==============================] - 1s 59us/step\n",
            "10000/10000 [==============================] - 1s 55us/step\n",
            "10000/10000 [==============================] - 1s 59us/step\n",
            "10000/10000 [==============================] - 1s 56us/step\n",
            "10000/10000 [==============================] - 1s 59us/step\n",
            "10000/10000 [==============================] - 1s 63us/step\n",
            "0.957\n"
          ],
          "name": "stdout"
        },
        {
          "output_type": "execute_result",
          "data": {
            "text/plain": [
              "<matplotlib.legend.Legend at 0x7f216fd5a2b0>"
            ]
          },
          "metadata": {
            "tags": []
          },
          "execution_count": 23
        },
        {
          "output_type": "display_data",
          "data": {
            "image/png": "[encoded data removed]",
            "text/plain": [
              "<Figure size 1080x360 with 1 Axes>"
            ]
          },
          "metadata": {
            "tags": []
          }
        }
      ]
    },
    {
      "cell_type": "code",
      "metadata": {
        "id": "3CSDDI-VU4eL",
        "colab_type": "code",
        "colab": {}
      },
      "source": [
        "def train(iterations, batch_size, save_interval, k):\n",
        "\n",
        "    # Labels for real images: all ones\n",
        "    real = np.ones((batch_size, 1))\n",
        "\n",
        "    # Labels for fake images: all zeros\n",
        "    fake = np.zeros((batch_size, 1))\n",
        "\n",
        "    for iteration in range(iterations):\n",
        "\n",
        "        for _ in range(k):\n",
        "\n",
        "            # -------------------------\n",
        "            #  Train the Discriminator\n",
        "            # -------------------------\n",
        "\n",
        "            # Get labeled examples\n",
        "            imgs, labels = dataset.batch_labeled(batch_size)\n",
        "\n",
        "            # Get unlabeled examples\n",
        "            imgs_unlabeled = dataset.batch_unlabeled(batch_size)\n",
        "\n",
        "            # Generate a batch of fake images\n",
        "            z = np.random.normal(0, 1, (batch_size, z_dim))\n",
        "            fake_labels = np.random.randint(0, num_classes, batch_size).reshape(-1, 1)\n",
        "            fake_labels = to_categorical(fake_labels, num_classes=num_classes)\n",
        "            gen_imgs = generator.predict([z, fake_labels])\n",
        "\n",
        "            discriminator_supervised.trainable = True\n",
        "            discriminator_unsupervised.trainable = True\n",
        "\n",
        "            # Train on real labeled examples\n",
        "            loss_d_supervised, acc_d_supervised = discriminator_supervised.train_on_batch(imgs, labels)\n",
        "\n",
        "            # Train on real unlabeled examples\n",
        "            loss_d_unsupervised_real, acc_d_unsupervised_real = discriminator_unsupervised.train_on_batch(imgs_unlabeled, real)\n",
        "\n",
        "            # Train on fake examples\n",
        "            loss_d_unsupervised_fake, acc_d_unsupervised_fake = discriminator_unsupervised.train_on_batch(gen_imgs, fake)\n",
        "\n",
        "            # Calculate loss and acc\n",
        "            loss_d_unsupervised = 0.5 * np.add(loss_d_unsupervised_real, loss_d_unsupervised_fake)\n",
        "            loss_d = np.add(loss_d_supervised, loss_d_unsupervised)\n",
        "            acc_d_unsupervised = 0.5 * np.add(acc_d_unsupervised_real, acc_d_unsupervised_fake)\n",
        "            acc_d = np.add(acc_d_supervised, acc_d_unsupervised)\n",
        "        \n",
        "        # ---------------------\n",
        "        #  Train the Generator\n",
        "        # ---------------------\n",
        "\n",
        "        # Generate a batch of fake images\n",
        "        z = np.random.normal(0, 1, (batch_size, z_dim))\n",
        "        fake_labels = np.random.randint(0, num_classes, batch_size).reshape(-1, 1)\n",
        "        fake_labels = to_categorical(fake_labels, num_classes=num_classes)\n",
        "        gen_imgs = generator.predict([z, fake_labels])\n",
        "\n",
        "        discriminator_supervised.trainable = False\n",
        "        discriminator_unsupervised.trainable = False\n",
        "\n",
        "        # Train Generator\n",
        "        loss_g_unsupervised, acc_g_unsupervised = gan.train_on_batch([z,labels], fake)\n",
        "\n",
        "        # Calculate loss and acc\n",
        "        loss_g = loss_g_unsupervised\n",
        "        acc_g = acc_g_unsupervised\n",
        "\n",
        "        if (iteration + 1) % save_interval == 0:\n",
        "\n",
        "            # Save losses to be plotted after training\n",
        "            losses_d_supervised.append(loss_d_supervised)\n",
        "            losses_d_unsupervised.append(loss_d_unsupervised)\n",
        "            losses_d_unsupervised_real.append(loss_d_unsupervised_real)\n",
        "            losses_d_unsupervised_fake.append(loss_d_unsupervised_fake)\n",
        "            losses_d.append(loss_d)\n",
        "            losses_g.append(loss_g)\n",
        "            \n",
        "            iteration_checkpoints.append(iteration + 1)\n",
        "\n",
        "            # Output training progress\n",
        "            print(\n",
        "                \"%d [D loss supervised: %.4f, acc.: %.2f%%] [D loss unsupervised: %.4f, acc.: %.2f%%] [G loss: %f, acc.: %.2f%%]\"\n",
        "                % (iteration + 1, \n",
        "                   loss_d_supervised, 100 * acc_d_supervised,\n",
        "                   loss_d_unsupervised, 100 * acc_d_unsupervised, \n",
        "                   loss_g, 100 * acc_g))\n",
        "            \n",
        "            discriminator_supervised.save(\"./models/models-label-\" + str(num_labeled) + \"/discriminator_supervised-\" + str(iteration+1) + \".h5\")\n",
        "            discriminator_unsupervised.save(\"./models/models-label-\" + str(num_labeled) + \"/discriminator_unsupervised-\" + str(iteration+1) + \".h5\")\n",
        "            generator.save(\"./models/models-label-\" + str(num_labeled) + \"/generator-\" + str(iteration+1) + \".h5\")\n",
        "            file1 = \"./losses/losses-label-\" + str(num_labeled) + \"/losses_d_supervised.json\"\n",
        "            file2 = \"./losses/losses-label-\" + str(num_labeled) + \"/losses_d_unsupervised.json\"\n",
        "            file3 = \"./losses/losses-label-\" + str(num_labeled) + \"/losses_g.json\"\n",
        "            with open(file1, 'w') as json_file:\n",
        "                  json.dump(str(losses_d_supervised), json_file)\n",
        "            with open(file2, 'w') as json_file:\n",
        "                  json.dump(str(losses_d_unsupervised), json_file)\n",
        "            with open(file3, 'w') as json_file:\n",
        "                  json.dump(str(losses_g), json_file)\n",
        "\n",
        "            # x,y = dataset.training_set()\n",
        "            # _, acc = discriminator_supervised.evaluate(x,y)\n",
        "            # print(str(100*acc)+\"%\")"
      ],
      "execution_count": 0,
      "outputs": []
    },
    {
      "cell_type": "code",
      "metadata": {
        "id": "u7G-G239Vgz5",
        "colab_type": "code",
        "outputId": "f51e892b-dbbb-453f-ab41-dfef1b63a65f",
        "colab": {
          "base_uri": "https://localhost:8080/",
          "height": 1000
        }
      },
      "source": [
        "# Set hyperparameters\n",
        "iterations = 8000 # 8000\n",
        "batch_size = 32\n",
        "save_interval = 100\n",
        "k = 1 # iteration of Discriminator\n",
        "\n",
        "losses_d_supervised = []\n",
        "losses_d_unsupervised = []\n",
        "losses_d_unsupervised_real = []\n",
        "losses_d_unsupervised_fake = []\n",
        "losses_d = []\n",
        "losses_g = []\n",
        "\n",
        "iteration_checkpoints = []\n",
        "\n",
        "discriminator_supervised = load_model(\"./models/discriminator_supervised-2000.h5\")\n",
        "starttime = time.clock()\n",
        "\n",
        "# Train the SCGAN-2D for the specified number of iterations\n",
        "train(iterations, batch_size, save_interval, k)\n",
        "\n",
        "endtime = time.clock()\n",
        "print(\"Training time: %.4fs\" % (endtime - starttime))"
      ],
      "execution_count": 26,
      "outputs": [
        {
          "output_type": "stream",
          "text": [
            "100 [D loss supervised: 0.9484, acc.: 71.88%] [D loss unsupervised: 0.0003, acc.: 100.00%] [G loss: 0.000231, acc.: 100.00%]\n",
            "200 [D loss supervised: 0.1096, acc.: 96.88%] [D loss unsupervised: 0.0001, acc.: 100.00%] [G loss: 0.000177, acc.: 100.00%]\n",
            "300 [D loss supervised: 0.0681, acc.: 93.75%] [D loss unsupervised: 0.0000, acc.: 100.00%] [G loss: 0.000057, acc.: 100.00%]\n",
            "400 [D loss supervised: 0.1425, acc.: 96.88%] [D loss unsupervised: 0.0000, acc.: 100.00%] [G loss: 0.000033, acc.: 100.00%]\n",
            "500 [D loss supervised: 0.1774, acc.: 96.88%] [D loss unsupervised: 0.0000, acc.: 100.00%] [G loss: 0.000028, acc.: 100.00%]\n",
            "600 [D loss supervised: 0.0008, acc.: 100.00%] [D loss unsupervised: 0.0000, acc.: 100.00%] [G loss: 0.000026, acc.: 100.00%]\n",
            "700 [D loss supervised: 0.0015, acc.: 100.00%] [D loss unsupervised: 0.0000, acc.: 100.00%] [G loss: 0.000012, acc.: 100.00%]\n",
            "800 [D loss supervised: 0.0009, acc.: 100.00%] [D loss unsupervised: 0.0000, acc.: 100.00%] [G loss: 0.000010, acc.: 100.00%]\n",
            "900 [D loss supervised: 0.0002, acc.: 100.00%] [D loss unsupervised: 0.0000, acc.: 100.00%] [G loss: 0.000009, acc.: 100.00%]\n",
            "1000 [D loss supervised: 0.0004, acc.: 100.00%] [D loss unsupervised: 0.0000, acc.: 100.00%] [G loss: 0.000005, acc.: 100.00%]\n",
            "1100 [D loss supervised: 0.0026, acc.: 100.00%] [D loss unsupervised: 0.0000, acc.: 100.00%] [G loss: 0.000008, acc.: 100.00%]\n",
            "1200 [D loss supervised: 0.0005, acc.: 100.00%] [D loss unsupervised: 0.0000, acc.: 100.00%] [G loss: 0.000006, acc.: 100.00%]\n",
            "1300 [D loss supervised: 0.0003, acc.: 100.00%] [D loss unsupervised: 0.0000, acc.: 100.00%] [G loss: 0.000006, acc.: 100.00%]\n",
            "1400 [D loss supervised: 0.0049, acc.: 100.00%] [D loss unsupervised: 0.0000, acc.: 100.00%] [G loss: 0.000004, acc.: 100.00%]\n",
            "1500 [D loss supervised: 0.0004, acc.: 100.00%] [D loss unsupervised: 0.0000, acc.: 100.00%] [G loss: 0.000004, acc.: 100.00%]\n",
            "1600 [D loss supervised: 0.0070, acc.: 100.00%] [D loss unsupervised: 0.0000, acc.: 100.00%] [G loss: 0.000003, acc.: 100.00%]\n",
            "1700 [D loss supervised: 0.0055, acc.: 100.00%] [D loss unsupervised: 0.0000, acc.: 100.00%] [G loss: 0.000004, acc.: 100.00%]\n",
            "1800 [D loss supervised: 0.0007, acc.: 100.00%] [D loss unsupervised: 0.0000, acc.: 100.00%] [G loss: 0.000001, acc.: 100.00%]\n",
            "1900 [D loss supervised: 0.0005, acc.: 100.00%] [D loss unsupervised: 0.0000, acc.: 100.00%] [G loss: 0.000004, acc.: 100.00%]\n",
            "2000 [D loss supervised: 0.0010, acc.: 100.00%] [D loss unsupervised: 0.0000, acc.: 100.00%] [G loss: 0.000001, acc.: 100.00%]\n",
            "2100 [D loss supervised: 0.0003, acc.: 100.00%] [D loss unsupervised: 0.0000, acc.: 100.00%] [G loss: 0.000001, acc.: 100.00%]\n",
            "2200 [D loss supervised: 0.0034, acc.: 100.00%] [D loss unsupervised: 0.0000, acc.: 100.00%] [G loss: 0.000001, acc.: 100.00%]\n",
            "2300 [D loss supervised: 0.0000, acc.: 100.00%] [D loss unsupervised: 0.0000, acc.: 100.00%] [G loss: 0.000002, acc.: 100.00%]\n",
            "2400 [D loss supervised: 0.0000, acc.: 100.00%] [D loss unsupervised: 0.0000, acc.: 100.00%] [G loss: 0.000001, acc.: 100.00%]\n",
            "2500 [D loss supervised: 0.0047, acc.: 100.00%] [D loss unsupervised: 0.0000, acc.: 100.00%] [G loss: 0.000001, acc.: 100.00%]\n",
            "2600 [D loss supervised: 0.0001, acc.: 100.00%] [D loss unsupervised: 0.0000, acc.: 100.00%] [G loss: 0.000001, acc.: 100.00%]\n",
            "2700 [D loss supervised: 0.0003, acc.: 100.00%] [D loss unsupervised: 0.0000, acc.: 100.00%] [G loss: 0.000001, acc.: 100.00%]\n",
            "2800 [D loss supervised: 0.0001, acc.: 100.00%] [D loss unsupervised: 0.0000, acc.: 100.00%] [G loss: 0.000001, acc.: 100.00%]\n",
            "2900 [D loss supervised: 0.0001, acc.: 100.00%] [D loss unsupervised: 0.0000, acc.: 100.00%] [G loss: 0.000001, acc.: 100.00%]\n",
            "3000 [D loss supervised: 0.0009, acc.: 100.00%] [D loss unsupervised: 0.0000, acc.: 100.00%] [G loss: 0.000001, acc.: 100.00%]\n",
            "3100 [D loss supervised: 0.0001, acc.: 100.00%] [D loss unsupervised: 0.0000, acc.: 100.00%] [G loss: 0.000001, acc.: 100.00%]\n",
            "3200 [D loss supervised: 0.0000, acc.: 100.00%] [D loss unsupervised: 0.0000, acc.: 100.00%] [G loss: 0.000000, acc.: 100.00%]\n",
            "3300 [D loss supervised: 0.0003, acc.: 100.00%] [D loss unsupervised: 0.0000, acc.: 100.00%] [G loss: 0.000000, acc.: 100.00%]\n",
            "3400 [D loss supervised: 0.0104, acc.: 100.00%] [D loss unsupervised: 0.0000, acc.: 100.00%] [G loss: 0.000000, acc.: 100.00%]\n",
            "3500 [D loss supervised: 0.0394, acc.: 96.88%] [D loss unsupervised: 0.0000, acc.: 100.00%] [G loss: 0.000000, acc.: 100.00%]\n",
            "3600 [D loss supervised: 0.0001, acc.: 100.00%] [D loss unsupervised: 0.0000, acc.: 100.00%] [G loss: 0.000000, acc.: 100.00%]\n",
            "3700 [D loss supervised: 0.0005, acc.: 100.00%] [D loss unsupervised: 0.0000, acc.: 100.00%] [G loss: 0.000000, acc.: 100.00%]\n",
            "3800 [D loss supervised: 0.0001, acc.: 100.00%] [D loss unsupervised: 0.0000, acc.: 100.00%] [G loss: 0.000000, acc.: 100.00%]\n",
            "3900 [D loss supervised: 0.0001, acc.: 100.00%] [D loss unsupervised: 0.0000, acc.: 100.00%] [G loss: 0.000000, acc.: 100.00%]\n",
            "4000 [D loss supervised: 0.0000, acc.: 100.00%] [D loss unsupervised: 0.0000, acc.: 100.00%] [G loss: 0.000000, acc.: 100.00%]\n",
            "4100 [D loss supervised: 0.0000, acc.: 100.00%] [D loss unsupervised: 0.0000, acc.: 100.00%] [G loss: 0.000000, acc.: 100.00%]\n",
            "4200 [D loss supervised: 0.0011, acc.: 100.00%] [D loss unsupervised: 0.0000, acc.: 100.00%] [G loss: 0.000000, acc.: 100.00%]\n",
            "4300 [D loss supervised: 0.0046, acc.: 100.00%] [D loss unsupervised: 0.0000, acc.: 100.00%] [G loss: 0.000000, acc.: 100.00%]\n",
            "4400 [D loss supervised: 0.0000, acc.: 100.00%] [D loss unsupervised: 0.0000, acc.: 100.00%] [G loss: 0.000000, acc.: 100.00%]\n",
            "4500 [D loss supervised: 0.0000, acc.: 100.00%] [D loss unsupervised: 0.0000, acc.: 100.00%] [G loss: 0.000000, acc.: 100.00%]\n",
            "4600 [D loss supervised: 0.0000, acc.: 100.00%] [D loss unsupervised: 0.0000, acc.: 100.00%] [G loss: 0.000000, acc.: 100.00%]\n",
            "4700 [D loss supervised: 0.0001, acc.: 100.00%] [D loss unsupervised: 0.0000, acc.: 100.00%] [G loss: 0.000000, acc.: 100.00%]\n",
            "4800 [D loss supervised: 0.0000, acc.: 100.00%] [D loss unsupervised: 0.0000, acc.: 100.00%] [G loss: 0.000000, acc.: 100.00%]\n",
            "4900 [D loss supervised: 0.0001, acc.: 100.00%] [D loss unsupervised: 0.0000, acc.: 100.00%] [G loss: 0.000000, acc.: 100.00%]\n",
            "5000 [D loss supervised: 0.0002, acc.: 100.00%] [D loss unsupervised: 0.0000, acc.: 100.00%] [G loss: 0.000000, acc.: 100.00%]\n",
            "5100 [D loss supervised: 0.0005, acc.: 100.00%] [D loss unsupervised: 0.0000, acc.: 100.00%] [G loss: 0.000000, acc.: 100.00%]\n",
            "5200 [D loss supervised: 0.0002, acc.: 100.00%] [D loss unsupervised: 0.0000, acc.: 100.00%] [G loss: 0.000000, acc.: 100.00%]\n",
            "5300 [D loss supervised: 0.0000, acc.: 100.00%] [D loss unsupervised: 0.0000, acc.: 100.00%] [G loss: 0.000000, acc.: 100.00%]\n",
            "5400 [D loss supervised: 0.0000, acc.: 100.00%] [D loss unsupervised: 0.0000, acc.: 100.00%] [G loss: 0.000000, acc.: 100.00%]\n",
            "5500 [D loss supervised: 0.0014, acc.: 100.00%] [D loss unsupervised: 0.0000, acc.: 100.00%] [G loss: 0.000000, acc.: 100.00%]\n",
            "5600 [D loss supervised: 0.0000, acc.: 100.00%] [D loss unsupervised: 0.0000, acc.: 100.00%] [G loss: 0.000000, acc.: 100.00%]\n",
            "5700 [D loss supervised: 0.0000, acc.: 100.00%] [D loss unsupervised: 0.0000, acc.: 100.00%] [G loss: 0.000000, acc.: 100.00%]\n",
            "5800 [D loss supervised: 0.0002, acc.: 100.00%] [D loss unsupervised: 0.0000, acc.: 100.00%] [G loss: 0.000000, acc.: 100.00%]\n",
            "5900 [D loss supervised: 0.0024, acc.: 100.00%] [D loss unsupervised: 0.0000, acc.: 100.00%] [G loss: 0.000000, acc.: 100.00%]\n",
            "6000 [D loss supervised: 0.0001, acc.: 100.00%] [D loss unsupervised: 0.0000, acc.: 100.00%] [G loss: 0.000000, acc.: 100.00%]\n",
            "6100 [D loss supervised: 0.0020, acc.: 100.00%] [D loss unsupervised: 0.0000, acc.: 100.00%] [G loss: 0.000000, acc.: 100.00%]\n",
            "6200 [D loss supervised: 0.0000, acc.: 100.00%] [D loss unsupervised: 0.0000, acc.: 100.00%] [G loss: 0.000000, acc.: 100.00%]\n",
            "6300 [D loss supervised: 0.0000, acc.: 100.00%] [D loss unsupervised: 0.0000, acc.: 100.00%] [G loss: 0.000000, acc.: 100.00%]\n",
            "6400 [D loss supervised: 0.0001, acc.: 100.00%] [D loss unsupervised: 0.0000, acc.: 100.00%] [G loss: 0.000000, acc.: 100.00%]\n",
            "6500 [D loss supervised: 0.0000, acc.: 100.00%] [D loss unsupervised: 0.0000, acc.: 100.00%] [G loss: 0.000000, acc.: 100.00%]\n",
            "6600 [D loss supervised: 0.0059, acc.: 100.00%] [D loss unsupervised: 0.0000, acc.: 100.00%] [G loss: 0.000000, acc.: 100.00%]\n",
            "6700 [D loss supervised: 0.0001, acc.: 100.00%] [D loss unsupervised: 0.0000, acc.: 100.00%] [G loss: 0.000000, acc.: 100.00%]\n",
            "6800 [D loss supervised: 0.0007, acc.: 100.00%] [D loss unsupervised: 0.0000, acc.: 100.00%] [G loss: 0.000000, acc.: 100.00%]\n",
            "6900 [D loss supervised: 0.0001, acc.: 100.00%] [D loss unsupervised: 0.0000, acc.: 100.00%] [G loss: 0.000000, acc.: 100.00%]\n",
            "7000 [D loss supervised: 0.0001, acc.: 100.00%] [D loss unsupervised: 0.0000, acc.: 100.00%] [G loss: 0.000000, acc.: 100.00%]\n",
            "7100 [D loss supervised: 0.0040, acc.: 100.00%] [D loss unsupervised: 0.0000, acc.: 100.00%] [G loss: 0.000000, acc.: 100.00%]\n",
            "7200 [D loss supervised: 0.0000, acc.: 100.00%] [D loss unsupervised: 0.0000, acc.: 100.00%] [G loss: 0.000000, acc.: 100.00%]\n",
            "7300 [D loss supervised: 0.0001, acc.: 100.00%] [D loss unsupervised: 0.0000, acc.: 100.00%] [G loss: 0.000000, acc.: 100.00%]\n",
            "7400 [D loss supervised: 0.0000, acc.: 100.00%] [D loss unsupervised: 0.0000, acc.: 100.00%] [G loss: 0.000000, acc.: 100.00%]\n",
            "7500 [D loss supervised: 0.0000, acc.: 100.00%] [D loss unsupervised: 0.0000, acc.: 100.00%] [G loss: 0.000000, acc.: 100.00%]\n",
            "7600 [D loss supervised: 0.0000, acc.: 100.00%] [D loss unsupervised: 0.0000, acc.: 100.00%] [G loss: 0.000000, acc.: 100.00%]\n",
            "7700 [D loss supervised: 0.0000, acc.: 100.00%] [D loss unsupervised: 0.0000, acc.: 100.00%] [G loss: 0.000000, acc.: 100.00%]\n",
            "7800 [D loss supervised: 0.0000, acc.: 100.00%] [D loss unsupervised: 0.0000, acc.: 100.00%] [G loss: 0.000000, acc.: 100.00%]\n",
            "7900 [D loss supervised: 0.0002, acc.: 100.00%] [D loss unsupervised: 0.0000, acc.: 100.00%] [G loss: 0.000000, acc.: 100.00%]\n",
            "8000 [D loss supervised: 0.0000, acc.: 100.00%] [D loss unsupervised: 0.0000, acc.: 100.00%] [G loss: 0.000000, acc.: 100.00%]\n",
            "Training time: 338.3376s\n"
          ],
          "name": "stdout"
        }
      ]
    },
    {
      "cell_type": "markdown",
      "metadata": {
        "id": "XGFq-SqAauqs",
        "colab_type": "text"
      },
      "source": [
        "## Evaluate"
      ]
    },
    {
      "cell_type": "code",
      "metadata": {
        "id": "e6BmzAGk5IDl",
        "colab_type": "code",
        "outputId": "0d840155-4390-4d97-9cc1-cc787c37bec7",
        "colab": {
          "base_uri": "https://localhost:8080/",
          "height": 53
        }
      },
      "source": [
        "x, y = dataset.training_set()\n",
        "\n",
        "tmodel = build_discriminator_supervised(build_discriminator_net(img_shape))\n",
        "tmodel.compile(loss='categorical_crossentropy',\n",
        "                         metrics=['accuracy'],\n",
        "                         optimizer=Adam())\n",
        "tmodel.load_weights(\"./models/models-label-\" + str(num_labeled) + \"/discriminator_supervised-8000.h5\", by_name=False)\n",
        "\n",
        "# Compute classification accuracy on the training set\n",
        "_, accuracy = tmodel.evaluate(x, y)\n",
        "print(\"Training Accuracy: %.2f%%\" % (100 * accuracy))"
      ],
      "execution_count": 27,
      "outputs": [
        {
          "output_type": "stream",
          "text": [
            "60000/60000 [==============================] - 4s 65us/step\n",
            "Training Accuracy: 95.65%\n"
          ],
          "name": "stdout"
        }
      ]
    },
    {
      "cell_type": "code",
      "metadata": {
        "id": "ctWFp3zX5IDo",
        "colab_type": "code",
        "outputId": "9152034d-62c4-4424-87ab-936ca286d98a",
        "colab": {
          "base_uri": "https://localhost:8080/",
          "height": 53
        }
      },
      "source": [
        "x, y = dataset.test_set()\n",
        "\n",
        "tmodel.load_weights(\"./models/models-label-\" + str(num_labeled) + \"/discriminator_supervised-8000.h5\", by_name=False)\n",
        "\n",
        "# Compute classification accuracy on the test set\n",
        "_, accuracy = tmodel.evaluate(x, y)\n",
        "print(\"Test Accuracy: %.2f%%\" % (100 * accuracy))"
      ],
      "execution_count": 28,
      "outputs": [
        {
          "output_type": "stream",
          "text": [
            "10000/10000 [==============================] - 1s 61us/step\n",
            "Test Accuracy: 95.93%\n"
          ],
          "name": "stdout"
        }
      ]
    },
    {
      "cell_type": "code",
      "metadata": {
        "id": "26ufSfeHfPFb",
        "colab_type": "code",
        "outputId": "d6caa488-0678-45cd-e849-0ed5c68e2687",
        "colab": {
          "base_uri": "https://localhost:8080/",
          "height": 1000
        }
      },
      "source": [
        "accs = []\n",
        "tx = [x for x in range(100,8100,100)]\n",
        "acc_max = [0,0]\n",
        "\n",
        "for e in tx:\n",
        "  tmodel.load_weights(\"./models/models-label-\" + str(num_labeled) + \"/discriminator_supervised-\"+ str(e) +\".h5\", by_name=False)\n",
        "  _, acc = tmodel.evaluate(x, y)\n",
        "  accs.append(acc)\n",
        "print(max(accs))\n",
        "\n",
        "plt.figure(figsize=(15, 5))\n",
        "plt.plot(tx, accs, label=\"accs\", color='blue')\n",
        "plt.xticks(tx, rotation=90)\n",
        "plt.title(\"SCGAN-2D's accs with epoch, num_labeled=%d\" % num_labeled)\n",
        "plt.xlabel(\"epoch\")\n",
        "plt.ylabel(\"accs\")\n",
        "plt.legend()"
      ],
      "execution_count": 29,
      "outputs": [
        {
          "output_type": "stream",
          "text": [
            "10000/10000 [==============================] - 1s 59us/step\n",
            "10000/10000 [==============================] - 1s 62us/step\n",
            "10000/10000 [==============================] - 1s 60us/step\n",
            "10000/10000 [==============================] - 1s 60us/step\n",
            "10000/10000 [==============================] - 1s 59us/step\n",
            "10000/10000 [==============================] - 1s 60us/step\n",
            "10000/10000 [==============================] - 1s 60us/step\n",
            "10000/10000 [==============================] - 1s 59us/step\n",
            "10000/10000 [==============================] - 1s 58us/step\n",
            "10000/10000 [==============================] - 1s 62us/step\n",
            "10000/10000 [==============================] - 1s 59us/step\n",
            "10000/10000 [==============================] - 1s 60us/step\n",
            "10000/10000 [==============================] - 1s 62us/step\n",
            "10000/10000 [==============================] - 1s 61us/step\n",
            "10000/10000 [==============================] - 1s 59us/step\n",
            "10000/10000 [==============================] - 1s 57us/step\n",
            "10000/10000 [==============================] - 1s 61us/step\n",
            "10000/10000 [==============================] - 1s 61us/step\n",
            "10000/10000 [==============================] - 1s 59us/step\n",
            "10000/10000 [==============================] - 1s 59us/step\n",
            "10000/10000 [==============================] - 1s 59us/step\n",
            "10000/10000 [==============================] - 1s 62us/step\n",
            "10000/10000 [==============================] - 1s 61us/step\n",
            "10000/10000 [==============================] - 1s 60us/step\n",
            "10000/10000 [==============================] - 1s 59us/step\n",
            "10000/10000 [==============================] - 1s 61us/step\n",
            "10000/10000 [==============================] - 1s 60us/step\n",
            "10000/10000 [==============================] - 1s 59us/step\n",
            "10000/10000 [==============================] - 1s 57us/step\n",
            "10000/10000 [==============================] - 1s 66us/step\n",
            "10000/10000 [==============================] - 1s 60us/step\n",
            "10000/10000 [==============================] - 1s 59us/step\n",
            "10000/10000 [==============================] - 1s 61us/step\n",
            "10000/10000 [==============================] - 1s 60us/step\n",
            "10000/10000 [==============================] - 1s 60us/step\n",
            "10000/10000 [==============================] - 1s 60us/step\n",
            "10000/10000 [==============================] - 1s 60us/step\n",
            "10000/10000 [==============================] - 1s 61us/step\n",
            "10000/10000 [==============================] - 1s 56us/step\n",
            "10000/10000 [==============================] - 1s 67us/step\n",
            "10000/10000 [==============================] - 1s 61us/step\n",
            "10000/10000 [==============================] - 1s 60us/step\n",
            "10000/10000 [==============================] - 1s 60us/step\n",
            "10000/10000 [==============================] - 1s 57us/step\n",
            "10000/10000 [==============================] - 1s 62us/step\n",
            "10000/10000 [==============================] - 1s 57us/step\n",
            "10000/10000 [==============================] - 1s 60us/step\n",
            "10000/10000 [==============================] - 1s 62us/step\n",
            "10000/10000 [==============================] - 1s 63us/step\n",
            "10000/10000 [==============================] - 1s 59us/step\n",
            "10000/10000 [==============================] - 1s 60us/step\n",
            "10000/10000 [==============================] - 1s 61us/step\n",
            "10000/10000 [==============================] - 1s 61us/step\n",
            "10000/10000 [==============================] - 1s 59us/step\n",
            "10000/10000 [==============================] - 1s 60us/step\n",
            "10000/10000 [==============================] - 1s 59us/step\n",
            "10000/10000 [==============================] - 1s 61us/step\n",
            "10000/10000 [==============================] - 1s 61us/step\n",
            "10000/10000 [==============================] - 1s 61us/step\n",
            "10000/10000 [==============================] - 1s 60us/step\n",
            "10000/10000 [==============================] - 1s 61us/step\n",
            "10000/10000 [==============================] - 1s 65us/step\n",
            "10000/10000 [==============================] - 1s 65us/step\n",
            "10000/10000 [==============================] - 1s 66us/step\n",
            "10000/10000 [==============================] - 1s 62us/step\n",
            "10000/10000 [==============================] - 1s 60us/step\n",
            "10000/10000 [==============================] - 1s 60us/step\n",
            "10000/10000 [==============================] - 1s 61us/step\n",
            "10000/10000 [==============================] - 1s 59us/step\n",
            "10000/10000 [==============================] - 1s 61us/step\n",
            "10000/10000 [==============================] - 1s 60us/step\n",
            "10000/10000 [==============================] - 1s 58us/step\n",
            "10000/10000 [==============================] - 1s 60us/step\n",
            "10000/10000 [==============================] - 1s 58us/step\n",
            "10000/10000 [==============================] - 1s 61us/step\n",
            "10000/10000 [==============================] - 1s 59us/step\n",
            "10000/10000 [==============================] - 1s 59us/step\n",
            "10000/10000 [==============================] - 1s 59us/step\n",
            "10000/10000 [==============================] - 1s 59us/step\n",
            "10000/10000 [==============================] - 1s 57us/step\n",
            "0.9643\n"
          ],
          "name": "stdout"
        },
        {
          "output_type": "execute_result",
          "data": {
            "text/plain": [
              "<matplotlib.legend.Legend at 0x7f216ee58940>"
            ]
          },
          "metadata": {
            "tags": []
          },
          "execution_count": 29
        },
        {
          "output_type": "display_data",
          "data": {
            "image/png": "[encoded data removed]",
            "text/plain": [
              "<Figure size 1080x360 with 1 Axes>"
            ]
          },
          "metadata": {
            "tags": []
          }
        }
      ]
    },
    {
      "cell_type": "code",
      "metadata": {
        "id": "UjFdv2AnfSRD",
        "colab_type": "code",
        "outputId": "44ab8f18-692b-4f18-f246-90ec384cd773",
        "colab": {
          "base_uri": "https://localhost:8080/",
          "height": 383
        }
      },
      "source": [
        "d_supervised_loss = np.array(losses_d_supervised)\n",
        "d_unsupervised_loss = np.array(losses_d_unsupervised)\n",
        "d_unsupervised_real_loss = np.array(losses_d_unsupervised_real)\n",
        "d_unsupervised_fake_loss = np.array(losses_d_unsupervised_fake)\n",
        "d_loss = np.array(losses_d)\n",
        "g_loss = np.array(losses_g)  # Generator unsupervised loss\n",
        "all_loss = np.add(d_loss, g_loss)\n",
        "\n",
        "# Plot Discriminator supervised loss\n",
        "plt.figure(figsize=(15, 5))\n",
        "plt.plot(iteration_checkpoints, d_supervised_loss, label=\"Discriminator supervised loss\", color='blue', linestyle='dashed')\n",
        "plt.plot(iteration_checkpoints, d_unsupervised_loss, label=\"Discriminator unsupervised loss\", color='green', linestyle='dashed')\n",
        "# plt.plot(iteration_checkpoints, d_unsupervised_real_loss, label=\"Discriminator unsupervised real loss\", color='yellow')\n",
        "# plt.plot(iteration_checkpoints, d_unsupervised_fake_loss, label=\"Discriminator unsupervised fake loss\", color='yellow')\n",
        "plt.plot(iteration_checkpoints, g_loss, label=\"Generator unsupervised loss\", color='tab:red', linestyle='dashed')\n",
        "plt.plot(iteration_checkpoints, all_loss, label=\"All losses\", color='black')\n",
        "\n",
        "plt.xticks(iteration_checkpoints, rotation=90)\n",
        "\n",
        "plt.title(\"SCGAN-2D's Discriminator Loss + Generator Loss, num_labeled=%d\" % num_labeled)\n",
        "plt.xlabel(\"Iteration\")\n",
        "plt.ylabel(\"Loss\")\n",
        "plt.legend()"
      ],
      "execution_count": 30,
      "outputs": [
        {
          "output_type": "execute_result",
          "data": {
            "text/plain": [
              "<matplotlib.legend.Legend at 0x7f216ed119e8>"
            ]
          },
          "metadata": {
            "tags": []
          },
          "execution_count": 30
        },
        {
          "output_type": "display_data",
          "data": {
            "image/png": "[encoded data removed]",
            "text/plain": [
              "<Figure size 1080x360 with 1 Axes>"
            ]
          },
          "metadata": {
            "tags": []
          }
        }
      ]
    },
    {
      "cell_type": "markdown",
      "metadata": {
        "id": "T9qmg9zYKf76",
        "colab_type": "text"
      },
      "source": [
        "## Generate pictures"
      ]
    },
    {
      "cell_type": "code",
      "metadata": {
        "id": "d-6-uVF9tNXk",
        "colab_type": "code",
        "outputId": "6a119da2-ebb3-4c92-b798-c2d2a88ee0ae",
        "colab": {
          "base_uri": "https://localhost:8080/",
          "height": 70
        }
      },
      "source": [
        "# gmodel = load_model(\"./models/models-label-\" + str(num_labeled) + \"/generator-7400.h5\")"
      ],
      "execution_count": 0,
      "outputs": [
        {
          "output_type": "stream",
          "text": [
            "/usr/local/lib/python3.6/dist-packages/keras/engine/saving.py:310: UserWarning: No training configuration found in save file: the model was *not* compiled. Compile it manually.\n",
            "  warnings.warn('No training configuration found in save file: '\n"
          ],
          "name": "stderr"
        }
      ]
    },
    {
      "cell_type": "code",
      "metadata": {
        "id": "dO9PYXM4Kixl",
        "colab_type": "code",
        "colab": {}
      },
      "source": [
        "# z = np.random.normal(0, 1, (batch_size, z_dim))\n",
        "# fake_labels = np.random.randint(0, num_classes, batch_size).reshape(-1, 1)\n",
        "# fake_labels = to_categorical(fake_labels, num_classes=num_classes)\n",
        "# gen_imgs = generator.predict([z, fake_labels])\n",
        "\n",
        "def sample_images(image_grid_rows=2, image_grid_columns=5):\n",
        "\n",
        "    # Sample random noise\n",
        "    z = np.random.normal(0, 1, (image_grid_rows * image_grid_columns, z_dim))\n",
        "\n",
        "    # Get image labels 0-9\n",
        "    fake_labels = [0,1,2,3,4,5,6,7,8,9]\n",
        "    fake_labels_category = to_categorical(fake_labels, num_classes=num_classes)\n",
        "\n",
        "    # Generate images from random noise\n",
        "    gen_imgs = generator.predict([z, fake_labels_category])\n",
        "\n",
        "    # Rescale image pixel values to [0, 1]\n",
        "    gen_imgs = 0.5 * gen_imgs + 0.5\n",
        "\n",
        "    # Set image grid\n",
        "    fig, axs = plt.subplots(image_grid_rows,\n",
        "                            image_grid_columns,\n",
        "                            figsize=(10, 4),\n",
        "                            sharey=True,\n",
        "                            sharex=True)\n",
        "\n",
        "    cnt = 0\n",
        "    for i in range(image_grid_rows):\n",
        "        for j in range(image_grid_columns):\n",
        "            # Output a grid of images\n",
        "            axs[i, j].imshow(gen_imgs[cnt, :, :, 0], cmap='gray')\n",
        "            axs[i, j].axis('off')\n",
        "            axs[i, j].set_title(\"Digit: %d\" % fake_labels[cnt])\n",
        "            cnt += 1"
      ],
      "execution_count": 0,
      "outputs": []
    },
    {
      "cell_type": "code",
      "metadata": {
        "id": "Nvid5_gdjLTZ",
        "colab_type": "code",
        "outputId": "8d53219b-b2b2-4511-ae8a-3ebdd4a762cb",
        "colab": {
          "base_uri": "https://localhost:8080/",
          "height": 262
        }
      },
      "source": [
        "sample_images()"
      ],
      "execution_count": 0,
      "outputs": [
        {
          "output_type": "display_data",
          "data": {
            "image/png": "[encoded data removed]",
            "text/plain": [
              "<Figure size 720x288 with 10 Axes>"
            ]
          },
          "metadata": {
            "tags": []
          }
        }
      ]
    },
    {
      "cell_type": "code",
      "metadata": {
        "id": "89jNVTzbxv-q",
        "colab_type": "code",
        "colab": {}
      },
      "source": [
        "def sample_images_with_specified_label(label, image_grid_rows=2, image_grid_columns=5):\n",
        "\n",
        "    # Sample random noise\n",
        "    z = np.random.normal(0, 1, (image_grid_rows * image_grid_columns, z_dim))\n",
        "\n",
        "    # Get image labels 0-9\n",
        "    fake_labels = [label]*10\n",
        "    fake_labels_category = to_categorical(fake_labels, num_classes=num_classes)\n",
        "\n",
        "    # Generate images from random noise\n",
        "    gen_imgs = generator.predict([z, fake_labels_category])\n",
        "\n",
        "    # Rescale image pixel values to [0, 1]\n",
        "    gen_imgs = 0.5 * gen_imgs + 0.5\n",
        "\n",
        "    # Set image grid\n",
        "    fig, axs = plt.subplots(image_grid_rows,\n",
        "                            image_grid_columns,\n",
        "                            figsize=(10, 4),\n",
        "                            sharey=True,\n",
        "                            sharex=True)\n",
        "\n",
        "    cnt = 0\n",
        "    for i in range(image_grid_rows):\n",
        "        for j in range(image_grid_columns):\n",
        "            # Output a grid of images\n",
        "            axs[i, j].imshow(gen_imgs[cnt, :, :, 0], cmap='gray')\n",
        "            axs[i, j].axis('off')\n",
        "            axs[i, j].set_title(\"Digit: %d\" % fake_labels[cnt])\n",
        "            cnt += 1"
      ],
      "execution_count": 0,
      "outputs": []
    },
    {
      "cell_type": "code",
      "metadata": {
        "id": "8iQ_csOGOzNl",
        "colab_type": "code",
        "outputId": "ee563c82-0f36-4018-c3b1-c60d1ec55c19",
        "colab": {
          "base_uri": "https://localhost:8080/",
          "height": 262
        }
      },
      "source": [
        "sample_images_with_specified_label(0)"
      ],
      "execution_count": 0,
      "outputs": [
        {
          "output_type": "display_data",
          "data": {
            "image/png": "[encoded data removed]",
            "text/plain": [
              "<Figure size 720x288 with 10 Axes>"
            ]
          },
          "metadata": {
            "tags": []
          }
        }
      ]
    },
    {
      "cell_type": "markdown",
      "metadata": {
        "id": "VDMoAU1r5IDv",
        "colab_type": "text"
      },
      "source": [
        "# Pseudo Label"
      ]
    },
    {
      "cell_type": "code",
      "metadata": {
        "id": "TA4C3_RL5IDx",
        "colab_type": "code",
        "colab": {}
      },
      "source": [
        "pseudo_model = build_discriminator_supervised(build_discriminator_net(img_shape))\n",
        "pseudo_model.compile(loss='categorical_crossentropy',\n",
        "                         metrics=['accuracy'],\n",
        "                         optimizer=Adam())"
      ],
      "execution_count": 0,
      "outputs": []
    },
    {
      "cell_type": "code",
      "metadata": {
        "id": "-2wx1rAZeCgV",
        "colab_type": "code",
        "colab": {}
      },
      "source": [
        "def pseudo_train(iterations, batch_size, save_interval, alpha_f, t1, t2):\n",
        "\n",
        "    for iteration in range(iterations):\n",
        "\n",
        "        # Get unlabeled examples and pseudo labels\n",
        "        imgs_unlabeled = dataset.batch_unlabeled(batch_size)\n",
        "        pseudo_label = pseudo_model.predict(imgs_unlabeled)\n",
        "\n",
        "        # -------------------------\n",
        "        #  Supervised Training\n",
        "        # -------------------------\n",
        "\n",
        "        # Get labeled examples\n",
        "        imgs_labeled, labels = dataset.batch_labeled(batch_size)\n",
        "\n",
        "        # Train on labeled examples\n",
        "        alpha = 1\n",
        "        loss_labeled, acc_labeled = pseudo_model.train_on_batch(imgs_labeled, labels)\n",
        "\n",
        "        loss_unlabeled = -1\n",
        "        acc_unlabeled = -1\n",
        "\n",
        "        # -------------------------\n",
        "        #  Supervised Training\n",
        "        # -------------------------\n",
        "\n",
        "        # Set alpha\n",
        "        if iteration < t1: alpha = 0\n",
        "        else:\n",
        "            if t1 <= iteration < t2: alpha = (iteration - t1)/(t2 - t1) * alpha_f\n",
        "            else: alpha = alpha_f\n",
        "\n",
        "            # Train on unlabeled examples\n",
        "            loss_unlabeled, acc_unlabeled = pseudo_model.train_on_batch(imgs_unlabeled, pseudo_label)\n",
        "\n",
        "        if (iteration + 1) % save_interval == 0:\n",
        "\n",
        "          # Save losses\n",
        "          losses_pseudo_labeled.append(loss_labeled)\n",
        "          losses_pseudo_unlabeled.append(loss_unlabeled)\n",
        "          losses_pseudo.append(loss_labeled + alpha * loss_unlabeled)\n",
        "          accs_pseudo_labeled.append(acc_labeled)\n",
        "          accs_pseudo_unlabeled.append(acc_unlabeled)\n",
        "          accs_pseudo.append((acc_labeled + alpha*acc_unlabeled)/(1 + alpha))\n",
        "          iteration_checkpoints.append(iteration + 1)\n",
        "\n",
        "          # Output training progress\n",
        "          print(\n",
        "              \"%d [supervised loss: %.4f, acc: %.2f%%] [unsupervised loss: %.4f, acc: %.2f%%]\"\n",
        "              % (iteration + 1, loss_labeled, 100 * acc_labeled, \n",
        "                  loss_unlabeled, 100 * acc_unlabeled))\n",
        "          \n",
        "          pseudo_model.save(\"./models/models-label-\" + str(num_labeled) + \"/pseudo-\" + str(iteration+1) + \".h5\")\n",
        "          file1 = \"./losses/losses-label-\" + str(num_labeled) + \"/p_supervised_losses.json\"\n",
        "          file2 = \"./losses/losses-label-\" + str(num_labeled) + \"/p_unsupervised_losses.json\"\n",
        "          file3 = \"./losses/losses-label-\" + str(num_labeled) + \"/p_losses.json\"\n",
        "          with open(file1, 'w') as json_file:\n",
        "                json.dump(str(losses_pseudo_labeled), json_file)\n",
        "          with open(file2, 'w') as json_file:\n",
        "                json.dump(str(losses_pseudo_unlabeled), json_file)\n",
        "          with open(file3, 'w') as json_file:\n",
        "                json.dump(str(losses_pseudo), json_file)"
      ],
      "execution_count": 0,
      "outputs": []
    },
    {
      "cell_type": "code",
      "metadata": {
        "id": "54YQatDeeKmI",
        "colab_type": "code",
        "outputId": "64ff287e-1041-4e80-ed64-e209ba70485d",
        "colab": {
          "base_uri": "https://localhost:8080/",
          "height": 1000
        }
      },
      "source": [
        "# Set hyperparameters\n",
        "iterations = 8000 # 8000\n",
        "batch_size = 32\n",
        "save_interval = 100\n",
        "alpha_f = 3\n",
        "t1 = 500 #200\n",
        "t2 = 1000 # 600\n",
        "\n",
        "losses_pseudo_labeled = []\n",
        "losses_pseudo_unlabeled = []\n",
        "losses_pseudo = []\n",
        "accs_pseudo_labeled = []\n",
        "accs_pseudo_unlabeled = []\n",
        "accs_pseudo = []\n",
        "iteration_checkpoints = []\n",
        "\n",
        "dataset = Dataset(num_labeled)\n",
        "discriminator_class.trainable = True\n",
        "\n",
        "starttime = time.clock()\n",
        "\n",
        "# Train the SGGAN for the specified number of iterations\n",
        "pseudo_train(iterations, batch_size, save_interval, alpha_f, t1, t2)\n",
        "\n",
        "endtime = time.clock()\n",
        "print(\"Training time: %.4fs\" % (endtime - starttime))"
      ],
      "execution_count": 0,
      "outputs": [
        {
          "output_type": "stream",
          "text": [
            "100 [supervised loss: 0.4110, acc: 93.75%] [unsupervised loss: -1.0000, acc: -100.00%]\n",
            "200 [supervised loss: 0.0904, acc: 96.88%] [unsupervised loss: -1.0000, acc: -100.00%]\n",
            "300 [supervised loss: 0.0430, acc: 100.00%] [unsupervised loss: -1.0000, acc: -100.00%]\n",
            "400 [supervised loss: 0.0401, acc: 100.00%] [unsupervised loss: -1.0000, acc: -100.00%]\n",
            "500 [supervised loss: 0.0285, acc: 100.00%] [unsupervised loss: -1.0000, acc: -100.00%]\n",
            "600 [supervised loss: 0.0708, acc: 96.88%] [unsupervised loss: 0.2341, acc: 90.62%]\n",
            "700 [supervised loss: 0.0638, acc: 100.00%] [unsupervised loss: 0.1348, acc: 93.75%]\n",
            "800 [supervised loss: 0.0409, acc: 100.00%] [unsupervised loss: 0.0492, acc: 100.00%]\n",
            "900 [supervised loss: 0.1363, acc: 93.75%] [unsupervised loss: 0.4162, acc: 87.50%]\n",
            "1000 [supervised loss: 0.0075, acc: 100.00%] [unsupervised loss: 0.2076, acc: 93.75%]\n",
            "1100 [supervised loss: 0.0439, acc: 96.88%] [unsupervised loss: 0.1024, acc: 96.88%]\n",
            "1200 [supervised loss: 0.0064, acc: 100.00%] [unsupervised loss: 0.1449, acc: 93.75%]\n",
            "1300 [supervised loss: 0.0044, acc: 100.00%] [unsupervised loss: 0.1169, acc: 100.00%]\n",
            "1400 [supervised loss: 0.0180, acc: 100.00%] [unsupervised loss: 0.1622, acc: 93.75%]\n",
            "1500 [supervised loss: 0.0076, acc: 100.00%] [unsupervised loss: 0.1132, acc: 100.00%]\n",
            "1600 [supervised loss: 0.0028, acc: 100.00%] [unsupervised loss: 0.1017, acc: 100.00%]\n",
            "1700 [supervised loss: 0.0029, acc: 100.00%] [unsupervised loss: 0.0984, acc: 96.88%]\n",
            "1800 [supervised loss: 0.0131, acc: 100.00%] [unsupervised loss: 0.1193, acc: 96.88%]\n",
            "1900 [supervised loss: 0.0188, acc: 100.00%] [unsupervised loss: 0.1363, acc: 96.88%]\n",
            "2000 [supervised loss: 0.0015, acc: 100.00%] [unsupervised loss: 0.1164, acc: 93.75%]\n",
            "2100 [supervised loss: 0.0030, acc: 100.00%] [unsupervised loss: 0.0630, acc: 100.00%]\n",
            "2200 [supervised loss: 0.0164, acc: 100.00%] [unsupervised loss: 0.0895, acc: 96.88%]\n",
            "2300 [supervised loss: 0.0314, acc: 100.00%] [unsupervised loss: 0.0557, acc: 100.00%]\n",
            "2400 [supervised loss: 0.0130, acc: 100.00%] [unsupervised loss: 0.1591, acc: 100.00%]\n",
            "2500 [supervised loss: 0.0354, acc: 100.00%] [unsupervised loss: 0.1537, acc: 93.75%]\n",
            "2600 [supervised loss: 0.0065, acc: 100.00%] [unsupervised loss: 0.1281, acc: 100.00%]\n",
            "2700 [supervised loss: 0.0167, acc: 100.00%] [unsupervised loss: 0.4225, acc: 81.25%]\n",
            "2800 [supervised loss: 0.0028, acc: 100.00%] [unsupervised loss: 0.1078, acc: 96.88%]\n",
            "2900 [supervised loss: 0.0043, acc: 100.00%] [unsupervised loss: 0.1406, acc: 100.00%]\n",
            "3000 [supervised loss: 0.0084, acc: 100.00%] [unsupervised loss: 0.1188, acc: 93.75%]\n",
            "3100 [supervised loss: 0.0023, acc: 100.00%] [unsupervised loss: 0.1231, acc: 96.88%]\n",
            "3200 [supervised loss: 0.0830, acc: 93.75%] [unsupervised loss: 0.0494, acc: 100.00%]\n",
            "3300 [supervised loss: 0.0033, acc: 100.00%] [unsupervised loss: 0.0728, acc: 100.00%]\n",
            "3400 [supervised loss: 0.0043, acc: 100.00%] [unsupervised loss: 0.1412, acc: 96.88%]\n",
            "3500 [supervised loss: 0.0447, acc: 100.00%] [unsupervised loss: 0.1404, acc: 96.88%]\n",
            "3600 [supervised loss: 0.0147, acc: 100.00%] [unsupervised loss: 0.2154, acc: 96.88%]\n",
            "3700 [supervised loss: 0.0010, acc: 100.00%] [unsupervised loss: 0.1036, acc: 96.88%]\n",
            "3800 [supervised loss: 0.0028, acc: 100.00%] [unsupervised loss: 0.0630, acc: 100.00%]\n",
            "3900 [supervised loss: 0.0074, acc: 100.00%] [unsupervised loss: 0.2047, acc: 93.75%]\n",
            "4000 [supervised loss: 0.0007, acc: 100.00%] [unsupervised loss: 0.0819, acc: 100.00%]\n",
            "4100 [supervised loss: 0.0895, acc: 96.88%] [unsupervised loss: 0.2235, acc: 93.75%]\n",
            "4200 [supervised loss: 0.0038, acc: 100.00%] [unsupervised loss: 0.0701, acc: 100.00%]\n",
            "4300 [supervised loss: 0.0033, acc: 100.00%] [unsupervised loss: 0.1886, acc: 90.62%]\n",
            "4400 [supervised loss: 0.0009, acc: 100.00%] [unsupervised loss: 0.1249, acc: 100.00%]\n",
            "4500 [supervised loss: 0.0135, acc: 100.00%] [unsupervised loss: 0.2132, acc: 90.62%]\n",
            "4600 [supervised loss: 0.0081, acc: 100.00%] [unsupervised loss: 0.1452, acc: 100.00%]\n",
            "4700 [supervised loss: 0.0239, acc: 100.00%] [unsupervised loss: 0.0107, acc: 100.00%]\n",
            "4800 [supervised loss: 0.3458, acc: 93.75%] [unsupervised loss: 0.4093, acc: 84.38%]\n",
            "4900 [supervised loss: 0.0134, acc: 100.00%] [unsupervised loss: 0.0798, acc: 96.88%]\n",
            "5000 [supervised loss: 0.0031, acc: 100.00%] [unsupervised loss: 0.0449, acc: 100.00%]\n",
            "5100 [supervised loss: 0.0218, acc: 100.00%] [unsupervised loss: 0.2366, acc: 93.75%]\n",
            "5200 [supervised loss: 0.0039, acc: 100.00%] [unsupervised loss: 0.0916, acc: 96.88%]\n",
            "5300 [supervised loss: 0.0022, acc: 100.00%] [unsupervised loss: 0.0560, acc: 100.00%]\n",
            "5400 [supervised loss: 0.0344, acc: 96.88%] [unsupervised loss: 0.1641, acc: 93.75%]\n",
            "5500 [supervised loss: 0.0052, acc: 100.00%] [unsupervised loss: 0.0345, acc: 100.00%]\n",
            "5600 [supervised loss: 0.0021, acc: 100.00%] [unsupervised loss: 0.1382, acc: 96.88%]\n",
            "5700 [supervised loss: 0.0026, acc: 100.00%] [unsupervised loss: 0.0710, acc: 100.00%]\n",
            "5800 [supervised loss: 0.0014, acc: 100.00%] [unsupervised loss: 0.0543, acc: 100.00%]\n",
            "5900 [supervised loss: 0.0020, acc: 100.00%] [unsupervised loss: 0.0793, acc: 100.00%]\n",
            "6000 [supervised loss: 0.0011, acc: 100.00%] [unsupervised loss: 0.0910, acc: 96.88%]\n",
            "6100 [supervised loss: 0.0261, acc: 100.00%] [unsupervised loss: 0.3878, acc: 90.62%]\n",
            "6200 [supervised loss: 0.0085, acc: 100.00%] [unsupervised loss: 0.0832, acc: 96.88%]\n",
            "6300 [supervised loss: 0.0227, acc: 100.00%] [unsupervised loss: 0.0408, acc: 100.00%]\n",
            "6400 [supervised loss: 0.0027, acc: 100.00%] [unsupervised loss: 0.1149, acc: 96.88%]\n",
            "6500 [supervised loss: 0.0152, acc: 100.00%] [unsupervised loss: 0.0314, acc: 100.00%]\n",
            "6600 [supervised loss: 0.0603, acc: 96.88%] [unsupervised loss: 0.2348, acc: 90.62%]\n",
            "6700 [supervised loss: 0.0410, acc: 96.88%] [unsupervised loss: 0.1280, acc: 100.00%]\n",
            "6800 [supervised loss: 0.0005, acc: 100.00%] [unsupervised loss: 0.1397, acc: 93.75%]\n",
            "6900 [supervised loss: 0.0097, acc: 100.00%] [unsupervised loss: 0.0987, acc: 96.88%]\n",
            "7000 [supervised loss: 0.0198, acc: 100.00%] [unsupervised loss: 0.1646, acc: 100.00%]\n",
            "7100 [supervised loss: 0.0652, acc: 96.88%] [unsupervised loss: 0.1202, acc: 100.00%]\n",
            "7200 [supervised loss: 0.0052, acc: 100.00%] [unsupervised loss: 0.0927, acc: 100.00%]\n",
            "7300 [supervised loss: 0.0076, acc: 100.00%] [unsupervised loss: 0.0396, acc: 100.00%]\n",
            "7400 [supervised loss: 0.0006, acc: 100.00%] [unsupervised loss: 0.0675, acc: 96.88%]\n",
            "7500 [supervised loss: 0.0050, acc: 100.00%] [unsupervised loss: 0.0715, acc: 96.88%]\n",
            "7600 [supervised loss: 0.0008, acc: 100.00%] [unsupervised loss: 0.1411, acc: 100.00%]\n",
            "7700 [supervised loss: 0.4035, acc: 90.62%] [unsupervised loss: 0.5372, acc: 87.50%]\n",
            "7800 [supervised loss: 0.0228, acc: 100.00%] [unsupervised loss: 0.0791, acc: 100.00%]\n",
            "7900 [supervised loss: 0.0015, acc: 100.00%] [unsupervised loss: 0.1137, acc: 100.00%]\n",
            "8000 [supervised loss: 0.0036, acc: 100.00%] [unsupervised loss: 0.1113, acc: 100.00%]\n",
            "Training time: 179.4946s\n"
          ],
          "name": "stdout"
        }
      ]
    },
    {
      "cell_type": "code",
      "metadata": {
        "id": "9BjcKrQkeOY4",
        "colab_type": "code",
        "outputId": "4a667b3a-7077-47a5-810d-ede4d22d7df7",
        "colab": {
          "base_uri": "https://localhost:8080/",
          "height": 382
        }
      },
      "source": [
        "plot_pseudo_supervised_losses = np.array(losses_pseudo_labeled)\n",
        "plot_pseudo_unsupervised_losses = np.array(losses_pseudo_unlabeled)\n",
        "plot_pseudo_all_losses = np.array(losses_pseudo)\n",
        "\n",
        "# Plot losses\n",
        "plt.figure(figsize=(15, 5))\n",
        "plt.plot(iteration_checkpoints, plot_pseudo_all_losses, label=\"All loss\", color='black')\n",
        "plt.plot(iteration_checkpoints, plot_pseudo_supervised_losses, label=\"Supervised loss\", color='tab:blue', linestyle='dashed')\n",
        "plt.plot(iteration_checkpoints, plot_pseudo_unsupervised_losses, label=\"Unsupervised loss\", color='tab:green', linestyle='dashed')\n",
        "\n",
        "plt.xticks(iteration_checkpoints, rotation=90)\n",
        "\n",
        "plt.title(\"Pseudo Label's Supervised and Unsupervised Loss, num_labeled=%d\" % num_labeled)\n",
        "plt.xlabel(\"Iteration\")\n",
        "plt.ylabel(\"Loss\")\n",
        "plt.legend()"
      ],
      "execution_count": 0,
      "outputs": [
        {
          "output_type": "execute_result",
          "data": {
            "text/plain": [
              "<matplotlib.legend.Legend at 0x7f2c8dc74cf8>"
            ]
          },
          "metadata": {
            "tags": []
          },
          "execution_count": 80
        },
        {
          "output_type": "display_data",
          "data": {
            "image/png": "[encoded data removed]",
            "text/plain": [
              "<Figure size 1080x360 with 1 Axes>"
            ]
          },
          "metadata": {
            "tags": []
          }
        }
      ]
    },
    {
      "cell_type": "code",
      "metadata": {
        "id": "4UkY5xQ-eSyd",
        "colab_type": "code",
        "outputId": "6a04fcc0-4d6f-42b7-bec1-b8ca90cd597b",
        "colab": {
          "base_uri": "https://localhost:8080/",
          "height": 50
        }
      },
      "source": [
        "x, y = dataset.training_set()\n",
        "\n",
        "# tmodel = load_model(\"./models/models-label-\" + str(num_labeled) + \"/pseudo-8000.h5\")\n",
        "tmodel = build_discriminator_supervised(build_discriminator_net(img_shape))\n",
        "tmodel.compile(loss='categorical_crossentropy',\n",
        "                         metrics=['accuracy'],\n",
        "                         optimizer=Adam())\n",
        "tmodel.load_weights(\"./models/models-label-\" + str(num_labeled) + \"/pseudo-8000.h5\", by_name=False)\n",
        "\n",
        "# Compute classification accuracy on the training set\n",
        "_, accuracy = tmodel.evaluate(x, y)\n",
        "print(\"Training Accuracy: %.2f%%\" % (100 * accuracy))"
      ],
      "execution_count": 0,
      "outputs": [
        {
          "output_type": "stream",
          "text": [
            "60000/60000 [==============================] - 6s 103us/step\n",
            "Training Accuracy: 95.85%\n"
          ],
          "name": "stdout"
        }
      ]
    },
    {
      "cell_type": "code",
      "metadata": {
        "id": "gPOso1j-eVDj",
        "colab_type": "code",
        "outputId": "b6e20bd8-7f9a-4fdb-fef6-dc4157138d61",
        "colab": {
          "base_uri": "https://localhost:8080/",
          "height": 50
        }
      },
      "source": [
        "x, y = dataset.test_set()\n",
        "\n",
        "# tmodel = load_model(\"./models/models-label-\" + str(num_labeled) + \"/pseudo-6000.h5\")\n",
        "tmodel.load_weights(\"./models/models-label-\" + str(num_labeled) + \"/pseudo-5900.h5\", by_name=False)\n",
        "\n",
        "_, accuracy = tmodel.evaluate(x, y)\n",
        "print(\"Test Accuracy: %.2f%%\" % (100 * accuracy))"
      ],
      "execution_count": 0,
      "outputs": [
        {
          "output_type": "stream",
          "text": [
            "10000/10000 [==============================] - 1s 82us/step\n",
            "Test Accuracy: 96.04%\n"
          ],
          "name": "stdout"
        }
      ]
    },
    {
      "cell_type": "code",
      "metadata": {
        "id": "3y9o7VimeWr8",
        "colab_type": "code",
        "outputId": "51f1ad6c-99f1-4228-f149-1b34657ef692",
        "colab": {
          "base_uri": "https://localhost:8080/",
          "height": 1000
        }
      },
      "source": [
        "accs = []\n",
        "tx = [x for x in range(100,8100,100)]\n",
        "acc_max = [0,0]\n",
        "\n",
        "for e in tx:\n",
        "  # tmodel = load_model(\"./models/models-label-\" + str(num_labeled) + \"/pseudo-\"+ str(e) +\".h5\")\n",
        "  tmodel.load_weights(\"./models/models-label-\" + str(num_labeled) + \"/pseudo-\"+ str(e) +\".h5\", by_name=False)\n",
        "  _, acc = tmodel.evaluate(x, y)\n",
        "  accs.append(acc)\n",
        "print(max(accs))\n",
        "\n",
        "plt.figure(figsize=(15, 5))\n",
        "plt.plot(tx, accs, label=\"accs\", color='blue')\n",
        "plt.xticks(tx, rotation=90)\n",
        "plt.title(\"Pseudo Label's accs with epoch\")\n",
        "plt.xlabel(\"epoch\")\n",
        "plt.ylabel(\"accs\")\n",
        "plt.legend()"
      ],
      "execution_count": 0,
      "outputs": [
        {
          "output_type": "stream",
          "text": [
            "10000/10000 [==============================] - 1s 81us/step\n",
            "10000/10000 [==============================] - 1s 83us/step\n",
            "10000/10000 [==============================] - 1s 89us/step\n",
            "10000/10000 [==============================] - 1s 91us/step\n",
            "10000/10000 [==============================] - 1s 84us/step\n",
            "10000/10000 [==============================] - 1s 90us/step\n",
            "10000/10000 [==============================] - 1s 86us/step\n",
            "10000/10000 [==============================] - 1s 88us/step\n",
            "10000/10000 [==============================] - 1s 83us/step\n",
            "10000/10000 [==============================] - 1s 91us/step\n",
            "10000/10000 [==============================] - 1s 89us/step\n",
            "10000/10000 [==============================] - 1s 91us/step\n",
            "10000/10000 [==============================] - 1s 99us/step\n",
            "10000/10000 [==============================] - 1s 91us/step\n",
            "10000/10000 [==============================] - 1s 79us/step\n",
            "10000/10000 [==============================] - 1s 77us/step\n",
            "10000/10000 [==============================] - 1s 86us/step\n",
            "10000/10000 [==============================] - 1s 100us/step\n",
            "10000/10000 [==============================] - 1s 86us/step\n",
            "10000/10000 [==============================] - 1s 87us/step\n",
            "10000/10000 [==============================] - 1s 77us/step\n",
            "10000/10000 [==============================] - 1s 79us/step\n",
            "10000/10000 [==============================] - 1s 87us/step\n",
            "10000/10000 [==============================] - 1s 87us/step\n",
            "10000/10000 [==============================] - 1s 86us/step\n",
            "10000/10000 [==============================] - 1s 90us/step\n",
            "10000/10000 [==============================] - 1s 92us/step\n",
            "10000/10000 [==============================] - 1s 101us/step\n",
            "10000/10000 [==============================] - 1s 95us/step\n",
            "10000/10000 [==============================] - 1s 80us/step\n",
            "10000/10000 [==============================] - 1s 83us/step\n",
            "10000/10000 [==============================] - 1s 78us/step\n",
            "10000/10000 [==============================] - 1s 86us/step\n",
            "10000/10000 [==============================] - 1s 85us/step\n",
            "10000/10000 [==============================] - 1s 76us/step\n",
            "10000/10000 [==============================] - 1s 87us/step\n",
            "10000/10000 [==============================] - 1s 87us/step\n",
            "10000/10000 [==============================] - 1s 81us/step\n",
            "10000/10000 [==============================] - 1s 83us/step\n",
            "10000/10000 [==============================] - 1s 90us/step\n",
            "10000/10000 [==============================] - 1s 80us/step\n",
            "10000/10000 [==============================] - 1s 91us/step\n",
            "10000/10000 [==============================] - 1s 79us/step\n",
            "10000/10000 [==============================] - 1s 91us/step\n",
            "10000/10000 [==============================] - 1s 88us/step\n",
            "10000/10000 [==============================] - 1s 85us/step\n",
            "10000/10000 [==============================] - 1s 84us/step\n",
            "10000/10000 [==============================] - 1s 87us/step\n",
            "10000/10000 [==============================] - 1s 83us/step\n",
            "10000/10000 [==============================] - 1s 78us/step\n",
            "10000/10000 [==============================] - 1s 82us/step\n",
            "10000/10000 [==============================] - 1s 79us/step\n",
            "10000/10000 [==============================] - 1s 83us/step\n",
            "10000/10000 [==============================] - 1s 80us/step\n",
            "10000/10000 [==============================] - 1s 85us/step\n",
            "10000/10000 [==============================] - 1s 82us/step\n",
            "10000/10000 [==============================] - 1s 84us/step\n",
            "10000/10000 [==============================] - 1s 83us/step\n",
            "10000/10000 [==============================] - 1s 84us/step\n",
            "10000/10000 [==============================] - 1s 85us/step\n",
            "10000/10000 [==============================] - 1s 82us/step\n",
            "10000/10000 [==============================] - 1s 86us/step\n",
            "10000/10000 [==============================] - 1s 82us/step\n",
            "10000/10000 [==============================] - 1s 81us/step\n",
            "10000/10000 [==============================] - 1s 88us/step\n",
            "10000/10000 [==============================] - 1s 90us/step\n",
            "10000/10000 [==============================] - 1s 80us/step\n",
            "10000/10000 [==============================] - 1s 81us/step\n",
            "10000/10000 [==============================] - 1s 89us/step\n",
            "10000/10000 [==============================] - 1s 87us/step\n",
            "10000/10000 [==============================] - 1s 82us/step\n",
            "10000/10000 [==============================] - 1s 86us/step\n",
            "10000/10000 [==============================] - 1s 79us/step\n",
            "10000/10000 [==============================] - 1s 81us/step\n",
            "10000/10000 [==============================] - 1s 85us/step\n",
            "10000/10000 [==============================] - 1s 79us/step\n",
            "10000/10000 [==============================] - 1s 88us/step\n",
            "10000/10000 [==============================] - 1s 90us/step\n",
            "10000/10000 [==============================] - 1s 91us/step\n",
            "10000/10000 [==============================] - 1s 88us/step\n",
            "0.9668\n"
          ],
          "name": "stdout"
        },
        {
          "output_type": "execute_result",
          "data": {
            "text/plain": [
              "<matplotlib.legend.Legend at 0x7f2c8db70908>"
            ]
          },
          "metadata": {
            "tags": []
          },
          "execution_count": 83
        },
        {
          "output_type": "display_data",
          "data": {
            "image/png": "[encoded data removed]",
            "text/plain": [
              "<Figure size 1080x360 with 1 Axes>"
            ]
          },
          "metadata": {
            "tags": []
          }
        }
      ]
    },
    {
      "cell_type": "code",
      "metadata": {
        "id": "irVrxB8MeZWJ",
        "colab_type": "code",
        "outputId": "1801c839-ea78-4e35-99ac-c0e1d46bd811",
        "colab": {
          "base_uri": "https://localhost:8080/",
          "height": 1000
        }
      },
      "source": [
        "for acc in accs:\n",
        "  print(acc)"
      ],
      "execution_count": 0,
      "outputs": [
        {
          "output_type": "stream",
          "text": [
            "0.9562\n",
            "0.9245\n",
            "0.9482\n",
            "0.9531\n",
            "0.9487\n",
            "0.9533\n",
            "0.9543\n",
            "0.9567\n",
            "0.9552\n",
            "0.9569\n",
            "0.9527\n",
            "0.9556\n",
            "0.9572\n",
            "0.9576\n",
            "0.9569\n",
            "0.9572\n",
            "0.9559\n",
            "0.9565\n",
            "0.9522\n",
            "0.9574\n",
            "0.9593\n",
            "0.9484\n",
            "0.9522\n",
            "0.9543\n",
            "0.9551\n",
            "0.9545\n",
            "0.9553\n",
            "0.9534\n",
            "0.9514\n",
            "0.9574\n",
            "0.9562\n",
            "0.9556\n",
            "0.9533\n",
            "0.9596\n",
            "0.9604\n",
            "0.9572\n",
            "0.9362\n",
            "0.9547\n",
            "0.9565\n",
            "0.9539\n",
            "0.9544\n",
            "0.955\n",
            "0.9558\n",
            "0.9585\n",
            "0.9578\n",
            "0.9561\n",
            "0.9531\n",
            "0.9578\n",
            "0.9529\n",
            "0.958\n",
            "0.9504\n",
            "0.9576\n",
            "0.9479\n",
            "0.9582\n",
            "0.9558\n",
            "0.9567\n",
            "0.9487\n",
            "0.9465\n",
            "0.95\n",
            "0.9575\n",
            "0.9545\n",
            "0.9582\n",
            "0.9598\n",
            "0.9564\n",
            "0.9579\n",
            "0.9599\n",
            "0.9604\n",
            "0.9604\n",
            "0.958\n",
            "0.9564\n",
            "0.9533\n",
            "0.9551\n",
            "0.9542\n",
            "0.9609\n",
            "0.9499\n",
            "0.9573\n",
            "0.9592\n",
            "0.9582\n",
            "0.9506\n",
            "0.9571\n"
          ],
          "name": "stdout"
        }
      ]
    },
    {
      "cell_type": "markdown",
      "metadata": {
        "id": "-Phvrs_CebOE",
        "colab_type": "text"
      },
      "source": [
        "# Mean Teacher"
      ]
    },
    {
      "cell_type": "code",
      "metadata": {
        "id": "kfTeOMbJefQq",
        "colab_type": "code",
        "colab": {}
      },
      "source": [
        "student = build_discriminator_supervised(build_discriminator_net(img_shape))\n",
        "teacher = build_discriminator_supervised(build_discriminator_net(img_shape))\n",
        "student.compile(loss='categorical_crossentropy', \n",
        "                metrics=['accuracy'], \n",
        "                optimizer=Adam())\n",
        "teacher.compile(loss='categorical_crossentropy', \n",
        "                metrics=['accuracy'], \n",
        "                optimizer=Adam())"
      ],
      "execution_count": 0,
      "outputs": []
    },
    {
      "cell_type": "code",
      "metadata": {
        "id": "YS74i2xWekNS",
        "colab_type": "code",
        "colab": {}
      },
      "source": [
        "def mean_teacher_train(iterations, batch_size, save_interval, alpha):\n",
        "\n",
        "    for iteration in range(iterations):\n",
        "\n",
        "        # -------------------------\n",
        "        #  Train the model\n",
        "        # -------------------------\n",
        "\n",
        "        # Get labeled examples\n",
        "        imgs_labeled, labels = dataset.batch_labeled(batch_size)\n",
        "\n",
        "        # Get unlabeled examples\n",
        "        imgs_unlabeled = dataset.batch_unlabeled(batch_size)\n",
        "\n",
        "        # Train on labeled examples\n",
        "        loss_labeled_classification, acc_labeled_classification = student.train_on_batch(imgs_labeled, labels)\n",
        "        pred_teacher_labeled = teacher.predict(imgs_labeled)\n",
        "        loss_labeled_consistency, acc_labeled_consistency = student.train_on_batch(imgs_labeled, pred_teacher_labeled)\n",
        "\n",
        "        # Train on unlabeled examples\n",
        "        pred_teacher_unlabeled = teacher.predict(imgs_unlabeled)\n",
        "        loss_unlabeled_consistency, acc_unlabeled_consistency = student.train_on_batch(imgs_unlabeled, pred_teacher_unlabeled)\n",
        "\n",
        "        # Update teacher model\n",
        "        teacher_weights_this = teacher.get_weights()\n",
        "        student_weights_this = student.get_weights()\n",
        "        for i in range(len(teacher_weights_this)):\n",
        "          teacher_weights_this[i] = alpha * teacher_weights_this[i] + (1-alpha) * student_weights_this[i]\n",
        "        # teacher_weights_this = alpha * teacher_weights_this + (1-alpha) * student_weights_this\n",
        "        teacher_weights_last = teacher_weights_this\n",
        "        teacher.set_weights(teacher_weights_this)\n",
        "\n",
        "        if (iteration + 1) % save_interval == 0:\n",
        "\n",
        "          # Save losses\n",
        "          supervised_losses.append(loss_labeled_classification)\n",
        "          unsupervised_losses.append(loss_labeled_consistency + loss_unlabeled_consistency)\n",
        "          labeled_consistency_costs.append(loss_labeled_consistency)\n",
        "          unlabeled_consistency_costs.append(loss_unlabeled_consistency)\n",
        "          accs_supervised.append(acc_labeled_classification)\n",
        "          accs_unsupervised.append((acc_labeled_consistency + acc_unlabeled_consistency)/2.0)\n",
        "          accs_labeled_consistency.append(acc_labeled_consistency)\n",
        "          accs_unlabeled_consistency.append(acc_unlabeled_consistency)\n",
        "\n",
        "          iteration_checkpoints.append(iteration + 1)\n",
        "\n",
        "          # Output training progress\n",
        "          print(\n",
        "              \"%d [supervised loss: %.4f, acc: %.2f%%] [unsupervised loss: %.4f, acc: %.2f%%] [labeled consistency loss: %.4f, acc:acc: %.2f%%] [unlabeled consistency loss: %.4f, acc: %.2f%%]\"\n",
        "              % (iteration + 1, loss_labeled_classification, 100 * acc_labeled_classification, \n",
        "                 loss_labeled_consistency + loss_unlabeled_consistency, 100 * ((acc_labeled_consistency + acc_unlabeled_consistency)/2.0), \n",
        "                 loss_labeled_consistency, 100 * acc_labeled_consistency, \n",
        "                  loss_unlabeled_consistency, 100 * acc_unlabeled_consistency))\n",
        "          \n",
        "          student.save(\"./models/models-label-\" + str(num_labeled) + \"/student-\" + str(iteration+1) + \".h5\")\n",
        "          teacher.save(\"./models/models-label-\" + str(num_labeled) + \"/teacher-\" + str(iteration+1) + \".h5\")\n",
        "          file1 = \"./losses/losses-label-\" + str(num_labeled) + \"/mt_supervised_losses.json\"\n",
        "          file2 = \"./losses/losses-label-\" + str(num_labeled) + \"/mt_unsupervised_losses.json\"\n",
        "          file3 = \"./losses/losses-label-\" + str(num_labeled) + \"/mt_labeled_consistency_costs.json\"\n",
        "          file4 = \"./losses/losses-label-\" + str(num_labeled) + \"/mt_unlabeled_consistency_costs.json\"\n",
        "          with open(file1, 'w') as json_file:\n",
        "                json.dump(str(supervised_losses), json_file)\n",
        "          with open(file2, 'w') as json_file:\n",
        "                json.dump(str(unsupervised_losses), json_file)\n",
        "          with open(file3, 'w') as json_file:\n",
        "                json.dump(str(labeled_consistency_costs), json_file)\n",
        "          with open(file4, 'w') as json_file:\n",
        "                json.dump(str(unlabeled_consistency_costs), json_file)"
      ],
      "execution_count": 0,
      "outputs": []
    },
    {
      "cell_type": "code",
      "metadata": {
        "id": "B-4nxxLjemId",
        "colab_type": "code",
        "outputId": "e2dccec3-c50f-4a36-94b9-77d742c86ec9",
        "colab": {
          "base_uri": "https://localhost:8080/",
          "height": 1000
        }
      },
      "source": [
        "# Set hyperparameters\n",
        "iterations = 8000 # 8000\n",
        "batch_size = 32\n",
        "save_interval = 100\n",
        "alpha = 0.5\n",
        "\n",
        "supervised_losses = [] # classification cost\n",
        "unsupervised_losses = [] # consistency cost\n",
        "labeled_consistency_costs = []\n",
        "unlabeled_consistency_costs = []\n",
        "accs_supervised = []\n",
        "accs_unsupervised = []\n",
        "accs_labeled_consistency = []\n",
        "accs_unlabeled_consistency = []\n",
        "iteration_checkpoints = []\n",
        "\n",
        "dataset = Dataset(num_labeled)\n",
        "discriminator_class.trainable = True\n",
        "\n",
        "starttime = time.clock()\n",
        "\n",
        "# Train the mean teacher for the specified number of iterations\n",
        "mean_teacher_train(iterations, batch_size, save_interval, alpha)\n",
        "\n",
        "endtime = time.clock()\n",
        "print(\"Training time: %.4fs\" % (endtime - starttime))"
      ],
      "execution_count": 0,
      "outputs": [
        {
          "output_type": "stream",
          "text": [
            "100 [supervised loss: 0.0538, acc: 100.00%] [unsupervised loss: 0.6752, acc: 93.75%] [labeled consistency loss: 0.1867, acc:acc: 100.00%] [unlabeled consistency loss: 0.4885, acc: 87.50%]\n",
            "200 [supervised loss: 0.5638, acc: 87.50%] [unsupervised loss: 0.8081, acc: 92.19%] [labeled consistency loss: 0.4923, acc:acc: 90.62%] [unlabeled consistency loss: 0.3158, acc: 93.75%]\n",
            "300 [supervised loss: 0.0542, acc: 96.88%] [unsupervised loss: 0.3811, acc: 93.75%] [labeled consistency loss: 0.1144, acc:acc: 100.00%] [unlabeled consistency loss: 0.2667, acc: 87.50%]\n",
            "400 [supervised loss: 0.0389, acc: 100.00%] [unsupervised loss: 0.2144, acc: 100.00%] [labeled consistency loss: 0.1075, acc:acc: 100.00%] [unlabeled consistency loss: 0.1069, acc: 100.00%]\n",
            "500 [supervised loss: 0.0317, acc: 100.00%] [unsupervised loss: 0.3266, acc: 96.88%] [labeled consistency loss: 0.0568, acc:acc: 100.00%] [unlabeled consistency loss: 0.2698, acc: 93.75%]\n",
            "600 [supervised loss: 0.2984, acc: 90.62%] [unsupervised loss: 0.6764, acc: 95.31%] [labeled consistency loss: 0.2136, acc:acc: 96.88%] [unlabeled consistency loss: 0.4627, acc: 93.75%]\n",
            "700 [supervised loss: 0.0261, acc: 100.00%] [unsupervised loss: 0.2301, acc: 98.44%] [labeled consistency loss: 0.0498, acc:acc: 100.00%] [unlabeled consistency loss: 0.1803, acc: 96.88%]\n",
            "800 [supervised loss: 0.0099, acc: 100.00%] [unsupervised loss: 0.1544, acc: 98.44%] [labeled consistency loss: 0.0448, acc:acc: 100.00%] [unlabeled consistency loss: 0.1096, acc: 96.88%]\n",
            "900 [supervised loss: 0.0212, acc: 100.00%] [unsupervised loss: 0.2705, acc: 98.44%] [labeled consistency loss: 0.0537, acc:acc: 100.00%] [unlabeled consistency loss: 0.2167, acc: 96.88%]\n",
            "1000 [supervised loss: 0.0062, acc: 100.00%] [unsupervised loss: 0.2514, acc: 98.44%] [labeled consistency loss: 0.0219, acc:acc: 100.00%] [unlabeled consistency loss: 0.2295, acc: 96.88%]\n",
            "1100 [supervised loss: 0.0272, acc: 100.00%] [unsupervised loss: 0.2645, acc: 98.44%] [labeled consistency loss: 0.0900, acc:acc: 100.00%] [unlabeled consistency loss: 0.1745, acc: 96.88%]\n",
            "1200 [supervised loss: 0.0120, acc: 100.00%] [unsupervised loss: 0.2884, acc: 96.88%] [labeled consistency loss: 0.0322, acc:acc: 100.00%] [unlabeled consistency loss: 0.2562, acc: 93.75%]\n",
            "1300 [supervised loss: 0.0291, acc: 100.00%] [unsupervised loss: 0.1870, acc: 98.44%] [labeled consistency loss: 0.0988, acc:acc: 96.88%] [unlabeled consistency loss: 0.0882, acc: 100.00%]\n",
            "1400 [supervised loss: 0.0269, acc: 100.00%] [unsupervised loss: 0.1218, acc: 96.88%] [labeled consistency loss: 0.0447, acc:acc: 96.88%] [unlabeled consistency loss: 0.0771, acc: 96.88%]\n",
            "1500 [supervised loss: 0.0740, acc: 96.88%] [unsupervised loss: 0.3123, acc: 98.44%] [labeled consistency loss: 0.1401, acc:acc: 96.88%] [unlabeled consistency loss: 0.1722, acc: 100.00%]\n",
            "1600 [supervised loss: 0.0059, acc: 100.00%] [unsupervised loss: 0.1134, acc: 100.00%] [labeled consistency loss: 0.0478, acc:acc: 100.00%] [unlabeled consistency loss: 0.0656, acc: 100.00%]\n",
            "1700 [supervised loss: 0.0845, acc: 96.88%] [unsupervised loss: 0.1494, acc: 98.44%] [labeled consistency loss: 0.0513, acc:acc: 100.00%] [unlabeled consistency loss: 0.0980, acc: 96.88%]\n",
            "1800 [supervised loss: 0.5461, acc: 68.75%] [unsupervised loss: 1.0053, acc: 87.50%] [labeled consistency loss: 0.5575, acc:acc: 81.25%] [unlabeled consistency loss: 0.4478, acc: 93.75%]\n",
            "1900 [supervised loss: 0.0013, acc: 100.00%] [unsupervised loss: 0.0911, acc: 100.00%] [labeled consistency loss: 0.0180, acc:acc: 100.00%] [unlabeled consistency loss: 0.0731, acc: 100.00%]\n",
            "2000 [supervised loss: 0.2900, acc: 90.62%] [unsupervised loss: 0.9293, acc: 85.94%] [labeled consistency loss: 0.5187, acc:acc: 87.50%] [unlabeled consistency loss: 0.4106, acc: 84.38%]\n",
            "2100 [supervised loss: 0.0217, acc: 100.00%] [unsupervised loss: 0.1855, acc: 98.44%] [labeled consistency loss: 0.0627, acc:acc: 100.00%] [unlabeled consistency loss: 0.1228, acc: 96.88%]\n",
            "2200 [supervised loss: 0.0068, acc: 100.00%] [unsupervised loss: 0.2379, acc: 98.44%] [labeled consistency loss: 0.0295, acc:acc: 100.00%] [unlabeled consistency loss: 0.2084, acc: 96.88%]\n",
            "2300 [supervised loss: 0.0011, acc: 100.00%] [unsupervised loss: 0.1211, acc: 98.44%] [labeled consistency loss: 0.0132, acc:acc: 100.00%] [unlabeled consistency loss: 0.1079, acc: 96.88%]\n",
            "2400 [supervised loss: 0.0029, acc: 100.00%] [unsupervised loss: 0.1119, acc: 100.00%] [labeled consistency loss: 0.0221, acc:acc: 100.00%] [unlabeled consistency loss: 0.0898, acc: 100.00%]\n",
            "2500 [supervised loss: 0.0545, acc: 100.00%] [unsupervised loss: 0.1675, acc: 100.00%] [labeled consistency loss: 0.0783, acc:acc: 100.00%] [unlabeled consistency loss: 0.0893, acc: 100.00%]\n",
            "2600 [supervised loss: 0.0056, acc: 100.00%] [unsupervised loss: 0.1922, acc: 98.44%] [labeled consistency loss: 0.0317, acc:acc: 100.00%] [unlabeled consistency loss: 0.1605, acc: 96.88%]\n",
            "2700 [supervised loss: 0.0064, acc: 100.00%] [unsupervised loss: 0.0672, acc: 98.44%] [labeled consistency loss: 0.0258, acc:acc: 100.00%] [unlabeled consistency loss: 0.0414, acc: 96.88%]\n",
            "2800 [supervised loss: 0.0025, acc: 100.00%] [unsupervised loss: 0.1798, acc: 98.44%] [labeled consistency loss: 0.0098, acc:acc: 100.00%] [unlabeled consistency loss: 0.1700, acc: 96.88%]\n",
            "2900 [supervised loss: 0.0109, acc: 100.00%] [unsupervised loss: 0.1911, acc: 96.88%] [labeled consistency loss: 0.0281, acc:acc: 100.00%] [unlabeled consistency loss: 0.1630, acc: 93.75%]\n",
            "3000 [supervised loss: 0.0222, acc: 100.00%] [unsupervised loss: 0.3894, acc: 95.31%] [labeled consistency loss: 0.1215, acc:acc: 100.00%] [unlabeled consistency loss: 0.2679, acc: 90.62%]\n",
            "3100 [supervised loss: 0.0033, acc: 100.00%] [unsupervised loss: 0.1654, acc: 96.88%] [labeled consistency loss: 0.0275, acc:acc: 100.00%] [unlabeled consistency loss: 0.1379, acc: 93.75%]\n",
            "3200 [supervised loss: 0.0351, acc: 100.00%] [unsupervised loss: 0.3891, acc: 98.44%] [labeled consistency loss: 0.1374, acc:acc: 100.00%] [unlabeled consistency loss: 0.2518, acc: 96.88%]\n",
            "3300 [supervised loss: 0.0015, acc: 100.00%] [unsupervised loss: 0.0829, acc: 98.44%] [labeled consistency loss: 0.0115, acc:acc: 100.00%] [unlabeled consistency loss: 0.0714, acc: 96.88%]\n",
            "3400 [supervised loss: 0.0037, acc: 100.00%] [unsupervised loss: 0.0728, acc: 100.00%] [labeled consistency loss: 0.0133, acc:acc: 100.00%] [unlabeled consistency loss: 0.0595, acc: 100.00%]\n",
            "3500 [supervised loss: 0.0274, acc: 100.00%] [unsupervised loss: 0.2873, acc: 100.00%] [labeled consistency loss: 0.1156, acc:acc: 100.00%] [unlabeled consistency loss: 0.1717, acc: 100.00%]\n",
            "3600 [supervised loss: 0.0081, acc: 100.00%] [unsupervised loss: 0.2213, acc: 96.88%] [labeled consistency loss: 0.0259, acc:acc: 100.00%] [unlabeled consistency loss: 0.1954, acc: 93.75%]\n",
            "3700 [supervised loss: 0.0071, acc: 100.00%] [unsupervised loss: 0.3539, acc: 96.88%] [labeled consistency loss: 0.0239, acc:acc: 100.00%] [unlabeled consistency loss: 0.3300, acc: 93.75%]\n",
            "3800 [supervised loss: 0.0038, acc: 100.00%] [unsupervised loss: 0.1315, acc: 98.44%] [labeled consistency loss: 0.0117, acc:acc: 100.00%] [unlabeled consistency loss: 0.1198, acc: 96.88%]\n",
            "3900 [supervised loss: 0.0096, acc: 100.00%] [unsupervised loss: 0.1793, acc: 96.88%] [labeled consistency loss: 0.0393, acc:acc: 96.88%] [unlabeled consistency loss: 0.1400, acc: 96.88%]\n",
            "4000 [supervised loss: 0.0029, acc: 100.00%] [unsupervised loss: 0.1220, acc: 100.00%] [labeled consistency loss: 0.0205, acc:acc: 100.00%] [unlabeled consistency loss: 0.1015, acc: 100.00%]\n",
            "4100 [supervised loss: 0.0032, acc: 100.00%] [unsupervised loss: 0.1350, acc: 96.88%] [labeled consistency loss: 0.0127, acc:acc: 100.00%] [unlabeled consistency loss: 0.1223, acc: 93.75%]\n",
            "4200 [supervised loss: 0.0028, acc: 100.00%] [unsupervised loss: 0.1167, acc: 100.00%] [labeled consistency loss: 0.0076, acc:acc: 100.00%] [unlabeled consistency loss: 0.1091, acc: 100.00%]\n",
            "4300 [supervised loss: 0.0015, acc: 100.00%] [unsupervised loss: 0.1139, acc: 98.44%] [labeled consistency loss: 0.0056, acc:acc: 100.00%] [unlabeled consistency loss: 0.1083, acc: 96.88%]\n",
            "4400 [supervised loss: 0.0012, acc: 100.00%] [unsupervised loss: 0.0749, acc: 100.00%] [labeled consistency loss: 0.0058, acc:acc: 100.00%] [unlabeled consistency loss: 0.0691, acc: 100.00%]\n",
            "4500 [supervised loss: 0.0005, acc: 100.00%] [unsupervised loss: 0.0326, acc: 100.00%] [labeled consistency loss: 0.0020, acc:acc: 100.00%] [unlabeled consistency loss: 0.0306, acc: 100.00%]\n",
            "4600 [supervised loss: 0.0010, acc: 100.00%] [unsupervised loss: 0.0838, acc: 96.88%] [labeled consistency loss: 0.0128, acc:acc: 100.00%] [unlabeled consistency loss: 0.0709, acc: 93.75%]\n",
            "4700 [supervised loss: 0.0143, acc: 100.00%] [unsupervised loss: 0.1149, acc: 100.00%] [labeled consistency loss: 0.0507, acc:acc: 100.00%] [unlabeled consistency loss: 0.0641, acc: 100.00%]\n",
            "4800 [supervised loss: 0.0092, acc: 100.00%] [unsupervised loss: 0.0792, acc: 100.00%] [labeled consistency loss: 0.0453, acc:acc: 100.00%] [unlabeled consistency loss: 0.0339, acc: 100.00%]\n",
            "4900 [supervised loss: 0.0022, acc: 100.00%] [unsupervised loss: 0.0692, acc: 98.44%] [labeled consistency loss: 0.0105, acc:acc: 100.00%] [unlabeled consistency loss: 0.0587, acc: 96.88%]\n",
            "5000 [supervised loss: 0.0153, acc: 100.00%] [unsupervised loss: 0.2276, acc: 100.00%] [labeled consistency loss: 0.0269, acc:acc: 100.00%] [unlabeled consistency loss: 0.2007, acc: 100.00%]\n",
            "5100 [supervised loss: 0.0024, acc: 100.00%] [unsupervised loss: 0.1984, acc: 100.00%] [labeled consistency loss: 0.0152, acc:acc: 100.00%] [unlabeled consistency loss: 0.1832, acc: 100.00%]\n",
            "5200 [supervised loss: 0.0006, acc: 100.00%] [unsupervised loss: 0.0543, acc: 100.00%] [labeled consistency loss: 0.0059, acc:acc: 100.00%] [unlabeled consistency loss: 0.0483, acc: 100.00%]\n",
            "5300 [supervised loss: 0.0015, acc: 100.00%] [unsupervised loss: 0.0951, acc: 100.00%] [labeled consistency loss: 0.0158, acc:acc: 100.00%] [unlabeled consistency loss: 0.0793, acc: 100.00%]\n",
            "5400 [supervised loss: 0.0074, acc: 100.00%] [unsupervised loss: 0.0963, acc: 98.44%] [labeled consistency loss: 0.0260, acc:acc: 100.00%] [unlabeled consistency loss: 0.0703, acc: 96.88%]\n",
            "5500 [supervised loss: 0.0023, acc: 100.00%] [unsupervised loss: 0.0961, acc: 100.00%] [labeled consistency loss: 0.0143, acc:acc: 100.00%] [unlabeled consistency loss: 0.0817, acc: 100.00%]\n",
            "5600 [supervised loss: 0.0013, acc: 100.00%] [unsupervised loss: 0.1585, acc: 100.00%] [labeled consistency loss: 0.0048, acc:acc: 100.00%] [unlabeled consistency loss: 0.1537, acc: 100.00%]\n",
            "5700 [supervised loss: 0.0130, acc: 100.00%] [unsupervised loss: 0.2424, acc: 95.31%] [labeled consistency loss: 0.0802, acc:acc: 96.88%] [unlabeled consistency loss: 0.1623, acc: 93.75%]\n",
            "5800 [supervised loss: 0.0112, acc: 100.00%] [unsupervised loss: 0.2089, acc: 96.88%] [labeled consistency loss: 0.0335, acc:acc: 100.00%] [unlabeled consistency loss: 0.1754, acc: 93.75%]\n",
            "5900 [supervised loss: 0.0050, acc: 100.00%] [unsupervised loss: 0.2316, acc: 98.44%] [labeled consistency loss: 0.0362, acc:acc: 100.00%] [unlabeled consistency loss: 0.1955, acc: 96.88%]\n",
            "6000 [supervised loss: 0.0036, acc: 100.00%] [unsupervised loss: 0.0906, acc: 98.44%] [labeled consistency loss: 0.0240, acc:acc: 100.00%] [unlabeled consistency loss: 0.0666, acc: 96.88%]\n",
            "6100 [supervised loss: 0.0033, acc: 100.00%] [unsupervised loss: 0.1558, acc: 100.00%] [labeled consistency loss: 0.0135, acc:acc: 100.00%] [unlabeled consistency loss: 0.1423, acc: 100.00%]\n",
            "6200 [supervised loss: 0.0026, acc: 100.00%] [unsupervised loss: 0.1277, acc: 95.31%] [labeled consistency loss: 0.0110, acc:acc: 100.00%] [unlabeled consistency loss: 0.1167, acc: 90.62%]\n",
            "6300 [supervised loss: 0.0043, acc: 100.00%] [unsupervised loss: 0.0762, acc: 100.00%] [labeled consistency loss: 0.0112, acc:acc: 100.00%] [unlabeled consistency loss: 0.0650, acc: 100.00%]\n",
            "6400 [supervised loss: 0.0008, acc: 100.00%] [unsupervised loss: 0.0736, acc: 100.00%] [labeled consistency loss: 0.0080, acc:acc: 100.00%] [unlabeled consistency loss: 0.0657, acc: 100.00%]\n",
            "6500 [supervised loss: 0.0002, acc: 100.00%] [unsupervised loss: 0.0787, acc: 100.00%] [labeled consistency loss: 0.0034, acc:acc: 100.00%] [unlabeled consistency loss: 0.0753, acc: 100.00%]\n",
            "6600 [supervised loss: 0.0009, acc: 100.00%] [unsupervised loss: 0.0668, acc: 100.00%] [labeled consistency loss: 0.0052, acc:acc: 100.00%] [unlabeled consistency loss: 0.0616, acc: 100.00%]\n",
            "6700 [supervised loss: 0.0072, acc: 100.00%] [unsupervised loss: 0.1101, acc: 98.44%] [labeled consistency loss: 0.0228, acc:acc: 100.00%] [unlabeled consistency loss: 0.0873, acc: 96.88%]\n",
            "6800 [supervised loss: 0.0073, acc: 100.00%] [unsupervised loss: 0.1651, acc: 98.44%] [labeled consistency loss: 0.0315, acc:acc: 100.00%] [unlabeled consistency loss: 0.1336, acc: 96.88%]\n",
            "6900 [supervised loss: 0.0077, acc: 100.00%] [unsupervised loss: 0.1009, acc: 100.00%] [labeled consistency loss: 0.0202, acc:acc: 100.00%] [unlabeled consistency loss: 0.0807, acc: 100.00%]\n",
            "7000 [supervised loss: 0.0005, acc: 100.00%] [unsupervised loss: 0.0773, acc: 100.00%] [labeled consistency loss: 0.0015, acc:acc: 100.00%] [unlabeled consistency loss: 0.0758, acc: 100.00%]\n",
            "7100 [supervised loss: 0.0023, acc: 100.00%] [unsupervised loss: 0.0433, acc: 100.00%] [labeled consistency loss: 0.0101, acc:acc: 100.00%] [unlabeled consistency loss: 0.0332, acc: 100.00%]\n",
            "7200 [supervised loss: 0.0012, acc: 100.00%] [unsupervised loss: 0.1390, acc: 98.44%] [labeled consistency loss: 0.0081, acc:acc: 100.00%] [unlabeled consistency loss: 0.1309, acc: 96.88%]\n",
            "7300 [supervised loss: 0.0004, acc: 100.00%] [unsupervised loss: 0.0438, acc: 100.00%] [labeled consistency loss: 0.0040, acc:acc: 100.00%] [unlabeled consistency loss: 0.0398, acc: 100.00%]\n",
            "7400 [supervised loss: 0.0114, acc: 100.00%] [unsupervised loss: 0.2107, acc: 98.44%] [labeled consistency loss: 0.0466, acc:acc: 96.88%] [unlabeled consistency loss: 0.1642, acc: 100.00%]\n",
            "7500 [supervised loss: 0.4620, acc: 84.38%] [unsupervised loss: 0.7260, acc: 89.06%] [labeled consistency loss: 0.3822, acc:acc: 90.62%] [unlabeled consistency loss: 0.3437, acc: 87.50%]\n",
            "7600 [supervised loss: 0.0130, acc: 100.00%] [unsupervised loss: 0.0936, acc: 100.00%] [labeled consistency loss: 0.0491, acc:acc: 100.00%] [unlabeled consistency loss: 0.0445, acc: 100.00%]\n",
            "7700 [supervised loss: 0.0009, acc: 100.00%] [unsupervised loss: 0.0744, acc: 100.00%] [labeled consistency loss: 0.0060, acc:acc: 100.00%] [unlabeled consistency loss: 0.0684, acc: 100.00%]\n",
            "7800 [supervised loss: 0.0003, acc: 100.00%] [unsupervised loss: 0.0309, acc: 100.00%] [labeled consistency loss: 0.0023, acc:acc: 100.00%] [unlabeled consistency loss: 0.0286, acc: 100.00%]\n",
            "7900 [supervised loss: 0.0010, acc: 100.00%] [unsupervised loss: 0.0084, acc: 100.00%] [labeled consistency loss: 0.0030, acc:acc: 100.00%] [unlabeled consistency loss: 0.0054, acc: 100.00%]\n",
            "8000 [supervised loss: 0.0004, acc: 100.00%] [unsupervised loss: 0.0632, acc: 98.44%] [labeled consistency loss: 0.0035, acc:acc: 100.00%] [unlabeled consistency loss: 0.0596, acc: 96.88%]\n",
            "Training time: 365.8786s\n"
          ],
          "name": "stdout"
        }
      ]
    },
    {
      "cell_type": "code",
      "metadata": {
        "id": "CzZO_VKjeopq",
        "colab_type": "code",
        "outputId": "abc52795-1994-4e3e-ffa9-9fc00e3eafdb",
        "colab": {
          "base_uri": "https://localhost:8080/",
          "height": 382
        }
      },
      "source": [
        "plot_supervised_losses = np.array(supervised_losses)\n",
        "plot_unsupervised_losses = np.array(unsupervised_losses)\n",
        "plot_labeled_consistency_costs = np.array(labeled_consistency_costs)\n",
        "plot_unlabeled_consistency_costs = np.array(unlabeled_consistency_costs)\n",
        "plot_all_losses = np.array(supervised_losses)+np.array(unsupervised_losses)\n",
        "\n",
        "# Plot losses\n",
        "plt.figure(figsize=(15, 5))\n",
        "plt.plot(iteration_checkpoints, plot_all_losses, label=\"All loss\", color='black')\n",
        "plt.plot(iteration_checkpoints, plot_supervised_losses, label=\"Supervised loss\", color='tab:blue')\n",
        "plt.plot(iteration_checkpoints, plot_unsupervised_losses, label=\"Unsupervised loss\", color='tab:green')\n",
        "plt.plot(iteration_checkpoints, plot_labeled_consistency_costs, label=\"Labeled consistency loss\", color='tab:red', linestyle='dashed')\n",
        "plt.plot(iteration_checkpoints, plot_unlabeled_consistency_costs, label=\"Unlabeled consistency loss\", color='tab:orange', linestyle='dashed')\n",
        "\n",
        "plt.xticks(iteration_checkpoints, rotation=90)\n",
        "\n",
        "plt.title(\"Mean Teacher's Supervised and Unsupervised Loss, num_labeled=%d\" % num_labeled)\n",
        "plt.xlabel(\"Iteration\")\n",
        "plt.ylabel(\"Loss\")\n",
        "plt.legend()"
      ],
      "execution_count": 0,
      "outputs": [
        {
          "output_type": "execute_result",
          "data": {
            "text/plain": [
              "<matplotlib.legend.Legend at 0x7f2c8e24cba8>"
            ]
          },
          "metadata": {
            "tags": []
          },
          "execution_count": 90
        },
        {
          "output_type": "display_data",
          "data": {
            "image/png": "[encoded data removed]",
            "text/plain": [
              "<Figure size 1080x360 with 1 Axes>"
            ]
          },
          "metadata": {
            "tags": []
          }
        }
      ]
    },
    {
      "cell_type": "code",
      "metadata": {
        "id": "lFi-3YcteqKn",
        "colab_type": "code",
        "outputId": "08995745-5d69-4661-f3d7-9e015e5b3a4b",
        "colab": {
          "base_uri": "https://localhost:8080/",
          "height": 50
        }
      },
      "source": [
        "x, y = dataset.training_set()\n",
        "\n",
        "tmodel = build_discriminator_supervised(build_discriminator_net(img_shape))\n",
        "tmodel.compile(loss='categorical_crossentropy',\n",
        "                         metrics=['accuracy'],\n",
        "                         optimizer=Adam())\n",
        "tmodel.load_weights(\"./models/models-label-\" + str(num_labeled) + \"/teacher-8000.h5\", by_name=False)\n",
        "\n",
        "# Compute classification accuracy on the training set\n",
        "_, accuracy = tmodel.evaluate(x, y)\n",
        "print(\"Training Accuracy: %.2f%%\" % (100 * accuracy))"
      ],
      "execution_count": 0,
      "outputs": [
        {
          "output_type": "stream",
          "text": [
            "60000/60000 [==============================] - 6s 108us/step\n",
            "Training Accuracy: 96.39%\n"
          ],
          "name": "stdout"
        }
      ]
    },
    {
      "cell_type": "code",
      "metadata": {
        "id": "UZnxCJwqesx2",
        "colab_type": "code",
        "outputId": "284499fd-344a-46e9-9010-587f059807f8",
        "colab": {
          "base_uri": "https://localhost:8080/",
          "height": 50
        }
      },
      "source": [
        "x, y = dataset.test_set()\n",
        "\n",
        "tmodel.load_weights(\"./models/models-label-\" + str(num_labeled) + \"/teacher-6100.h5\", by_name=False)\n",
        "\n",
        "# Compute classification accuracy on the test set\n",
        "_, accuracy = tmodel.evaluate(x, y)\n",
        "print(\"Test Accuracy: %.2f%%\" % (100 * accuracy))"
      ],
      "execution_count": 0,
      "outputs": [
        {
          "output_type": "stream",
          "text": [
            "10000/10000 [==============================] - 1s 94us/step\n",
            "Test Accuracy: 96.57%\n"
          ],
          "name": "stdout"
        }
      ]
    },
    {
      "cell_type": "code",
      "metadata": {
        "id": "gyTRfW7teudc",
        "colab_type": "code",
        "outputId": "13e9bdc0-9c57-4428-fecc-f8edb93203cc",
        "colab": {
          "base_uri": "https://localhost:8080/",
          "height": 1000
        }
      },
      "source": [
        "accs = []\n",
        "tx = [x for x in range(100,8100,100)]\n",
        "acc_max = [0,0]\n",
        "\n",
        "for e in tx:\n",
        "  tmodel.load_weights(\"./models/models-label-\" + str(num_labeled) + \"/teacher-\"+ str(e) +\".h5\", by_name=False)\n",
        "  _, acc = tmodel.evaluate(x, y)\n",
        "  accs.append(acc)\n",
        "print(max(accs))\n",
        "\n",
        "plt.figure(figsize=(15, 5))\n",
        "plt.plot(tx, accs, label=\"accs\", color='blue')\n",
        "plt.xticks(tx, rotation=90)\n",
        "plt.title(\"Mean Teacher's accs with epoch\")\n",
        "plt.xlabel(\"epoch\")\n",
        "plt.ylabel(\"accs\")\n",
        "plt.legend()"
      ],
      "execution_count": 0,
      "outputs": [
        {
          "output_type": "stream",
          "text": [
            "10000/10000 [==============================] - 1s 84us/step\n",
            "10000/10000 [==============================] - 1s 97us/step\n",
            "10000/10000 [==============================] - 1s 93us/step\n",
            "10000/10000 [==============================] - 1s 82us/step\n",
            "10000/10000 [==============================] - 1s 90us/step\n",
            "10000/10000 [==============================] - 1s 95us/step\n",
            "10000/10000 [==============================] - 1s 101us/step\n",
            "10000/10000 [==============================] - 1s 94us/step\n",
            "10000/10000 [==============================] - 1s 88us/step\n",
            "10000/10000 [==============================] - 1s 89us/step\n",
            "10000/10000 [==============================] - 1s 87us/step\n",
            "10000/10000 [==============================] - 1s 89us/step\n",
            "10000/10000 [==============================] - 1s 86us/step\n",
            "10000/10000 [==============================] - 1s 85us/step\n",
            "10000/10000 [==============================] - 1s 88us/step\n",
            "10000/10000 [==============================] - 1s 103us/step\n",
            "10000/10000 [==============================] - 1s 100us/step\n",
            "10000/10000 [==============================] - 1s 83us/step\n",
            "10000/10000 [==============================] - 1s 86us/step\n",
            "10000/10000 [==============================] - 1s 89us/step\n",
            "10000/10000 [==============================] - 1s 89us/step\n",
            "10000/10000 [==============================] - 1s 93us/step\n",
            "10000/10000 [==============================] - 1s 91us/step\n",
            "10000/10000 [==============================] - 1s 96us/step\n",
            "10000/10000 [==============================] - 1s 86us/step\n",
            "10000/10000 [==============================] - 1s 83us/step\n",
            "10000/10000 [==============================] - 1s 91us/step\n",
            "10000/10000 [==============================] - 1s 94us/step\n",
            "10000/10000 [==============================] - 1s 97us/step\n",
            "10000/10000 [==============================] - 1s 84us/step\n",
            "10000/10000 [==============================] - 1s 90us/step\n",
            "10000/10000 [==============================] - 1s 86us/step\n",
            "10000/10000 [==============================] - 1s 88us/step\n",
            "10000/10000 [==============================] - 1s 84us/step\n",
            "10000/10000 [==============================] - 1s 87us/step\n",
            "10000/10000 [==============================] - 1s 83us/step\n",
            "10000/10000 [==============================] - 1s 83us/step\n",
            "10000/10000 [==============================] - 1s 87us/step\n",
            "10000/10000 [==============================] - 1s 92us/step\n",
            "10000/10000 [==============================] - 1s 87us/step\n",
            "10000/10000 [==============================] - 1s 88us/step\n",
            "10000/10000 [==============================] - 1s 84us/step\n",
            "10000/10000 [==============================] - 1s 82us/step\n",
            "10000/10000 [==============================] - 1s 83us/step\n",
            "10000/10000 [==============================] - 1s 84us/step\n",
            "10000/10000 [==============================] - 1s 83us/step\n",
            "10000/10000 [==============================] - 1s 88us/step\n",
            "10000/10000 [==============================] - 1s 83us/step\n",
            "10000/10000 [==============================] - 1s 87us/step\n",
            "10000/10000 [==============================] - 1s 89us/step\n",
            "10000/10000 [==============================] - 1s 88us/step\n",
            "10000/10000 [==============================] - 1s 86us/step\n",
            "10000/10000 [==============================] - 1s 89us/step\n",
            "10000/10000 [==============================] - 1s 83us/step\n",
            "10000/10000 [==============================] - 1s 83us/step\n",
            "10000/10000 [==============================] - 1s 85us/step\n",
            "10000/10000 [==============================] - 1s 88us/step\n",
            "10000/10000 [==============================] - 1s 85us/step\n",
            "10000/10000 [==============================] - 1s 88us/step\n",
            "10000/10000 [==============================] - 1s 82us/step\n",
            "10000/10000 [==============================] - 1s 86us/step\n",
            "10000/10000 [==============================] - 1s 82us/step\n",
            "10000/10000 [==============================] - 1s 82us/step\n",
            "10000/10000 [==============================] - 1s 89us/step\n",
            "10000/10000 [==============================] - 1s 82us/step\n",
            "10000/10000 [==============================] - 1s 91us/step\n",
            "10000/10000 [==============================] - 1s 88us/step\n",
            "10000/10000 [==============================] - 1s 88us/step\n",
            "10000/10000 [==============================] - 1s 91us/step\n",
            "10000/10000 [==============================] - 1s 95us/step\n",
            "10000/10000 [==============================] - 1s 81us/step\n",
            "10000/10000 [==============================] - 1s 86us/step\n",
            "10000/10000 [==============================] - 1s 87us/step\n",
            "10000/10000 [==============================] - 1s 98us/step\n",
            "10000/10000 [==============================] - 1s 89us/step\n",
            "10000/10000 [==============================] - 1s 87us/step\n",
            "10000/10000 [==============================] - 1s 83us/step\n",
            "10000/10000 [==============================] - 1s 90us/step\n",
            "10000/10000 [==============================] - 1s 82us/step\n",
            "10000/10000 [==============================] - 1s 84us/step\n",
            "0.9731\n"
          ],
          "name": "stdout"
        },
        {
          "output_type": "execute_result",
          "data": {
            "text/plain": [
              "<matplotlib.legend.Legend at 0x7f2c8e389550>"
            ]
          },
          "metadata": {
            "tags": []
          },
          "execution_count": 93
        },
        {
          "output_type": "display_data",
          "data": {
            "image/png": "[encoded data removed]",
            "text/plain": [
              "<Figure size 1080x360 with 1 Axes>"
            ]
          },
          "metadata": {
            "tags": []
          }
        }
      ]
    },
    {
      "cell_type": "code",
      "metadata": {
        "id": "wxcg8kR6ewY3",
        "colab_type": "code",
        "outputId": "1f09a24d-65bc-4c4f-988b-6d2fb5ce634b",
        "colab": {
          "base_uri": "https://localhost:8080/",
          "height": 1000
        }
      },
      "source": [
        "for acc in accs:\n",
        "  print(acc)"
      ],
      "execution_count": 0,
      "outputs": [
        {
          "output_type": "stream",
          "text": [
            "0.8807\n",
            "0.9119\n",
            "0.9364\n",
            "0.9497\n",
            "0.9573\n",
            "0.8833\n",
            "0.9534\n",
            "0.9573\n",
            "0.9571\n",
            "0.9484\n",
            "0.9521\n",
            "0.9478\n",
            "0.9445\n",
            "0.9627\n",
            "0.9504\n",
            "0.9544\n",
            "0.9581\n",
            "0.7869\n",
            "0.9603\n",
            "0.8339\n",
            "0.9571\n",
            "0.9632\n",
            "0.9491\n",
            "0.961\n",
            "0.9199\n",
            "0.96\n",
            "0.9656\n",
            "0.9621\n",
            "0.9628\n",
            "0.934\n",
            "0.9625\n",
            "0.9568\n",
            "0.9641\n",
            "0.9654\n",
            "0.9423\n",
            "0.9544\n",
            "0.9492\n",
            "0.9604\n",
            "0.9646\n",
            "0.9629\n",
            "0.9636\n",
            "0.9613\n",
            "0.9568\n",
            "0.962\n",
            "0.964\n",
            "0.9654\n",
            "0.9641\n",
            "0.966\n",
            "0.9637\n",
            "0.9677\n",
            "0.9684\n",
            "0.9615\n",
            "0.9644\n",
            "0.9658\n",
            "0.966\n",
            "0.9581\n",
            "0.9539\n",
            "0.949\n",
            "0.9652\n",
            "0.9642\n",
            "0.9657\n",
            "0.9669\n",
            "0.9675\n",
            "0.967\n",
            "0.9689\n",
            "0.9642\n",
            "0.9524\n",
            "0.9633\n",
            "0.9643\n",
            "0.9697\n",
            "0.9691\n",
            "0.9664\n",
            "0.9657\n",
            "0.9647\n",
            "0.628\n",
            "0.9703\n",
            "0.9684\n",
            "0.9693\n",
            "0.9731\n",
            "0.9656\n"
          ],
          "name": "stdout"
        }
      ]
    },
    {
      "cell_type": "markdown",
      "metadata": {
        "id": "1jX5xUKvd_8x",
        "colab_type": "text"
      },
      "source": [
        "# Delete"
      ]
    },
    {
      "cell_type": "code",
      "metadata": {
        "id": "8cYahGYx6Rox",
        "colab_type": "code",
        "outputId": "72d90250-2a6b-479d-9412-63eaf37e4541",
        "colab": {
          "base_uri": "https://localhost:8080/",
          "height": 398
        }
      },
      "source": [
        "acc_scgan = np.array([84.15, 94.73, 96.41, 96.24, 97.67, 97.92])\n",
        "acc_basic = np.array([72.94, 83.55, 90.89, 93.21, 95.17, 96.00])\n",
        "per = [1/600, 1/200, 1/100, 1/60, 1/40, 1/30]\n",
        "# Plot Discriminator supervised loss\n",
        "plt.figure(figsize=(15, 5))\n",
        "plt.plot(per, acc_scgan, label=\"SCGAN acc\", color='tab:blue')\n",
        "plt.plot(per, acc_basic, label=\"basic model acc\", color='tab:green')\n",
        "\n",
        "plt.xticks(per, rotation=90)\n",
        "\n",
        "plt.title(\"SCGAN and basic model accuracy\")\n",
        "plt.xlabel(\"Percentage\")\n",
        "plt.ylabel(\"Acc\")\n",
        "\n",
        "plt.grid()\n",
        "plt.legend()"
      ],
      "execution_count": 0,
      "outputs": [
        {
          "output_type": "execute_result",
          "data": {
            "text/plain": [
              "<matplotlib.legend.Legend at 0x7fa500550d68>"
            ]
          },
          "metadata": {
            "tags": []
          },
          "execution_count": 208
        },
        {
          "output_type": "display_data",
          "data": {
            "image/png": "[encoded data removed]",
            "text/plain": [
              "<Figure size 1080x360 with 1 Axes>"
            ]
          },
          "metadata": {
            "tags": []
          }
        }
      ]
    },
    {
      "cell_type": "markdown",
      "metadata": {
        "id": "UexjatKq5IEJ",
        "colab_type": "text"
      },
      "source": [
        "---"
      ]
    }
  ]
}