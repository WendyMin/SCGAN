{
  "nbformat": 4,
  "nbformat_minor": 0,
  "metadata": {
    "kernelspec": {
      "name": "python3",
      "display_name": "Python 3"
    },
    "language_info": {
      "codemirror_mode": {
        "name": "ipython",
        "version": 3
      },
      "file_extension": ".py",
      "mimetype": "text/x-python",
      "name": "python",
      "nbconvert_exporter": "python",
      "pygments_lexer": "ipython3",
      "version": "3.6.5"
    },
    "colab": {
      "name": "SCGAN.v1.ipynb",
      "version": "0.3.2",
      "provenance": [],
      "collapsed_sections": []
    },
    "accelerator": "GPU"
  },
  "cells": [
    {
      "cell_type": "markdown",
      "metadata": {
        "id": "4JrJW9Ib5ICb",
        "colab_type": "text"
      },
      "source": [
        "# Semi-Supervised Conditional GAN (SCGAN)"
      ]
    },
    {
      "cell_type": "code",
      "metadata": {
        "id": "QNWoI_bz5ICe",
        "colab_type": "code",
        "colab": {
          "base_uri": "https://localhost:8080/",
          "height": 34
        },
        "outputId": "eff3146f-6039-4e84-a1e5-19c2dc037edc"
      },
      "source": [
        "%matplotlib inline\n",
        "\n",
        "import matplotlib.pyplot as plt\n",
        "import numpy as np\n",
        "import json\n",
        "\n",
        "from keras import backend as K\n",
        "\n",
        "from keras.datasets import mnist\n",
        "from keras.layers import (Activation, BatchNormalization, Concatenate, Dense,\n",
        "                          Dropout, Flatten, Input, Lambda, Reshape, Embedding,\n",
        "                          Multiply)\n",
        "from keras.layers.advanced_activations import LeakyReLU\n",
        "from keras.layers.convolutional import Conv2D, Conv2DTranspose\n",
        "from keras.models import Model, Sequential\n",
        "from keras.optimizers import Adam\n",
        "from keras.utils import to_categorical"
      ],
      "execution_count": 1,
      "outputs": [
        {
          "output_type": "stream",
          "text": [
            "Using TensorFlow backend.\n"
          ],
          "name": "stderr"
        }
      ]
    },
    {
      "cell_type": "markdown",
      "metadata": {
        "id": "xn9DfamS5ICl",
        "colab_type": "text"
      },
      "source": [
        "## Dataset"
      ]
    },
    {
      "cell_type": "code",
      "metadata": {
        "id": "bqo19imG5ICn",
        "colab_type": "code",
        "colab": {}
      },
      "source": [
        "class Dataset:\n",
        "    def __init__(self, num_labeled):\n",
        "\n",
        "        # Number labeled examples to use for training\n",
        "        self.num_labeled = num_labeled\n",
        "\n",
        "        # Load the MNIST dataset\n",
        "        (self.x_train, self.y_train), (self.x_test,\n",
        "                                       self.y_test) = mnist.load_data()\n",
        "\n",
        "        def preprocess_imgs(x):\n",
        "            # Rescale [0, 255] grayscale pixel values to [-1, 1]\n",
        "            x = (x.astype(np.float32) - 127.5) / 127.5\n",
        "            # Expand image dimensions to width x height x channels\n",
        "            x = np.expand_dims(x, axis=3)\n",
        "            return x\n",
        "\n",
        "        def preprocess_labels(y):\n",
        "            return y.reshape(-1, 1)\n",
        "\n",
        "        # Training data\n",
        "        self.x_train = preprocess_imgs(self.x_train)\n",
        "        self.y_train = preprocess_labels(self.y_train)\n",
        "\n",
        "        # Testing data\n",
        "        self.x_test = preprocess_imgs(self.x_test)\n",
        "        self.y_test = preprocess_labels(self.y_test)\n",
        "\n",
        "    def batch_labeled(self, batch_size):\n",
        "        # Get a random batch of labeled images and their labels\n",
        "        idx = np.random.randint(0, self.num_labeled, batch_size)\n",
        "        imgs = self.x_train[idx]\n",
        "        labels = self.y_train[idx]\n",
        "        return imgs, labels\n",
        "\n",
        "    def batch_unlabeled(self, batch_size):\n",
        "        # Get a random batch of unlabeled images\n",
        "        idx = np.random.randint(self.num_labeled, self.x_train.shape[0],\n",
        "                                batch_size)\n",
        "        imgs = self.x_train[idx]\n",
        "        return imgs\n",
        "\n",
        "    def training_set(self):\n",
        "        x_train = self.x_train[range(self.num_labeled)]\n",
        "        y_train = self.y_train[range(self.num_labeled)]\n",
        "        return x_train, y_train\n",
        "\n",
        "    def test_set(self):\n",
        "        return self.x_test, self.y_test"
      ],
      "execution_count": 0,
      "outputs": []
    },
    {
      "cell_type": "code",
      "metadata": {
        "id": "y6p2xUzF5ICt",
        "colab_type": "code",
        "colab": {
          "base_uri": "https://localhost:8080/",
          "height": 50
        },
        "outputId": "e91ba4c8-0353-4f6f-d111-c2b28cbe4e4f"
      },
      "source": [
        "# Number of labeled examples to use (rest will be used as unlabeled)\n",
        "num_labeled = 100\n",
        "\n",
        "dataset = Dataset(num_labeled)"
      ],
      "execution_count": 3,
      "outputs": [
        {
          "output_type": "stream",
          "text": [
            "Downloading data from https://s3.amazonaws.com/img-datasets/mnist.npz\n",
            "11493376/11490434 [==============================] - 2s 0us/step\n"
          ],
          "name": "stdout"
        }
      ]
    },
    {
      "cell_type": "code",
      "metadata": {
        "id": "R0lLk5Sp2nlW",
        "colab_type": "code",
        "colab": {}
      },
      "source": [
        "(x_train, y_train), (x_test, y_test) = mnist.load_data()"
      ],
      "execution_count": 0,
      "outputs": []
    },
    {
      "cell_type": "code",
      "metadata": {
        "id": "IW2-FIrD2z8n",
        "colab_type": "code",
        "outputId": "91a43745-055d-4c2a-eba3-9aa606480d84",
        "colab": {
          "base_uri": "https://localhost:8080/",
          "height": 84
        }
      },
      "source": [
        "print(x_train.shape)\n",
        "print(y_train.shape)\n",
        "print(x_test.shape)\n",
        "print(y_test.shape)"
      ],
      "execution_count": 0,
      "outputs": [
        {
          "output_type": "stream",
          "text": [
            "(60000, 28, 28)\n",
            "(60000,)\n",
            "(10000, 28, 28)\n",
            "(10000,)\n"
          ],
          "name": "stdout"
        }
      ]
    },
    {
      "cell_type": "markdown",
      "metadata": {
        "id": "UtT5bpqm5ICy",
        "colab_type": "text"
      },
      "source": [
        "# Semi-Supervied GAN"
      ]
    },
    {
      "cell_type": "code",
      "metadata": {
        "id": "zeaE_XJq5IC0",
        "colab_type": "code",
        "colab": {}
      },
      "source": [
        "img_rows = 28\n",
        "img_cols = 28\n",
        "channels = 1\n",
        "\n",
        "# Input image dimensions\n",
        "img_shape = (img_rows, img_cols, channels)\n",
        "\n",
        "# Size of the noise vector, used as input to the Generator\n",
        "z_dim = 100\n",
        "\n",
        "# Number of classes in the dataset\n",
        "num_classes = 10"
      ],
      "execution_count": 0,
      "outputs": []
    },
    {
      "cell_type": "markdown",
      "metadata": {
        "id": "SEGfARiO5IC5",
        "colab_type": "text"
      },
      "source": [
        "## Generator"
      ]
    },
    {
      "cell_type": "code",
      "metadata": {
        "id": "GpyzLGKJ5IC6",
        "colab_type": "code",
        "colab": {}
      },
      "source": [
        "def build_generator(z_dim):\n",
        "\n",
        "    model = Sequential()\n",
        "\n",
        "    # Reshape input into 7x7x256 tensor via a fully connected layer\n",
        "    model.add(Dense(256 * 7 * 7, input_dim=z_dim))\n",
        "    model.add(Reshape((7, 7, 256)))\n",
        "\n",
        "    # Transposed convolution layer, from 7x7x256 into 14x14x128 tensor\n",
        "    model.add(Conv2DTranspose(128, kernel_size=3, strides=2, padding='same'))\n",
        "\n",
        "    # Batch normalization\n",
        "    model.add(BatchNormalization())\n",
        "\n",
        "    # Leaky ReLU activation\n",
        "    model.add(LeakyReLU(alpha=0.01))\n",
        "\n",
        "    # Transposed convolution layer, from 14x14x128 to 14x14x64 tensor\n",
        "    model.add(Conv2DTranspose(64, kernel_size=3, strides=1, padding='same'))\n",
        "\n",
        "    # Batch normalization\n",
        "    model.add(BatchNormalization())\n",
        "\n",
        "    # Leaky ReLU activation\n",
        "    model.add(LeakyReLU(alpha=0.01))\n",
        "\n",
        "    # Transposed convolution layer, from 14x14x64 to 28x28x1 tensor\n",
        "    model.add(Conv2DTranspose(1, kernel_size=3, strides=2, padding='same'))\n",
        "\n",
        "    # Output layer with tanh activation\n",
        "    model.add(Activation('tanh'))\n",
        "    \n",
        "    z = Input(shape=(z_dim, ))\n",
        "    label = Input(shape=(num_classes, ), dtype='float32')\n",
        "    label_embedding = Dense(z_dim, input_dim=num_classes)(label)\n",
        "    print(label_embedding)\n",
        "    joined_representation = Multiply()([z, label_embedding])\n",
        "    print(joined_representation)\n",
        "    conditioned_img = model(joined_representation)\n",
        "\n",
        "    model = Model([z, label], conditioned_img)\n",
        "\n",
        "    return model"
      ],
      "execution_count": 0,
      "outputs": []
    },
    {
      "cell_type": "code",
      "metadata": {
        "id": "QRiDvGxWOKQZ",
        "colab_type": "code",
        "outputId": "06bab4c5-8eca-4445-af3c-25800450c5f4",
        "colab": {
          "base_uri": "https://localhost:8080/",
          "height": 454
        }
      },
      "source": [
        "build_generator(z_dim).summary()"
      ],
      "execution_count": 0,
      "outputs": [
        {
          "output_type": "stream",
          "text": [
            "WARNING: Logging before flag parsing goes to stderr.\n",
            "W0831 08:53:28.851006 140350853937024 deprecation_wrapper.py:119] From /usr/local/lib/python3.6/dist-packages/keras/backend/tensorflow_backend.py:66: The name tf.get_default_graph is deprecated. Please use tf.compat.v1.get_default_graph instead.\n",
            "\n",
            "W0831 08:53:28.867646 140350853937024 deprecation_wrapper.py:119] From /usr/local/lib/python3.6/dist-packages/keras/backend/tensorflow_backend.py:541: The name tf.placeholder is deprecated. Please use tf.compat.v1.placeholder instead.\n",
            "\n",
            "W0831 08:53:28.872331 140350853937024 deprecation_wrapper.py:119] From /usr/local/lib/python3.6/dist-packages/keras/backend/tensorflow_backend.py:4432: The name tf.random_uniform is deprecated. Please use tf.random.uniform instead.\n",
            "\n"
          ],
          "name": "stderr"
        },
        {
          "output_type": "stream",
          "text": [
            "Tensor(\"dense_1/BiasAdd:0\", shape=(?, 100), dtype=float32)\n",
            "Tensor(\"multiply_1/mul:0\", shape=(?, 100), dtype=float32)\n"
          ],
          "name": "stdout"
        },
        {
          "output_type": "error",
          "ename": "UnboundLocalError",
          "evalue": "ignored",
          "traceback": [
            "\u001b[0;31m---------------------------------------------------------------------------\u001b[0m",
            "\u001b[0;31mUnboundLocalError\u001b[0m                         Traceback (most recent call last)",
            "\u001b[0;32m<ipython-input-11-4949f1faba17>\u001b[0m in \u001b[0;36m<module>\u001b[0;34m()\u001b[0m\n\u001b[0;32m----> 1\u001b[0;31m \u001b[0mbuild_generator\u001b[0m\u001b[0;34m(\u001b[0m\u001b[0mz_dim\u001b[0m\u001b[0;34m)\u001b[0m\u001b[0;34m.\u001b[0m\u001b[0msummary\u001b[0m\u001b[0;34m(\u001b[0m\u001b[0;34m)\u001b[0m\u001b[0;34m\u001b[0m\u001b[0;34m\u001b[0m\u001b[0m\n\u001b[0m",
            "\u001b[0;32m<ipython-input-10-f95a9192110f>\u001b[0m in \u001b[0;36mbuild_generator\u001b[0;34m(z_dim)\u001b[0m\n\u001b[1;32m      7\u001b[0m     \u001b[0mjoined_representation\u001b[0m \u001b[0;34m=\u001b[0m \u001b[0mMultiply\u001b[0m\u001b[0;34m(\u001b[0m\u001b[0;34m)\u001b[0m\u001b[0;34m(\u001b[0m\u001b[0;34m[\u001b[0m\u001b[0mz\u001b[0m\u001b[0;34m,\u001b[0m \u001b[0mlabel_embedding\u001b[0m\u001b[0;34m]\u001b[0m\u001b[0;34m)\u001b[0m\u001b[0;34m\u001b[0m\u001b[0;34m\u001b[0m\u001b[0m\n\u001b[1;32m      8\u001b[0m     \u001b[0mprint\u001b[0m\u001b[0;34m(\u001b[0m\u001b[0mjoined_representation\u001b[0m\u001b[0;34m)\u001b[0m\u001b[0;34m\u001b[0m\u001b[0;34m\u001b[0m\u001b[0m\n\u001b[0;32m----> 9\u001b[0;31m     \u001b[0mconditioned_img\u001b[0m \u001b[0;34m=\u001b[0m \u001b[0mmodel\u001b[0m\u001b[0;34m(\u001b[0m\u001b[0mjoined_representation\u001b[0m\u001b[0;34m)\u001b[0m\u001b[0;34m\u001b[0m\u001b[0;34m\u001b[0m\u001b[0m\n\u001b[0m\u001b[1;32m     10\u001b[0m \u001b[0;34m\u001b[0m\u001b[0m\n\u001b[1;32m     11\u001b[0m     \u001b[0mmodel\u001b[0m \u001b[0;34m=\u001b[0m \u001b[0mSequential\u001b[0m\u001b[0;34m(\u001b[0m\u001b[0;34m)\u001b[0m\u001b[0;34m\u001b[0m\u001b[0;34m\u001b[0m\u001b[0m\n",
            "\u001b[0;31mUnboundLocalError\u001b[0m: local variable 'model' referenced before assignment"
          ]
        }
      ]
    },
    {
      "cell_type": "code",
      "metadata": {
        "id": "PIhJjyyXOgsI",
        "colab_type": "code",
        "outputId": "0e3de106-e612-49db-fa17-519a6aa79e7f",
        "colab": {
          "base_uri": "https://localhost:8080/",
          "height": 538
        }
      },
      "source": [
        "batch_size=30\n",
        "imgs, labels = dataset.batch_labeled(batch_size)\n",
        "# labels = to_categorical(labels, num_classes=num_classes)\n",
        "labels = np.random.randint(0, num_classes, batch_size).reshape(-1, 1)\n",
        "print(labels.shape)\n",
        "print(labels)"
      ],
      "execution_count": 0,
      "outputs": [
        {
          "output_type": "stream",
          "text": [
            "(30, 1)\n",
            "[[8]\n",
            " [5]\n",
            " [2]\n",
            " [0]\n",
            " [1]\n",
            " [5]\n",
            " [7]\n",
            " [7]\n",
            " [6]\n",
            " [7]\n",
            " [4]\n",
            " [4]\n",
            " [1]\n",
            " [7]\n",
            " [0]\n",
            " [9]\n",
            " [9]\n",
            " [0]\n",
            " [7]\n",
            " [0]\n",
            " [8]\n",
            " [0]\n",
            " [1]\n",
            " [4]\n",
            " [8]\n",
            " [9]\n",
            " [8]\n",
            " [3]\n",
            " [0]\n",
            " [4]]\n"
          ],
          "name": "stdout"
        }
      ]
    },
    {
      "cell_type": "markdown",
      "metadata": {
        "id": "PXctmDp35IC-",
        "colab_type": "text"
      },
      "source": [
        "## Discriminator"
      ]
    },
    {
      "cell_type": "code",
      "metadata": {
        "id": "VahG39Gb5IC_",
        "colab_type": "code",
        "colab": {}
      },
      "source": [
        "def build_discriminator_net(img_shape):\n",
        "\n",
        "    model = Sequential()\n",
        "\n",
        "    # Convolutional layer, from 28x28x1 into 14x14x32 tensor\n",
        "    model.add(\n",
        "        Conv2D(32,\n",
        "               kernel_size=3,\n",
        "               strides=2,\n",
        "               input_shape=img_shape,\n",
        "               padding='same'))\n",
        "\n",
        "    # Leaky ReLU activation\n",
        "    model.add(LeakyReLU(alpha=0.01))\n",
        "\n",
        "    # Convolutional layer, from 14x14x32 into 7x7x64 tensor\n",
        "    model.add(\n",
        "        Conv2D(64,\n",
        "               kernel_size=3,\n",
        "               strides=2,\n",
        "               input_shape=img_shape,\n",
        "               padding='same'))\n",
        "\n",
        "    # Batch normalization\n",
        "    model.add(BatchNormalization())\n",
        "\n",
        "    # Leaky ReLU activation\n",
        "    model.add(LeakyReLU(alpha=0.01))\n",
        "\n",
        "    # Convolutional layer, from 7x7x64 tensor into 3x3x128 tensor\n",
        "    model.add(\n",
        "        Conv2D(128,\n",
        "               kernel_size=3,\n",
        "               strides=2,\n",
        "               input_shape=img_shape,\n",
        "               padding='same'))\n",
        "\n",
        "    # Batch normalization\n",
        "    model.add(BatchNormalization())\n",
        "\n",
        "    # Leaky ReLU activation\n",
        "    model.add(LeakyReLU(alpha=0.01))\n",
        "\n",
        "    # Droupout\n",
        "    model.add(Dropout(0.5))\n",
        "\n",
        "    # Flatten the tensor\n",
        "    model.add(Flatten())\n",
        "\n",
        "    # Fully connected layer with num_classes neurons\n",
        "    model.add(Dense(num_classes))\n",
        "\n",
        "    return model"
      ],
      "execution_count": 0,
      "outputs": []
    },
    {
      "cell_type": "code",
      "metadata": {
        "id": "-hSeX8Z75IDC",
        "colab_type": "code",
        "colab": {}
      },
      "source": [
        "def build_discriminator_supervised(discriminator_net):\n",
        "\n",
        "    model = Sequential()\n",
        "\n",
        "    model.add(discriminator_net)\n",
        "\n",
        "    # Softmax activation, giving predicted probability distribution over the real classes\n",
        "    model.add(Activation('softmax'))\n",
        "\n",
        "    return model"
      ],
      "execution_count": 0,
      "outputs": []
    },
    {
      "cell_type": "code",
      "metadata": {
        "id": "Kc_Skbce5IDF",
        "colab_type": "code",
        "colab": {}
      },
      "source": [
        "def build_discriminator_unsupervised(discriminator_net):\n",
        "\n",
        "    model = Sequential()\n",
        "\n",
        "    model.add(discriminator_net)\n",
        "\n",
        "    def predict(x):\n",
        "        # Transform distribution over real classes into a binary real-vs-fake probability\n",
        "        prediction = 1.0 - (1.0 /\n",
        "                            (K.sum(K.exp(x), axis=-1, keepdims=True) + 1.0))\n",
        "        return prediction\n",
        "\n",
        "    # 'Real-vs-fake' output neuron defined above\n",
        "    model.add(Lambda(predict))\n",
        "\n",
        "    return model"
      ],
      "execution_count": 0,
      "outputs": []
    },
    {
      "cell_type": "markdown",
      "metadata": {
        "id": "-Xz4dCm75IDJ",
        "colab_type": "text"
      },
      "source": [
        "## Build the Model"
      ]
    },
    {
      "cell_type": "code",
      "metadata": {
        "id": "kcTPOPCS5IDL",
        "colab_type": "code",
        "colab": {}
      },
      "source": [
        "def build_gan(generator, discriminator):\n",
        "\n",
        "#     model = Sequential()\n",
        "\n",
        "    # Combined Generator -> Discriminator model\n",
        "#     model.add(generator)\n",
        "#     model.add(discriminator)\n",
        "    \n",
        "    z = Input(shape=(z_dim, ))\n",
        "    label = Input(shape=(num_classes, ))\n",
        "    img = generator([z, label])\n",
        "    output = discriminator(img)\n",
        "    model = Model([z, label], output)\n",
        "\n",
        "    return model"
      ],
      "execution_count": 0,
      "outputs": []
    },
    {
      "cell_type": "code",
      "metadata": {
        "colab_type": "code",
        "outputId": "09a45fc9-e73e-4f0d-d206-6edca219ce63",
        "id": "GZhORKSp6P03",
        "colab": {
          "base_uri": "https://localhost:8080/",
          "height": 504
        }
      },
      "source": [
        "generator = build_generator(z_dim)\n",
        "discriminator_unsupervised.trainable = False\n",
        "gan = build_gan(generator, discriminator_unsupervised)\n",
        "gan.summary()\n",
        "gan.compile(loss='binary_crossentropy', optimizer=Adam())"
      ],
      "execution_count": 12,
      "outputs": [
        {
          "output_type": "stream",
          "text": [
            "WARNING: Logging before flag parsing goes to stderr.\n",
            "W0831 10:45:25.503474 139822956222336 deprecation_wrapper.py:119] From /usr/local/lib/python3.6/dist-packages/keras/backend/tensorflow_backend.py:66: The name tf.get_default_graph is deprecated. Please use tf.compat.v1.get_default_graph instead.\n",
            "\n",
            "W0831 10:45:25.539315 139822956222336 deprecation_wrapper.py:119] From /usr/local/lib/python3.6/dist-packages/keras/backend/tensorflow_backend.py:541: The name tf.placeholder is deprecated. Please use tf.compat.v1.placeholder instead.\n",
            "\n",
            "W0831 10:45:25.545903 139822956222336 deprecation_wrapper.py:119] From /usr/local/lib/python3.6/dist-packages/keras/backend/tensorflow_backend.py:4432: The name tf.random_uniform is deprecated. Please use tf.random.uniform instead.\n",
            "\n",
            "W0831 10:45:25.597567 139822956222336 deprecation_wrapper.py:119] From /usr/local/lib/python3.6/dist-packages/keras/backend/tensorflow_backend.py:190: The name tf.get_default_session is deprecated. Please use tf.compat.v1.get_default_session instead.\n",
            "\n",
            "W0831 10:45:25.598415 139822956222336 deprecation_wrapper.py:119] From /usr/local/lib/python3.6/dist-packages/keras/backend/tensorflow_backend.py:197: The name tf.ConfigProto is deprecated. Please use tf.compat.v1.ConfigProto instead.\n",
            "\n",
            "W0831 10:45:28.930175 139822956222336 deprecation_wrapper.py:119] From /usr/local/lib/python3.6/dist-packages/keras/backend/tensorflow_backend.py:2041: The name tf.nn.fused_batch_norm is deprecated. Please use tf.compat.v1.nn.fused_batch_norm instead.\n",
            "\n"
          ],
          "name": "stderr"
        },
        {
          "output_type": "stream",
          "text": [
            "Tensor(\"dense_2/BiasAdd:0\", shape=(?, 100), dtype=float32)\n",
            "Tensor(\"multiply_1/mul:0\", shape=(?, 100), dtype=float32)\n"
          ],
          "name": "stdout"
        },
        {
          "output_type": "error",
          "ename": "NameError",
          "evalue": "ignored",
          "traceback": [
            "\u001b[0;31m---------------------------------------------------------------------------\u001b[0m",
            "\u001b[0;31mNameError\u001b[0m                                 Traceback (most recent call last)",
            "\u001b[0;32m<ipython-input-12-5334b7a571aa>\u001b[0m in \u001b[0;36m<module>\u001b[0;34m()\u001b[0m\n\u001b[1;32m      1\u001b[0m \u001b[0mgenerator\u001b[0m \u001b[0;34m=\u001b[0m \u001b[0mbuild_generator\u001b[0m\u001b[0;34m(\u001b[0m\u001b[0mz_dim\u001b[0m\u001b[0;34m)\u001b[0m\u001b[0;34m\u001b[0m\u001b[0;34m\u001b[0m\u001b[0m\n\u001b[0;32m----> 2\u001b[0;31m \u001b[0mdiscriminator_unsupervised\u001b[0m\u001b[0;34m.\u001b[0m\u001b[0mtrainable\u001b[0m \u001b[0;34m=\u001b[0m \u001b[0;32mFalse\u001b[0m\u001b[0;34m\u001b[0m\u001b[0;34m\u001b[0m\u001b[0m\n\u001b[0m\u001b[1;32m      3\u001b[0m \u001b[0mgan\u001b[0m \u001b[0;34m=\u001b[0m \u001b[0mbuild_gan\u001b[0m\u001b[0;34m(\u001b[0m\u001b[0mgenerator\u001b[0m\u001b[0;34m,\u001b[0m \u001b[0mdiscriminator_unsupervised\u001b[0m\u001b[0;34m)\u001b[0m\u001b[0;34m\u001b[0m\u001b[0;34m\u001b[0m\u001b[0m\n\u001b[1;32m      4\u001b[0m \u001b[0mgan\u001b[0m\u001b[0;34m.\u001b[0m\u001b[0msummary\u001b[0m\u001b[0;34m(\u001b[0m\u001b[0;34m)\u001b[0m\u001b[0;34m\u001b[0m\u001b[0;34m\u001b[0m\u001b[0m\n\u001b[1;32m      5\u001b[0m \u001b[0mgan\u001b[0m\u001b[0;34m.\u001b[0m\u001b[0mcompile\u001b[0m\u001b[0;34m(\u001b[0m\u001b[0mloss\u001b[0m\u001b[0;34m=\u001b[0m\u001b[0;34m'binary_crossentropy'\u001b[0m\u001b[0;34m,\u001b[0m \u001b[0moptimizer\u001b[0m\u001b[0;34m=\u001b[0m\u001b[0mAdam\u001b[0m\u001b[0;34m(\u001b[0m\u001b[0;34m)\u001b[0m\u001b[0;34m)\u001b[0m\u001b[0;34m\u001b[0m\u001b[0;34m\u001b[0m\u001b[0m\n",
            "\u001b[0;31mNameError\u001b[0m: name 'discriminator_unsupervised' is not defined"
          ]
        }
      ]
    },
    {
      "cell_type": "markdown",
      "metadata": {
        "id": "i-fxWZ8Y5IDP",
        "colab_type": "text"
      },
      "source": [
        "### Discriminator"
      ]
    },
    {
      "cell_type": "code",
      "metadata": {
        "id": "XPQ_Yvmz5IDQ",
        "colab_type": "code",
        "colab": {
          "base_uri": "https://localhost:8080/",
          "height": 171
        },
        "outputId": "9b2f59c7-3fe6-477e-8359-b0f4cd6b3763"
      },
      "source": [
        "# Core Discriminator network:\n",
        "# These layers are shared during supervised and unsupervised training\n",
        "discriminator_net = build_discriminator_net(img_shape)\n",
        "\n",
        "# Build & compile the Discriminator for supervised training\n",
        "discriminator_supervised = build_discriminator_supervised(discriminator_net)\n",
        "discriminator_supervised.compile(loss='categorical_crossentropy',\n",
        "                                 metrics=['accuracy'],\n",
        "                                 optimizer=Adam())\n",
        "\n",
        "# Build & compile the Discriminator for unsupervised training\n",
        "discriminator_unsupervised = build_discriminator_unsupervised(discriminator_net)\n",
        "discriminator_unsupervised.compile(loss='binary_crossentropy',\n",
        "                                   optimizer=Adam())"
      ],
      "execution_count": 13,
      "outputs": [
        {
          "output_type": "stream",
          "text": [
            "W0831 10:45:30.545534 139822956222336 deprecation.py:506] From /usr/local/lib/python3.6/dist-packages/keras/backend/tensorflow_backend.py:3733: calling dropout (from tensorflow.python.ops.nn_ops) with keep_prob is deprecated and will be removed in a future version.\n",
            "Instructions for updating:\n",
            "Please use `rate` instead of `keep_prob`. Rate should be set to `rate = 1 - keep_prob`.\n",
            "W0831 10:45:30.706619 139822956222336 deprecation_wrapper.py:119] From /usr/local/lib/python3.6/dist-packages/keras/optimizers.py:793: The name tf.train.Optimizer is deprecated. Please use tf.compat.v1.train.Optimizer instead.\n",
            "\n",
            "W0831 10:45:30.878469 139822956222336 deprecation.py:323] From /usr/local/lib/python3.6/dist-packages/tensorflow/python/ops/nn_impl.py:180: add_dispatch_support.<locals>.wrapper (from tensorflow.python.ops.array_ops) is deprecated and will be removed in a future version.\n",
            "Instructions for updating:\n",
            "Use tf.where in 2.0, which has the same broadcast rule as np.where\n"
          ],
          "name": "stderr"
        }
      ]
    },
    {
      "cell_type": "markdown",
      "metadata": {
        "id": "OX5cwJ_i5IDS",
        "colab_type": "text"
      },
      "source": [
        "### Generator"
      ]
    },
    {
      "cell_type": "code",
      "metadata": {
        "id": "bMRweuap5IDT",
        "colab_type": "code",
        "outputId": "784fb9ef-aada-4546-cc7e-37e15810b7dc",
        "colab": {
          "base_uri": "https://localhost:8080/",
          "height": 50
        }
      },
      "source": [
        "# Build the Generator\n",
        "generator = build_generator(z_dim)\n",
        "\n",
        "# Keep Discriminator’s parameters constant for Generator training\n",
        "discriminator_unsupervised.trainable = False\n",
        "\n",
        "# Build and compile GAN model with fixed Discriminator to train the Generator\n",
        "# Note that we are using the Discriminator version with unsupervised output\n",
        "gan = build_gan(generator, discriminator_unsupervised)\n",
        "gan.compile(loss='binary_crossentropy', optimizer=Adam())"
      ],
      "execution_count": 14,
      "outputs": [
        {
          "output_type": "stream",
          "text": [
            "Tensor(\"dense_5/BiasAdd:0\", shape=(?, 100), dtype=float32)\n",
            "Tensor(\"multiply_2/mul:0\", shape=(?, 100), dtype=float32)\n"
          ],
          "name": "stdout"
        }
      ]
    },
    {
      "cell_type": "markdown",
      "metadata": {
        "id": "rSfkxFfH5IDW",
        "colab_type": "text"
      },
      "source": [
        "## Training"
      ]
    },
    {
      "cell_type": "code",
      "metadata": {
        "id": "lKb4Xds65IDX",
        "colab_type": "code",
        "colab": {}
      },
      "source": [
        "supervised_losses = []\n",
        "unsupervised_losses = []\n",
        "g_losses = []\n",
        "iteration_checkpoints = []\n",
        "\n",
        "\n",
        "def train(iterations, batch_size, save_interval):\n",
        "\n",
        "    # Labels for real images: all ones\n",
        "    real = np.ones((batch_size, 1))\n",
        "\n",
        "    # Labels for fake images: all zeros\n",
        "    fake = np.zeros((batch_size, 1))\n",
        "\n",
        "    for iteration in range(iterations):\n",
        "\n",
        "        # -------------------------\n",
        "        #  Train the Discriminator\n",
        "        # -------------------------\n",
        "\n",
        "        # Get labeled examples\n",
        "        imgs, labels = dataset.batch_labeled(batch_size)\n",
        "\n",
        "        # One-hot encode labels\n",
        "        labels = to_categorical(labels, num_classes=num_classes)\n",
        "\n",
        "        # Get unlabeled examples\n",
        "        imgs_unlabeled = dataset.batch_unlabeled(batch_size)\n",
        "\n",
        "        # Generate a batch of fake images\n",
        "        z = np.random.normal(0, 1, (batch_size, z_dim))\n",
        "        fake_labels = np.random.randint(0, num_classes, batch_size).reshape(-1, 1)\n",
        "        fake_labels = to_categorical(fake_labels, num_classes=num_classes)\n",
        "        gen_imgs = generator.predict([z, fake_labels])\n",
        "\n",
        "        # Train on real labeled examples\n",
        "        d_loss_supervised, accuracy = discriminator_supervised.train_on_batch(imgs, labels)\n",
        "\n",
        "        # Train on real unlabeled examples\n",
        "        d_loss_real = discriminator_unsupervised.train_on_batch(imgs_unlabeled, real)\n",
        "\n",
        "        # Train on fake examples\n",
        "        d_loss_fake = discriminator_unsupervised.train_on_batch(gen_imgs, fake)\n",
        "\n",
        "        d_loss_unsupervised = 0.5 * np.add(d_loss_real, d_loss_fake)\n",
        "\n",
        "        # ---------------------\n",
        "        #  Train the Generator\n",
        "        # ---------------------\n",
        "\n",
        "        # Generate a batch of fake images\n",
        "        z = np.random.normal(0, 1, (batch_size, z_dim))\n",
        "        gen_imgs = generator.predict([z, labels])\n",
        "\n",
        "        # Train Generator\n",
        "        g_loss = gan.train_on_batch([z,labels], np.ones((batch_size, 1)))\n",
        "\n",
        "        if (iteration + 1) % save_interval == 0:\n",
        "\n",
        "            # Save Discriminator supervised classification loss to be plotted after training\n",
        "            supervised_losses.append(d_loss_supervised)\n",
        "            unsupervised_losses.append(d_loss_unsupervised)\n",
        "            g_losses.append(g_loss)\n",
        "            \n",
        "            iteration_checkpoints.append(iteration + 1)\n",
        "\n",
        "            # Output training progress\n",
        "            print(\n",
        "                \"%d [D loss supervised: %.4f, acc.: %.2f%%] [D loss unsupervised: %.4f] [G loss: %f]\"\n",
        "                % (iteration + 1, d_loss_supervised, 100 * accuracy,\n",
        "                   d_loss_unsupervised, g_loss))\n",
        "            \n",
        "            discriminator_supervised.save(\"./models/discriminator_supervised-\" + str(iteration+1) + \".h5\")\n",
        "\n",
        "            with open('./losses/supervised_losses.json', 'w') as json_file:\n",
        "                  json.dump(str(supervised_losses), json_file)\n",
        "            with open('./losses/unsupervised_losses.json', 'w') as json_file:\n",
        "                  json.dump(str(unsupervised_losses), json_file)\n",
        "            with open('./losses/g_losses.json', 'w') as json_file:\n",
        "                  json.dump(str(g_losses), json_file)"
      ],
      "execution_count": 0,
      "outputs": []
    },
    {
      "cell_type": "markdown",
      "metadata": {
        "id": "2MoxwriW5IDb",
        "colab_type": "text"
      },
      "source": [
        "## Train the Model and Inspect Output"
      ]
    },
    {
      "cell_type": "markdown",
      "metadata": {
        "id": "EHHVLd0n5IDc",
        "colab_type": "text"
      },
      "source": [
        "Note that the `'Discrepancy between trainable weights and collected trainable'` warning from Keras is expected. It is by design: The Generator's trainable parameters are intentionally held constant during Discriminator training, and vice versa."
      ]
    },
    {
      "cell_type": "code",
      "metadata": {
        "scrolled": true,
        "id": "0ZWH2w_r5IDe",
        "colab_type": "code",
        "outputId": "3fbd7d9b-0821-441a-efa1-fcf786d95eea",
        "colab": {
          "base_uri": "https://localhost:8080/",
          "height": 1414
        }
      },
      "source": [
        "# Set hyperparameters\n",
        "iterations = 8000\n",
        "batch_size = 32\n",
        "save_interval = 100\n",
        "\n",
        "# Train the SGAN for the specified number of iterations\n",
        "train(iterations, batch_size, save_interval)"
      ],
      "execution_count": 0,
      "outputs": [
        {
          "output_type": "stream",
          "text": [
            "/usr/local/lib/python3.6/dist-packages/keras/engine/training.py:493: UserWarning: Discrepancy between trainable weights and collected trainable weights, did you set `model.trainable` without calling `model.compile` after ?\n",
            "  'Discrepancy between trainable weights and collected trainable'\n"
          ],
          "name": "stderr"
        },
        {
          "output_type": "stream",
          "text": [
            "100 [D loss supervised: 0.0396, acc.: 100.00%] [D loss unsupervised: 0.1096] [G loss: 7.921178]\n",
            "200 [D loss supervised: 0.0025, acc.: 100.00%] [D loss unsupervised: 0.1439] [G loss: 5.598542]\n",
            "300 [D loss supervised: 0.0023, acc.: 100.00%] [D loss unsupervised: 0.0295] [G loss: 7.430367]\n",
            "400 [D loss supervised: 0.0035, acc.: 100.00%] [D loss unsupervised: 0.0674] [G loss: 5.606292]\n",
            "500 [D loss supervised: 0.0007, acc.: 100.00%] [D loss unsupervised: 0.0780] [G loss: 5.720152]\n",
            "600 [D loss supervised: 0.0023, acc.: 100.00%] [D loss unsupervised: 0.2097] [G loss: 3.894555]\n",
            "700 [D loss supervised: 0.0096, acc.: 100.00%] [D loss unsupervised: 0.0484] [G loss: 4.120163]\n",
            "800 [D loss supervised: 0.0128, acc.: 100.00%] [D loss unsupervised: 0.1550] [G loss: 6.102933]\n",
            "900 [D loss supervised: 0.0055, acc.: 100.00%] [D loss unsupervised: 0.2723] [G loss: 1.275762]\n",
            "1000 [D loss supervised: 0.0007, acc.: 100.00%] [D loss unsupervised: 0.1529] [G loss: 3.784255]\n",
            "1100 [D loss supervised: 0.0039, acc.: 100.00%] [D loss unsupervised: 0.1997] [G loss: 3.624511]\n",
            "1200 [D loss supervised: 0.0015, acc.: 100.00%] [D loss unsupervised: 0.2486] [G loss: 3.605323]\n",
            "1300 [D loss supervised: 0.0005, acc.: 100.00%] [D loss unsupervised: 0.2637] [G loss: 4.285903]\n",
            "1400 [D loss supervised: 0.0033, acc.: 100.00%] [D loss unsupervised: 0.6150] [G loss: 2.129872]\n",
            "1500 [D loss supervised: 0.0021, acc.: 100.00%] [D loss unsupervised: 0.0913] [G loss: 4.249910]\n",
            "1600 [D loss supervised: 0.0009, acc.: 100.00%] [D loss unsupervised: 0.4089] [G loss: 3.874893]\n",
            "1700 [D loss supervised: 0.0003, acc.: 100.00%] [D loss unsupervised: 0.2292] [G loss: 4.228935]\n",
            "1800 [D loss supervised: 0.0011, acc.: 100.00%] [D loss unsupervised: 0.1458] [G loss: 4.219060]\n",
            "1900 [D loss supervised: 0.0045, acc.: 100.00%] [D loss unsupervised: 0.3515] [G loss: 3.216951]\n",
            "2000 [D loss supervised: 0.0021, acc.: 100.00%] [D loss unsupervised: 0.0664] [G loss: 5.010722]\n",
            "2100 [D loss supervised: 0.0018, acc.: 100.00%] [D loss unsupervised: 0.1858] [G loss: 4.253954]\n",
            "2200 [D loss supervised: 0.0018, acc.: 100.00%] [D loss unsupervised: 0.2054] [G loss: 3.667098]\n",
            "2300 [D loss supervised: 0.0007, acc.: 100.00%] [D loss unsupervised: 0.3538] [G loss: 3.059840]\n",
            "2400 [D loss supervised: 0.0053, acc.: 100.00%] [D loss unsupervised: 0.6273] [G loss: 1.518802]\n",
            "2500 [D loss supervised: 0.0008, acc.: 100.00%] [D loss unsupervised: 0.1564] [G loss: 3.024296]\n",
            "2600 [D loss supervised: 0.0015, acc.: 100.00%] [D loss unsupervised: 0.1453] [G loss: 6.155210]\n",
            "2700 [D loss supervised: 0.0003, acc.: 100.00%] [D loss unsupervised: 0.0859] [G loss: 5.190144]\n",
            "2800 [D loss supervised: 0.0018, acc.: 100.00%] [D loss unsupervised: 0.0429] [G loss: 6.201643]\n",
            "2900 [D loss supervised: 0.0015, acc.: 100.00%] [D loss unsupervised: 0.2928] [G loss: 1.990217]\n",
            "3000 [D loss supervised: 0.0007, acc.: 100.00%] [D loss unsupervised: 0.0690] [G loss: 3.452434]\n",
            "3100 [D loss supervised: 0.0005, acc.: 100.00%] [D loss unsupervised: 0.5125] [G loss: 2.457908]\n",
            "3200 [D loss supervised: 0.0001, acc.: 100.00%] [D loss unsupervised: 0.1085] [G loss: 3.522180]\n",
            "3300 [D loss supervised: 0.0001, acc.: 100.00%] [D loss unsupervised: 0.2102] [G loss: 3.289702]\n",
            "3400 [D loss supervised: 0.0004, acc.: 100.00%] [D loss unsupervised: 0.0680] [G loss: 4.026027]\n",
            "3500 [D loss supervised: 0.0005, acc.: 100.00%] [D loss unsupervised: 0.1160] [G loss: 6.354129]\n",
            "3600 [D loss supervised: 0.0009, acc.: 100.00%] [D loss unsupervised: 0.0822] [G loss: 4.899035]\n",
            "3700 [D loss supervised: 0.0003, acc.: 100.00%] [D loss unsupervised: 0.2399] [G loss: 3.984541]\n",
            "3800 [D loss supervised: 0.0005, acc.: 100.00%] [D loss unsupervised: 0.2292] [G loss: 2.991324]\n",
            "3900 [D loss supervised: 0.0012, acc.: 100.00%] [D loss unsupervised: 0.2023] [G loss: 4.906905]\n",
            "4000 [D loss supervised: 0.0005, acc.: 100.00%] [D loss unsupervised: 0.0705] [G loss: 3.322636]\n",
            "4100 [D loss supervised: 0.0003, acc.: 100.00%] [D loss unsupervised: 0.2168] [G loss: 4.050313]\n",
            "4200 [D loss supervised: 0.0004, acc.: 100.00%] [D loss unsupervised: 0.0688] [G loss: 5.468635]\n",
            "4300 [D loss supervised: 0.0001, acc.: 100.00%] [D loss unsupervised: 0.1774] [G loss: 3.014020]\n",
            "4400 [D loss supervised: 0.0003, acc.: 100.00%] [D loss unsupervised: 0.1466] [G loss: 7.409670]\n",
            "4500 [D loss supervised: 0.0004, acc.: 100.00%] [D loss unsupervised: 0.3313] [G loss: 6.091510]\n",
            "4600 [D loss supervised: 0.0005, acc.: 100.00%] [D loss unsupervised: 0.5807] [G loss: 3.465116]\n",
            "4700 [D loss supervised: 0.0008, acc.: 100.00%] [D loss unsupervised: 0.1103] [G loss: 3.967927]\n",
            "4800 [D loss supervised: 0.0005, acc.: 100.00%] [D loss unsupervised: 0.3319] [G loss: 3.117999]\n",
            "4900 [D loss supervised: 0.0002, acc.: 100.00%] [D loss unsupervised: 0.1431] [G loss: 5.564104]\n",
            "5000 [D loss supervised: 0.0025, acc.: 100.00%] [D loss unsupervised: 0.2131] [G loss: 5.521179]\n",
            "5100 [D loss supervised: 0.0007, acc.: 100.00%] [D loss unsupervised: 0.2927] [G loss: 5.509094]\n",
            "5200 [D loss supervised: 0.0001, acc.: 100.00%] [D loss unsupervised: 0.4138] [G loss: 4.051479]\n",
            "5300 [D loss supervised: 0.0004, acc.: 100.00%] [D loss unsupervised: 0.1114] [G loss: 5.264981]\n",
            "5400 [D loss supervised: 0.0005, acc.: 100.00%] [D loss unsupervised: 0.1025] [G loss: 5.315310]\n",
            "5500 [D loss supervised: 0.0004, acc.: 100.00%] [D loss unsupervised: 0.1309] [G loss: 5.544552]\n",
            "5600 [D loss supervised: 0.0004, acc.: 100.00%] [D loss unsupervised: 0.3039] [G loss: 4.279352]\n",
            "5700 [D loss supervised: 0.0006, acc.: 100.00%] [D loss unsupervised: 0.1257] [G loss: 2.687602]\n",
            "5800 [D loss supervised: 0.0010, acc.: 100.00%] [D loss unsupervised: 0.2295] [G loss: 3.681677]\n",
            "5900 [D loss supervised: 0.0001, acc.: 100.00%] [D loss unsupervised: 0.0804] [G loss: 5.049449]\n",
            "6000 [D loss supervised: 0.0004, acc.: 100.00%] [D loss unsupervised: 0.1100] [G loss: 5.902125]\n",
            "6100 [D loss supervised: 0.0018, acc.: 100.00%] [D loss unsupervised: 0.2499] [G loss: 2.496299]\n",
            "6200 [D loss supervised: 0.0011, acc.: 100.00%] [D loss unsupervised: 0.4002] [G loss: 3.240960]\n",
            "6300 [D loss supervised: 0.0002, acc.: 100.00%] [D loss unsupervised: 0.5039] [G loss: 3.111444]\n",
            "6400 [D loss supervised: 0.0003, acc.: 100.00%] [D loss unsupervised: 0.3112] [G loss: 4.935339]\n",
            "6500 [D loss supervised: 0.0001, acc.: 100.00%] [D loss unsupervised: 0.6173] [G loss: 1.928265]\n",
            "6600 [D loss supervised: 0.0023, acc.: 100.00%] [D loss unsupervised: 0.1615] [G loss: 2.943376]\n",
            "6700 [D loss supervised: 0.0000, acc.: 100.00%] [D loss unsupervised: 0.1107] [G loss: 4.117040]\n",
            "6800 [D loss supervised: 0.0001, acc.: 100.00%] [D loss unsupervised: 0.1711] [G loss: 3.226273]\n",
            "6900 [D loss supervised: 0.0002, acc.: 100.00%] [D loss unsupervised: 0.3522] [G loss: 3.655408]\n",
            "7000 [D loss supervised: 0.0001, acc.: 100.00%] [D loss unsupervised: 0.3426] [G loss: 2.226077]\n",
            "7100 [D loss supervised: 0.0002, acc.: 100.00%] [D loss unsupervised: 0.1917] [G loss: 4.317534]\n",
            "7200 [D loss supervised: 0.0001, acc.: 100.00%] [D loss unsupervised: 0.3234] [G loss: 2.910811]\n",
            "7300 [D loss supervised: 0.0003, acc.: 100.00%] [D loss unsupervised: 0.5501] [G loss: 3.207222]\n",
            "7400 [D loss supervised: 0.0001, acc.: 100.00%] [D loss unsupervised: 0.4792] [G loss: 4.110492]\n",
            "7500 [D loss supervised: 0.0002, acc.: 100.00%] [D loss unsupervised: 0.1507] [G loss: 4.567513]\n",
            "7600 [D loss supervised: 0.0001, acc.: 100.00%] [D loss unsupervised: 0.2958] [G loss: 3.474972]\n",
            "7700 [D loss supervised: 0.0007, acc.: 100.00%] [D loss unsupervised: 0.4151] [G loss: 2.376691]\n",
            "7800 [D loss supervised: 0.0001, acc.: 100.00%] [D loss unsupervised: 0.3412] [G loss: 1.880033]\n",
            "7900 [D loss supervised: 0.0000, acc.: 100.00%] [D loss unsupervised: 0.3039] [G loss: 2.474405]\n",
            "8000 [D loss supervised: 0.0002, acc.: 100.00%] [D loss unsupervised: 0.8170] [G loss: 4.271369]\n"
          ],
          "name": "stdout"
        }
      ]
    },
    {
      "cell_type": "code",
      "metadata": {
        "id": "9nr6YWqNszIj",
        "colab_type": "code",
        "outputId": "95a58fd0-159d-411a-d4f9-a931ec54e01c",
        "colab": {
          "base_uri": "https://localhost:8080/",
          "height": 1361
        }
      },
      "source": [
        "%ls models"
      ],
      "execution_count": 0,
      "outputs": [
        {
          "output_type": "stream",
          "text": [
            "discriminator_supervised-1000.h5  dis_super-1000.h5\n",
            "discriminator_supervised-100.h5   dis_super-100.h5\n",
            "discriminator_supervised-1100.h5  dis_super-1100.h5\n",
            "discriminator_supervised-1200.h5  dis_super-1200.h5\n",
            "discriminator_supervised-1300.h5  dis_super-1300.h5\n",
            "discriminator_supervised-1400.h5  dis_super-1400.h5\n",
            "discriminator_supervised-1500.h5  dis_super-1500.h5\n",
            "discriminator_supervised-1600.h5  dis_super-1600.h5\n",
            "discriminator_supervised-1700.h5  dis_super-1700.h5\n",
            "discriminator_supervised-1800.h5  dis_super-1800.h5\n",
            "discriminator_supervised-1900.h5  dis_super-1900.h5\n",
            "discriminator_supervised-2000.h5  dis_super-2000.h5\n",
            "discriminator_supervised-200.h5   dis_super-200.h5\n",
            "discriminator_supervised-2100.h5  dis_super-2100.h5\n",
            "discriminator_supervised-2200.h5  dis_super-2200.h5\n",
            "discriminator_supervised-2300.h5  dis_super-2300.h5\n",
            "discriminator_supervised-2400.h5  dis_super-2400.h5\n",
            "discriminator_supervised-2500.h5  dis_super-2500.h5\n",
            "discriminator_supervised-2600.h5  dis_super-2600.h5\n",
            "discriminator_supervised-2700.h5  dis_super-2700.h5\n",
            "discriminator_supervised-2800.h5  dis_super-2800.h5\n",
            "discriminator_supervised-2900.h5  dis_super-2900.h5\n",
            "discriminator_supervised-3000.h5  dis_super-3000.h5\n",
            "discriminator_supervised-300.h5   dis_super-300.h5\n",
            "discriminator_supervised-3100.h5  dis_super-3100.h5\n",
            "discriminator_supervised-3200.h5  dis_super-3200.h5\n",
            "discriminator_supervised-3300.h5  dis_super-3300.h5\n",
            "discriminator_supervised-3400.h5  dis_super-3400.h5\n",
            "discriminator_supervised-3500.h5  dis_super-3500.h5\n",
            "discriminator_supervised-3600.h5  dis_super-3600.h5\n",
            "discriminator_supervised-3700.h5  dis_super-3700.h5\n",
            "discriminator_supervised-3800.h5  dis_super-3800.h5\n",
            "discriminator_supervised-3900.h5  dis_super-3900.h5\n",
            "discriminator_supervised-4000.h5  dis_super-4000.h5\n",
            "discriminator_supervised-400.h5   dis_super-400.h5\n",
            "discriminator_supervised-4100.h5  dis_super-4100.h5\n",
            "discriminator_supervised-4200.h5  dis_super-4200.h5\n",
            "discriminator_supervised-4300.h5  dis_super-4300.h5\n",
            "discriminator_supervised-4400.h5  dis_super-4400.h5\n",
            "discriminator_supervised-4500.h5  dis_super-4500.h5\n",
            "discriminator_supervised-4600.h5  dis_super-4600.h5\n",
            "discriminator_supervised-4700.h5  dis_super-4700.h5\n",
            "discriminator_supervised-4800.h5  dis_super-4800.h5\n",
            "discriminator_supervised-4900.h5  dis_super-4900.h5\n",
            "discriminator_supervised-5000.h5  dis_super-5000.h5\n",
            "discriminator_supervised-500.h5   dis_super-500.h5\n",
            "discriminator_supervised-5100.h5  dis_super-5100.h5\n",
            "discriminator_supervised-5200.h5  dis_super-5200.h5\n",
            "discriminator_supervised-5300.h5  dis_super-5300.h5\n",
            "discriminator_supervised-5400.h5  dis_super-5400.h5\n",
            "discriminator_supervised-5500.h5  dis_super-5500.h5\n",
            "discriminator_supervised-5600.h5  dis_super-5600.h5\n",
            "discriminator_supervised-5700.h5  dis_super-5700.h5\n",
            "discriminator_supervised-5800.h5  dis_super-5800.h5\n",
            "discriminator_supervised-5900.h5  dis_super-5900.h5\n",
            "discriminator_supervised-6000.h5  dis_super-6000.h5\n",
            "discriminator_supervised-600.h5   dis_super-600.h5\n",
            "discriminator_supervised-6100.h5  dis_super-6100.h5\n",
            "discriminator_supervised-6200.h5  dis_super-6200.h5\n",
            "discriminator_supervised-6300.h5  dis_super-6300.h5\n",
            "discriminator_supervised-6400.h5  dis_super-6400.h5\n",
            "discriminator_supervised-6500.h5  dis_super-6500.h5\n",
            "discriminator_supervised-6600.h5  dis_super-6600.h5\n",
            "discriminator_supervised-6700.h5  dis_super-6700.h5\n",
            "discriminator_supervised-6800.h5  dis_super-6800.h5\n",
            "discriminator_supervised-6900.h5  dis_super-6900.h5\n",
            "discriminator_supervised-7000.h5  dis_super-7000.h5\n",
            "discriminator_supervised-700.h5   dis_super-700.h5\n",
            "discriminator_supervised-7100.h5  dis_super-7100.h5\n",
            "discriminator_supervised-7200.h5  dis_super-7200.h5\n",
            "discriminator_supervised-7300.h5  dis_super-7300.h5\n",
            "discriminator_supervised-7400.h5  dis_super-7400.h5\n",
            "discriminator_supervised-7500.h5  dis_super-7500.h5\n",
            "discriminator_supervised-7600.h5  dis_super-7600.h5\n",
            "discriminator_supervised-7700.h5  dis_super-7700.h5\n",
            "discriminator_supervised-7800.h5  dis_super-7800.h5\n",
            "discriminator_supervised-7900.h5  dis_super-7900.h5\n",
            "discriminator_supervised-8000.h5  dis_super-8000.h5\n",
            "discriminator_supervised-800.h5   dis_super-800.h5\n",
            "discriminator_supervised-900.h5   dis_super-900.h5\n"
          ],
          "name": "stdout"
        }
      ]
    },
    {
      "cell_type": "code",
      "metadata": {
        "id": "T98POkWe5IDh",
        "colab_type": "code",
        "outputId": "26585aa3-4770-48ab-e74e-507f26dc7221",
        "colab": {
          "base_uri": "https://localhost:8080/",
          "height": 382
        }
      },
      "source": [
        "supervised_losses = np.array(supervised_losses)\n",
        "unsupervised_losses = np.array(unsupervised_losses)\n",
        "g_losses = np.array(g_losses)\n",
        "\n",
        "# Plot Discriminator supervised loss\n",
        "plt.figure(figsize=(15, 5))\n",
        "plt.plot(iteration_checkpoints, supervised_losses, label=\"Discriminator supervised loss\", color='tab:blue')\n",
        "plt.plot(iteration_checkpoints, unsupervised_losses, label=\"Discriminator unsupervised loss\", color='tab:green')\n",
        "plt.plot(iteration_checkpoints, g_losses, label=\"Generator supervised loss\", color='tab:red')\n",
        "\n",
        "plt.xticks(iteration_checkpoints, rotation=90)\n",
        "\n",
        "plt.title(\"Discriminator(supervised + unsupervised) + Generator Loss\")\n",
        "plt.xlabel(\"Iteration\")\n",
        "plt.ylabel(\"Loss\")\n",
        "plt.legend()"
      ],
      "execution_count": 0,
      "outputs": [
        {
          "output_type": "execute_result",
          "data": {
            "text/plain": [
              "<matplotlib.legend.Legend at 0x7fa5789c2f60>"
            ]
          },
          "metadata": {
            "tags": []
          },
          "execution_count": 55
        },
        {
          "output_type": "display_data",
          "data": {
            "image/png": "[encoded data removed]",
            "text/plain": [
              "<Figure size 1080x360 with 1 Axes>"
            ]
          },
          "metadata": {
            "tags": []
          }
        }
      ]
    },
    {
      "cell_type": "code",
      "metadata": {
        "id": "F61dqQWQ3ri6",
        "colab_type": "code",
        "outputId": "5616b5fe-be2c-40c5-ac2d-787580e991e6",
        "colab": {
          "base_uri": "https://localhost:8080/",
          "height": 34
        }
      },
      "source": [
        "print(supervised_losses[-10:])"
      ],
      "execution_count": 0,
      "outputs": [
        {
          "output_type": "stream",
          "text": [
            "[0.00017288796, 8.089666e-05, 0.00030267364, 0.00014982608, 0.0002316281, 9.00905e-05, 0.0007206007, 9.171589e-05, 2.8125163e-05, 0.00022921935]\n"
          ],
          "name": "stdout"
        }
      ]
    },
    {
      "cell_type": "markdown",
      "metadata": {
        "id": "PScPJocN5IDk",
        "colab_type": "text"
      },
      "source": [
        "## SGAN Classifier – Training and Test Accuracy "
      ]
    },
    {
      "cell_type": "code",
      "metadata": {
        "id": "e6BmzAGk5IDl",
        "colab_type": "code",
        "outputId": "f61001cb-fed1-4745-9880-d0a83973091f",
        "colab": {
          "base_uri": "https://localhost:8080/",
          "height": 50
        }
      },
      "source": [
        "x, y = dataset.training_set()\n",
        "y = to_categorical(y, num_classes=num_classes)\n",
        "\n",
        "# Compute classification accuracy on the training set\n",
        "_, accuracy = discriminator_supervised.evaluate(x, y)\n",
        "print(\"Training Accuracy: %.2f%%\" % (100 * accuracy))"
      ],
      "execution_count": 0,
      "outputs": [
        {
          "output_type": "stream",
          "text": [
            "100/100 [==============================] - 0s 139us/step\n",
            "Training Accuracy: 100.00%\n"
          ],
          "name": "stdout"
        }
      ]
    },
    {
      "cell_type": "code",
      "metadata": {
        "id": "ctWFp3zX5IDo",
        "colab_type": "code",
        "outputId": "74b072c8-07d0-4b60-9f29-33388a3df487",
        "colab": {
          "base_uri": "https://localhost:8080/",
          "height": 50
        }
      },
      "source": [
        "x, y = dataset.test_set()\n",
        "y = to_categorical(y, num_classes=num_classes)\n",
        "\n",
        "# Compute classification accuracy on the test set\n",
        "_, accuracy = discriminator_supervised.evaluate(x, y)\n",
        "print(\"Test Accuracy: %.2f%%\" % (100 * accuracy))"
      ],
      "execution_count": 0,
      "outputs": [
        {
          "output_type": "stream",
          "text": [
            "10000/10000 [==============================] - 1s 94us/step\n",
            "Test Accuracy: 84.15%\n"
          ],
          "name": "stdout"
        }
      ]
    },
    {
      "cell_type": "markdown",
      "metadata": {
        "id": "s1IMxeNa5IDu",
        "colab_type": "text"
      },
      "source": [
        "---"
      ]
    },
    {
      "cell_type": "markdown",
      "metadata": {
        "id": "VDMoAU1r5IDv",
        "colab_type": "text"
      },
      "source": [
        "# Fully-Supervised Classifier"
      ]
    },
    {
      "cell_type": "code",
      "metadata": {
        "id": "TA4C3_RL5IDx",
        "colab_type": "code",
        "colab": {}
      },
      "source": [
        "# Fully supervised classifier with the same network architecture as the SGAN Discriminator\n",
        "mnist_classifier = build_discriminator_supervised(build_discriminator_net(img_shape))\n",
        "mnist_classifier.compile(loss='categorical_crossentropy',\n",
        "                         metrics=['accuracy'],\n",
        "                         optimizer=Adam())"
      ],
      "execution_count": 0,
      "outputs": []
    },
    {
      "cell_type": "code",
      "metadata": {
        "id": "zlJkb5fN5ID3",
        "colab_type": "code",
        "outputId": "65a0d6d8-3ee1-4c98-fe6f-530fa1fda539",
        "colab": {
          "base_uri": "https://localhost:8080/",
          "height": 1000
        }
      },
      "source": [
        "imgs, labels = dataset.training_set()\n",
        "imgs = imgs[:num_labeled]\n",
        "labels = labels[:num_labeled]\n",
        "\n",
        "# One-hot encode labels\n",
        "labels = to_categorical(labels, num_classes=num_classes)\n",
        "\n",
        "# Train the classifier\n",
        "training = mnist_classifier.fit(x=imgs,\n",
        "                                y=labels,\n",
        "                                batch_size=32,\n",
        "                                epochs=100,\n",
        "                                verbose=1)\n",
        "losses = training.history['loss']\n",
        "accuracies = training.history['acc']"
      ],
      "execution_count": 25,
      "outputs": [
        {
          "output_type": "stream",
          "text": [
            "Epoch 1/100\n",
            "100/100 [==============================] - 0s 331us/step - loss: 1.3241e-05 - acc: 1.0000\n",
            "Epoch 2/100\n",
            "100/100 [==============================] - 0s 264us/step - loss: 1.8888e-05 - acc: 1.0000\n",
            "Epoch 3/100\n",
            "100/100 [==============================] - 0s 272us/step - loss: 1.4666e-05 - acc: 1.0000\n",
            "Epoch 4/100\n",
            "100/100 [==============================] - 0s 260us/step - loss: 2.6426e-05 - acc: 1.0000\n",
            "Epoch 5/100\n",
            "100/100 [==============================] - 0s 280us/step - loss: 2.8862e-05 - acc: 1.0000\n",
            "Epoch 6/100\n",
            "100/100 [==============================] - 0s 263us/step - loss: 2.2412e-05 - acc: 1.0000\n",
            "Epoch 7/100\n",
            "100/100 [==============================] - 0s 264us/step - loss: 3.0753e-05 - acc: 1.0000\n",
            "Epoch 8/100\n",
            "100/100 [==============================] - 0s 261us/step - loss: 1.7432e-05 - acc: 1.0000\n",
            "Epoch 9/100\n",
            "100/100 [==============================] - 0s 331us/step - loss: 1.0383e-04 - acc: 1.0000\n",
            "Epoch 10/100\n",
            "100/100 [==============================] - 0s 303us/step - loss: 4.9816e-05 - acc: 1.0000\n",
            "Epoch 11/100\n",
            "100/100 [==============================] - 0s 277us/step - loss: 1.8418e-05 - acc: 1.0000\n",
            "Epoch 12/100\n",
            "100/100 [==============================] - 0s 268us/step - loss: 1.3106e-05 - acc: 1.0000\n",
            "Epoch 13/100\n",
            "100/100 [==============================] - 0s 266us/step - loss: 2.8312e-05 - acc: 1.0000\n",
            "Epoch 14/100\n",
            "100/100 [==============================] - 0s 266us/step - loss: 2.1329e-05 - acc: 1.0000\n",
            "Epoch 15/100\n",
            "100/100 [==============================] - 0s 298us/step - loss: 3.0385e-05 - acc: 1.0000\n",
            "Epoch 16/100\n",
            "100/100 [==============================] - 0s 279us/step - loss: 1.3990e-05 - acc: 1.0000\n",
            "Epoch 17/100\n",
            "100/100 [==============================] - 0s 271us/step - loss: 2.5388e-05 - acc: 1.0000\n",
            "Epoch 18/100\n",
            "100/100 [==============================] - 0s 293us/step - loss: 1.7235e-05 - acc: 1.0000\n",
            "Epoch 19/100\n",
            "100/100 [==============================] - 0s 302us/step - loss: 1.1069e-05 - acc: 1.0000\n",
            "Epoch 20/100\n",
            "100/100 [==============================] - 0s 264us/step - loss: 1.5140e-05 - acc: 1.0000\n",
            "Epoch 21/100\n",
            "100/100 [==============================] - 0s 278us/step - loss: 1.8934e-05 - acc: 1.0000\n",
            "Epoch 22/100\n",
            "100/100 [==============================] - 0s 365us/step - loss: 1.6950e-05 - acc: 1.0000\n",
            "Epoch 23/100\n",
            "100/100 [==============================] - 0s 266us/step - loss: 2.3046e-05 - acc: 1.0000\n",
            "Epoch 24/100\n",
            "100/100 [==============================] - 0s 274us/step - loss: 1.5748e-05 - acc: 1.0000\n",
            "Epoch 25/100\n",
            "100/100 [==============================] - 0s 277us/step - loss: 2.6713e-05 - acc: 1.0000\n",
            "Epoch 26/100\n",
            "100/100 [==============================] - 0s 288us/step - loss: 2.3481e-05 - acc: 1.0000\n",
            "Epoch 27/100\n",
            "100/100 [==============================] - 0s 272us/step - loss: 1.4216e-05 - acc: 1.0000\n",
            "Epoch 28/100\n",
            "100/100 [==============================] - 0s 259us/step - loss: 1.7001e-05 - acc: 1.0000\n",
            "Epoch 29/100\n",
            "100/100 [==============================] - 0s 289us/step - loss: 2.2326e-05 - acc: 1.0000\n",
            "Epoch 30/100\n",
            "100/100 [==============================] - 0s 281us/step - loss: 3.4323e-05 - acc: 1.0000\n",
            "Epoch 31/100\n",
            "100/100 [==============================] - 0s 287us/step - loss: 2.0869e-05 - acc: 1.0000\n",
            "Epoch 32/100\n",
            "100/100 [==============================] - 0s 286us/step - loss: 1.2982e-05 - acc: 1.0000\n",
            "Epoch 33/100\n",
            "100/100 [==============================] - 0s 273us/step - loss: 1.2743e-05 - acc: 1.0000\n",
            "Epoch 34/100\n",
            "100/100 [==============================] - 0s 271us/step - loss: 1.4669e-05 - acc: 1.0000\n",
            "Epoch 35/100\n",
            "100/100 [==============================] - 0s 280us/step - loss: 1.7384e-05 - acc: 1.0000\n",
            "Epoch 36/100\n",
            "100/100 [==============================] - 0s 261us/step - loss: 1.5651e-05 - acc: 1.0000\n",
            "Epoch 37/100\n",
            "100/100 [==============================] - 0s 291us/step - loss: 2.7832e-05 - acc: 1.0000\n",
            "Epoch 38/100\n",
            "100/100 [==============================] - 0s 276us/step - loss: 1.4926e-05 - acc: 1.0000\n",
            "Epoch 39/100\n",
            "100/100 [==============================] - 0s 282us/step - loss: 9.3909e-06 - acc: 1.0000\n",
            "Epoch 40/100\n",
            "100/100 [==============================] - 0s 304us/step - loss: 1.9476e-05 - acc: 1.0000\n",
            "Epoch 41/100\n",
            "100/100 [==============================] - 0s 252us/step - loss: 2.0260e-05 - acc: 1.0000\n",
            "Epoch 42/100\n",
            "100/100 [==============================] - 0s 307us/step - loss: 2.7241e-05 - acc: 1.0000\n",
            "Epoch 43/100\n",
            "100/100 [==============================] - 0s 263us/step - loss: 1.8617e-05 - acc: 1.0000\n",
            "Epoch 44/100\n",
            "100/100 [==============================] - 0s 299us/step - loss: 1.9275e-05 - acc: 1.0000\n",
            "Epoch 45/100\n",
            "100/100 [==============================] - 0s 281us/step - loss: 1.7820e-05 - acc: 1.0000\n",
            "Epoch 46/100\n",
            "100/100 [==============================] - 0s 283us/step - loss: 1.6656e-05 - acc: 1.0000\n",
            "Epoch 47/100\n",
            "100/100 [==============================] - 0s 284us/step - loss: 1.4320e-05 - acc: 1.0000\n",
            "Epoch 48/100\n",
            "100/100 [==============================] - 0s 271us/step - loss: 2.4965e-05 - acc: 1.0000\n",
            "Epoch 49/100\n",
            "100/100 [==============================] - 0s 293us/step - loss: 1.7543e-05 - acc: 1.0000\n",
            "Epoch 50/100\n",
            "100/100 [==============================] - 0s 281us/step - loss: 1.4853e-05 - acc: 1.0000\n",
            "Epoch 51/100\n",
            "100/100 [==============================] - 0s 258us/step - loss: 1.1644e-05 - acc: 1.0000\n",
            "Epoch 52/100\n",
            "100/100 [==============================] - 0s 313us/step - loss: 1.7218e-05 - acc: 1.0000\n",
            "Epoch 53/100\n",
            "100/100 [==============================] - 0s 299us/step - loss: 1.5537e-05 - acc: 1.0000\n",
            "Epoch 54/100\n",
            "100/100 [==============================] - 0s 288us/step - loss: 1.9581e-05 - acc: 1.0000\n",
            "Epoch 55/100\n",
            "100/100 [==============================] - 0s 263us/step - loss: 1.2994e-05 - acc: 1.0000\n",
            "Epoch 56/100\n",
            "100/100 [==============================] - 0s 311us/step - loss: 2.5380e-05 - acc: 1.0000\n",
            "Epoch 57/100\n",
            "100/100 [==============================] - 0s 334us/step - loss: 2.1287e-05 - acc: 1.0000\n",
            "Epoch 58/100\n",
            "100/100 [==============================] - 0s 267us/step - loss: 1.4580e-05 - acc: 1.0000\n",
            "Epoch 59/100\n",
            "100/100 [==============================] - 0s 256us/step - loss: 1.5207e-05 - acc: 1.0000\n",
            "Epoch 60/100\n",
            "100/100 [==============================] - 0s 271us/step - loss: 2.7505e-05 - acc: 1.0000\n",
            "Epoch 61/100\n",
            "100/100 [==============================] - 0s 273us/step - loss: 2.4573e-05 - acc: 1.0000\n",
            "Epoch 62/100\n",
            "100/100 [==============================] - 0s 285us/step - loss: 3.0699e-05 - acc: 1.0000\n",
            "Epoch 63/100\n",
            "100/100 [==============================] - 0s 300us/step - loss: 2.4052e-05 - acc: 1.0000\n",
            "Epoch 64/100\n",
            "100/100 [==============================] - 0s 339us/step - loss: 1.9879e-05 - acc: 1.0000\n",
            "Epoch 65/100\n",
            "100/100 [==============================] - 0s 328us/step - loss: 2.5530e-05 - acc: 1.0000\n",
            "Epoch 66/100\n",
            "100/100 [==============================] - 0s 289us/step - loss: 2.7059e-05 - acc: 1.0000\n",
            "Epoch 67/100\n",
            "100/100 [==============================] - 0s 258us/step - loss: 1.0805e-05 - acc: 1.0000\n",
            "Epoch 68/100\n",
            "100/100 [==============================] - 0s 267us/step - loss: 2.8721e-05 - acc: 1.0000\n",
            "Epoch 69/100\n",
            "100/100 [==============================] - 0s 267us/step - loss: 1.8582e-05 - acc: 1.0000\n",
            "Epoch 70/100\n",
            "100/100 [==============================] - 0s 274us/step - loss: 1.3977e-05 - acc: 1.0000\n",
            "Epoch 71/100\n",
            "100/100 [==============================] - 0s 256us/step - loss: 1.1793e-05 - acc: 1.0000\n",
            "Epoch 72/100\n",
            "100/100 [==============================] - 0s 287us/step - loss: 1.0565e-05 - acc: 1.0000\n",
            "Epoch 73/100\n",
            "100/100 [==============================] - 0s 289us/step - loss: 1.5632e-05 - acc: 1.0000\n",
            "Epoch 74/100\n",
            "100/100 [==============================] - 0s 281us/step - loss: 1.5087e-05 - acc: 1.0000\n",
            "Epoch 75/100\n",
            "100/100 [==============================] - 0s 276us/step - loss: 1.6091e-05 - acc: 1.0000\n",
            "Epoch 76/100\n",
            "100/100 [==============================] - 0s 269us/step - loss: 1.6402e-05 - acc: 1.0000\n",
            "Epoch 77/100\n",
            "100/100 [==============================] - 0s 273us/step - loss: 1.6523e-05 - acc: 1.0000\n",
            "Epoch 78/100\n",
            "100/100 [==============================] - 0s 278us/step - loss: 1.8760e-05 - acc: 1.0000\n",
            "Epoch 79/100\n",
            "100/100 [==============================] - 0s 329us/step - loss: 1.1763e-05 - acc: 1.0000\n",
            "Epoch 80/100\n",
            "100/100 [==============================] - 0s 293us/step - loss: 1.9129e-05 - acc: 1.0000\n",
            "Epoch 81/100\n",
            "100/100 [==============================] - 0s 286us/step - loss: 1.3885e-05 - acc: 1.0000\n",
            "Epoch 82/100\n",
            "100/100 [==============================] - 0s 288us/step - loss: 1.1450e-05 - acc: 1.0000\n",
            "Epoch 83/100\n",
            "100/100 [==============================] - 0s 295us/step - loss: 1.7032e-05 - acc: 1.0000\n",
            "Epoch 84/100\n",
            "100/100 [==============================] - 0s 302us/step - loss: 1.2204e-05 - acc: 1.0000\n",
            "Epoch 85/100\n",
            "100/100 [==============================] - 0s 264us/step - loss: 1.9221e-05 - acc: 1.0000\n",
            "Epoch 86/100\n",
            "100/100 [==============================] - 0s 272us/step - loss: 2.0981e-05 - acc: 1.0000\n",
            "Epoch 87/100\n",
            "100/100 [==============================] - 0s 271us/step - loss: 1.6894e-05 - acc: 1.0000\n",
            "Epoch 88/100\n",
            "100/100 [==============================] - 0s 288us/step - loss: 2.1556e-05 - acc: 1.0000\n",
            "Epoch 89/100\n",
            "100/100 [==============================] - 0s 256us/step - loss: 1.4567e-05 - acc: 1.0000\n",
            "Epoch 90/100\n",
            "100/100 [==============================] - 0s 277us/step - loss: 2.2548e-05 - acc: 1.0000\n",
            "Epoch 91/100\n",
            "100/100 [==============================] - 0s 300us/step - loss: 2.0601e-05 - acc: 1.0000\n",
            "Epoch 92/100\n",
            "100/100 [==============================] - 0s 364us/step - loss: 1.9940e-05 - acc: 1.0000\n",
            "Epoch 93/100\n",
            "100/100 [==============================] - 0s 266us/step - loss: 1.8811e-05 - acc: 1.0000\n",
            "Epoch 94/100\n",
            "100/100 [==============================] - 0s 274us/step - loss: 1.2087e-05 - acc: 1.0000\n",
            "Epoch 95/100\n",
            "100/100 [==============================] - 0s 260us/step - loss: 2.0733e-05 - acc: 1.0000\n",
            "Epoch 96/100\n",
            "100/100 [==============================] - 0s 270us/step - loss: 2.9150e-05 - acc: 1.0000\n",
            "Epoch 97/100\n",
            "100/100 [==============================] - 0s 295us/step - loss: 1.1791e-05 - acc: 1.0000\n",
            "Epoch 98/100\n",
            "100/100 [==============================] - 0s 279us/step - loss: 2.0703e-05 - acc: 1.0000\n",
            "Epoch 99/100\n",
            "100/100 [==============================] - 0s 315us/step - loss: 7.8972e-06 - acc: 1.0000\n",
            "Epoch 100/100\n",
            "100/100 [==============================] - 0s 288us/step - loss: 1.4622e-05 - acc: 1.0000\n"
          ],
          "name": "stdout"
        }
      ]
    },
    {
      "cell_type": "code",
      "metadata": {
        "id": "JZYhSXjS5ID8",
        "colab_type": "code",
        "outputId": "bbb96588-496a-4bd2-dbe7-61fcadfdf5a5",
        "colab": {
          "base_uri": "https://localhost:8080/",
          "height": 353
        }
      },
      "source": [
        "# Plot classification loss\n",
        "plt.figure(figsize=(10, 5))\n",
        "plt.plot(np.array(losses), label=\"Loss\")\n",
        "plt.title(\"Classification Loss\")\n",
        "plt.legend()"
      ],
      "execution_count": 17,
      "outputs": [
        {
          "output_type": "execute_result",
          "data": {
            "text/plain": [
              "<matplotlib.legend.Legend at 0x7f2a5363f518>"
            ]
          },
          "metadata": {
            "tags": []
          },
          "execution_count": 17
        },
        {
          "output_type": "display_data",
          "data": {
            "image/png": "[encoded data removed]",
            "text/plain": [
              "<Figure size 720x360 with 1 Axes>"
            ]
          },
          "metadata": {
            "tags": []
          }
        }
      ]
    },
    {
      "cell_type": "code",
      "metadata": {
        "id": "1OX9tt085ID_",
        "colab_type": "code",
        "outputId": "cb2f3a75-866d-4d89-bdd7-f3a7a6981efb",
        "colab": {
          "base_uri": "https://localhost:8080/",
          "height": 353
        }
      },
      "source": [
        "# Plot classification accuracy\n",
        "plt.figure(figsize=(10, 5))\n",
        "plt.plot(np.array(accuracies), label=\"Accuracy\")\n",
        "plt.title(\"Classification Accuracy\")\n",
        "plt.legend()"
      ],
      "execution_count": 18,
      "outputs": [
        {
          "output_type": "execute_result",
          "data": {
            "text/plain": [
              "<matplotlib.legend.Legend at 0x7f2a8d796518>"
            ]
          },
          "metadata": {
            "tags": []
          },
          "execution_count": 18
        },
        {
          "output_type": "display_data",
          "data": {
            "image/png": "[encoded data removed]",
            "text/plain": [
              "<Figure size 720x360 with 1 Axes>"
            ]
          },
          "metadata": {
            "tags": []
          }
        }
      ]
    },
    {
      "cell_type": "code",
      "metadata": {
        "id": "6oMPnpnR5IEB",
        "colab_type": "code",
        "outputId": "8be593a2-8876-478e-a6ce-62b8e229c6fd",
        "colab": {
          "base_uri": "https://localhost:8080/",
          "height": 50
        }
      },
      "source": [
        "x, y = dataset.training_set()\n",
        "y = to_categorical(y, num_classes=num_classes)\n",
        "\n",
        "# Compute classification accuracy on the training set\n",
        "_, accuracy = mnist_classifier.evaluate(x, y)\n",
        "print(\"Training Accuracy: %.2f%%\" % (100 * accuracy))"
      ],
      "execution_count": 19,
      "outputs": [
        {
          "output_type": "stream",
          "text": [
            "100/100 [==============================] - 0s 2ms/step\n",
            "Training Accuracy: 100.00%\n"
          ],
          "name": "stdout"
        }
      ]
    },
    {
      "cell_type": "code",
      "metadata": {
        "id": "x2B2kNsq5IEF",
        "colab_type": "code",
        "outputId": "116094d0-a4ca-481f-f1f2-0ba7f70c563e",
        "colab": {
          "base_uri": "https://localhost:8080/",
          "height": 50
        }
      },
      "source": [
        "x, y = dataset.test_set()\n",
        "y = to_categorical(y, num_classes=num_classes)\n",
        "\n",
        "# Compute classification accuracy on the test set\n",
        "_, accuracy = mnist_classifier.evaluate(x, y)\n",
        "print(\"Test Accuracy: %.2f%%\" % (100 * accuracy))"
      ],
      "execution_count": 26,
      "outputs": [
        {
          "output_type": "stream",
          "text": [
            "10000/10000 [==============================] - 1s 64us/step\n",
            "Test Accuracy: 73.04%\n"
          ],
          "name": "stdout"
        }
      ]
    },
    {
      "cell_type": "markdown",
      "metadata": {
        "id": "UexjatKq5IEJ",
        "colab_type": "text"
      },
      "source": [
        "---"
      ]
    }
  ]
}