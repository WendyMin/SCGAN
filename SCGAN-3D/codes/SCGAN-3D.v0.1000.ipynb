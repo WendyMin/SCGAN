{
  "nbformat": 4,
  "nbformat_minor": 0,
  "metadata": {
    "colab": {
      "name": "SCGAN.3D.v0.ipynb",
      "provenance": [],
      "collapsed_sections": []
    },
    "kernelspec": {
      "name": "python3",
      "display_name": "Python 3"
    }
  },
  "cells": [
    {
      "cell_type": "code",
      "metadata": {
        "id": "FUVVfFuHbJUj",
        "colab_type": "code",
        "colab": {
          "base_uri": "https://localhost:8080/",
          "height": 121
        },
        "outputId": "60c917d1-4a10-4f8f-ef49-53c27e1e45c6"
      },
      "source": [
        "from google.colab import drive\n",
        "drive.mount('/content/drive')"
      ],
      "execution_count": 2,
      "outputs": [
        {
          "output_type": "stream",
          "text": [
            "Go to this URL in a browser: https://accounts.google.com/o/oauth2/auth?client_id=947318989803-6bn6qk8qdgf4n4g3pfee6491hc0brc4i.apps.googleusercontent.com&redirect_uri=urn%3aietf%3awg%3aoauth%3a2.0%3aoob&response_type=code&scope=email%20https%3a%2f%2fwww.googleapis.com%2fauth%2fdocs.test%20https%3a%2f%2fwww.googleapis.com%2fauth%2fdrive%20https%3a%2f%2fwww.googleapis.com%2fauth%2fdrive.photos.readonly%20https%3a%2f%2fwww.googleapis.com%2fauth%2fpeopleapi.readonly\n",
            "\n",
            "Enter your authorization code:\n",
            "··········\n",
            "Mounted at /content/drive\n"
          ],
          "name": "stdout"
        }
      ]
    },
    {
      "cell_type": "code",
      "metadata": {
        "id": "HNUlp2NCamGk",
        "colab_type": "code",
        "colab": {
          "base_uri": "https://localhost:8080/",
          "height": 185
        },
        "outputId": "fb824520-ed35-4c78-ad4f-12766b8f2ff7"
      },
      "source": [
        "!ls drive/'My Drive'/'Colab Notebooks'"
      ],
      "execution_count": 11,
      "outputs": [
        {
          "output_type": "stream",
          "text": [
            " 03_CGAN_MNIST.ipynb\t\t    mean-teacher-master\n",
            "'Chapter_7_SGAN (1).ipynb'\t   'mean teacher.v0.mine.ipynb'\n",
            "'Chapter_7_SGAN (2).ipynb'\t   'Mean Teacher.v1.ipynb'\n",
            " Chapter_7_SGAN.ipynb\t\t   'SCGAN (1).v1.ipynb'\n",
            " Chapter_8_CGAN.ipynb\t\t    SCGAN.v1.ipynb\n",
            "'Chapter_8_CGAN - 副本 (1).ipynb'   SSGAN-Tensorflow-master\n",
            "'Chapter_8_CGAN - 副本.ipynb'\t    Untitled0.ipynb\n",
            " dcgan.ipynb\t\t\t    Untitled1.ipynb\n",
            " full_dataset_vectors.h5\t    Untitled2.ipynb\n",
            " GAN-tmp.ipynb\n"
          ],
          "name": "stdout"
        }
      ]
    },
    {
      "cell_type": "code",
      "metadata": {
        "id": "OuZpkFmI0fnX",
        "colab_type": "code",
        "colab": {
          "base_uri": "https://localhost:8080/",
          "height": 79
        },
        "outputId": "7a8d283e-1260-4fa3-fe21-e86481be3edd"
      },
      "source": [
        "%matplotlib inline\n",
        "\n",
        "import matplotlib.pyplot as plt\n",
        "import numpy as np\n",
        "import json\n",
        "import time\n",
        "import h5py\n",
        "\n",
        "from keras import backend as K\n",
        "import tensorflow as tf\n",
        "import keras\n",
        "import plotly.graph_objs as go\n",
        "from matplotlib.pyplot import cm\n",
        "import plotly.graph_objs as go\n",
        "\n",
        "from keras.datasets import mnist\n",
        "from keras.layers import (Activation, BatchNormalization, Concatenate, Dense,\n",
        "                          Dropout, Flatten, Input, Lambda, Reshape, Embedding,\n",
        "                          Multiply, MaxPool3D)\n",
        "from keras.layers.advanced_activations import LeakyReLU\n",
        "from keras.layers.convolutional import Conv2D, Conv2DTranspose, Conv3D, Conv3DTranspose\n",
        "from keras.models import Model, Sequential, load_model\n",
        "from keras.optimizers import Adam\n",
        "from keras.utils import to_categorical\n",
        "from keras.utils.vis_utils import plot_model"
      ],
      "execution_count": 12,
      "outputs": [
        {
          "output_type": "stream",
          "text": [
            "Using TensorFlow backend.\n"
          ],
          "name": "stderr"
        },
        {
          "output_type": "display_data",
          "data": {
            "text/html": [
              "<p style=\"color: red;\">\n",
              "The default version of TensorFlow in Colab will soon switch to TensorFlow 2.x.<br>\n",
              "We recommend you <a href=\"https://www.tensorflow.org/guide/migrate\" target=\"_blank\">upgrade</a> now \n",
              "or ensure your notebook will continue to use TensorFlow 1.x via the <code>%tensorflow_version 1.x</code> magic:\n",
              "<a href=\"https://colab.research.google.com/notebooks/tensorflow_version.ipynb\" target=\"_blank\">more info</a>.</p>\n"
            ],
            "text/plain": [
              "<IPython.core.display.HTML object>"
            ]
          },
          "metadata": {
            "tags": []
          }
        }
      ]
    },
    {
      "cell_type": "code",
      "metadata": {
        "id": "EUhqW5mV08L6",
        "colab_type": "code",
        "colab": {}
      },
      "source": [
        "with h5py.File('drive/My Drive/Colab Notebooks/full_dataset_vectors.h5', 'r') as mnist3d:\n",
        "    x_train = mnist3d[\"X_train\"][:]\n",
        "    x_test = mnist3d[\"X_test\"][:]\n",
        "    y_train = mnist3d[\"y_train\"][:]\n",
        "    y_test = mnist3d[\"y_test\"][:]"
      ],
      "execution_count": 0,
      "outputs": []
    },
    {
      "cell_type": "code",
      "metadata": {
        "id": "jaGZHtrO1Kyo",
        "colab_type": "code",
        "colab": {
          "base_uri": "https://localhost:8080/",
          "height": 84
        },
        "outputId": "a6f84d4d-7f5d-4892-d456-ba1b18c149c5"
      },
      "source": [
        "print (\"x_train shape: \", x_train.shape)\n",
        "print (\"y_train shape: \", y_train.shape)\n",
        "print (\"x_test shape:  \", x_test.shape)\n",
        "print (\"y_test shape:  \", y_test.shape)"
      ],
      "execution_count": 17,
      "outputs": [
        {
          "output_type": "stream",
          "text": [
            "x_train shape:  (10000, 4096)\n",
            "y_train shape:  (10000,)\n",
            "x_test shape:   (2000, 4096)\n",
            "y_test shape:   (2000,)\n"
          ],
          "name": "stdout"
        }
      ]
    },
    {
      "cell_type": "code",
      "metadata": {
        "id": "CgmiwjjF1hLq",
        "colab_type": "code",
        "colab": {}
      },
      "source": [
        "# def array_to_color(array, cmap=\"Oranges\"):\n",
        "#     s_m = plt.cm.ScalarMappable(cmap=cmap)\n",
        "#     return s_m.to_rgba(array)[:,:-1]\n",
        "\n",
        "# # Transform data from 1d to 3d rgb\n",
        "# def rgb_data_transform(data):\n",
        "#     data_t = []\n",
        "#     for i in range(data.shape[0]):\n",
        "#         data_t.append(array_to_color(data[i]).reshape(16, 16, 16, 3))\n",
        "#     return np.asarray(data_t, dtype=np.float32)\n",
        "  \n",
        "# xtrain = rgb_data_transform(x_train)\n",
        "# xtest = rgb_data_transform(x_test)\n",
        "\n",
        "\n",
        "## Introduce the channel dimention in the input dataset \n",
        "xtrain = np.ndarray((x_train.shape[0], 4096, 3))\n",
        "xtest = np.ndarray((x_test.shape[0], 4096, 3))\n",
        "\n",
        "## iterate in train and test, add the rgb dimention \n",
        "def add_rgb_dimention(array):\n",
        "    scaler_map = cm.ScalarMappable(cmap=\"Oranges\")\n",
        "    array = scaler_map.to_rgba(array)[:, : -1]\n",
        "    return array\n",
        "for i in range(x_train.shape[0]):\n",
        "    xtrain[i] = add_rgb_dimention(x_train[i])\n",
        "for i in range(x_test.shape[0]):\n",
        "    xtest[i] = add_rgb_dimention(x_test[i])\n",
        "\n",
        "## convert to 1 + 4D space (1st argument represents number of rows in the dataset)\n",
        "xtrain = xtrain.reshape(x_train.shape[0], 16, 16, 16, 3)\n",
        "xtest = xtest.reshape(x_test.shape[0], 16, 16, 16, 3)\n",
        "\n",
        "## convert target variable into one-hot\n",
        "ytrain = keras.utils.to_categorical(y_train, 10)\n",
        "ytest = keras.utils.to_categorical(y_test, 10)"
      ],
      "execution_count": 0,
      "outputs": []
    },
    {
      "cell_type": "code",
      "metadata": {
        "id": "jyE4Cuqt1mOJ",
        "colab_type": "code",
        "colab": {
          "base_uri": "https://localhost:8080/",
          "height": 67
        },
        "outputId": "d42ddbdf-4d8f-4a05-c113-8bc2ee22d068"
      },
      "source": [
        "print(xtrain.shape)\n",
        "print(y_train.shape)\n",
        "print(ytrain.shape)"
      ],
      "execution_count": 99,
      "outputs": [
        {
          "output_type": "stream",
          "text": [
            "(10000, 16, 16, 16, 3)\n",
            "(10000,)\n",
            "(10000, 10)\n"
          ],
          "name": "stdout"
        }
      ]
    },
    {
      "cell_type": "code",
      "metadata": {
        "id": "CKFoefB24--m",
        "colab_type": "code",
        "colab": {}
      },
      "source": [
        "class Dataset:\n",
        "    def __init__(self, num_labeled):\n",
        "\n",
        "        # Number labeled examples to use for training\n",
        "        self.num_labeled = num_labeled\n",
        "\n",
        "        # Load the MNIST dataset\n",
        "        self.x_train, self.y_train, self.x_test, self.y_test = xtrain, y_train, xtest, y_test\n",
        "\n",
        "    def batch_labeled(self, batch_size):\n",
        "        # Get a random batch of labeled images and their labels\n",
        "        idx = np.random.randint(0, self.num_labeled, batch_size)\n",
        "        imgs = self.x_train[idx]\n",
        "        labels = self.y_train[idx]\n",
        "        return imgs, labels\n",
        "\n",
        "    def batch_unlabeled(self, batch_size):\n",
        "        # Get a random batch of unlabeled images\n",
        "        idx = np.random.randint(self.num_labeled, self.x_train.shape[0],\n",
        "                                batch_size)\n",
        "        imgs = self.x_train[idx]\n",
        "        return imgs\n",
        "\n",
        "    def training_set(self):\n",
        "        x_train = self.x_train[range(self.num_labeled)]\n",
        "        y_train = self.y_train[range(self.num_labeled)]\n",
        "        return x_train, y_train\n",
        "\n",
        "    def test_set(self):\n",
        "        return self.x_test, self.y_test"
      ],
      "execution_count": 0,
      "outputs": []
    },
    {
      "cell_type": "code",
      "metadata": {
        "id": "5ZCH5VxB1rmh",
        "colab_type": "code",
        "colab": {}
      },
      "source": [
        "img_rows = 16\n",
        "img_cols = 16\n",
        "img_deps = 16\n",
        "channels = 3\n",
        "\n",
        "# Input image dimensions\n",
        "img_shape = (img_rows, img_cols, img_deps, channels)\n",
        "\n",
        "# Size of the noise vector, used as input to the Generator\n",
        "z_dim = 100\n",
        "\n",
        "# Number of classes in the dataset\n",
        "num_classes = 10"
      ],
      "execution_count": 0,
      "outputs": []
    },
    {
      "cell_type": "code",
      "metadata": {
        "id": "wtvBAaCL2iK7",
        "colab_type": "code",
        "colab": {}
      },
      "source": [
        "def build_generator(z_dim):\n",
        "  \n",
        "    z = Input(shape=(z_dim, ))\n",
        "    label = Input(shape=(num_classes, ), dtype='float32')\n",
        "    label_embedding = Dense(z_dim, input_dim=num_classes)(label)\n",
        "    print(label_embedding)\n",
        "    joined_representation = Multiply()([z, label_embedding])\n",
        "    \n",
        "#     model = Sequential()\n",
        "\n",
        "    # Reshape input into 7x7x256 tensor via a fully connected layer\n",
        "    model = Dense(256 * 4 * 4 * 4, input_dim=z_dim)(joined_representation)\n",
        "    model = Reshape((4, 4, 4, 256))(model)\n",
        "\n",
        "    # Transposed convolution layer, from 7x7x256 into 14x14x128 tensor\n",
        "    model = Conv3DTranspose(128, kernel_size=3, strides=2, padding='same')(model)\n",
        "\n",
        "    # Batch normalization\n",
        "    model = BatchNormalization()(model)\n",
        "\n",
        "    # Leaky ReLU activation\n",
        "    model = LeakyReLU(alpha=0.01)(model)\n",
        "\n",
        "    # Transposed convolution layer, from 14x14x128 to 14x14x64 tensor\n",
        "    model = Conv3DTranspose(64, kernel_size=3, strides=1, padding='same')(model)\n",
        "\n",
        "    # Batch normalization\n",
        "    model = BatchNormalization()(model)\n",
        "\n",
        "    # Leaky ReLU activation\n",
        "    model = LeakyReLU(alpha=0.01)(model)\n",
        "\n",
        "    # Transposed convolution layer, from 14x14x64 to 28x28x1 tensor\n",
        "    model = Conv3DTranspose(3, kernel_size=3, strides=2, padding='same')(model)\n",
        "\n",
        "    # Output layer with tanh activation\n",
        "    conditioned_img = Activation('tanh')(model)\n",
        "    \n",
        "#     conditioned_img = model(joined_representation)\n",
        "\n",
        "    model = Model([z, label], conditioned_img)\n",
        "\n",
        "    return model"
      ],
      "execution_count": 0,
      "outputs": []
    },
    {
      "cell_type": "code",
      "metadata": {
        "id": "CBabZRFX3nrX",
        "colab_type": "code",
        "colab": {
          "base_uri": "https://localhost:8080/",
          "height": 655
        },
        "outputId": "4b86411e-75af-4053-a814-e677a2c1948f"
      },
      "source": [
        "build_generator(z_dim).summary()"
      ],
      "execution_count": 44,
      "outputs": [
        {
          "output_type": "stream",
          "text": [
            "Tensor(\"dense_13/BiasAdd:0\", shape=(?, 100), dtype=float32)\n",
            "Model: \"model_8\"\n",
            "__________________________________________________________________________________________________\n",
            "Layer (type)                    Output Shape         Param #     Connected to                     \n",
            "==================================================================================================\n",
            "input_18 (InputLayer)           (None, 10)           0                                            \n",
            "__________________________________________________________________________________________________\n",
            "input_17 (InputLayer)           (None, 100)          0                                            \n",
            "__________________________________________________________________________________________________\n",
            "dense_13 (Dense)                (None, 100)          1100        input_18[0][0]                   \n",
            "__________________________________________________________________________________________________\n",
            "multiply_6 (Multiply)           (None, 100)          0           input_17[0][0]                   \n",
            "                                                                 dense_13[0][0]                   \n",
            "__________________________________________________________________________________________________\n",
            "dense_14 (Dense)                (None, 16384)        1654784     multiply_6[0][0]                 \n",
            "__________________________________________________________________________________________________\n",
            "reshape_6 (Reshape)             (None, 4, 4, 4, 256) 0           dense_14[0][0]                   \n",
            "__________________________________________________________________________________________________\n",
            "conv3d_transpose_16 (Conv3DTran (None, 8, 8, 8, 128) 884864      reshape_6[0][0]                  \n",
            "__________________________________________________________________________________________________\n",
            "batch_normalization_15 (BatchNo (None, 8, 8, 8, 128) 512         conv3d_transpose_16[0][0]        \n",
            "__________________________________________________________________________________________________\n",
            "leaky_re_lu_17 (LeakyReLU)      (None, 8, 8, 8, 128) 0           batch_normalization_15[0][0]     \n",
            "__________________________________________________________________________________________________\n",
            "conv3d_transpose_17 (Conv3DTran (None, 8, 8, 8, 64)  221248      leaky_re_lu_17[0][0]             \n",
            "__________________________________________________________________________________________________\n",
            "batch_normalization_16 (BatchNo (None, 8, 8, 8, 64)  256         conv3d_transpose_17[0][0]        \n",
            "__________________________________________________________________________________________________\n",
            "leaky_re_lu_18 (LeakyReLU)      (None, 8, 8, 8, 64)  0           batch_normalization_16[0][0]     \n",
            "__________________________________________________________________________________________________\n",
            "conv3d_transpose_18 (Conv3DTran (None, 16, 16, 16, 3 5187        leaky_re_lu_18[0][0]             \n",
            "__________________________________________________________________________________________________\n",
            "activation_7 (Activation)       (None, 16, 16, 16, 3 0           conv3d_transpose_18[0][0]        \n",
            "==================================================================================================\n",
            "Total params: 2,767,951\n",
            "Trainable params: 2,767,567\n",
            "Non-trainable params: 384\n",
            "__________________________________________________________________________________________________\n"
          ],
          "name": "stdout"
        }
      ]
    },
    {
      "cell_type": "code",
      "metadata": {
        "id": "g_hlEYzV2zrN",
        "colab_type": "code",
        "colab": {}
      },
      "source": [
        "def build_discriminator_net(img_shape):\n",
        "\n",
        "    model = Sequential()\n",
        "\n",
        "    # Convolutional layer, from 28x28x1 into 14x14x32 tensor\n",
        "    model.add(\n",
        "        Conv3D(32,\n",
        "               kernel_size=3,\n",
        "               strides=2,\n",
        "               input_shape=img_shape,\n",
        "               padding='same'))\n",
        "\n",
        "    # Leaky ReLU activation\n",
        "    model.add(LeakyReLU(alpha=0.01))\n",
        "\n",
        "    # Convolutional layer, from 14x14x32 into 7x7x64 tensor\n",
        "    model.add(\n",
        "        Conv3D(64,\n",
        "               kernel_size=3,\n",
        "               strides=2,\n",
        "               input_shape=img_shape,\n",
        "               padding='same'))\n",
        "\n",
        "    # Batch normalization\n",
        "    model.add(BatchNormalization())\n",
        "\n",
        "    # Leaky ReLU activation\n",
        "    model.add(LeakyReLU(alpha=0.01))\n",
        "\n",
        "    # Convolutional layer, from 7x7x64 tensor into 3x3x128 tensor\n",
        "    model.add(\n",
        "        Conv3D(128,\n",
        "               kernel_size=3,\n",
        "               strides=2,\n",
        "               input_shape=img_shape,\n",
        "               padding='same'))\n",
        "\n",
        "    # Batch normalization\n",
        "    model.add(BatchNormalization())\n",
        "\n",
        "    # Leaky ReLU activation\n",
        "    model.add(LeakyReLU(alpha=0.01))\n",
        "\n",
        "    # Droupout\n",
        "    model.add(Dropout(0.5))\n",
        "\n",
        "    # Flatten the tensor\n",
        "    model.add(Flatten())\n",
        "\n",
        "    # Fully connected layer with num_classes neurons\n",
        "    model.add(Dense(num_classes))\n",
        "\n",
        "    return model"
      ],
      "execution_count": 0,
      "outputs": []
    },
    {
      "cell_type": "code",
      "metadata": {
        "id": "qnRXbesi21s2",
        "colab_type": "code",
        "colab": {
          "base_uri": "https://localhost:8080/",
          "height": 521
        },
        "outputId": "e1d7e3cf-011c-4106-8042-7b0aea44fc4f"
      },
      "source": [
        "build_discriminator_net(img_shape).summary()"
      ],
      "execution_count": 45,
      "outputs": [
        {
          "output_type": "stream",
          "text": [
            "Model: \"sequential_6\"\n",
            "_________________________________________________________________\n",
            "Layer (type)                 Output Shape              Param #   \n",
            "=================================================================\n",
            "conv3d_7 (Conv3D)            (None, 8, 8, 8, 32)       2624      \n",
            "_________________________________________________________________\n",
            "leaky_re_lu_19 (LeakyReLU)   (None, 8, 8, 8, 32)       0         \n",
            "_________________________________________________________________\n",
            "conv3d_8 (Conv3D)            (None, 4, 4, 4, 64)       55360     \n",
            "_________________________________________________________________\n",
            "batch_normalization_17 (Batc (None, 4, 4, 4, 64)       256       \n",
            "_________________________________________________________________\n",
            "leaky_re_lu_20 (LeakyReLU)   (None, 4, 4, 4, 64)       0         \n",
            "_________________________________________________________________\n",
            "conv3d_9 (Conv3D)            (None, 2, 2, 2, 128)      221312    \n",
            "_________________________________________________________________\n",
            "batch_normalization_18 (Batc (None, 2, 2, 2, 128)      512       \n",
            "_________________________________________________________________\n",
            "leaky_re_lu_21 (LeakyReLU)   (None, 2, 2, 2, 128)      0         \n",
            "_________________________________________________________________\n",
            "dropout_3 (Dropout)          (None, 2, 2, 2, 128)      0         \n",
            "_________________________________________________________________\n",
            "flatten_3 (Flatten)          (None, 1024)              0         \n",
            "_________________________________________________________________\n",
            "dense_15 (Dense)             (None, 10)                10250     \n",
            "=================================================================\n",
            "Total params: 290,314\n",
            "Trainable params: 289,930\n",
            "Non-trainable params: 384\n",
            "_________________________________________________________________\n"
          ],
          "name": "stdout"
        }
      ]
    },
    {
      "cell_type": "code",
      "metadata": {
        "id": "ufK73Vjo2-Gx",
        "colab_type": "code",
        "colab": {}
      },
      "source": [
        "def build_discriminator_class(discriminator_net):\n",
        "\n",
        "    model = Sequential()\n",
        "\n",
        "    model.add(discriminator_net)\n",
        "\n",
        "    # Softmax activation, giving predicted probability distribution over the real classes\n",
        "    model.add(Activation('softmax'))\n",
        "\n",
        "    return model"
      ],
      "execution_count": 0,
      "outputs": []
    },
    {
      "cell_type": "code",
      "metadata": {
        "id": "_rLaJ39m3uC3",
        "colab_type": "code",
        "colab": {}
      },
      "source": [
        "def build_discriminator_realOrFake(discriminator_net):\n",
        "\n",
        "    model = Sequential()\n",
        "\n",
        "    model.add(discriminator_net)\n",
        "\n",
        "    def predict(x):\n",
        "        # Transform distribution over real classes into a binary real-vs-fake probability\n",
        "        prediction = 1.0 - (1.0 / (K.sum(K.exp(x), axis=-1, keepdims=True) + 1.0))\n",
        "        return prediction\n",
        "\n",
        "    # 'Real-vs-fake' output neuron defined above\n",
        "    model.add(Lambda(predict))\n",
        "\n",
        "    return model"
      ],
      "execution_count": 0,
      "outputs": []
    },
    {
      "cell_type": "code",
      "metadata": {
        "id": "ORibjpgf3vf_",
        "colab_type": "code",
        "colab": {}
      },
      "source": [
        "def build_gan(generator, discriminator):\n",
        "    \n",
        "    z = Input(shape=(z_dim, ))\n",
        "    label = Input(shape=(num_classes, ))\n",
        "    img = generator([z, label])\n",
        "    output = discriminator(img)\n",
        "    model = Model([z, label], output)\n",
        "\n",
        "    return model"
      ],
      "execution_count": 0,
      "outputs": []
    },
    {
      "cell_type": "code",
      "metadata": {
        "id": "lpyKiOxK3xCl",
        "colab_type": "code",
        "colab": {
          "base_uri": "https://localhost:8080/",
          "height": 154
        },
        "outputId": "86d4bc50-38f1-4831-912f-1b8891cc9cce"
      },
      "source": [
        "# Core Discriminator network:\n",
        "# These layers are shared during supervised and unsupervised training\n",
        "\n",
        "discriminator_net = build_discriminator_net(img_shape)\n",
        "\n",
        "discriminator_realOrFake = build_discriminator_realOfFake(discriminator_net)\n",
        "discriminator_realOrFake.compile(loss='binary_crossentropy',metrics=['accuracy'], optimizer=Adam())\n",
        "\n",
        "discriminator_class = build_discriminator_class(discriminator_net)\n",
        "discriminator_class.compile(loss='categorical_crossentropy', metrics=['accuracy'], optimizer=Adam())"
      ],
      "execution_count": 34,
      "outputs": [
        {
          "output_type": "stream",
          "text": [
            "WARNING:tensorflow:From /usr/local/lib/python3.6/dist-packages/keras/optimizers.py:793: The name tf.train.Optimizer is deprecated. Please use tf.compat.v1.train.Optimizer instead.\n",
            "\n",
            "WARNING:tensorflow:From /usr/local/lib/python3.6/dist-packages/keras/backend/tensorflow_backend.py:3657: The name tf.log is deprecated. Please use tf.math.log instead.\n",
            "\n",
            "WARNING:tensorflow:From /usr/local/lib/python3.6/dist-packages/tensorflow_core/python/ops/nn_impl.py:183: where (from tensorflow.python.ops.array_ops) is deprecated and will be removed in a future version.\n",
            "Instructions for updating:\n",
            "Use tf.where in 2.0, which has the same broadcast rule as np.where\n"
          ],
          "name": "stdout"
        }
      ]
    },
    {
      "cell_type": "code",
      "metadata": {
        "id": "6_pOEjtK6t6q",
        "colab_type": "code",
        "colab": {}
      },
      "source": [
        "discriminator_realOrFake.summary()"
      ],
      "execution_count": 0,
      "outputs": []
    },
    {
      "cell_type": "code",
      "metadata": {
        "id": "lpMg1lsA3yLQ",
        "colab_type": "code",
        "colab": {
          "base_uri": "https://localhost:8080/",
          "height": 34
        },
        "outputId": "56375293-b715-4e57-b3f8-be5e5373e11f"
      },
      "source": [
        "# Build the Generator\n",
        "generator = build_generator(z_dim)\n",
        "\n",
        "discriminator_realOrFake.trainable = False\n",
        "discriminator_class.trainable = False\n",
        "\n",
        "gan_realOrFake = build_gan(generator, discriminator_realOrFake)\n",
        "gan_realOrFake.compile(loss='binary_crossentropy',metrics=['accuracy'], optimizer=Adam())\n",
        "\n",
        "gan_class = build_gan(generator, discriminator_class)\n",
        "gan_class.compile(loss='categorical_crossentropy', metrics=['accuracy'], optimizer=Adam())"
      ],
      "execution_count": 38,
      "outputs": [
        {
          "output_type": "stream",
          "text": [
            "Tensor(\"dense_11/BiasAdd:0\", shape=(?, 100), dtype=float32)\n"
          ],
          "name": "stdout"
        }
      ]
    },
    {
      "cell_type": "code",
      "metadata": {
        "id": "DHt8ydfc5OrE",
        "colab_type": "code",
        "colab": {
          "base_uri": "https://localhost:8080/",
          "height": 302
        },
        "outputId": "061fd52e-2804-43d0-ec27-1ba73ef1f899"
      },
      "source": [
        "gan_realOrFake.summary()"
      ],
      "execution_count": 46,
      "outputs": [
        {
          "output_type": "stream",
          "text": [
            "Model: \"model_6\"\n",
            "__________________________________________________________________________________________________\n",
            "Layer (type)                    Output Shape         Param #     Connected to                     \n",
            "==================================================================================================\n",
            "input_13 (InputLayer)           (None, 100)          0                                            \n",
            "__________________________________________________________________________________________________\n",
            "input_14 (InputLayer)           (None, 10)           0                                            \n",
            "__________________________________________________________________________________________________\n",
            "model_5 (Model)                 (None, 16, 16, 16, 3 2767951     input_13[0][0]                   \n",
            "                                                                 input_14[0][0]                   \n",
            "__________________________________________________________________________________________________\n",
            "sequential_4 (Sequential)       (None, 1)            290314      model_5[1][0]                    \n",
            "==================================================================================================\n",
            "Total params: 3,058,265\n",
            "Trainable params: 2,767,567\n",
            "Non-trainable params: 290,698\n",
            "__________________________________________________________________________________________________\n"
          ],
          "name": "stdout"
        }
      ]
    },
    {
      "cell_type": "code",
      "metadata": {
        "id": "rt0-2Elcm3yO",
        "colab_type": "code",
        "colab": {
          "base_uri": "https://localhost:8080/",
          "height": 302
        },
        "outputId": "eb8eaf03-14e8-4230-c386-1d0823968f81"
      },
      "source": [
        "gan_class.summary()"
      ],
      "execution_count": 57,
      "outputs": [
        {
          "output_type": "stream",
          "text": [
            "Model: \"model_7\"\n",
            "__________________________________________________________________________________________________\n",
            "Layer (type)                    Output Shape         Param #     Connected to                     \n",
            "==================================================================================================\n",
            "input_15 (InputLayer)           (None, 100)          0                                            \n",
            "__________________________________________________________________________________________________\n",
            "input_16 (InputLayer)           (None, 10)           0                                            \n",
            "__________________________________________________________________________________________________\n",
            "model_5 (Model)                 (None, 16, 16, 16, 3 2767951     input_15[0][0]                   \n",
            "                                                                 input_16[0][0]                   \n",
            "__________________________________________________________________________________________________\n",
            "sequential_5 (Sequential)       (None, 10)           290314      model_5[2][0]                    \n",
            "==================================================================================================\n",
            "Total params: 3,058,265\n",
            "Trainable params: 2,767,567\n",
            "Non-trainable params: 290,698\n",
            "__________________________________________________________________________________________________\n"
          ],
          "name": "stdout"
        }
      ]
    },
    {
      "cell_type": "code",
      "metadata": {
        "id": "4hBHcE9M3zXm",
        "colab_type": "code",
        "colab": {}
      },
      "source": [
        "%mkdir models\n",
        "%mkdir losses\n",
        "%mkdir models/models-label-1000\n",
        "%mkdir losses/losses-label-1000"
      ],
      "execution_count": 0,
      "outputs": []
    },
    {
      "cell_type": "code",
      "metadata": {
        "id": "RNtNmx8u4sBl",
        "colab_type": "code",
        "colab": {}
      },
      "source": [
        "def train(iterations, batch_size, save_interval, k):\n",
        "\n",
        "    # Labels for real images: all ones\n",
        "    real = np.ones((batch_size, 1))\n",
        "\n",
        "    # Labels for fake images: all zeros\n",
        "    fake = np.zeros((batch_size, 1))\n",
        "\n",
        "    for iteration in range(iterations):\n",
        "\n",
        "        for _ in range(k):\n",
        "\n",
        "            # -------------------------\n",
        "            #  Train the Discriminator\n",
        "            # -------------------------\n",
        "\n",
        "            # discriminator_net.trainable = True\n",
        "\n",
        "            # Get labeled examples\n",
        "            imgs_labeled, labels = dataset.batch_labeled(batch_size)\n",
        "            labels = to_categorical(labels, num_classes=num_classes)  # One-hot encode labels\n",
        "\n",
        "            # Get unlabeled examples\n",
        "            imgs_unlabeled = dataset.batch_unlabeled(batch_size)\n",
        "\n",
        "            # Generate a batch of fake images\n",
        "            z = np.random.normal(0, 1, (batch_size, z_dim))\n",
        "            fake_labels = np.random.randint(0, num_classes, batch_size).reshape(-1, 1)\n",
        "            fake_labels = to_categorical(fake_labels, num_classes=num_classes)\n",
        "            imgs_gen = generator.predict([z, fake_labels])\n",
        "\n",
        "            # Train discriminator\n",
        "            loss_d_labeled_realOrFake, acc_d_labeled_realOrFake = discriminator_realOrFake.train_on_batch(imgs_labeled, real)\n",
        "            loss_d_unlabeled_realOrFake, acc_d_unlabeled_realOrFake = discriminator_realOrFake.train_on_batch(imgs_unlabeled, real)\n",
        "            loss_d_gen_realOrFake, acc_d_gen_realOrFake = discriminator_realOrFake.train_on_batch(imgs_gen, fake)\n",
        "            loss_d_labeled_class, acc_d_labeled_class = discriminator_class.train_on_batch(imgs_labeled, labels)\n",
        "            # loss_d_gen_class, acc_d_gen_class = discriminator_class.train_on_batch(imgs_gen, fake_labels)\n",
        "\n",
        "            # Calculate loss and acc\n",
        "            loss_d_train_realOrFake = np.add(loss_d_labeled_realOrFake, loss_d_unlabeled_realOrFake)\n",
        "            # loss_d_class = np.add(loss_d_labeled_class, loss_d_gen_class)\n",
        "            loss_d_class = loss_d_labeled_class\n",
        "            loss_d_realOrFake = np.add(loss_d_gen_realOrFake, np.add(loss_d_labeled_realOrFake, loss_d_unlabeled_realOrFake))\n",
        "            loss_d = np.add(loss_d_class, loss_d_realOrFake)\n",
        "            # acc_d_class = np.add(acc_d_labeled_class, acc_d_gen_class)/2.0\n",
        "            acc_d_class = acc_d_labeled_class\n",
        "            acc_d_realOrFake = np.add(acc_d_gen_realOrFake, np.add(acc_d_labeled_realOrFake, acc_d_unlabeled_realOrFake))/3.0\n",
        "            acc_d = np.add(acc_d_class, acc_d_realOrFake)/2.0\n",
        "\n",
        "        # ---------------------\n",
        "        #  Train the Generator\n",
        "        # ---------------------\n",
        "\n",
        "        # Keep Discriminator’s parameters constant for Generator training\n",
        "        # discriminator_net.trainable = False\n",
        "\n",
        "        # Generate a batch of fake images\n",
        "        z = np.random.normal(0, 1, (batch_size, z_dim))\n",
        "        fake_labels = np.random.randint(0, num_classes, batch_size).reshape(-1, 1)\n",
        "        fake_labels = to_categorical(fake_labels, num_classes=num_classes)\n",
        "\n",
        "        # Train Generator\n",
        "        loss_g_realOrFake, acc_g_realOrFake = gan_realOrFake.train_on_batch([z, fake_labels], fake)\n",
        "        # loss_g_class, acc_g_class = gan_class.train_on_batch([z, fake_labels], fake_labels)\n",
        "\n",
        "        # Calculate loss\n",
        "        # loss_g = np.add(loss_g_realOrFake, loss_g_class)\n",
        "        loss_g = losses_g_realOrFake\n",
        "\n",
        "        if (iteration + 1) % save_interval == 0:\n",
        "\n",
        "            # Save Discriminator supervised classification loss to be plotted after training\n",
        "            losses_d_class.append(loss_d_class)\n",
        "            losses_d_realOrFake.append(loss_d_realOrFake)\n",
        "            # losses_g_class.append(loss_g_class)\n",
        "            losses_g_realOrFake.append(loss_g_realOrFake)\n",
        "            \n",
        "            iteration_checkpoints.append(iteration + 1)\n",
        "\n",
        "            # Output training progress\n",
        "            print(\n",
        "                \"%d [D loss class: %.4f, acc: %.2f%%] [D loss realOrFake: %.4f, acc:%.2f%%] [G loss realOrFake: %.4f, acc: %.2f%%]\"\n",
        "                % (iteration + 1, \n",
        "                    loss_d_class, 100 * acc_d_class,\n",
        "                    loss_d_realOrFake, 100 * acc_d_realOrFake, \n",
        "                    # loss_g_class, 100 * acc_g_class,\n",
        "                    loss_g_realOrFake, 100 * acc_g_realOrFake))\n",
        "            \n",
        "            discriminator_class.save(\"./models/models-label-\" + str(num_labeled) + \"/discriminator_class-\" + str(iteration+1) + \".h5\")\n",
        "            discriminator_realOrFake.save(\"./models/models-label-\" + str(num_labeled) + \"/discriminator_realOrFake-\" + str(iteration+1) + \".h5\")\n",
        "            generator.save(\"./models/models-label-\" + str(num_labeled) + \"/generator-\" + str(iteration+1) + \".h5\")\n",
        "            file1 = \"./losses/losses-label-\" + str(num_labeled) + \"/losses_d_class.json\"\n",
        "            file2 = \"./losses/losses-label-\" + str(num_labeled) + \"/losses_d_realOrFake.json\"\n",
        "            # file3 = \"./losses/losses-label-\" + str(num_labeled) + \"/losses_g_class.json\"\n",
        "            file4 = \"./losses/losses-label-\" + str(num_labeled) + \"/losses_g_realOrFake.json\"\n",
        "            with open(file1, 'w') as json_file:\n",
        "                  json.dump(str(losses_d_class), json_file)\n",
        "            with open(file2, 'w') as json_file:\n",
        "                  json.dump(str(losses_d_realOrFake), json_file)\n",
        "            # with open(file3, 'w') as json_file:\n",
        "            #       json.dump(str(losses_g_class), json_file)\n",
        "            with open(file4, 'w') as json_file:\n",
        "                  json.dump(str(losses_g_realOrFake), json_file)"
      ],
      "execution_count": 0,
      "outputs": []
    },
    {
      "cell_type": "code",
      "metadata": {
        "id": "Dv5w-Cle4xCI",
        "colab_type": "code",
        "colab": {
          "base_uri": "https://localhost:8080/",
          "height": 1000
        },
        "outputId": "d0971fdd-b5e8-4f67-ad75-a0a6e6bb1f2d"
      },
      "source": [
        "# Set hyperparameters\n",
        "iterations = 4000 # 8000\n",
        "batch_size = 32\n",
        "save_interval = 100\n",
        "num_labeled = 1000  # Number of labeled examples to use (rest will be used as unlabeled)\n",
        "k = 2 # iteration of Discriminator\n",
        "\n",
        "# losses_d_labeled_realOrFake = []\n",
        "# losses_d_unlabeled_realOrFake = []\n",
        "# losses_d_gen_realOrFake = []\n",
        "# losses_d_labeled_class = []\n",
        "# losses_d_gen_class = []\n",
        "# losses_d_train_realOrFake = []\n",
        "losses_d_class = []\n",
        "losses_d_realOrFake = []\n",
        "losses_d = []\n",
        "losses_g_realOrFake = []\n",
        "losses_g_class = []\n",
        "losses_g = []\n",
        "\n",
        "iteration_checkpoints = []\n",
        "\n",
        "dataset = Dataset(num_labeled)\n",
        "\n",
        "starttime = time.clock()\n",
        "\n",
        "# Train the SGAN for the specified number of iterations\n",
        "train(iterations, batch_size, save_interval, k)\n",
        "\n",
        "endtime = time.clock()\n",
        "print(\"Training time: %.4fs\" % (endtime - starttime))"
      ],
      "execution_count": 55,
      "outputs": [
        {
          "output_type": "stream",
          "text": [
            "/usr/local/lib/python3.6/dist-packages/keras/engine/training.py:493: UserWarning:\n",
            "\n",
            "Discrepancy between trainable weights and collected trainable weights, did you set `model.trainable` without calling `model.compile` after ?\n",
            "\n"
          ],
          "name": "stderr"
        },
        {
          "output_type": "stream",
          "text": [
            "WARNING:tensorflow:From /usr/local/lib/python3.6/dist-packages/keras/backend/tensorflow_backend.py:1033: The name tf.assign_add is deprecated. Please use tf.compat.v1.assign_add instead.\n",
            "\n",
            "WARNING:tensorflow:From /usr/local/lib/python3.6/dist-packages/keras/backend/tensorflow_backend.py:1020: The name tf.assign is deprecated. Please use tf.compat.v1.assign instead.\n",
            "\n"
          ],
          "name": "stdout"
        },
        {
          "output_type": "stream",
          "text": [
            "/usr/local/lib/python3.6/dist-packages/keras/engine/training.py:493: UserWarning:\n",
            "\n",
            "Discrepancy between trainable weights and collected trainable weights, did you set `model.trainable` without calling `model.compile` after ?\n",
            "\n",
            "/usr/local/lib/python3.6/dist-packages/keras/engine/training.py:493: UserWarning:\n",
            "\n",
            "Discrepancy between trainable weights and collected trainable weights, did you set `model.trainable` without calling `model.compile` after ?\n",
            "\n",
            "/usr/local/lib/python3.6/dist-packages/keras/engine/training.py:493: UserWarning:\n",
            "\n",
            "Discrepancy between trainable weights and collected trainable weights, did you set `model.trainable` without calling `model.compile` after ?\n",
            "\n"
          ],
          "name": "stderr"
        },
        {
          "output_type": "stream",
          "text": [
            "100 [D loss class: 1.3048, acc: 50.00%] [D loss realOrFake: 0.0002, acc:100.00%] [G loss realOrFake: 0.0001, acc: 100.00%]\n",
            "200 [D loss class: 1.0446, acc: 65.62%] [D loss realOrFake: 0.0000, acc:100.00%] [G loss realOrFake: 0.0000, acc: 100.00%]\n",
            "300 [D loss class: 0.4284, acc: 90.62%] [D loss realOrFake: 0.0002, acc:100.00%] [G loss realOrFake: 0.0000, acc: 100.00%]\n",
            "400 [D loss class: 0.5034, acc: 78.12%] [D loss realOrFake: 0.0000, acc:100.00%] [G loss realOrFake: 0.0000, acc: 100.00%]\n",
            "500 [D loss class: 0.2903, acc: 93.75%] [D loss realOrFake: 0.0000, acc:100.00%] [G loss realOrFake: 0.0000, acc: 100.00%]\n",
            "600 [D loss class: 0.1436, acc: 96.88%] [D loss realOrFake: 0.0000, acc:100.00%] [G loss realOrFake: 0.0000, acc: 100.00%]\n",
            "700 [D loss class: 0.0568, acc: 100.00%] [D loss realOrFake: 0.0000, acc:100.00%] [G loss realOrFake: 0.0000, acc: 100.00%]\n",
            "800 [D loss class: 0.0482, acc: 100.00%] [D loss realOrFake: 0.0000, acc:100.00%] [G loss realOrFake: 0.0000, acc: 100.00%]\n",
            "900 [D loss class: 0.0530, acc: 96.88%] [D loss realOrFake: 0.0000, acc:100.00%] [G loss realOrFake: 0.0000, acc: 100.00%]\n",
            "1000 [D loss class: 0.4513, acc: 78.12%] [D loss realOrFake: 0.0000, acc:100.00%] [G loss realOrFake: 0.0000, acc: 100.00%]\n",
            "1100 [D loss class: 0.1111, acc: 96.88%] [D loss realOrFake: 0.0000, acc:100.00%] [G loss realOrFake: 0.0000, acc: 100.00%]\n",
            "1200 [D loss class: 0.2276, acc: 90.62%] [D loss realOrFake: 0.0000, acc:100.00%] [G loss realOrFake: 0.0000, acc: 100.00%]\n",
            "1300 [D loss class: 0.0134, acc: 100.00%] [D loss realOrFake: 0.0000, acc:100.00%] [G loss realOrFake: 0.0000, acc: 100.00%]\n",
            "1400 [D loss class: 0.0548, acc: 100.00%] [D loss realOrFake: 0.0000, acc:100.00%] [G loss realOrFake: 0.0000, acc: 100.00%]\n",
            "1500 [D loss class: 0.0498, acc: 96.88%] [D loss realOrFake: 0.0000, acc:100.00%] [G loss realOrFake: 0.0000, acc: 100.00%]\n",
            "1600 [D loss class: 0.0707, acc: 96.88%] [D loss realOrFake: 0.0000, acc:100.00%] [G loss realOrFake: 0.0000, acc: 100.00%]\n",
            "1700 [D loss class: 0.0605, acc: 96.88%] [D loss realOrFake: 0.0000, acc:100.00%] [G loss realOrFake: 0.0000, acc: 100.00%]\n",
            "1800 [D loss class: 0.0439, acc: 96.88%] [D loss realOrFake: 0.0000, acc:100.00%] [G loss realOrFake: 0.0000, acc: 100.00%]\n",
            "1900 [D loss class: 0.0092, acc: 100.00%] [D loss realOrFake: 0.0000, acc:100.00%] [G loss realOrFake: 0.0000, acc: 100.00%]\n",
            "2000 [D loss class: 0.0195, acc: 100.00%] [D loss realOrFake: 0.0000, acc:100.00%] [G loss realOrFake: 0.0000, acc: 100.00%]\n",
            "2100 [D loss class: 0.0401, acc: 100.00%] [D loss realOrFake: 0.0000, acc:100.00%] [G loss realOrFake: 0.0000, acc: 100.00%]\n",
            "2200 [D loss class: 0.0216, acc: 100.00%] [D loss realOrFake: 0.0000, acc:100.00%] [G loss realOrFake: 0.0000, acc: 100.00%]\n",
            "2300 [D loss class: 0.0857, acc: 96.88%] [D loss realOrFake: 0.0000, acc:100.00%] [G loss realOrFake: 0.0000, acc: 100.00%]\n",
            "2400 [D loss class: 0.0490, acc: 96.88%] [D loss realOrFake: 0.0000, acc:100.00%] [G loss realOrFake: 0.0000, acc: 100.00%]\n",
            "2500 [D loss class: 0.9147, acc: 71.88%] [D loss realOrFake: 0.0000, acc:100.00%] [G loss realOrFake: 0.0000, acc: 100.00%]\n",
            "2600 [D loss class: 0.0079, acc: 100.00%] [D loss realOrFake: 0.0000, acc:100.00%] [G loss realOrFake: 0.0000, acc: 100.00%]\n",
            "2700 [D loss class: 0.0143, acc: 100.00%] [D loss realOrFake: 0.0000, acc:100.00%] [G loss realOrFake: 0.0000, acc: 100.00%]\n",
            "2800 [D loss class: 0.0021, acc: 100.00%] [D loss realOrFake: 0.0000, acc:100.00%] [G loss realOrFake: 0.0000, acc: 100.00%]\n",
            "2900 [D loss class: 0.0098, acc: 100.00%] [D loss realOrFake: 0.0000, acc:100.00%] [G loss realOrFake: 0.0000, acc: 100.00%]\n",
            "3000 [D loss class: 0.0029, acc: 100.00%] [D loss realOrFake: 0.0000, acc:100.00%] [G loss realOrFake: 0.0000, acc: 100.00%]\n",
            "3100 [D loss class: 0.0017, acc: 100.00%] [D loss realOrFake: 0.0000, acc:100.00%] [G loss realOrFake: 0.0000, acc: 100.00%]\n",
            "3200 [D loss class: 0.0246, acc: 100.00%] [D loss realOrFake: 0.0000, acc:100.00%] [G loss realOrFake: 0.0000, acc: 100.00%]\n",
            "3300 [D loss class: 0.0132, acc: 100.00%] [D loss realOrFake: 0.0000, acc:100.00%] [G loss realOrFake: 0.0000, acc: 100.00%]\n",
            "3400 [D loss class: 0.0128, acc: 100.00%] [D loss realOrFake: 0.0000, acc:100.00%] [G loss realOrFake: 0.0000, acc: 100.00%]\n",
            "3500 [D loss class: 0.0047, acc: 100.00%] [D loss realOrFake: 0.0000, acc:100.00%] [G loss realOrFake: 0.0000, acc: 100.00%]\n",
            "3600 [D loss class: 0.0139, acc: 100.00%] [D loss realOrFake: 0.0000, acc:100.00%] [G loss realOrFake: 0.0000, acc: 100.00%]\n",
            "3700 [D loss class: 0.0249, acc: 100.00%] [D loss realOrFake: 0.0000, acc:100.00%] [G loss realOrFake: 0.0000, acc: 100.00%]\n",
            "3800 [D loss class: 0.0027, acc: 100.00%] [D loss realOrFake: 0.0000, acc:100.00%] [G loss realOrFake: 0.0000, acc: 100.00%]\n",
            "3900 [D loss class: 0.0092, acc: 100.00%] [D loss realOrFake: 0.0000, acc:100.00%] [G loss realOrFake: 0.0000, acc: 100.00%]\n",
            "4000 [D loss class: 0.0034, acc: 100.00%] [D loss realOrFake: 0.0000, acc:100.00%] [G loss realOrFake: 0.0000, acc: 100.00%]\n",
            "Training time: 14004.7594s\n"
          ],
          "name": "stdout"
        }
      ]
    },
    {
      "cell_type": "code",
      "metadata": {
        "id": "kLvvpIIV4yyf",
        "colab_type": "code",
        "colab": {
          "base_uri": "https://localhost:8080/",
          "height": 382
        },
        "outputId": "a674e64c-4a55-4645-e8b0-5bb48db14e63"
      },
      "source": [
        "d_class_loss = np.array(losses_d_class)\n",
        "d_realOrFake_loss = np.array(losses_d_realOrFake)\n",
        "# g_class_loss = np.array(losses_g_class)\n",
        "g_realOrFake_loss = np.array(losses_g_realOrFake)\n",
        "# class_loss = np.add(d_class_loss, g_class_loss)\n",
        "\n",
        "# Plot Discriminator supervised loss\n",
        "plt.figure(figsize=(15, 5))\n",
        "plt.plot(iteration_checkpoints, d_class_loss, label=\"Discriminator class loss\", color='blue')\n",
        "plt.plot(iteration_checkpoints, d_realOrFake_loss, label=\"Discriminator R/F loss\", color='green')\n",
        "# plt.plot(iteration_checkpoints, g_class_loss, label=\"Generator class loss\", color='yellow')\n",
        "plt.plot(iteration_checkpoints, g_realOrFake_loss, label=\"Generator R/F loss\", color='pink')\n",
        "# plt.plot(iteration_checkpoints, class_loss, label=\"Class loss\", color='black')\n",
        "\n",
        "plt.xticks(iteration_checkpoints, rotation=90)\n",
        "\n",
        "plt.title(\"Discriminator Loss + Generator Loss\")\n",
        "plt.xlabel(\"Iteration\")\n",
        "plt.ylabel(\"Loss\")\n",
        "plt.legend()"
      ],
      "execution_count": 56,
      "outputs": [
        {
          "output_type": "execute_result",
          "data": {
            "text/plain": [
              "<matplotlib.legend.Legend at 0x7f7c7c32e9e8>"
            ]
          },
          "metadata": {
            "tags": []
          },
          "execution_count": 56
        },
        {
          "output_type": "display_data",
          "data": {
            "image/png": "[encoded data removed]",
            "text/plain": [
              "<Figure size 1080x360 with 1 Axes>"
            ]
          },
          "metadata": {
            "tags": []
          }
        }
      ]
    },
    {
      "cell_type": "code",
      "metadata": {
        "id": "slgxPFXT40T-",
        "colab_type": "code",
        "colab": {
          "base_uri": "https://localhost:8080/",
          "height": 50
        },
        "outputId": "1ac3b2d5-be0f-4804-8c81-499f928f7906"
      },
      "source": [
        "x, y = dataset.training_set()\n",
        "y = to_categorical(y, num_classes=num_classes)\n",
        "\n",
        "tmodel = build_discriminator_class(discriminator_net)\n",
        "tmodel.compile(loss='categorical_crossentropy', metrics=['accuracy'], optimizer=Adam())\n",
        "tmodel.load_weights(\"./models/models-label-\" + str(num_labeled) + \"/discriminator_class-3700.h5\", by_name=False)\n",
        "\n",
        "# Compute classification accuracy on the training set\n",
        "_, accuracy = tmodel.evaluate(x, y)\n",
        "# _, accuracy = discriminator_class.evaluate(x, y)\n",
        "print(\"Training Accuracy: %.2f%%\" % (100 * accuracy))"
      ],
      "execution_count": 64,
      "outputs": [
        {
          "output_type": "stream",
          "text": [
            "1000/1000 [==============================] - 1s 1ms/step\n",
            "Training Accuracy: 13.20%\n"
          ],
          "name": "stdout"
        }
      ]
    },
    {
      "cell_type": "code",
      "metadata": {
        "id": "eX_kfCYb41k8",
        "colab_type": "code",
        "colab": {
          "base_uri": "https://localhost:8080/",
          "height": 1000
        },
        "outputId": "f20af391-7a0c-46f3-ab31-7ea1278eceac"
      },
      "source": [
        "x, y = dataset.test_set()\n",
        "y = to_categorical(y, num_classes=num_classes)\n",
        "\n",
        "accs = []\n",
        "tx = [x for x in range(100,4100,100)]\n",
        "acc_max = [0,0]\n",
        "\n",
        "for e in tx:\n",
        "  tmodel.load_weights(\"./models/models-label-\" + str(num_labeled) + \"/discriminator_class-\"+ str(e) +\".h5\", by_name=False)\n",
        "  _, acc = tmodel.evaluate(x, y)\n",
        "  accs.append(acc)\n",
        "print(max(accs))\n",
        "\n",
        "plt.figure(figsize=(15, 5))\n",
        "plt.plot(tx, accs, label=\"accs\", color='blue')\n",
        "plt.xticks(tx, rotation=90)\n",
        "plt.title(\"accs with epoch\")\n",
        "plt.xlabel(\"epoch\")\n",
        "plt.ylabel(\"accs\")\n",
        "plt.legend()\n",
        "\n",
        "\n",
        "# tmodel.load_weights(\"./models/models-label-\" + str(num_labeled) + \"/discriminator_class-\"+e+\"3700.h5\", by_name=False)\n",
        "\n",
        "# # Compute classification accuracy on the test set\n",
        "# _, accuracy = tmodel.evaluate(x, y)\n",
        "# print(\"Test Accuracy: %.2f%%\" % (100 * accuracy))"
      ],
      "execution_count": 78,
      "outputs": [
        {
          "output_type": "stream",
          "text": [
            "2000/2000 [==============================] - 1s 689us/step\n",
            "2000/2000 [==============================] - 1s 680us/step\n",
            "2000/2000 [==============================] - 1s 668us/step\n",
            "2000/2000 [==============================] - 1s 657us/step\n",
            "2000/2000 [==============================] - 1s 670us/step\n",
            "2000/2000 [==============================] - 1s 684us/step\n",
            "2000/2000 [==============================] - 1s 687us/step\n",
            "2000/2000 [==============================] - 1s 690us/step\n",
            "2000/2000 [==============================] - 1s 688us/step\n",
            "2000/2000 [==============================] - 1s 683us/step\n",
            "2000/2000 [==============================] - 1s 676us/step\n",
            "2000/2000 [==============================] - 1s 676us/step\n",
            "2000/2000 [==============================] - 1s 680us/step\n",
            "2000/2000 [==============================] - 1s 692us/step\n",
            "2000/2000 [==============================] - 1s 683us/step\n",
            "2000/2000 [==============================] - 1s 666us/step\n",
            "2000/2000 [==============================] - 1s 672us/step\n",
            "2000/2000 [==============================] - 1s 688us/step\n",
            "2000/2000 [==============================] - 1s 709us/step\n",
            "2000/2000 [==============================] - 1s 702us/step\n",
            "2000/2000 [==============================] - 1s 705us/step\n",
            "2000/2000 [==============================] - 1s 699us/step\n",
            "2000/2000 [==============================] - 1s 713us/step\n",
            "2000/2000 [==============================] - 1s 694us/step\n",
            "2000/2000 [==============================] - 1s 685us/step\n",
            "2000/2000 [==============================] - 1s 692us/step\n",
            "2000/2000 [==============================] - 1s 680us/step\n",
            "2000/2000 [==============================] - 1s 677us/step\n",
            "2000/2000 [==============================] - 1s 681us/step\n",
            "2000/2000 [==============================] - 1s 690us/step\n",
            "2000/2000 [==============================] - 1s 662us/step\n",
            "2000/2000 [==============================] - 1s 645us/step\n",
            "2000/2000 [==============================] - 1s 669us/step\n",
            "2000/2000 [==============================] - 1s 690us/step\n",
            "2000/2000 [==============================] - 1s 676us/step\n",
            "2000/2000 [==============================] - 1s 684us/step\n",
            "2000/2000 [==============================] - 1s 673us/step\n",
            "2000/2000 [==============================] - 1s 710us/step\n",
            "2000/2000 [==============================] - 1s 702us/step\n",
            "2000/2000 [==============================] - 1s 706us/step\n",
            "0.126\n"
          ],
          "name": "stdout"
        },
        {
          "output_type": "execute_result",
          "data": {
            "text/plain": [
              "<matplotlib.legend.Legend at 0x7f7c7b88b9e8>"
            ]
          },
          "metadata": {
            "tags": []
          },
          "execution_count": 78
        },
        {
          "output_type": "display_data",
          "data": {
            "image/png": "[encoded data removed]",
            "text/plain": [
              "<Figure size 1080x360 with 1 Axes>"
            ]
          },
          "metadata": {
            "tags": []
          }
        }
      ]
    },
    {
      "cell_type": "code",
      "metadata": {
        "id": "J-9o9A3DnKTc",
        "colab_type": "code",
        "colab": {
          "base_uri": "https://localhost:8080/",
          "height": 34
        },
        "outputId": "32c30292-1e10-4bdc-a5a5-977482dbf4ee"
      },
      "source": [
        "t = [0,1,2]\n",
        "v = np.ndarray((60000,4096,3))\n",
        "print(v.shape)"
      ],
      "execution_count": 95,
      "outputs": [
        {
          "output_type": "stream",
          "text": [
            "(60000, 4096, 3)\n"
          ],
          "name": "stdout"
        }
      ]
    }
  ]
}